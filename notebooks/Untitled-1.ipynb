{
 "cells": [
  {
   "cell_type": "markdown",
   "id": "6e06e38b",
   "metadata": {},
   "source": [
    "# 🛡️ What is PhishStorm?\n"
   ]
  },
  {
   "cell_type": "markdown",
   "id": "760cd62e",
   "metadata": {},
   "source": [
    "PhishStorm is a system that helps catch phishing websites in real time—before people fall for them. Phishing sites are fake websites made to trick you into giving away your personal info (like your bank login or PayPal password).\n",
    "\n"
   ]
  },
  {
   "cell_type": "code",
   "execution_count": 3,
   "id": "64409a21",
   "metadata": {},
   "outputs": [
    {
     "name": "stderr",
     "output_type": "stream",
     "text": [
      "/var/folders/c_/pb_69mrs7kb5bq1mhxkjtg340000gn/T/ipykernel_19857/3488512168.py:3: DtypeWarning: Columns (1,2,3,11,12) have mixed types. Specify dtype option on import or set low_memory=False.\n",
      "  df = pd.read_csv(\n"
     ]
    }
   ],
   "source": [
    "import pandas as pd\n",
    "\n",
    "df = pd.read_csv(\n",
    "    '/Users/inmilk306/Documents/GitHub_polinacsv/detecting-phishing-URLs/data/urlset.csv', \n",
    "    encoding='ISO-8859-1',\n",
    "    on_bad_lines='skip'  # Skip all malformed lines\n",
    ")"
   ]
  },
  {
   "cell_type": "code",
   "execution_count": 4,
   "id": "785def5a",
   "metadata": {},
   "outputs": [
    {
     "data": {
      "text/plain": [
       "(96005, 14)"
      ]
     },
     "execution_count": 4,
     "metadata": {},
     "output_type": "execute_result"
    }
   ],
   "source": [
    "df.shape"
   ]
  },
  {
   "cell_type": "code",
   "execution_count": 5,
   "id": "c563cfe0",
   "metadata": {},
   "outputs": [],
   "source": [
    "# Take a random sample of 100 rows\n",
    "sample_df = df.sample(n=100, random_state=42)\n",
    "\n",
    "# Save to CSV\n",
    "sample_df.to_csv('/Users/inmilk306/Documents/GitHub_polinacsv/detecting-phishing-URLs/data/sample_100.csv', index=False)"
   ]
  },
  {
   "cell_type": "code",
   "execution_count": 6,
   "id": "a3f5b5ca",
   "metadata": {},
   "outputs": [
    {
     "data": {
      "application/vnd.microsoft.datawrangler.viewer.v0+json": {
       "columns": [
        {
         "name": "index",
         "rawType": "int64",
         "type": "integer"
        },
        {
         "name": "domain",
         "rawType": "object",
         "type": "string"
        },
        {
         "name": "ranking",
         "rawType": "object",
         "type": "string"
        },
        {
         "name": "mld_res",
         "rawType": "object",
         "type": "string"
        },
        {
         "name": "mld.ps_res",
         "rawType": "object",
         "type": "string"
        },
        {
         "name": "card_rem",
         "rawType": "float64",
         "type": "float"
        },
        {
         "name": "ratio_Rrem",
         "rawType": "float64",
         "type": "float"
        },
        {
         "name": "ratio_Arem",
         "rawType": "float64",
         "type": "float"
        },
        {
         "name": "jaccard_RR",
         "rawType": "float64",
         "type": "float"
        },
        {
         "name": "jaccard_RA",
         "rawType": "float64",
         "type": "float"
        },
        {
         "name": "jaccard_AR",
         "rawType": "float64",
         "type": "float"
        },
        {
         "name": "jaccard_AA",
         "rawType": "float64",
         "type": "float"
        },
        {
         "name": "jaccard_ARrd",
         "rawType": "object",
         "type": "string"
        },
        {
         "name": "jaccard_ARrem",
         "rawType": "object",
         "type": "string"
        },
        {
         "name": "label",
         "rawType": "float64",
         "type": "float"
        }
       ],
       "ref": "f01c246d-3657-4a15-bb43-18e794139e90",
       "rows": [
        [
         "0",
         "nobell.it/70ffb52d079109dca5664cce6f317373782/login.SkyPe.com/en/cgi-bin/verification/login/70ffb52d079109dca5664cce6f317373/index.php?cmd=_profile-ach&outdated_page_tmpl=p/gen/failed-to-load&nav=0.5.1&login_access=1322408526",
         "10000000",
         "1.0",
         "0.0",
         "18.0",
         "107.611111",
         "107.277778",
         "0.0",
         "0.0",
         "0.0",
         "0.0",
         "0.8",
         "0.795729",
         "1.0"
        ],
        [
         "1",
         "www.dghjdgf.com/paypal.co.uk/cycgi-bin/webscrcmd=_home-customer&nav=1/loading.php",
         "10000000",
         "0.0",
         "0.0",
         "11.0",
         "150.636364",
         "152.272727",
         "0.0",
         "0.0",
         "0.0",
         "0.0",
         "0",
         "0.768577",
         "1.0"
        ],
        [
         "2",
         "serviciosbys.com/paypal.cgi.bin.get-into.herf.secure.dispatch35463256rzr321654641dsf654321874/href/href/href/secure/center/update/limit/seccure/4d7a1ff5c55825a2e632a679c2fd5353/",
         "10000000",
         "0.0",
         "0.0",
         "14.0",
         "73.5",
         "72.642857",
         "0.0",
         "0.0",
         "0.0",
         "0.0",
         "0",
         "0.726582",
         "1.0"
        ],
        [
         "3",
         "mail.printakid.com/www.online.americanexpress.com/index.html",
         "10000000",
         "0.0",
         "0.0",
         "6.0",
         "562.0",
         "590.666667",
         "0.0",
         "0.0",
         "0.0",
         "0.0",
         "0",
         "0.85964",
         "1.0"
        ],
        [
         "4",
         "thewhiskeydregs.com/wp-content/themes/widescreen/includes/temp/promocoessmiles/?84784787824HDJNDJDSJSHD//2724782784/",
         "10000000",
         "0.0",
         "0.0",
         "8.0",
         "29.0",
         "24.125",
         "0.0",
         "0.0",
         "0.0",
         "0.0",
         "0",
         "0.748971",
         "1.0"
        ]
       ],
       "shape": {
        "columns": 14,
        "rows": 5
       }
      },
      "text/html": [
       "<div>\n",
       "<style scoped>\n",
       "    .dataframe tbody tr th:only-of-type {\n",
       "        vertical-align: middle;\n",
       "    }\n",
       "\n",
       "    .dataframe tbody tr th {\n",
       "        vertical-align: top;\n",
       "    }\n",
       "\n",
       "    .dataframe thead th {\n",
       "        text-align: right;\n",
       "    }\n",
       "</style>\n",
       "<table border=\"1\" class=\"dataframe\">\n",
       "  <thead>\n",
       "    <tr style=\"text-align: right;\">\n",
       "      <th></th>\n",
       "      <th>domain</th>\n",
       "      <th>ranking</th>\n",
       "      <th>mld_res</th>\n",
       "      <th>mld.ps_res</th>\n",
       "      <th>card_rem</th>\n",
       "      <th>ratio_Rrem</th>\n",
       "      <th>ratio_Arem</th>\n",
       "      <th>jaccard_RR</th>\n",
       "      <th>jaccard_RA</th>\n",
       "      <th>jaccard_AR</th>\n",
       "      <th>jaccard_AA</th>\n",
       "      <th>jaccard_ARrd</th>\n",
       "      <th>jaccard_ARrem</th>\n",
       "      <th>label</th>\n",
       "    </tr>\n",
       "  </thead>\n",
       "  <tbody>\n",
       "    <tr>\n",
       "      <th>0</th>\n",
       "      <td>nobell.it/70ffb52d079109dca5664cce6f317373782/...</td>\n",
       "      <td>10000000</td>\n",
       "      <td>1.0</td>\n",
       "      <td>0.0</td>\n",
       "      <td>18.0</td>\n",
       "      <td>107.611111</td>\n",
       "      <td>107.277778</td>\n",
       "      <td>0.0</td>\n",
       "      <td>0.0</td>\n",
       "      <td>0.0</td>\n",
       "      <td>0.0</td>\n",
       "      <td>0.8</td>\n",
       "      <td>0.795729</td>\n",
       "      <td>1.0</td>\n",
       "    </tr>\n",
       "    <tr>\n",
       "      <th>1</th>\n",
       "      <td>www.dghjdgf.com/paypal.co.uk/cycgi-bin/webscrc...</td>\n",
       "      <td>10000000</td>\n",
       "      <td>0.0</td>\n",
       "      <td>0.0</td>\n",
       "      <td>11.0</td>\n",
       "      <td>150.636364</td>\n",
       "      <td>152.272727</td>\n",
       "      <td>0.0</td>\n",
       "      <td>0.0</td>\n",
       "      <td>0.0</td>\n",
       "      <td>0.0</td>\n",
       "      <td>0</td>\n",
       "      <td>0.768577</td>\n",
       "      <td>1.0</td>\n",
       "    </tr>\n",
       "    <tr>\n",
       "      <th>2</th>\n",
       "      <td>serviciosbys.com/paypal.cgi.bin.get-into.herf....</td>\n",
       "      <td>10000000</td>\n",
       "      <td>0.0</td>\n",
       "      <td>0.0</td>\n",
       "      <td>14.0</td>\n",
       "      <td>73.500000</td>\n",
       "      <td>72.642857</td>\n",
       "      <td>0.0</td>\n",
       "      <td>0.0</td>\n",
       "      <td>0.0</td>\n",
       "      <td>0.0</td>\n",
       "      <td>0</td>\n",
       "      <td>0.726582</td>\n",
       "      <td>1.0</td>\n",
       "    </tr>\n",
       "    <tr>\n",
       "      <th>3</th>\n",
       "      <td>mail.printakid.com/www.online.americanexpress....</td>\n",
       "      <td>10000000</td>\n",
       "      <td>0.0</td>\n",
       "      <td>0.0</td>\n",
       "      <td>6.0</td>\n",
       "      <td>562.000000</td>\n",
       "      <td>590.666667</td>\n",
       "      <td>0.0</td>\n",
       "      <td>0.0</td>\n",
       "      <td>0.0</td>\n",
       "      <td>0.0</td>\n",
       "      <td>0</td>\n",
       "      <td>0.85964</td>\n",
       "      <td>1.0</td>\n",
       "    </tr>\n",
       "    <tr>\n",
       "      <th>4</th>\n",
       "      <td>thewhiskeydregs.com/wp-content/themes/widescre...</td>\n",
       "      <td>10000000</td>\n",
       "      <td>0.0</td>\n",
       "      <td>0.0</td>\n",
       "      <td>8.0</td>\n",
       "      <td>29.000000</td>\n",
       "      <td>24.125000</td>\n",
       "      <td>0.0</td>\n",
       "      <td>0.0</td>\n",
       "      <td>0.0</td>\n",
       "      <td>0.0</td>\n",
       "      <td>0</td>\n",
       "      <td>0.748971</td>\n",
       "      <td>1.0</td>\n",
       "    </tr>\n",
       "  </tbody>\n",
       "</table>\n",
       "</div>"
      ],
      "text/plain": [
       "                                              domain   ranking mld_res  \\\n",
       "0  nobell.it/70ffb52d079109dca5664cce6f317373782/...  10000000     1.0   \n",
       "1  www.dghjdgf.com/paypal.co.uk/cycgi-bin/webscrc...  10000000     0.0   \n",
       "2  serviciosbys.com/paypal.cgi.bin.get-into.herf....  10000000     0.0   \n",
       "3  mail.printakid.com/www.online.americanexpress....  10000000     0.0   \n",
       "4  thewhiskeydregs.com/wp-content/themes/widescre...  10000000     0.0   \n",
       "\n",
       "  mld.ps_res  card_rem  ratio_Rrem  ratio_Arem  jaccard_RR  jaccard_RA  \\\n",
       "0        0.0      18.0  107.611111  107.277778         0.0         0.0   \n",
       "1        0.0      11.0  150.636364  152.272727         0.0         0.0   \n",
       "2        0.0      14.0   73.500000   72.642857         0.0         0.0   \n",
       "3        0.0       6.0  562.000000  590.666667         0.0         0.0   \n",
       "4        0.0       8.0   29.000000   24.125000         0.0         0.0   \n",
       "\n",
       "   jaccard_AR  jaccard_AA jaccard_ARrd jaccard_ARrem  label  \n",
       "0         0.0         0.0          0.8      0.795729    1.0  \n",
       "1         0.0         0.0            0      0.768577    1.0  \n",
       "2         0.0         0.0            0      0.726582    1.0  \n",
       "3         0.0         0.0            0       0.85964    1.0  \n",
       "4         0.0         0.0            0      0.748971    1.0  "
      ]
     },
     "execution_count": 6,
     "metadata": {},
     "output_type": "execute_result"
    }
   ],
   "source": [
    "df.head()"
   ]
  },
  {
   "cell_type": "code",
   "execution_count": 7,
   "id": "baa39918",
   "metadata": {},
   "outputs": [
    {
     "data": {
      "application/vnd.microsoft.datawrangler.viewer.v0+json": {
       "columns": [
        {
         "name": "ranking",
         "rawType": "object",
         "type": "unknown"
        },
        {
         "name": "count",
         "rawType": "int64",
         "type": "integer"
        }
       ],
       "ref": "45ec70f4-a336-4f78-a326-5524a029b57b",
       "rows": [
        [
         "10000000",
         "46498"
        ],
        [
         "10000000",
         "9567"
        ],
        [
         "14969",
         "3195"
        ],
        [
         "4570",
         "1527"
        ],
        [
         "44061",
         "960"
        ],
        [
         "2547",
         "725"
        ],
        [
         "168",
         "629"
        ],
        [
         "2547",
         "581"
        ],
        [
         "4",
         "503"
        ],
        [
         "1267",
         "477"
        ],
        [
         "1267",
         "390"
        ],
        [
         "11",
         "373"
        ],
        [
         "6",
         "364"
        ],
        [
         "1",
         "364"
        ],
        [
         "29",
         "318"
        ],
        [
         "236871",
         "297"
        ],
        [
         "183",
         "281"
        ],
        [
         "576",
         "272"
        ],
        [
         "3832",
         "240"
        ],
        [
         "105",
         "213"
        ],
        [
         "6",
         "186"
        ],
        [
         "8419",
         "185"
        ],
        [
         "5001",
         "185"
        ],
        [
         "4",
         "184"
        ],
        [
         "1",
         "177"
        ],
        [
         "5001",
         "165"
        ],
        [
         "646",
         "159"
        ],
        [
         "753",
         "144"
        ],
        [
         "339",
         "130"
        ],
        [
         "483",
         "126"
        ],
        [
         "32174",
         "126"
        ],
        [
         "801",
         "122"
        ],
        [
         "105",
         "120"
        ],
        [
         "29330",
         "117"
        ],
        [
         "6655",
         "116"
        ],
        [
         "1057",
         "113"
        ],
        [
         "101067",
         "110"
        ],
        [
         "6394",
         "109"
        ],
        [
         "27817",
         "108"
        ],
        [
         "6125",
         "103"
        ],
        [
         "11812",
         "93"
        ],
        [
         "5956",
         "88"
        ],
        [
         "656",
         "87"
        ],
        [
         "4918",
         "86"
        ],
        [
         "836190",
         "84"
        ],
        [
         "1303",
         "83"
        ],
        [
         "168",
         "83"
        ],
        [
         "801",
         "78"
        ],
        [
         "567",
         "77"
        ],
        [
         "5060",
         "76"
        ]
       ],
       "shape": {
        "columns": 1,
        "rows": 8206
       }
      },
      "text/plain": [
       "ranking\n",
       "10000000    46498\n",
       "10000000     9567\n",
       "14969        3195\n",
       "4570         1527\n",
       "44061         960\n",
       "            ...  \n",
       "493158          1\n",
       "366281          1\n",
       "7891            1\n",
       "12809           1\n",
       "591792          1\n",
       "Name: count, Length: 8206, dtype: int64"
      ]
     },
     "execution_count": 7,
     "metadata": {},
     "output_type": "execute_result"
    }
   ],
   "source": [
    "df[\"ranking\"].value_counts()"
   ]
  },
  {
   "cell_type": "code",
   "execution_count": 8,
   "id": "88f7d58f",
   "metadata": {},
   "outputs": [
    {
     "data": {
      "application/vnd.microsoft.datawrangler.viewer.v0+json": {
       "columns": [
        {
         "name": "index",
         "rawType": "object",
         "type": "string"
        },
        {
         "name": "ranking",
         "rawType": "object",
         "type": "unknown"
        }
       ],
       "ref": "62ba12d1-3041-483d-b051-d4c46023b9f2",
       "rows": [
        [
         "count",
         "95953"
        ],
        [
         "unique",
         "8206"
        ],
        [
         "top",
         "10000000"
        ],
        [
         "freq",
         "46498"
        ]
       ],
       "shape": {
        "columns": 1,
        "rows": 4
       }
      },
      "text/plain": [
       "count        95953\n",
       "unique        8206\n",
       "top       10000000\n",
       "freq         46498\n",
       "Name: ranking, dtype: object"
      ]
     },
     "execution_count": 8,
     "metadata": {},
     "output_type": "execute_result"
    }
   ],
   "source": [
    "df[\"ranking\"].describe()"
   ]
  },
  {
   "cell_type": "code",
   "execution_count": 9,
   "id": "e3571ee1",
   "metadata": {},
   "outputs": [
    {
     "name": "stdout",
     "output_type": "stream",
     "text": [
      "<class 'pandas.core.frame.DataFrame'>\n",
      "RangeIndex: 96005 entries, 0 to 96004\n",
      "Data columns (total 14 columns):\n",
      " #   Column         Non-Null Count  Dtype  \n",
      "---  ------         --------------  -----  \n",
      " 0   domain         96005 non-null  object \n",
      " 1   ranking        95953 non-null  object \n",
      " 2   mld_res        95935 non-null  object \n",
      " 3   mld.ps_res     95924 non-null  object \n",
      " 4   card_rem       95923 non-null  float64\n",
      " 5   ratio_Rrem     95923 non-null  float64\n",
      " 6   ratio_Arem     95923 non-null  float64\n",
      " 7   jaccard_RR     95922 non-null  float64\n",
      " 8   jaccard_RA     95921 non-null  float64\n",
      " 9   jaccard_AR     95920 non-null  float64\n",
      " 10  jaccard_AA     95919 non-null  float64\n",
      " 11  jaccard_ARrd   95919 non-null  object \n",
      " 12  jaccard_ARrem  95917 non-null  object \n",
      " 13  label          95913 non-null  float64\n",
      "dtypes: float64(8), object(6)\n",
      "memory usage: 10.3+ MB\n"
     ]
    },
    {
     "data": {
      "application/vnd.microsoft.datawrangler.viewer.v0+json": {
       "columns": [
        {
         "name": "label",
         "rawType": "float64",
         "type": "float"
        },
        {
         "name": "count",
         "rawType": "int64",
         "type": "integer"
        }
       ],
       "ref": "8d656284-3eaa-4ce7-a5fd-9e806f5e14d7",
       "rows": [
        [
         "0.0",
         "48009"
        ],
        [
         "1.0",
         "47904"
        ]
       ],
       "shape": {
        "columns": 1,
        "rows": 2
       }
      },
      "text/plain": [
       "label\n",
       "0.0    48009\n",
       "1.0    47904\n",
       "Name: count, dtype: int64"
      ]
     },
     "execution_count": 9,
     "metadata": {},
     "output_type": "execute_result"
    }
   ],
   "source": [
    "df.info()\n",
    "df['label'].value_counts()  "
   ]
  },
  {
   "cell_type": "code",
   "execution_count": 10,
   "id": "8b5970e8",
   "metadata": {},
   "outputs": [
    {
     "data": {
      "application/vnd.microsoft.datawrangler.viewer.v0+json": {
       "columns": [
        {
         "name": "index",
         "rawType": "int64",
         "type": "integer"
        },
        {
         "name": "domain",
         "rawType": "object",
         "type": "string"
        },
        {
         "name": "ranking",
         "rawType": "object",
         "type": "string"
        },
        {
         "name": "mld_res",
         "rawType": "object",
         "type": "string"
        },
        {
         "name": "mld.ps_res",
         "rawType": "object",
         "type": "string"
        },
        {
         "name": "card_rem",
         "rawType": "float64",
         "type": "float"
        },
        {
         "name": "ratio_Rrem",
         "rawType": "float64",
         "type": "float"
        },
        {
         "name": "ratio_Arem",
         "rawType": "float64",
         "type": "float"
        },
        {
         "name": "jaccard_RR",
         "rawType": "float64",
         "type": "float"
        },
        {
         "name": "jaccard_RA",
         "rawType": "float64",
         "type": "float"
        },
        {
         "name": "jaccard_AR",
         "rawType": "float64",
         "type": "float"
        },
        {
         "name": "jaccard_AA",
         "rawType": "float64",
         "type": "float"
        },
        {
         "name": "jaccard_ARrd",
         "rawType": "object",
         "type": "string"
        },
        {
         "name": "jaccard_ARrem",
         "rawType": "object",
         "type": "string"
        },
        {
         "name": "label",
         "rawType": "float64",
         "type": "float"
        },
        {
         "name": "url_length",
         "rawType": "int64",
         "type": "integer"
        },
        {
         "name": "num_digits",
         "rawType": "int64",
         "type": "integer"
        },
        {
         "name": "num_special_chars",
         "rawType": "int64",
         "type": "integer"
        },
        {
         "name": "has_ip",
         "rawType": "int64",
         "type": "integer"
        },
        {
         "name": "num_subdomains",
         "rawType": "int64",
         "type": "integer"
        },
        {
         "name": "num_dots",
         "rawType": "int64",
         "type": "integer"
        },
        {
         "name": "entropy",
         "rawType": "float64",
         "type": "float"
        },
        {
         "name": "has_https",
         "rawType": "int64",
         "type": "integer"
        },
        {
         "name": "has_at_symbol",
         "rawType": "int64",
         "type": "integer"
        },
        {
         "name": "has_dash",
         "rawType": "int64",
         "type": "integer"
        },
        {
         "name": "path_length",
         "rawType": "int64",
         "type": "integer"
        }
       ],
       "ref": "1687c513-7f84-4033-aedb-183bacb0c55a",
       "rows": [
        [
         "0",
         "nobell.it/70ffb52d079109dca5664cce6f317373782/login.SkyPe.com/en/cgi-bin/verification/login/70ffb52d079109dca5664cce6f317373/index.php?cmd=_profile-ach&outdated_page_tmpl=p/gen/failed-to-load&nav=0.5.1&login_access=1322408526",
         "10000000",
         "1.0",
         "0.0",
         "18.0",
         "107.611111",
         "107.277778",
         "0.0",
         "0.0",
         "0.0",
         "0.0",
         "0.8",
         "0.795729",
         "1.0",
         "225",
         "58",
         "32",
         "0",
         "-1",
         "6",
         "5.026885996064954",
         "0",
         "0",
         "1",
         "134"
        ],
        [
         "1",
         "www.dghjdgf.com/paypal.co.uk/cycgi-bin/webscrcmd=_home-customer&nav=1/loading.php",
         "10000000",
         "0.0",
         "0.0",
         "11.0",
         "150.636364",
         "152.272727",
         "0.0",
         "0.0",
         "0.0",
         "0.0",
         "0",
         "0.768577",
         "1.0",
         "81",
         "1",
         "15",
         "0",
         "-1",
         "5",
         "4.686883145947207",
         "0",
         "0",
         "1",
         "81"
        ],
        [
         "2",
         "serviciosbys.com/paypal.cgi.bin.get-into.herf.secure.dispatch35463256rzr321654641dsf654321874/href/href/href/secure/center/update/limit/seccure/4d7a1ff5c55825a2e632a679c2fd5353/",
         "10000000",
         "0.0",
         "0.0",
         "14.0",
         "73.5",
         "72.642857",
         "0.0",
         "0.0",
         "0.0",
         "0.0",
         "0",
         "0.726582",
         "1.0",
         "177",
         "47",
         "19",
         "0",
         "-1",
         "7",
         "4.721043741608768",
         "0",
         "0",
         "1",
         "177"
        ],
        [
         "3",
         "mail.printakid.com/www.online.americanexpress.com/index.html",
         "10000000",
         "0.0",
         "0.0",
         "6.0",
         "562.0",
         "590.666667",
         "0.0",
         "0.0",
         "0.0",
         "0.0",
         "0",
         "0.85964",
         "1.0",
         "60",
         "0",
         "8",
         "0",
         "-1",
         "6",
         "4.079842113228825",
         "0",
         "0",
         "0",
         "60"
        ],
        [
         "4",
         "thewhiskeydregs.com/wp-content/themes/widescreen/includes/temp/promocoessmiles/?84784787824HDJNDJDSJSHD//2724782784/",
         "10000000",
         "0.0",
         "0.0",
         "8.0",
         "29.0",
         "24.125",
         "0.0",
         "0.0",
         "0.0",
         "0.0",
         "0",
         "0.748971",
         "1.0",
         "116",
         "21",
         "13",
         "0",
         "-1",
         "1",
         "4.608652765140273",
         "0",
         "0",
         "1",
         "79"
        ]
       ],
       "shape": {
        "columns": 25,
        "rows": 5
       }
      },
      "text/html": [
       "<div>\n",
       "<style scoped>\n",
       "    .dataframe tbody tr th:only-of-type {\n",
       "        vertical-align: middle;\n",
       "    }\n",
       "\n",
       "    .dataframe tbody tr th {\n",
       "        vertical-align: top;\n",
       "    }\n",
       "\n",
       "    .dataframe thead th {\n",
       "        text-align: right;\n",
       "    }\n",
       "</style>\n",
       "<table border=\"1\" class=\"dataframe\">\n",
       "  <thead>\n",
       "    <tr style=\"text-align: right;\">\n",
       "      <th></th>\n",
       "      <th>domain</th>\n",
       "      <th>ranking</th>\n",
       "      <th>mld_res</th>\n",
       "      <th>mld.ps_res</th>\n",
       "      <th>card_rem</th>\n",
       "      <th>ratio_Rrem</th>\n",
       "      <th>ratio_Arem</th>\n",
       "      <th>jaccard_RR</th>\n",
       "      <th>jaccard_RA</th>\n",
       "      <th>jaccard_AR</th>\n",
       "      <th>...</th>\n",
       "      <th>num_digits</th>\n",
       "      <th>num_special_chars</th>\n",
       "      <th>has_ip</th>\n",
       "      <th>num_subdomains</th>\n",
       "      <th>num_dots</th>\n",
       "      <th>entropy</th>\n",
       "      <th>has_https</th>\n",
       "      <th>has_at_symbol</th>\n",
       "      <th>has_dash</th>\n",
       "      <th>path_length</th>\n",
       "    </tr>\n",
       "  </thead>\n",
       "  <tbody>\n",
       "    <tr>\n",
       "      <th>0</th>\n",
       "      <td>nobell.it/70ffb52d079109dca5664cce6f317373782/...</td>\n",
       "      <td>10000000</td>\n",
       "      <td>1.0</td>\n",
       "      <td>0.0</td>\n",
       "      <td>18.0</td>\n",
       "      <td>107.611111</td>\n",
       "      <td>107.277778</td>\n",
       "      <td>0.0</td>\n",
       "      <td>0.0</td>\n",
       "      <td>0.0</td>\n",
       "      <td>...</td>\n",
       "      <td>58</td>\n",
       "      <td>32</td>\n",
       "      <td>0</td>\n",
       "      <td>-1</td>\n",
       "      <td>6</td>\n",
       "      <td>5.026886</td>\n",
       "      <td>0</td>\n",
       "      <td>0</td>\n",
       "      <td>1</td>\n",
       "      <td>134</td>\n",
       "    </tr>\n",
       "    <tr>\n",
       "      <th>1</th>\n",
       "      <td>www.dghjdgf.com/paypal.co.uk/cycgi-bin/webscrc...</td>\n",
       "      <td>10000000</td>\n",
       "      <td>0.0</td>\n",
       "      <td>0.0</td>\n",
       "      <td>11.0</td>\n",
       "      <td>150.636364</td>\n",
       "      <td>152.272727</td>\n",
       "      <td>0.0</td>\n",
       "      <td>0.0</td>\n",
       "      <td>0.0</td>\n",
       "      <td>...</td>\n",
       "      <td>1</td>\n",
       "      <td>15</td>\n",
       "      <td>0</td>\n",
       "      <td>-1</td>\n",
       "      <td>5</td>\n",
       "      <td>4.686883</td>\n",
       "      <td>0</td>\n",
       "      <td>0</td>\n",
       "      <td>1</td>\n",
       "      <td>81</td>\n",
       "    </tr>\n",
       "    <tr>\n",
       "      <th>2</th>\n",
       "      <td>serviciosbys.com/paypal.cgi.bin.get-into.herf....</td>\n",
       "      <td>10000000</td>\n",
       "      <td>0.0</td>\n",
       "      <td>0.0</td>\n",
       "      <td>14.0</td>\n",
       "      <td>73.500000</td>\n",
       "      <td>72.642857</td>\n",
       "      <td>0.0</td>\n",
       "      <td>0.0</td>\n",
       "      <td>0.0</td>\n",
       "      <td>...</td>\n",
       "      <td>47</td>\n",
       "      <td>19</td>\n",
       "      <td>0</td>\n",
       "      <td>-1</td>\n",
       "      <td>7</td>\n",
       "      <td>4.721044</td>\n",
       "      <td>0</td>\n",
       "      <td>0</td>\n",
       "      <td>1</td>\n",
       "      <td>177</td>\n",
       "    </tr>\n",
       "    <tr>\n",
       "      <th>3</th>\n",
       "      <td>mail.printakid.com/www.online.americanexpress....</td>\n",
       "      <td>10000000</td>\n",
       "      <td>0.0</td>\n",
       "      <td>0.0</td>\n",
       "      <td>6.0</td>\n",
       "      <td>562.000000</td>\n",
       "      <td>590.666667</td>\n",
       "      <td>0.0</td>\n",
       "      <td>0.0</td>\n",
       "      <td>0.0</td>\n",
       "      <td>...</td>\n",
       "      <td>0</td>\n",
       "      <td>8</td>\n",
       "      <td>0</td>\n",
       "      <td>-1</td>\n",
       "      <td>6</td>\n",
       "      <td>4.079842</td>\n",
       "      <td>0</td>\n",
       "      <td>0</td>\n",
       "      <td>0</td>\n",
       "      <td>60</td>\n",
       "    </tr>\n",
       "    <tr>\n",
       "      <th>4</th>\n",
       "      <td>thewhiskeydregs.com/wp-content/themes/widescre...</td>\n",
       "      <td>10000000</td>\n",
       "      <td>0.0</td>\n",
       "      <td>0.0</td>\n",
       "      <td>8.0</td>\n",
       "      <td>29.000000</td>\n",
       "      <td>24.125000</td>\n",
       "      <td>0.0</td>\n",
       "      <td>0.0</td>\n",
       "      <td>0.0</td>\n",
       "      <td>...</td>\n",
       "      <td>21</td>\n",
       "      <td>13</td>\n",
       "      <td>0</td>\n",
       "      <td>-1</td>\n",
       "      <td>1</td>\n",
       "      <td>4.608653</td>\n",
       "      <td>0</td>\n",
       "      <td>0</td>\n",
       "      <td>1</td>\n",
       "      <td>79</td>\n",
       "    </tr>\n",
       "  </tbody>\n",
       "</table>\n",
       "<p>5 rows × 25 columns</p>\n",
       "</div>"
      ],
      "text/plain": [
       "                                              domain   ranking mld_res  \\\n",
       "0  nobell.it/70ffb52d079109dca5664cce6f317373782/...  10000000     1.0   \n",
       "1  www.dghjdgf.com/paypal.co.uk/cycgi-bin/webscrc...  10000000     0.0   \n",
       "2  serviciosbys.com/paypal.cgi.bin.get-into.herf....  10000000     0.0   \n",
       "3  mail.printakid.com/www.online.americanexpress....  10000000     0.0   \n",
       "4  thewhiskeydregs.com/wp-content/themes/widescre...  10000000     0.0   \n",
       "\n",
       "  mld.ps_res  card_rem  ratio_Rrem  ratio_Arem  jaccard_RR  jaccard_RA  \\\n",
       "0        0.0      18.0  107.611111  107.277778         0.0         0.0   \n",
       "1        0.0      11.0  150.636364  152.272727         0.0         0.0   \n",
       "2        0.0      14.0   73.500000   72.642857         0.0         0.0   \n",
       "3        0.0       6.0  562.000000  590.666667         0.0         0.0   \n",
       "4        0.0       8.0   29.000000   24.125000         0.0         0.0   \n",
       "\n",
       "   jaccard_AR  ...  num_digits num_special_chars has_ip  num_subdomains  \\\n",
       "0         0.0  ...          58                32      0              -1   \n",
       "1         0.0  ...           1                15      0              -1   \n",
       "2         0.0  ...          47                19      0              -1   \n",
       "3         0.0  ...           0                 8      0              -1   \n",
       "4         0.0  ...          21                13      0              -1   \n",
       "\n",
       "   num_dots   entropy  has_https  has_at_symbol  has_dash  path_length  \n",
       "0         6  5.026886          0              0         1          134  \n",
       "1         5  4.686883          0              0         1           81  \n",
       "2         7  4.721044          0              0         1          177  \n",
       "3         6  4.079842          0              0         0           60  \n",
       "4         1  4.608653          0              0         1           79  \n",
       "\n",
       "[5 rows x 25 columns]"
      ]
     },
     "execution_count": 10,
     "metadata": {},
     "output_type": "execute_result"
    }
   ],
   "source": [
    "from detecting_phishing_urls.featuresold import extract_url_features\n",
    "\n",
    "df_with_features = extract_url_features(df, url_col=\"domain\")\n",
    "df_with_features.head()"
   ]
  },
  {
   "cell_type": "markdown",
   "id": "ea926a0b",
   "metadata": {},
   "source": [
    "### 📊 URL Feature Descriptions\n",
    "\n",
    "| Column            | Description |\n",
    "|-------------------|-------------|\n",
    "| `domain`          | The full domain name of the URL |\n",
    "| `J_RR`            | Jaccard similarity between related words (domain vs. rest) |\n",
    "| `J_RA`            | Jaccard similarity between related (domain) and associated (rest) |\n",
    "| `J_AA`            | Jaccard similarity between associated words (domain vs. rest) |\n",
    "| `J_AR`            | Jaccard similarity between associated (domain) and related (rest) |\n",
    "| `J_ARrd`          | Jaccard similarity between associated and related (domain only) |\n",
    "| `J_ARrem`         | Jaccard similarity between associated and related (rest only) |\n",
    "| `card_rem`        | Number of words in the rest of the URL |\n",
    "| `ratio_Arem`      | Fraction of associated words in the rest of the URL |\n",
    "| `ratio_Rrem`      | Fraction of related words in the rest of the URL |\n",
    "| `mld_res`         | Is the domain found in a search engine? (0/1) |\n",
    "| `mld.ps_res`      | Is the domain's public suffix found in a search engine? |\n",
    "| `ranking`         | Alexa ranking of the domain |\n",
    "| `url_length`      | Total number of characters in the full URL |\n",
    "| `num_digits`      | Number of digits in the URL |\n",
    "| `num_special_chars` | Number of special characters in the URL |\n",
    "| `has_ip`          | Does the URL use an IP address? (1 if yes) |\n",
    "| `num_subdomains`  | Number of subdomains in the URL |\n",
    "| `num_dots`        | Number of periods (.) in the URL |\n",
    "| `entropy`         | Shannon entropy of the URL string (higher = more random) |\n",
    "| `has_https`       | Does it use HTTPS protocol? (1 if yes) |\n",
    "| `has_at_symbol`   | Contains an '@' symbol? (often suspicious) |\n",
    "| `has_dash`        | Contains a '-' dash? |\n",
    "| `path_length`     | Length of the path after the domain |\n",
    "| `label`           | Target: 1 = phishing, 0 = not phishing |\n"
   ]
  },
  {
   "cell_type": "code",
   "execution_count": 11,
   "id": "9c8de4ec",
   "metadata": {},
   "outputs": [
    {
     "data": {
      "application/vnd.microsoft.datawrangler.viewer.v0+json": {
       "columns": [
        {
         "name": "index",
         "rawType": "int64",
         "type": "integer"
        },
        {
         "name": "domain",
         "rawType": "object",
         "type": "string"
        },
        {
         "name": "label",
         "rawType": "float64",
         "type": "float"
        },
        {
         "name": "url_length",
         "rawType": "int64",
         "type": "integer"
        },
        {
         "name": "num_digits",
         "rawType": "int64",
         "type": "integer"
        },
        {
         "name": "num_special_chars",
         "rawType": "int64",
         "type": "integer"
        },
        {
         "name": "has_ip",
         "rawType": "int64",
         "type": "integer"
        },
        {
         "name": "num_subdomains",
         "rawType": "int64",
         "type": "integer"
        },
        {
         "name": "has_suspicious_words",
         "rawType": "int64",
         "type": "integer"
        }
       ],
       "ref": "4236870f-8e03-4811-8343-e44835fbc202",
       "rows": [
        [
         "0",
         "nobell.it/70ffb52d079109dca5664cce6f317373782/login.SkyPe.com/en/cgi-bin/verification/login/70ffb52d079109dca5664cce6f317373/index.php?cmd=_profile-ach&outdated_page_tmpl=p/gen/failed-to-load&nav=0.5.1&login_access=1322408526",
         "1.0",
         "225",
         "58",
         "32",
         "0",
         "1",
         "1"
        ],
        [
         "1",
         "www.dghjdgf.com/paypal.co.uk/cycgi-bin/webscrcmd=_home-customer&nav=1/loading.php",
         "1.0",
         "81",
         "1",
         "15",
         "0",
         "2",
         "1"
        ],
        [
         "2",
         "serviciosbys.com/paypal.cgi.bin.get-into.herf.secure.dispatch35463256rzr321654641dsf654321874/href/href/href/secure/center/update/limit/seccure/4d7a1ff5c55825a2e632a679c2fd5353/",
         "1.0",
         "177",
         "47",
         "19",
         "0",
         "1",
         "1"
        ],
        [
         "3",
         "mail.printakid.com/www.online.americanexpress.com/index.html",
         "1.0",
         "60",
         "0",
         "8",
         "0",
         "2",
         "0"
        ],
        [
         "4",
         "thewhiskeydregs.com/wp-content/themes/widescreen/includes/temp/promocoessmiles/?84784787824HDJNDJDSJSHD//2724782784/",
         "1.0",
         "116",
         "21",
         "13",
         "0",
         "1",
         "0"
        ]
       ],
       "shape": {
        "columns": 8,
        "rows": 5
       }
      },
      "text/html": [
       "<div>\n",
       "<style scoped>\n",
       "    .dataframe tbody tr th:only-of-type {\n",
       "        vertical-align: middle;\n",
       "    }\n",
       "\n",
       "    .dataframe tbody tr th {\n",
       "        vertical-align: top;\n",
       "    }\n",
       "\n",
       "    .dataframe thead th {\n",
       "        text-align: right;\n",
       "    }\n",
       "</style>\n",
       "<table border=\"1\" class=\"dataframe\">\n",
       "  <thead>\n",
       "    <tr style=\"text-align: right;\">\n",
       "      <th></th>\n",
       "      <th>domain</th>\n",
       "      <th>label</th>\n",
       "      <th>url_length</th>\n",
       "      <th>num_digits</th>\n",
       "      <th>num_special_chars</th>\n",
       "      <th>has_ip</th>\n",
       "      <th>num_subdomains</th>\n",
       "      <th>has_suspicious_words</th>\n",
       "    </tr>\n",
       "  </thead>\n",
       "  <tbody>\n",
       "    <tr>\n",
       "      <th>0</th>\n",
       "      <td>nobell.it/70ffb52d079109dca5664cce6f317373782/...</td>\n",
       "      <td>1.0</td>\n",
       "      <td>225</td>\n",
       "      <td>58</td>\n",
       "      <td>32</td>\n",
       "      <td>0</td>\n",
       "      <td>1</td>\n",
       "      <td>1</td>\n",
       "    </tr>\n",
       "    <tr>\n",
       "      <th>1</th>\n",
       "      <td>www.dghjdgf.com/paypal.co.uk/cycgi-bin/webscrc...</td>\n",
       "      <td>1.0</td>\n",
       "      <td>81</td>\n",
       "      <td>1</td>\n",
       "      <td>15</td>\n",
       "      <td>0</td>\n",
       "      <td>2</td>\n",
       "      <td>1</td>\n",
       "    </tr>\n",
       "    <tr>\n",
       "      <th>2</th>\n",
       "      <td>serviciosbys.com/paypal.cgi.bin.get-into.herf....</td>\n",
       "      <td>1.0</td>\n",
       "      <td>177</td>\n",
       "      <td>47</td>\n",
       "      <td>19</td>\n",
       "      <td>0</td>\n",
       "      <td>1</td>\n",
       "      <td>1</td>\n",
       "    </tr>\n",
       "    <tr>\n",
       "      <th>3</th>\n",
       "      <td>mail.printakid.com/www.online.americanexpress....</td>\n",
       "      <td>1.0</td>\n",
       "      <td>60</td>\n",
       "      <td>0</td>\n",
       "      <td>8</td>\n",
       "      <td>0</td>\n",
       "      <td>2</td>\n",
       "      <td>0</td>\n",
       "    </tr>\n",
       "    <tr>\n",
       "      <th>4</th>\n",
       "      <td>thewhiskeydregs.com/wp-content/themes/widescre...</td>\n",
       "      <td>1.0</td>\n",
       "      <td>116</td>\n",
       "      <td>21</td>\n",
       "      <td>13</td>\n",
       "      <td>0</td>\n",
       "      <td>1</td>\n",
       "      <td>0</td>\n",
       "    </tr>\n",
       "  </tbody>\n",
       "</table>\n",
       "</div>"
      ],
      "text/plain": [
       "                                              domain  label  url_length  \\\n",
       "0  nobell.it/70ffb52d079109dca5664cce6f317373782/...    1.0         225   \n",
       "1  www.dghjdgf.com/paypal.co.uk/cycgi-bin/webscrc...    1.0          81   \n",
       "2  serviciosbys.com/paypal.cgi.bin.get-into.herf....    1.0         177   \n",
       "3  mail.printakid.com/www.online.americanexpress....    1.0          60   \n",
       "4  thewhiskeydregs.com/wp-content/themes/widescre...    1.0         116   \n",
       "\n",
       "   num_digits  num_special_chars  has_ip  num_subdomains  has_suspicious_words  \n",
       "0          58                 32       0               1                     1  \n",
       "1           1                 15       0               2                     1  \n",
       "2          47                 19       0               1                     1  \n",
       "3           0                  8       0               2                     0  \n",
       "4          21                 13       0               1                     0  "
      ]
     },
     "execution_count": 11,
     "metadata": {},
     "output_type": "execute_result"
    }
   ],
   "source": [
    "import re\n",
    "\n",
    "# Use only domain and label\n",
    "df = df[['domain', 'label']].copy()\n",
    "\n",
    "# Feature engineering functions\n",
    "def count_digits(url):\n",
    "    return sum(c.isdigit() for c in url)\n",
    "\n",
    "def count_special_chars(url):\n",
    "    return len(re.findall(r'[^a-zA-Z0-9]', url))\n",
    "\n",
    "def has_ip_address(url):\n",
    "    return int(bool(re.search(r'\\b\\d{1,3}(\\.\\d{1,3}){3}\\b', url)))\n",
    "\n",
    "def count_subdomains(url):\n",
    "    domain_part = url.split('/')[0]\n",
    "    return domain_part.count('.')\n",
    "\n",
    "def has_suspicious_words(url):\n",
    "    keywords = ['login', 'verify', 'secure', 'account', 'update', 'ebay', 'paypal', 'bank']\n",
    "    return int(any(word in url.lower() for word in keywords))\n",
    "\n",
    "# Apply feature engineering\n",
    "df['url_length'] = df['domain'].str.len()\n",
    "df['num_digits'] = df['domain'].apply(count_digits)\n",
    "df['num_special_chars'] = df['domain'].apply(count_special_chars)\n",
    "df['has_ip'] = df['domain'].apply(has_ip_address)\n",
    "df['num_subdomains'] = df['domain'].apply(count_subdomains)\n",
    "df['has_suspicious_words'] = df['domain'].apply(has_suspicious_words)\n",
    "\n",
    "# Show the engineered features\n",
    "\n",
    "df.head()\n"
   ]
  },
  {
   "cell_type": "code",
   "execution_count": 12,
   "id": "61f1648d",
   "metadata": {},
   "outputs": [
    {
     "data": {
      "text/plain": [
       "({'0.0': {'precision': 0.8388204981391354,\n",
       "   'recall': 0.9154342845240575,\n",
       "   'f1-score': 0.8754544096409542,\n",
       "   'support': 9602},\n",
       "  '1.0': {'precision': 0.9067095588235294,\n",
       "   'recall': 0.8237135998330029,\n",
       "   'f1-score': 0.8632212195788898,\n",
       "   'support': 9581},\n",
       "  'accuracy': 0.8696241463796069,\n",
       "  'macro avg': {'precision': 0.8727650284813324,\n",
       "   'recall': 0.8695739421785302,\n",
       "   'f1-score': 0.869337814609922,\n",
       "   'support': 19183},\n",
       "  'weighted avg': {'precision': 0.8727278687494247,\n",
       "   'recall': 0.8696241463796069,\n",
       "   'f1-score': 0.869344510564447,\n",
       "   'support': 19183}},\n",
       " array([[8790,  812],\n",
       "        [1689, 7892]]))"
      ]
     },
     "execution_count": 12,
     "metadata": {},
     "output_type": "execute_result"
    }
   ],
   "source": [
    "from sklearn.model_selection import train_test_split\n",
    "from sklearn.ensemble import RandomForestClassifier\n",
    "from sklearn.metrics import classification_report, confusion_matrix\n",
    "\n",
    "# Define features and target\n",
    "features = ['url_length', 'num_digits', 'num_special_chars', 'has_ip', 'num_subdomains', 'has_suspicious_words']\n",
    "\n",
    "\n",
    "# Drop rows where 'label' is missing (just in case)\n",
    "df_cleaned = df.dropna(subset=['label']).copy()\n",
    "\n",
    "# Re-run the model pipeline with the cleaned data\n",
    "X = df_cleaned[features]\n",
    "y = df_cleaned['label']\n",
    "\n",
    "# Split and train again\n",
    "X_train, X_test, y_train, y_test = train_test_split(X, y, stratify=y, test_size=0.2, random_state=42)\n",
    "model = RandomForestClassifier(random_state=42)\n",
    "model.fit(X_train, y_train)\n",
    "y_pred = model.predict(X_test)\n",
    "\n",
    "# Generate updated report\n",
    "report_cleaned = classification_report(y_test, y_pred, output_dict=True)\n",
    "conf_matrix_cleaned = confusion_matrix(y_test, y_pred)\n",
    "\n",
    "report_cleaned, conf_matrix_cleaned\n"
   ]
  },
  {
   "cell_type": "code",
   "execution_count": 13,
   "id": "b94b47e3",
   "metadata": {},
   "outputs": [
    {
     "data": {
      "text/plain": [
       "92"
      ]
     },
     "execution_count": 13,
     "metadata": {},
     "output_type": "execute_result"
    }
   ],
   "source": [
    "# Check for missing values in the target column 'label'\n",
    "missing_labels = df['label'].isna().sum()\n",
    "\n",
    "# Display how many missing labels exist\n",
    "missing_labels"
   ]
  },
  {
   "cell_type": "code",
   "execution_count": 14,
   "id": "39cbe6a5",
   "metadata": {},
   "outputs": [
    {
     "ename": "KeyboardInterrupt",
     "evalue": "",
     "output_type": "error",
     "traceback": [
      "\u001b[0;31m---------------------------------------------------------------------------\u001b[0m",
      "\u001b[0;31mKeyboardInterrupt\u001b[0m                         Traceback (most recent call last)",
      "Cell \u001b[0;32mIn[14], line 39\u001b[0m\n\u001b[1;32m     36\u001b[0m     \u001b[38;5;28;01mreturn\u001b[39;00m \u001b[38;5;28mint\u001b[39m(\u001b[38;5;28many\u001b[39m(word \u001b[38;5;129;01min\u001b[39;00m path_tokens \u001b[38;5;129;01mand\u001b[39;00m word \u001b[38;5;129;01mnot\u001b[39;00m \u001b[38;5;129;01min\u001b[39;00m domain_tokens \u001b[38;5;28;01mfor\u001b[39;00m word \u001b[38;5;129;01min\u001b[39;00m brand_words))\n\u001b[1;32m     38\u001b[0m \u001b[38;5;66;03m# Apply feature engineering\u001b[39;00m\n\u001b[0;32m---> 39\u001b[0m df_cleaned[[\u001b[38;5;124m'\u001b[39m\u001b[38;5;124mdomain_part\u001b[39m\u001b[38;5;124m'\u001b[39m, \u001b[38;5;124m'\u001b[39m\u001b[38;5;124mpath_part\u001b[39m\u001b[38;5;124m'\u001b[39m]] \u001b[38;5;241m=\u001b[39m \u001b[43mdf_cleaned\u001b[49m\u001b[43m[\u001b[49m\u001b[38;5;124;43m'\u001b[39;49m\u001b[38;5;124;43mdomain\u001b[39;49m\u001b[38;5;124;43m'\u001b[39;49m\u001b[43m]\u001b[49m\u001b[38;5;241;43m.\u001b[39;49m\u001b[43mapply\u001b[49m\u001b[43m(\u001b[49m\u001b[38;5;28;43;01mlambda\u001b[39;49;00m\u001b[43m \u001b[49m\u001b[43murl\u001b[49m\u001b[43m:\u001b[49m\u001b[43m \u001b[49m\u001b[43mpd\u001b[49m\u001b[38;5;241;43m.\u001b[39;49m\u001b[43mSeries\u001b[49m\u001b[43m(\u001b[49m\u001b[43mextract_parts\u001b[49m\u001b[43m(\u001b[49m\u001b[43murl\u001b[49m\u001b[43m)\u001b[49m\u001b[43m)\u001b[49m\u001b[43m)\u001b[49m\n\u001b[1;32m     40\u001b[0m df_cleaned[\u001b[38;5;124m'\u001b[39m\u001b[38;5;124mjaccard_domain_path\u001b[39m\u001b[38;5;124m'\u001b[39m] \u001b[38;5;241m=\u001b[39m df_cleaned\u001b[38;5;241m.\u001b[39mapply(\u001b[38;5;28;01mlambda\u001b[39;00m row: compute_jaccard(row[\u001b[38;5;124m'\u001b[39m\u001b[38;5;124mdomain_part\u001b[39m\u001b[38;5;124m'\u001b[39m], row[\u001b[38;5;124m'\u001b[39m\u001b[38;5;124mpath_part\u001b[39m\u001b[38;5;124m'\u001b[39m]), axis\u001b[38;5;241m=\u001b[39m\u001b[38;5;241m1\u001b[39m)\n\u001b[1;32m     41\u001b[0m df_cleaned[\u001b[38;5;124m'\u001b[39m\u001b[38;5;124moverlap_count\u001b[39m\u001b[38;5;124m'\u001b[39m] \u001b[38;5;241m=\u001b[39m df_cleaned\u001b[38;5;241m.\u001b[39mapply(\u001b[38;5;28;01mlambda\u001b[39;00m row: compute_overlap(row[\u001b[38;5;124m'\u001b[39m\u001b[38;5;124mdomain_part\u001b[39m\u001b[38;5;124m'\u001b[39m], row[\u001b[38;5;124m'\u001b[39m\u001b[38;5;124mpath_part\u001b[39m\u001b[38;5;124m'\u001b[39m]), axis\u001b[38;5;241m=\u001b[39m\u001b[38;5;241m1\u001b[39m)\n",
      "File \u001b[0;32m~/Documents/GitHub_polinacsv/detecting-phishing-URLs/venv/lib/python3.8/site-packages/pandas/core/series.py:4630\u001b[0m, in \u001b[0;36mSeries.apply\u001b[0;34m(self, func, convert_dtype, args, **kwargs)\u001b[0m\n\u001b[1;32m   4520\u001b[0m \u001b[38;5;28;01mdef\u001b[39;00m\u001b[38;5;250m \u001b[39m\u001b[38;5;21mapply\u001b[39m(\n\u001b[1;32m   4521\u001b[0m     \u001b[38;5;28mself\u001b[39m,\n\u001b[1;32m   4522\u001b[0m     func: AggFuncType,\n\u001b[0;32m   (...)\u001b[0m\n\u001b[1;32m   4525\u001b[0m     \u001b[38;5;241m*\u001b[39m\u001b[38;5;241m*\u001b[39mkwargs,\n\u001b[1;32m   4526\u001b[0m ) \u001b[38;5;241m-\u001b[39m\u001b[38;5;241m>\u001b[39m DataFrame \u001b[38;5;241m|\u001b[39m Series:\n\u001b[1;32m   4527\u001b[0m \u001b[38;5;250m    \u001b[39m\u001b[38;5;124;03m\"\"\"\u001b[39;00m\n\u001b[1;32m   4528\u001b[0m \u001b[38;5;124;03m    Invoke function on values of Series.\u001b[39;00m\n\u001b[1;32m   4529\u001b[0m \n\u001b[0;32m   (...)\u001b[0m\n\u001b[1;32m   4628\u001b[0m \u001b[38;5;124;03m    dtype: float64\u001b[39;00m\n\u001b[1;32m   4629\u001b[0m \u001b[38;5;124;03m    \"\"\"\u001b[39;00m\n\u001b[0;32m-> 4630\u001b[0m     \u001b[38;5;28;01mreturn\u001b[39;00m \u001b[43mSeriesApply\u001b[49m\u001b[43m(\u001b[49m\u001b[38;5;28;43mself\u001b[39;49m\u001b[43m,\u001b[49m\u001b[43m \u001b[49m\u001b[43mfunc\u001b[49m\u001b[43m,\u001b[49m\u001b[43m \u001b[49m\u001b[43mconvert_dtype\u001b[49m\u001b[43m,\u001b[49m\u001b[43m \u001b[49m\u001b[43margs\u001b[49m\u001b[43m,\u001b[49m\u001b[43m \u001b[49m\u001b[43mkwargs\u001b[49m\u001b[43m)\u001b[49m\u001b[38;5;241;43m.\u001b[39;49m\u001b[43mapply\u001b[49m\u001b[43m(\u001b[49m\u001b[43m)\u001b[49m\n",
      "File \u001b[0;32m~/Documents/GitHub_polinacsv/detecting-phishing-URLs/venv/lib/python3.8/site-packages/pandas/core/apply.py:1025\u001b[0m, in \u001b[0;36mSeriesApply.apply\u001b[0;34m(self)\u001b[0m\n\u001b[1;32m   1022\u001b[0m     \u001b[38;5;28;01mreturn\u001b[39;00m \u001b[38;5;28mself\u001b[39m\u001b[38;5;241m.\u001b[39mapply_str()\n\u001b[1;32m   1024\u001b[0m \u001b[38;5;66;03m# self.f is Callable\u001b[39;00m\n\u001b[0;32m-> 1025\u001b[0m \u001b[38;5;28;01mreturn\u001b[39;00m \u001b[38;5;28;43mself\u001b[39;49m\u001b[38;5;241;43m.\u001b[39;49m\u001b[43mapply_standard\u001b[49m\u001b[43m(\u001b[49m\u001b[43m)\u001b[49m\n",
      "File \u001b[0;32m~/Documents/GitHub_polinacsv/detecting-phishing-URLs/venv/lib/python3.8/site-packages/pandas/core/apply.py:1076\u001b[0m, in \u001b[0;36mSeriesApply.apply_standard\u001b[0;34m(self)\u001b[0m\n\u001b[1;32m   1074\u001b[0m     \u001b[38;5;28;01melse\u001b[39;00m:\n\u001b[1;32m   1075\u001b[0m         values \u001b[38;5;241m=\u001b[39m obj\u001b[38;5;241m.\u001b[39mastype(\u001b[38;5;28mobject\u001b[39m)\u001b[38;5;241m.\u001b[39m_values\n\u001b[0;32m-> 1076\u001b[0m         mapped \u001b[38;5;241m=\u001b[39m \u001b[43mlib\u001b[49m\u001b[38;5;241;43m.\u001b[39;49m\u001b[43mmap_infer\u001b[49m\u001b[43m(\u001b[49m\n\u001b[1;32m   1077\u001b[0m \u001b[43m            \u001b[49m\u001b[43mvalues\u001b[49m\u001b[43m,\u001b[49m\n\u001b[1;32m   1078\u001b[0m \u001b[43m            \u001b[49m\u001b[43mf\u001b[49m\u001b[43m,\u001b[49m\n\u001b[1;32m   1079\u001b[0m \u001b[43m            \u001b[49m\u001b[43mconvert\u001b[49m\u001b[38;5;241;43m=\u001b[39;49m\u001b[38;5;28;43mself\u001b[39;49m\u001b[38;5;241;43m.\u001b[39;49m\u001b[43mconvert_dtype\u001b[49m\u001b[43m,\u001b[49m\n\u001b[1;32m   1080\u001b[0m \u001b[43m        \u001b[49m\u001b[43m)\u001b[49m\n\u001b[1;32m   1082\u001b[0m \u001b[38;5;28;01mif\u001b[39;00m \u001b[38;5;28mlen\u001b[39m(mapped) \u001b[38;5;129;01mand\u001b[39;00m \u001b[38;5;28misinstance\u001b[39m(mapped[\u001b[38;5;241m0\u001b[39m], ABCSeries):\n\u001b[1;32m   1083\u001b[0m     \u001b[38;5;66;03m# GH#43986 Need to do list(mapped) in order to get treated as nested\u001b[39;00m\n\u001b[1;32m   1084\u001b[0m     \u001b[38;5;66;03m#  See also GH#25959 regarding EA support\u001b[39;00m\n\u001b[1;32m   1085\u001b[0m     \u001b[38;5;28;01mreturn\u001b[39;00m obj\u001b[38;5;241m.\u001b[39m_constructor_expanddim(\u001b[38;5;28mlist\u001b[39m(mapped), index\u001b[38;5;241m=\u001b[39mobj\u001b[38;5;241m.\u001b[39mindex)\n",
      "File \u001b[0;32m~/Documents/GitHub_polinacsv/detecting-phishing-URLs/venv/lib/python3.8/site-packages/pandas/_libs/lib.pyx:2834\u001b[0m, in \u001b[0;36mpandas._libs.lib.map_infer\u001b[0;34m()\u001b[0m\n",
      "Cell \u001b[0;32mIn[14], line 39\u001b[0m, in \u001b[0;36m<lambda>\u001b[0;34m(url)\u001b[0m\n\u001b[1;32m     36\u001b[0m     \u001b[38;5;28;01mreturn\u001b[39;00m \u001b[38;5;28mint\u001b[39m(\u001b[38;5;28many\u001b[39m(word \u001b[38;5;129;01min\u001b[39;00m path_tokens \u001b[38;5;129;01mand\u001b[39;00m word \u001b[38;5;129;01mnot\u001b[39;00m \u001b[38;5;129;01min\u001b[39;00m domain_tokens \u001b[38;5;28;01mfor\u001b[39;00m word \u001b[38;5;129;01min\u001b[39;00m brand_words))\n\u001b[1;32m     38\u001b[0m \u001b[38;5;66;03m# Apply feature engineering\u001b[39;00m\n\u001b[0;32m---> 39\u001b[0m df_cleaned[[\u001b[38;5;124m'\u001b[39m\u001b[38;5;124mdomain_part\u001b[39m\u001b[38;5;124m'\u001b[39m, \u001b[38;5;124m'\u001b[39m\u001b[38;5;124mpath_part\u001b[39m\u001b[38;5;124m'\u001b[39m]] \u001b[38;5;241m=\u001b[39m df_cleaned[\u001b[38;5;124m'\u001b[39m\u001b[38;5;124mdomain\u001b[39m\u001b[38;5;124m'\u001b[39m]\u001b[38;5;241m.\u001b[39mapply(\u001b[38;5;28;01mlambda\u001b[39;00m url: \u001b[43mpd\u001b[49m\u001b[38;5;241;43m.\u001b[39;49m\u001b[43mSeries\u001b[49m\u001b[43m(\u001b[49m\u001b[43mextract_parts\u001b[49m\u001b[43m(\u001b[49m\u001b[43murl\u001b[49m\u001b[43m)\u001b[49m\u001b[43m)\u001b[49m)\n\u001b[1;32m     40\u001b[0m df_cleaned[\u001b[38;5;124m'\u001b[39m\u001b[38;5;124mjaccard_domain_path\u001b[39m\u001b[38;5;124m'\u001b[39m] \u001b[38;5;241m=\u001b[39m df_cleaned\u001b[38;5;241m.\u001b[39mapply(\u001b[38;5;28;01mlambda\u001b[39;00m row: compute_jaccard(row[\u001b[38;5;124m'\u001b[39m\u001b[38;5;124mdomain_part\u001b[39m\u001b[38;5;124m'\u001b[39m], row[\u001b[38;5;124m'\u001b[39m\u001b[38;5;124mpath_part\u001b[39m\u001b[38;5;124m'\u001b[39m]), axis\u001b[38;5;241m=\u001b[39m\u001b[38;5;241m1\u001b[39m)\n\u001b[1;32m     41\u001b[0m df_cleaned[\u001b[38;5;124m'\u001b[39m\u001b[38;5;124moverlap_count\u001b[39m\u001b[38;5;124m'\u001b[39m] \u001b[38;5;241m=\u001b[39m df_cleaned\u001b[38;5;241m.\u001b[39mapply(\u001b[38;5;28;01mlambda\u001b[39;00m row: compute_overlap(row[\u001b[38;5;124m'\u001b[39m\u001b[38;5;124mdomain_part\u001b[39m\u001b[38;5;124m'\u001b[39m], row[\u001b[38;5;124m'\u001b[39m\u001b[38;5;124mpath_part\u001b[39m\u001b[38;5;124m'\u001b[39m]), axis\u001b[38;5;241m=\u001b[39m\u001b[38;5;241m1\u001b[39m)\n",
      "File \u001b[0;32m~/Documents/GitHub_polinacsv/detecting-phishing-URLs/venv/lib/python3.8/site-packages/pandas/core/series.py:509\u001b[0m, in \u001b[0;36mSeries.__init__\u001b[0;34m(self, data, index, dtype, name, copy, fastpath)\u001b[0m\n\u001b[1;32m    507\u001b[0m         data \u001b[38;5;241m=\u001b[39m data\u001b[38;5;241m.\u001b[39mcopy()\n\u001b[1;32m    508\u001b[0m \u001b[38;5;28;01melse\u001b[39;00m:\n\u001b[0;32m--> 509\u001b[0m     data \u001b[38;5;241m=\u001b[39m \u001b[43msanitize_array\u001b[49m\u001b[43m(\u001b[49m\u001b[43mdata\u001b[49m\u001b[43m,\u001b[49m\u001b[43m \u001b[49m\u001b[43mindex\u001b[49m\u001b[43m,\u001b[49m\u001b[43m \u001b[49m\u001b[43mdtype\u001b[49m\u001b[43m,\u001b[49m\u001b[43m \u001b[49m\u001b[43mcopy\u001b[49m\u001b[43m)\u001b[49m\n\u001b[1;32m    511\u001b[0m     manager \u001b[38;5;241m=\u001b[39m get_option(\u001b[38;5;124m\"\u001b[39m\u001b[38;5;124mmode.data_manager\u001b[39m\u001b[38;5;124m\"\u001b[39m)\n\u001b[1;32m    512\u001b[0m     \u001b[38;5;28;01mif\u001b[39;00m manager \u001b[38;5;241m==\u001b[39m \u001b[38;5;124m\"\u001b[39m\u001b[38;5;124mblock\u001b[39m\u001b[38;5;124m\"\u001b[39m:\n",
      "File \u001b[0;32m~/Documents/GitHub_polinacsv/detecting-phishing-URLs/venv/lib/python3.8/site-packages/pandas/core/construction.py:602\u001b[0m, in \u001b[0;36msanitize_array\u001b[0;34m(data, index, dtype, copy, allow_2d)\u001b[0m\n\u001b[1;32m    599\u001b[0m     subarr \u001b[38;5;241m=\u001b[39m _try_cast(data, dtype, copy)\n\u001b[1;32m    601\u001b[0m \u001b[38;5;28;01melse\u001b[39;00m:\n\u001b[0;32m--> 602\u001b[0m     subarr \u001b[38;5;241m=\u001b[39m \u001b[43mmaybe_convert_platform\u001b[49m\u001b[43m(\u001b[49m\u001b[43mdata\u001b[49m\u001b[43m)\u001b[49m\n\u001b[1;32m    603\u001b[0m     \u001b[38;5;28;01mif\u001b[39;00m subarr\u001b[38;5;241m.\u001b[39mdtype \u001b[38;5;241m==\u001b[39m \u001b[38;5;28mobject\u001b[39m:\n\u001b[1;32m    604\u001b[0m         subarr \u001b[38;5;241m=\u001b[39m cast(np\u001b[38;5;241m.\u001b[39mndarray, subarr)\n",
      "File \u001b[0;32m~/Documents/GitHub_polinacsv/detecting-phishing-URLs/venv/lib/python3.8/site-packages/pandas/core/dtypes/cast.py:138\u001b[0m, in \u001b[0;36mmaybe_convert_platform\u001b[0;34m(values)\u001b[0m\n\u001b[1;32m    136\u001b[0m \u001b[38;5;28;01mif\u001b[39;00m arr\u001b[38;5;241m.\u001b[39mdtype \u001b[38;5;241m==\u001b[39m _dtype_obj:\n\u001b[1;32m    137\u001b[0m     arr \u001b[38;5;241m=\u001b[39m cast(np\u001b[38;5;241m.\u001b[39mndarray, arr)\n\u001b[0;32m--> 138\u001b[0m     arr \u001b[38;5;241m=\u001b[39m \u001b[43mlib\u001b[49m\u001b[38;5;241;43m.\u001b[39;49m\u001b[43mmaybe_convert_objects\u001b[49m\u001b[43m(\u001b[49m\u001b[43marr\u001b[49m\u001b[43m)\u001b[49m\n\u001b[1;32m    140\u001b[0m \u001b[38;5;28;01mreturn\u001b[39;00m arr\n",
      "File \u001b[0;32m~/Documents/GitHub_polinacsv/detecting-phishing-URLs/venv/lib/python3.8/site-packages/pandas/_libs/lib.pyx:2445\u001b[0m, in \u001b[0;36mpandas._libs.lib.maybe_convert_objects\u001b[0;34m()\u001b[0m\n",
      "File \u001b[0;32m~/Documents/GitHub_polinacsv/detecting-phishing-URLs/venv/lib/python3.8/site-packages/numpy/core/numeric.py:345\u001b[0m, in \u001b[0;36mfull\u001b[0;34m(shape, fill_value, dtype, order, like)\u001b[0m\n\u001b[1;32m    343\u001b[0m     dtype \u001b[38;5;241m=\u001b[39m fill_value\u001b[38;5;241m.\u001b[39mdtype\n\u001b[1;32m    344\u001b[0m a \u001b[38;5;241m=\u001b[39m empty(shape, dtype, order)\n\u001b[0;32m--> 345\u001b[0m \u001b[43mmultiarray\u001b[49m\u001b[38;5;241;43m.\u001b[39;49m\u001b[43mcopyto\u001b[49m\u001b[43m(\u001b[49m\u001b[43ma\u001b[49m\u001b[43m,\u001b[49m\u001b[43m \u001b[49m\u001b[43mfill_value\u001b[49m\u001b[43m,\u001b[49m\u001b[43m \u001b[49m\u001b[43mcasting\u001b[49m\u001b[38;5;241;43m=\u001b[39;49m\u001b[38;5;124;43m'\u001b[39;49m\u001b[38;5;124;43munsafe\u001b[39;49m\u001b[38;5;124;43m'\u001b[39;49m\u001b[43m)\u001b[49m\n\u001b[1;32m    346\u001b[0m \u001b[38;5;28;01mreturn\u001b[39;00m a\n",
      "File \u001b[0;32m<__array_function__ internals>:200\u001b[0m, in \u001b[0;36mcopyto\u001b[0;34m(*args, **kwargs)\u001b[0m\n",
      "\u001b[0;31mKeyboardInterrupt\u001b[0m: "
     ]
    }
   ],
   "source": [
    "from urllib.parse import urlparse, unquote\n",
    "from sklearn.feature_extraction.text import CountVectorizer\n",
    "from sklearn.metrics import jaccard_score\n",
    "import numpy as np\n",
    "\n",
    "# Helper functions to extract and split words\n",
    "def extract_parts(url):\n",
    "    parsed = urlparse('http://' + url)  # prepend scheme to avoid parsing issues\n",
    "    domain = parsed.hostname or ''\n",
    "    path = parsed.path + parsed.query\n",
    "    return domain, path\n",
    "\n",
    "def tokenize(text):\n",
    "    # Remove URL encoding and split on non-alphanumeric characters\n",
    "    text = unquote(text)\n",
    "    tokens = re.split(r'[^a-zA-Z0-9]', text.lower())\n",
    "    return [token for token in tokens if token]\n",
    "\n",
    "# New features\n",
    "def compute_jaccard(domain, path):\n",
    "    domain_tokens = set(tokenize(domain))\n",
    "    path_tokens = set(tokenize(path))\n",
    "    if not domain_tokens or not path_tokens:\n",
    "        return 0.0\n",
    "    return len(domain_tokens & path_tokens) / len(domain_tokens | path_tokens)\n",
    "\n",
    "def compute_overlap(domain, path):\n",
    "    domain_tokens = set(tokenize(domain))\n",
    "    path_tokens = set(tokenize(path))\n",
    "    return len(domain_tokens & path_tokens)\n",
    "\n",
    "def has_brand_conflict(domain, path):\n",
    "    brand_words = ['paypal', 'bank', 'ebay', 'secure', 'login', 'account', 'signin']\n",
    "    domain_tokens = tokenize(domain)\n",
    "    path_tokens = tokenize(path)\n",
    "    return int(any(word in path_tokens and word not in domain_tokens for word in brand_words))\n",
    "\n",
    "# Apply feature engineering\n",
    "df_cleaned[['domain_part', 'path_part']] = df_cleaned['domain'].apply(lambda url: pd.Series(extract_parts(url)))\n",
    "df_cleaned['jaccard_domain_path'] = df_cleaned.apply(lambda row: compute_jaccard(row['domain_part'], row['path_part']), axis=1)\n",
    "df_cleaned['overlap_count'] = df_cleaned.apply(lambda row: compute_overlap(row['domain_part'], row['path_part']), axis=1)\n",
    "df_cleaned['has_brand_conflict'] = df_cleaned.apply(lambda row: has_brand_conflict(row['domain_part'], row['path_part']), axis=1)\n",
    "\n",
    "# Display new features\n",
    "\n",
    "df_cleaned[['jaccard_domain_path', 'overlap_count', 'has_brand_conflict']].describe()\n"
   ]
  },
  {
   "cell_type": "code",
   "execution_count": null,
   "id": "26592e1b",
   "metadata": {},
   "outputs": [
    {
     "data": {
      "application/vnd.microsoft.datawrangler.viewer.v0+json": {
       "columns": [
        {
         "name": "index",
         "rawType": "int64",
         "type": "integer"
        },
        {
         "name": "feature",
         "rawType": "object",
         "type": "string"
        },
        {
         "name": "importance",
         "rawType": "float64",
         "type": "float"
        }
       ],
       "ref": "6a4a3267-96e6-46a1-b946-cd552763fff8",
       "rows": [
        [
         "0",
         "url_length",
         "0.2839693607353022"
        ],
        [
         "5",
         "has_suspicious_words",
         "0.19037668467512905"
        ],
        [
         "2",
         "num_special_chars",
         "0.17865632835070952"
        ],
        [
         "4",
         "num_subdomains",
         "0.15440185179378174"
        ],
        [
         "1",
         "num_digits",
         "0.1255751490490173"
        ],
        [
         "8",
         "has_brand_conflict",
         "0.05691414043449523"
        ],
        [
         "6",
         "jaccard_domain_path",
         "0.006648535024322477"
        ],
        [
         "7",
         "overlap_count",
         "0.002931576708453268"
        ],
        [
         "3",
         "has_ip",
         "0.0005263732287892358"
        ]
       ],
       "shape": {
        "columns": 2,
        "rows": 9
       }
      },
      "text/html": [
       "<div>\n",
       "<style scoped>\n",
       "    .dataframe tbody tr th:only-of-type {\n",
       "        vertical-align: middle;\n",
       "    }\n",
       "\n",
       "    .dataframe tbody tr th {\n",
       "        vertical-align: top;\n",
       "    }\n",
       "\n",
       "    .dataframe thead th {\n",
       "        text-align: right;\n",
       "    }\n",
       "</style>\n",
       "<table border=\"1\" class=\"dataframe\">\n",
       "  <thead>\n",
       "    <tr style=\"text-align: right;\">\n",
       "      <th></th>\n",
       "      <th>feature</th>\n",
       "      <th>importance</th>\n",
       "    </tr>\n",
       "  </thead>\n",
       "  <tbody>\n",
       "    <tr>\n",
       "      <th>0</th>\n",
       "      <td>url_length</td>\n",
       "      <td>0.283969</td>\n",
       "    </tr>\n",
       "    <tr>\n",
       "      <th>5</th>\n",
       "      <td>has_suspicious_words</td>\n",
       "      <td>0.190377</td>\n",
       "    </tr>\n",
       "    <tr>\n",
       "      <th>2</th>\n",
       "      <td>num_special_chars</td>\n",
       "      <td>0.178656</td>\n",
       "    </tr>\n",
       "    <tr>\n",
       "      <th>4</th>\n",
       "      <td>num_subdomains</td>\n",
       "      <td>0.154402</td>\n",
       "    </tr>\n",
       "    <tr>\n",
       "      <th>1</th>\n",
       "      <td>num_digits</td>\n",
       "      <td>0.125575</td>\n",
       "    </tr>\n",
       "    <tr>\n",
       "      <th>8</th>\n",
       "      <td>has_brand_conflict</td>\n",
       "      <td>0.056914</td>\n",
       "    </tr>\n",
       "    <tr>\n",
       "      <th>6</th>\n",
       "      <td>jaccard_domain_path</td>\n",
       "      <td>0.006649</td>\n",
       "    </tr>\n",
       "    <tr>\n",
       "      <th>7</th>\n",
       "      <td>overlap_count</td>\n",
       "      <td>0.002932</td>\n",
       "    </tr>\n",
       "    <tr>\n",
       "      <th>3</th>\n",
       "      <td>has_ip</td>\n",
       "      <td>0.000526</td>\n",
       "    </tr>\n",
       "  </tbody>\n",
       "</table>\n",
       "</div>"
      ],
      "text/plain": [
       "                feature  importance\n",
       "0            url_length    0.283969\n",
       "5  has_suspicious_words    0.190377\n",
       "2     num_special_chars    0.178656\n",
       "4        num_subdomains    0.154402\n",
       "1            num_digits    0.125575\n",
       "8    has_brand_conflict    0.056914\n",
       "6   jaccard_domain_path    0.006649\n",
       "7         overlap_count    0.002932\n",
       "3                has_ip    0.000526"
      ]
     },
     "execution_count": 14,
     "metadata": {},
     "output_type": "execute_result"
    }
   ],
   "source": [
    "# Combine earlier basic features with new relatedness-inspired ones\n",
    "all_features = features + ['jaccard_domain_path', 'overlap_count', 'has_brand_conflict']\n",
    "X_all = df_cleaned[all_features]\n",
    "y_all = df_cleaned['label']\n",
    "\n",
    "# Train/test split and model fitting\n",
    "X_train_all, X_test_all, y_train_all, y_test_all = train_test_split(X_all, y_all, stratify=y_all, test_size=0.2, random_state=42)\n",
    "rf_model = RandomForestClassifier(random_state=42)\n",
    "rf_model.fit(X_train_all, y_train_all)\n",
    "\n",
    "# Get feature importances\n",
    "importances = rf_model.feature_importances_\n",
    "feature_importance_df = pd.DataFrame({\n",
    "    'feature': all_features,\n",
    "    'importance': importances\n",
    "}).sort_values(by='importance', ascending=False)\n",
    "\n",
    "\n",
    "feature_importance_df\n"
   ]
  },
  {
   "cell_type": "code",
   "execution_count": null,
   "id": "aacd8775",
   "metadata": {},
   "outputs": [
    {
     "name": "stderr",
     "output_type": "stream",
     "text": [
      "/var/folders/c_/pb_69mrs7kb5bq1mhxkjtg340000gn/T/ipykernel_7828/2920926117.py:1: DtypeWarning: Columns (1,2,3,11,12) have mixed types. Specify dtype option on import or set low_memory=False.\n",
      "  full_df = pd.read_csv(\n"
     ]
    }
   ],
   "source": [
    "full_df = pd.read_csv(\n",
    "    '/Users/inmilk306/Documents/GitHub_polinacsv/detecting-phishing-URLs/data/urlset.csv', \n",
    "    encoding='ISO-8859-1',\n",
    "    on_bad_lines='skip'  # Skip all malformed lines\n",
    ")"
   ]
  },
  {
   "cell_type": "code",
   "execution_count": null,
   "id": "ee97b445",
   "metadata": {},
   "outputs": [
    {
     "data": {
      "application/vnd.microsoft.datawrangler.viewer.v0+json": {
       "columns": [
        {
         "name": "index",
         "rawType": "int64",
         "type": "integer"
        },
        {
         "name": "feature",
         "rawType": "object",
         "type": "string"
        },
        {
         "name": "importance",
         "rawType": "float64",
         "type": "float"
        }
       ],
       "ref": "7808b16d-59e7-4e90-9fb2-172ba3072139",
       "rows": [
        [
         "3",
         "card_rem",
         "0.20967263604119565"
        ],
        [
         "0",
         "ranking",
         "0.17235186515242232"
        ],
        [
         "11",
         "jaccard_ARrem",
         "0.12090782242891927"
        ],
        [
         "4",
         "ratio_Rrem",
         "0.12049628156204026"
        ],
        [
         "5",
         "ratio_Arem",
         "0.11509801587561025"
        ],
        [
         "10",
         "jaccard_ARrd",
         "0.08997348447932484"
        ],
        [
         "1",
         "mld_res",
         "0.08513552168846754"
        ],
        [
         "9",
         "jaccard_AA",
         "0.025313644848918487"
        ],
        [
         "6",
         "jaccard_RR",
         "0.01896990593393892"
        ],
        [
         "8",
         "jaccard_AR",
         "0.017756505203509625"
        ],
        [
         "7",
         "jaccard_RA",
         "0.016855360720826218"
        ],
        [
         "2",
         "mld.ps_res",
         "0.007468956064826592"
        ]
       ],
       "shape": {
        "columns": 2,
        "rows": 12
       }
      },
      "text/html": [
       "<div>\n",
       "<style scoped>\n",
       "    .dataframe tbody tr th:only-of-type {\n",
       "        vertical-align: middle;\n",
       "    }\n",
       "\n",
       "    .dataframe tbody tr th {\n",
       "        vertical-align: top;\n",
       "    }\n",
       "\n",
       "    .dataframe thead th {\n",
       "        text-align: right;\n",
       "    }\n",
       "</style>\n",
       "<table border=\"1\" class=\"dataframe\">\n",
       "  <thead>\n",
       "    <tr style=\"text-align: right;\">\n",
       "      <th></th>\n",
       "      <th>feature</th>\n",
       "      <th>importance</th>\n",
       "    </tr>\n",
       "  </thead>\n",
       "  <tbody>\n",
       "    <tr>\n",
       "      <th>3</th>\n",
       "      <td>card_rem</td>\n",
       "      <td>0.209673</td>\n",
       "    </tr>\n",
       "    <tr>\n",
       "      <th>0</th>\n",
       "      <td>ranking</td>\n",
       "      <td>0.172352</td>\n",
       "    </tr>\n",
       "    <tr>\n",
       "      <th>11</th>\n",
       "      <td>jaccard_ARrem</td>\n",
       "      <td>0.120908</td>\n",
       "    </tr>\n",
       "    <tr>\n",
       "      <th>4</th>\n",
       "      <td>ratio_Rrem</td>\n",
       "      <td>0.120496</td>\n",
       "    </tr>\n",
       "    <tr>\n",
       "      <th>5</th>\n",
       "      <td>ratio_Arem</td>\n",
       "      <td>0.115098</td>\n",
       "    </tr>\n",
       "    <tr>\n",
       "      <th>10</th>\n",
       "      <td>jaccard_ARrd</td>\n",
       "      <td>0.089973</td>\n",
       "    </tr>\n",
       "    <tr>\n",
       "      <th>1</th>\n",
       "      <td>mld_res</td>\n",
       "      <td>0.085136</td>\n",
       "    </tr>\n",
       "    <tr>\n",
       "      <th>9</th>\n",
       "      <td>jaccard_AA</td>\n",
       "      <td>0.025314</td>\n",
       "    </tr>\n",
       "    <tr>\n",
       "      <th>6</th>\n",
       "      <td>jaccard_RR</td>\n",
       "      <td>0.018970</td>\n",
       "    </tr>\n",
       "    <tr>\n",
       "      <th>8</th>\n",
       "      <td>jaccard_AR</td>\n",
       "      <td>0.017757</td>\n",
       "    </tr>\n",
       "    <tr>\n",
       "      <th>7</th>\n",
       "      <td>jaccard_RA</td>\n",
       "      <td>0.016855</td>\n",
       "    </tr>\n",
       "    <tr>\n",
       "      <th>2</th>\n",
       "      <td>mld.ps_res</td>\n",
       "      <td>0.007469</td>\n",
       "    </tr>\n",
       "  </tbody>\n",
       "</table>\n",
       "</div>"
      ],
      "text/plain": [
       "          feature  importance\n",
       "3        card_rem    0.209673\n",
       "0         ranking    0.172352\n",
       "11  jaccard_ARrem    0.120908\n",
       "4      ratio_Rrem    0.120496\n",
       "5      ratio_Arem    0.115098\n",
       "10   jaccard_ARrd    0.089973\n",
       "1         mld_res    0.085136\n",
       "9      jaccard_AA    0.025314\n",
       "6      jaccard_RR    0.018970\n",
       "8      jaccard_AR    0.017757\n",
       "7      jaccard_RA    0.016855\n",
       "2      mld.ps_res    0.007469"
      ]
     },
     "execution_count": 16,
     "metadata": {},
     "output_type": "execute_result"
    }
   ],
   "source": [
    "# Drop missing labels\n",
    "full_df = full_df.dropna(subset=['label'])\n",
    "\n",
    "# Convert any non-numeric columns that should be numeric (e.g., jaccard_ARrd, jaccard_ARrem)\n",
    "columns_to_convert = [\n",
    "    'ranking', 'mld_res', 'mld.ps_res',\n",
    "    'jaccard_ARrd', 'jaccard_ARrem'\n",
    "]\n",
    "\n",
    "for col in columns_to_convert:\n",
    "    full_df[col] = pd.to_numeric(full_df[col], errors='coerce')\n",
    "\n",
    "# Select only original PhishStorm-style features\n",
    "phishstorm_features = [\n",
    "    'ranking', 'mld_res', 'mld.ps_res', 'card_rem', 'ratio_Rrem', 'ratio_Arem',\n",
    "    'jaccard_RR', 'jaccard_RA', 'jaccard_AR', 'jaccard_AA', 'jaccard_ARrd', 'jaccard_ARrem'\n",
    "]\n",
    "\n",
    "# Drop rows with missing values in selected features\n",
    "full_df_clean = full_df.dropna(subset=phishstorm_features + ['label'])\n",
    "\n",
    "# Prepare X and y\n",
    "X_phishstorm = full_df_clean[phishstorm_features]\n",
    "y_phishstorm = full_df_clean['label']\n",
    "\n",
    "# Train/test split\n",
    "X_train_ps, X_test_ps, y_train_ps, y_test_ps = train_test_split(\n",
    "    X_phishstorm, y_phishstorm, stratify=y_phishstorm, test_size=0.2, random_state=42)\n",
    "\n",
    "# Train Random Forest\n",
    "rf_ps_model = RandomForestClassifier(random_state=42)\n",
    "rf_ps_model.fit(X_train_ps, y_train_ps)\n",
    "\n",
    "# Feature importances\n",
    "ps_importances = rf_ps_model.feature_importances_\n",
    "ps_feature_importance_df = pd.DataFrame({\n",
    "    'feature': phishstorm_features,\n",
    "    'importance': ps_importances\n",
    "}).sort_values(by='importance', ascending=False)\n",
    "\n",
    "\n",
    "ps_feature_importance_df"
   ]
  }
 ],
 "metadata": {
  "kernelspec": {
   "display_name": "venv",
   "language": "python",
   "name": "python3"
  },
  "language_info": {
   "codemirror_mode": {
    "name": "ipython",
    "version": 3
   },
   "file_extension": ".py",
   "mimetype": "text/x-python",
   "name": "python",
   "nbconvert_exporter": "python",
   "pygments_lexer": "ipython3",
   "version": "3.8.1"
  }
 },
 "nbformat": 4,
 "nbformat_minor": 5
}
