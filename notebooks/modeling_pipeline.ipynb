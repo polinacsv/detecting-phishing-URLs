{
 "cells": [
  {
   "cell_type": "markdown",
   "id": "4c574e88",
   "metadata": {},
   "source": [
    "# Modeling Pipeline for Phishing URL Detection\n",
    "\n",
    "In this notebook, we build a full modeling pipeline for detecting phishing URLs.  \n",
    "We start with a dataset that contains two columns: a **URL** and a **label** indicating whether the URL is **benign** or **phishing**.\n",
    "\n",
    "While we use a well-known research dataset for this example, **any dataset with labeled URLs** can be used — because **all features in this pipeline will be created from scratch** using custom Python functions.\n",
    "\n",
    "📘 **Dataset citation**:  \n",
    "\n",
    "> [1] S. Marchal, J. Francois, R. State, and T. Engel.  \n",
    "> *PhishStorm: Detecting Phishing with Streaming Analytics*.  \n",
    "> IEEE Transactions on Network and Service Management (TNSM), 11(4):458–471, 2014.\n"
   ]
  },
  {
   "cell_type": "markdown",
   "id": "9934418a",
   "metadata": {},
   "source": [
    "## Set up"
   ]
  },
  {
   "cell_type": "code",
   "execution_count": null,
   "id": "59c3792a",
   "metadata": {},
   "outputs": [],
   "source": [
    "# Load packages\n",
    "from detecting_phishing_urls.load_data import load_phishing_data, load_alexa_domains\n",
    "from detecting_phishing_urls.features import *\n",
    "import pandas as pd\n",
    "import matplotlib.pyplot as plt\n",
    "from collections import Counter\n",
    "from sklearn.model_selection import train_test_split\n",
    "from sklearn.preprocessing import StandardScaler\n",
    "from sklearn.ensemble import RandomForestClassifier\n",
    "from sklearn.metrics import classification_report, roc_auc_score, confusion_matrix\n",
    "from sklearn.model_selection import GridSearchCV\n"
   ]
  },
  {
   "cell_type": "markdown",
   "id": "b709dd70",
   "metadata": {},
   "source": [
    "First, let's load our main dataset with URLs and labels."
   ]
  },
  {
   "cell_type": "code",
   "execution_count": 37,
   "id": "bdfbc1cc",
   "metadata": {},
   "outputs": [
    {
     "data": {
      "application/vnd.microsoft.datawrangler.viewer.v0+json": {
       "columns": [
        {
         "name": "index",
         "rawType": "int64",
         "type": "integer"
        },
        {
         "name": "url",
         "rawType": "object",
         "type": "string"
        },
        {
         "name": "label",
         "rawType": "int64",
         "type": "integer"
        }
       ],
       "ref": "4205a9cf-8ddb-4a2e-85e7-55785ee1bcdd",
       "rows": [
        [
         "0",
         "nobell.it/70ffb52d079109dca5664cce6f317373782/login.SkyPe.com/en/cgi-bin/verification/login/70ffb52d079109dca5664cce6f317373/index.php?cmd=_profile-ach&outdated_page_tmpl=p/gen/failed-to-load&nav=0.5.1&login_access=1322408526",
         "1"
        ],
        [
         "1",
         "www.dghjdgf.com/paypal.co.uk/cycgi-bin/webscrcmd=_home-customer&nav=1/loading.php",
         "1"
        ],
        [
         "2",
         "serviciosbys.com/paypal.cgi.bin.get-into.herf.secure.dispatch35463256rzr321654641dsf654321874/href/href/href/secure/center/update/limit/seccure/4d7a1ff5c55825a2e632a679c2fd5353/",
         "1"
        ],
        [
         "3",
         "mail.printakid.com/www.online.americanexpress.com/index.html",
         "1"
        ],
        [
         "4",
         "thewhiskeydregs.com/wp-content/themes/widescreen/includes/temp/promocoessmiles/?84784787824HDJNDJDSJSHD//2724782784/",
         "1"
        ]
       ],
       "shape": {
        "columns": 2,
        "rows": 5
       }
      },
      "text/html": [
       "<div>\n",
       "<style scoped>\n",
       "    .dataframe tbody tr th:only-of-type {\n",
       "        vertical-align: middle;\n",
       "    }\n",
       "\n",
       "    .dataframe tbody tr th {\n",
       "        vertical-align: top;\n",
       "    }\n",
       "\n",
       "    .dataframe thead th {\n",
       "        text-align: right;\n",
       "    }\n",
       "</style>\n",
       "<table border=\"1\" class=\"dataframe\">\n",
       "  <thead>\n",
       "    <tr style=\"text-align: right;\">\n",
       "      <th></th>\n",
       "      <th>url</th>\n",
       "      <th>label</th>\n",
       "    </tr>\n",
       "  </thead>\n",
       "  <tbody>\n",
       "    <tr>\n",
       "      <th>0</th>\n",
       "      <td>nobell.it/70ffb52d079109dca5664cce6f317373782/...</td>\n",
       "      <td>1</td>\n",
       "    </tr>\n",
       "    <tr>\n",
       "      <th>1</th>\n",
       "      <td>www.dghjdgf.com/paypal.co.uk/cycgi-bin/webscrc...</td>\n",
       "      <td>1</td>\n",
       "    </tr>\n",
       "    <tr>\n",
       "      <th>2</th>\n",
       "      <td>serviciosbys.com/paypal.cgi.bin.get-into.herf....</td>\n",
       "      <td>1</td>\n",
       "    </tr>\n",
       "    <tr>\n",
       "      <th>3</th>\n",
       "      <td>mail.printakid.com/www.online.americanexpress....</td>\n",
       "      <td>1</td>\n",
       "    </tr>\n",
       "    <tr>\n",
       "      <th>4</th>\n",
       "      <td>thewhiskeydregs.com/wp-content/themes/widescre...</td>\n",
       "      <td>1</td>\n",
       "    </tr>\n",
       "  </tbody>\n",
       "</table>\n",
       "</div>"
      ],
      "text/plain": [
       "                                                 url  label\n",
       "0  nobell.it/70ffb52d079109dca5664cce6f317373782/...      1\n",
       "1  www.dghjdgf.com/paypal.co.uk/cycgi-bin/webscrc...      1\n",
       "2  serviciosbys.com/paypal.cgi.bin.get-into.herf....      1\n",
       "3  mail.printakid.com/www.online.americanexpress....      1\n",
       "4  thewhiskeydregs.com/wp-content/themes/widescre...      1"
      ]
     },
     "execution_count": 37,
     "metadata": {},
     "output_type": "execute_result"
    }
   ],
   "source": [
    "# Load the PhishStorm dataset\n",
    "\n",
    "df = load_phishing_data(\n",
    "    data_dir='../data',\n",
    "    filename='urlset.csv', \n",
    "    url_col='domain',        \n",
    "    label_col='label'     \n",
    ")\n",
    "\n",
    "# Quick preview\n",
    "df.head()"
   ]
  },
  {
   "cell_type": "code",
   "execution_count": 38,
   "id": "97e2411b",
   "metadata": {},
   "outputs": [
    {
     "data": {
      "text/plain": [
       "(95913, 2)"
      ]
     },
     "execution_count": 38,
     "metadata": {},
     "output_type": "execute_result"
    }
   ],
   "source": [
    "df.shape"
   ]
  },
  {
   "cell_type": "markdown",
   "id": "ad272b25",
   "metadata": {},
   "source": [
    "Next, let's load a list of the most visited domains globally from the Alexa Top 1M dataset. This list serves as a proxy for trusted or popular websites.\n",
    "\n",
    "We'll use it later to engineer features that indicate whether a domain in a URL appears in this trusted set, which may help differentiate between phishing and legitimate URLs.\n"
   ]
  },
  {
   "cell_type": "code",
   "execution_count": 39,
   "id": "cf815274",
   "metadata": {},
   "outputs": [
    {
     "ename": "KeyboardInterrupt",
     "evalue": "",
     "output_type": "error",
     "traceback": [
      "\u001b[0;31m---------------------------------------------------------------------------\u001b[0m",
      "\u001b[0;31mKeyboardInterrupt\u001b[0m                         Traceback (most recent call last)",
      "Cell \u001b[0;32mIn[39], line 2\u001b[0m\n\u001b[1;32m      1\u001b[0m \u001b[38;5;66;03m# Load the Alexa domain list\u001b[39;00m\n\u001b[0;32m----> 2\u001b[0m alexa_df \u001b[38;5;241m=\u001b[39m \u001b[43mload_alexa_domains\u001b[49m\u001b[43m(\u001b[49m\n\u001b[1;32m      3\u001b[0m \u001b[43m    \u001b[49m\u001b[43mdata_dir\u001b[49m\u001b[38;5;241;43m=\u001b[39;49m\u001b[38;5;124;43m'\u001b[39;49m\u001b[38;5;124;43m../data\u001b[39;49m\u001b[38;5;124;43m'\u001b[39;49m\u001b[43m,\u001b[49m\n\u001b[1;32m      4\u001b[0m \u001b[43m    \u001b[49m\u001b[43mfilename\u001b[49m\u001b[38;5;241;43m=\u001b[39;49m\u001b[38;5;124;43m'\u001b[39;49m\u001b[38;5;124;43malexa_domains_1M.txt\u001b[39;49m\u001b[38;5;124;43m'\u001b[39;49m\n\u001b[1;32m      5\u001b[0m \u001b[43m)\u001b[49m\n\u001b[1;32m      7\u001b[0m alexa_df\u001b[38;5;241m.\u001b[39mhead()\n",
      "File \u001b[0;32m~/Documents/GitHub_polinacsv/detecting-phishing-URLs/src/detecting_phishing_urls/load_data.py:49\u001b[0m, in \u001b[0;36mload_alexa_domains\u001b[0;34m(data_dir, filename)\u001b[0m\n\u001b[1;32m     38\u001b[0m \u001b[38;5;250m\u001b[39m\u001b[38;5;124;03m\"\"\"\u001b[39;00m\n\u001b[1;32m     39\u001b[0m \u001b[38;5;124;03mLoads the Alexa Top 1M domains list from a .txt file (one domain per line).\u001b[39;00m\n\u001b[1;32m     40\u001b[0m \n\u001b[0;32m   (...)\u001b[0m\n\u001b[1;32m     46\u001b[0m \u001b[38;5;124;03m    pd.DataFrame: DataFrame with columns ['alexa_domain', 'rank']\u001b[39;00m\n\u001b[1;32m     47\u001b[0m \u001b[38;5;124;03m\"\"\"\u001b[39;00m\n\u001b[1;32m     48\u001b[0m file_path \u001b[38;5;241m=\u001b[39m os\u001b[38;5;241m.\u001b[39mpath\u001b[38;5;241m.\u001b[39mjoin(data_dir, filename)\n\u001b[0;32m---> 49\u001b[0m df \u001b[38;5;241m=\u001b[39m \u001b[43mpd\u001b[49m\u001b[38;5;241;43m.\u001b[39;49m\u001b[43mread_csv\u001b[49m\u001b[43m(\u001b[49m\u001b[43mfile_path\u001b[49m\u001b[43m,\u001b[49m\u001b[43m \u001b[49m\u001b[43mheader\u001b[49m\u001b[38;5;241;43m=\u001b[39;49m\u001b[38;5;28;43;01mNone\u001b[39;49;00m\u001b[43m,\u001b[49m\u001b[43m \u001b[49m\u001b[43mnames\u001b[49m\u001b[38;5;241;43m=\u001b[39;49m\u001b[43m[\u001b[49m\u001b[38;5;124;43m'\u001b[39;49m\u001b[38;5;124;43malexa_domain\u001b[39;49m\u001b[38;5;124;43m'\u001b[39;49m\u001b[43m]\u001b[49m\u001b[43m)\u001b[49m\n\u001b[1;32m     50\u001b[0m df[\u001b[38;5;124m'\u001b[39m\u001b[38;5;124mrank\u001b[39m\u001b[38;5;124m'\u001b[39m] \u001b[38;5;241m=\u001b[39m df\u001b[38;5;241m.\u001b[39mindex \u001b[38;5;241m+\u001b[39m \u001b[38;5;241m1\u001b[39m  \u001b[38;5;66;03m# 1-based rank based on file order\u001b[39;00m\n\u001b[1;32m     51\u001b[0m \u001b[38;5;28;01mreturn\u001b[39;00m df\n",
      "File \u001b[0;32m~/Documents/GitHub_polinacsv/detecting-phishing-URLs/venv/lib/python3.8/site-packages/pandas/io/parsers/readers.py:912\u001b[0m, in \u001b[0;36mread_csv\u001b[0;34m(filepath_or_buffer, sep, delimiter, header, names, index_col, usecols, dtype, engine, converters, true_values, false_values, skipinitialspace, skiprows, skipfooter, nrows, na_values, keep_default_na, na_filter, verbose, skip_blank_lines, parse_dates, infer_datetime_format, keep_date_col, date_parser, date_format, dayfirst, cache_dates, iterator, chunksize, compression, thousands, decimal, lineterminator, quotechar, quoting, doublequote, escapechar, comment, encoding, encoding_errors, dialect, on_bad_lines, delim_whitespace, low_memory, memory_map, float_precision, storage_options, dtype_backend)\u001b[0m\n\u001b[1;32m    899\u001b[0m kwds_defaults \u001b[38;5;241m=\u001b[39m _refine_defaults_read(\n\u001b[1;32m    900\u001b[0m     dialect,\n\u001b[1;32m    901\u001b[0m     delimiter,\n\u001b[0;32m   (...)\u001b[0m\n\u001b[1;32m    908\u001b[0m     dtype_backend\u001b[38;5;241m=\u001b[39mdtype_backend,\n\u001b[1;32m    909\u001b[0m )\n\u001b[1;32m    910\u001b[0m kwds\u001b[38;5;241m.\u001b[39mupdate(kwds_defaults)\n\u001b[0;32m--> 912\u001b[0m \u001b[38;5;28;01mreturn\u001b[39;00m \u001b[43m_read\u001b[49m\u001b[43m(\u001b[49m\u001b[43mfilepath_or_buffer\u001b[49m\u001b[43m,\u001b[49m\u001b[43m \u001b[49m\u001b[43mkwds\u001b[49m\u001b[43m)\u001b[49m\n",
      "File \u001b[0;32m~/Documents/GitHub_polinacsv/detecting-phishing-URLs/venv/lib/python3.8/site-packages/pandas/io/parsers/readers.py:583\u001b[0m, in \u001b[0;36m_read\u001b[0;34m(filepath_or_buffer, kwds)\u001b[0m\n\u001b[1;32m    580\u001b[0m     \u001b[38;5;28;01mreturn\u001b[39;00m parser\n\u001b[1;32m    582\u001b[0m \u001b[38;5;28;01mwith\u001b[39;00m parser:\n\u001b[0;32m--> 583\u001b[0m     \u001b[38;5;28;01mreturn\u001b[39;00m \u001b[43mparser\u001b[49m\u001b[38;5;241;43m.\u001b[39;49m\u001b[43mread\u001b[49m\u001b[43m(\u001b[49m\u001b[43mnrows\u001b[49m\u001b[43m)\u001b[49m\n",
      "File \u001b[0;32m~/Documents/GitHub_polinacsv/detecting-phishing-URLs/venv/lib/python3.8/site-packages/pandas/io/parsers/readers.py:1704\u001b[0m, in \u001b[0;36mTextFileReader.read\u001b[0;34m(self, nrows)\u001b[0m\n\u001b[1;32m   1697\u001b[0m nrows \u001b[38;5;241m=\u001b[39m validate_integer(\u001b[38;5;124m\"\u001b[39m\u001b[38;5;124mnrows\u001b[39m\u001b[38;5;124m\"\u001b[39m, nrows)\n\u001b[1;32m   1698\u001b[0m \u001b[38;5;28;01mtry\u001b[39;00m:\n\u001b[1;32m   1699\u001b[0m     \u001b[38;5;66;03m# error: \"ParserBase\" has no attribute \"read\"\u001b[39;00m\n\u001b[1;32m   1700\u001b[0m     (\n\u001b[1;32m   1701\u001b[0m         index,\n\u001b[1;32m   1702\u001b[0m         columns,\n\u001b[1;32m   1703\u001b[0m         col_dict,\n\u001b[0;32m-> 1704\u001b[0m     ) \u001b[38;5;241m=\u001b[39m \u001b[38;5;28;43mself\u001b[39;49m\u001b[38;5;241;43m.\u001b[39;49m\u001b[43m_engine\u001b[49m\u001b[38;5;241;43m.\u001b[39;49m\u001b[43mread\u001b[49m\u001b[43m(\u001b[49m\u001b[43m  \u001b[49m\u001b[38;5;66;43;03m# type: ignore[attr-defined]\u001b[39;49;00m\n\u001b[1;32m   1705\u001b[0m \u001b[43m        \u001b[49m\u001b[43mnrows\u001b[49m\n\u001b[1;32m   1706\u001b[0m \u001b[43m    \u001b[49m\u001b[43m)\u001b[49m\n\u001b[1;32m   1707\u001b[0m \u001b[38;5;28;01mexcept\u001b[39;00m \u001b[38;5;167;01mException\u001b[39;00m:\n\u001b[1;32m   1708\u001b[0m     \u001b[38;5;28mself\u001b[39m\u001b[38;5;241m.\u001b[39mclose()\n",
      "File \u001b[0;32m~/Documents/GitHub_polinacsv/detecting-phishing-URLs/venv/lib/python3.8/site-packages/pandas/io/parsers/c_parser_wrapper.py:234\u001b[0m, in \u001b[0;36mCParserWrapper.read\u001b[0;34m(self, nrows)\u001b[0m\n\u001b[1;32m    232\u001b[0m \u001b[38;5;28;01mtry\u001b[39;00m:\n\u001b[1;32m    233\u001b[0m     \u001b[38;5;28;01mif\u001b[39;00m \u001b[38;5;28mself\u001b[39m\u001b[38;5;241m.\u001b[39mlow_memory:\n\u001b[0;32m--> 234\u001b[0m         chunks \u001b[38;5;241m=\u001b[39m \u001b[38;5;28;43mself\u001b[39;49m\u001b[38;5;241;43m.\u001b[39;49m\u001b[43m_reader\u001b[49m\u001b[38;5;241;43m.\u001b[39;49m\u001b[43mread_low_memory\u001b[49m\u001b[43m(\u001b[49m\u001b[43mnrows\u001b[49m\u001b[43m)\u001b[49m\n\u001b[1;32m    235\u001b[0m         \u001b[38;5;66;03m# destructive to chunks\u001b[39;00m\n\u001b[1;32m    236\u001b[0m         data \u001b[38;5;241m=\u001b[39m _concatenate_chunks(chunks)\n",
      "\u001b[0;31mKeyboardInterrupt\u001b[0m: "
     ]
    }
   ],
   "source": [
    "# Load the Alexa domain list\n",
    "alexa_df = load_alexa_domains(\n",
    "    data_dir='../data',\n",
    "    filename='alexa_domains_1M.txt'\n",
    ")\n",
    "\n",
    "alexa_df.head()\n"
   ]
  },
  {
   "cell_type": "markdown",
   "id": "130bfd80",
   "metadata": {},
   "source": [
    "## Feature engineering"
   ]
  },
  {
   "cell_type": "markdown",
   "id": "cd6f0fa8",
   "metadata": {},
   "source": [
    "### Alexa-based features\n",
    "\n",
    "We use the Alexa Top 1M domain list to generate two features that indicate how globally popular or common a domain is:\n",
    "\n",
    "- **`is_in_alexa`**: A binary flag indicating whether the main-level domain (`mld_ps`) of the URL is in the Alexa Top 1M list (1 = yes, 0 = no).\n",
    "- **`ranking`**: The popularity rank of the domain (1 = most popular). If the domain is not in Alexa, we impute it with 1,000,001 - just outside the Top 1M.\n",
    "\n",
    "These features are based on the assumption that phishing URLs are less likely to use popular or trusted domains.\n"
   ]
  },
  {
   "cell_type": "code",
   "execution_count": null,
   "id": "739f8f32",
   "metadata": {},
   "outputs": [
    {
     "data": {
      "application/vnd.microsoft.datawrangler.viewer.v0+json": {
       "columns": [
        {
         "name": "index",
         "rawType": "int64",
         "type": "integer"
        },
        {
         "name": "url",
         "rawType": "object",
         "type": "string"
        },
        {
         "name": "mld_ps",
         "rawType": "object",
         "type": "string"
        },
        {
         "name": "is_in_alexa",
         "rawType": "float64",
         "type": "float"
        },
        {
         "name": "ranking",
         "rawType": "float64",
         "type": "float"
        }
       ],
       "ref": "5215f01f-266f-4fc4-b1d0-2e2f398fa4d1",
       "rows": [
        [
         "0",
         "nobell.it/70ffb52d079109dca5664cce6f317373782/login.SkyPe.com/en/cgi-bin/verification/login/70ffb52d079109dca5664cce6f317373/index.php?cmd=_profile-ach&outdated_page_tmpl=p/gen/failed-to-load&nav=0.5.1&login_access=1322408526",
         "nobell.it",
         "0.0",
         "1000001.0"
        ],
        [
         "1",
         "www.dghjdgf.com/paypal.co.uk/cycgi-bin/webscrcmd=_home-customer&nav=1/loading.php",
         "dghjdgf.com",
         "0.0",
         "1000001.0"
        ],
        [
         "2",
         "serviciosbys.com/paypal.cgi.bin.get-into.herf.secure.dispatch35463256rzr321654641dsf654321874/href/href/href/secure/center/update/limit/seccure/4d7a1ff5c55825a2e632a679c2fd5353/",
         "serviciosbys.com",
         "0.0",
         "1000001.0"
        ],
        [
         "3",
         "mail.printakid.com/www.online.americanexpress.com/index.html",
         "printakid.com",
         "0.0",
         "1000001.0"
        ],
        [
         "4",
         "thewhiskeydregs.com/wp-content/themes/widescreen/includes/temp/promocoessmiles/?84784787824HDJNDJDSJSHD//2724782784/",
         "thewhiskeydregs.com",
         "0.0",
         "1000001.0"
        ],
        [
         "5",
         "smilesvoegol.servebbs.org/voegol.php",
         "servebbs.org",
         "0.0",
         "1000001.0"
        ],
        [
         "6",
         "premierpaymentprocessing.com/includes/boleto-2via-07-2012.php",
         "premierpaymentprocessing.com",
         "0.0",
         "1000001.0"
        ],
        [
         "7",
         "myxxxcollection.com/v1/js/jih321/bpd.com.do/do/l.popular.php",
         "myxxxcollection.com",
         "0.0",
         "1000001.0"
        ],
        [
         "8",
         "super1000.info/docs",
         "super1000.info",
         "0.0",
         "1000001.0"
        ],
        [
         "9",
         "horizonsgallery.com/js/bin/ssl1/_id/www.paypal.com/fr/cgi-bin/webscr/cmd=_registration-run/login.php?cmd=_login-run&amp;dispatch=1471c4bdb044ae2be9e2fc3ec514b88b1471c4bdb044ae2be9e2fc3ec514b88b",
         "horizonsgallery.com",
         "0.0",
         "1000001.0"
        ],
        [
         "10",
         "phlebolog.com.ua/libraries/joomla/results.php",
         "phlebolog.com.ua",
         "0.0",
         "1000001.0"
        ],
        [
         "11",
         "docs.google.com/spreadsheet/viewform?formkey=dE5rVEdSV2pBdkpSRy11V3o2eDdwbnc6MQ",
         "google.com",
         "1.0",
         "1.0"
        ],
        [
         "12",
         "www.coincoele.com.br/Scripts/smiles/?pt-br/Paginas/default.aspx",
         "coincoele.com.br",
         "0.0",
         "1000001.0"
        ],
        [
         "13",
         "www.henkdeinumboomkwekerij.nl/language/pdf_fonts/smiles.php",
         "henkdeinumboomkwekerij.nl",
         "0.0",
         "1000001.0"
        ],
        [
         "14",
         "perfectsolutionofall.net/wp-content/themes/twentyten/wiresource/",
         "perfectsolutionofall.net",
         "0.0",
         "1000001.0"
        ],
        [
         "15",
         "lingshc.com/old_aol.1.3/?Login=&amp;Lis=10&amp;LigertID=1993745&amp;us=1",
         "lingshc.com",
         "0.0",
         "1000001.0"
        ],
        [
         "16",
         "anonymeidentity.net/remax./remax.htm",
         "anonymeidentity.net",
         "0.0",
         "1000001.0"
        ],
        [
         "17",
         "dutchweb.gtphost.com/zimbra/exch/owa/uleth/index.html",
         "gtphost.com",
         "0.0",
         "1000001.0"
        ],
        [
         "18",
         "www.avedeoiro.com/site/plugins/chase/",
         "avedeoiro.com",
         "0.0",
         "1000001.0"
        ],
        [
         "19",
         "asladconcentration.com/paplkuk1/webscrcmd=_home-customer&nav=1/",
         "asladconcentration.com",
         "0.0",
         "1000001.0"
        ],
        [
         "20",
         "www.regaranch.info/grafika/file/2012/atualizacao/www.itau.com.br/",
         "regaranch.info",
         "0.0",
         "1000001.0"
        ],
        [
         "21",
         "optimistic-pessimism.com/aoluserupdatealert.info.htm",
         "optimistic-pessimism.com",
         "0.0",
         "1000001.0"
        ],
        [
         "22",
         "mercadolivre.com.br.premiosfidelidade2012.com.br/confirmar/",
         "premiosfidelidade2012.com.br",
         "0.0",
         "1000001.0"
        ],
        [
         "23",
         "www.everythinggoingon.net/~gpeveryt/home/Email/",
         "everythinggoingon.net",
         "0.0",
         "1000001.0"
        ],
        [
         "24",
         "mercadolivre.com.br.premiosfidelidade2012.com.br/",
         "premiosfidelidade2012.com.br",
         "0.0",
         "1000001.0"
        ],
        [
         "25",
         "www.revitolcream.org/wp-content/plugins/all-in-one-seo-pack/rex/secure-code17/security/",
         "revitolcream.org",
         "0.0",
         "1000001.0"
        ],
        [
         "26",
         "jameshowardmusic.com/wp-content/themes/widescreen/includes/cache/bbnew/bb.php",
         "jameshowardmusic.com",
         "0.0",
         "1000001.0"
        ],
        [
         "27",
         "xini.eu/00Qe",
         "xini.eu",
         "0.0",
         "1000001.0"
        ],
        [
         "28",
         "myxxxcollection.com/v1/js/555klisdr/bpd.com.do/do/l.popular.php",
         "myxxxcollection.com",
         "0.0",
         "1000001.0"
        ],
        [
         "29",
         "paypal.com.cgi.bin.webscr.cmd.login.submit.dispatch.5885d80a13c03faee8dcbcd55a50598f04d34b4bf5tt1.mediareso.com/secure-code90/security/",
         "mediareso.com",
         "0.0",
         "1000001.0"
        ],
        [
         "30",
         "ebayisapidlld.altervista.org/",
         "altervista.org",
         "1.0",
         "858.0"
        ],
        [
         "31",
         "horizonsgallery.com/js/bin/ssl/_id/www.paypal.com/fr/cgi-bin/webscr/cmd=_registration-run/login.php?cmd=_login-run&dispatch=7adb89899b4614aec6715340ae31adce7adb89899b4614aec6715340ae31adce",
         "horizonsgallery.com",
         "0.0",
         "1000001.0"
        ],
        [
         "32",
         "www.revitolcream.org/wp-content/plugins/all-in-one-seo-pack/rex/secure-code5/security/login.php",
         "revitolcream.org",
         "0.0",
         "1000001.0"
        ],
        [
         "33",
         "sontemeda.altervista.org/paypinoko/paypinoko/procesing.php",
         "altervista.org",
         "1.0",
         "858.0"
        ],
        [
         "34",
         "promusic.co/components/interbank.com/",
         "promusic.co",
         "0.0",
         "1000001.0"
        ],
        [
         "35",
         "uvb.lg.ua/templates/a216/.PayPaI/e9d83d4fd35ff9d702196ab514573999/",
         "uvb.lg.ua",
         "0.0",
         "1000001.0"
        ],
        [
         "36",
         "docs.google.com/a/unmsm.edu.pe/spreadsheet/viewform?formkey=dEZoOXQwTzFkaUJCRTdhVlA3cTAyV1E6MQ",
         "google.com",
         "1.0",
         "1.0"
        ],
        [
         "37",
         "remax.com.behinehsazerooyesh.com/remax/index.htm",
         "behinehsazerooyesh.com",
         "0.0",
         "1000001.0"
        ],
        [
         "38",
         "www.aclaydance.com/ncpf.php",
         "aclaydance.com",
         "0.0",
         "1000001.0"
        ],
        [
         "39",
         "phamxuanlinh.tk/secure-code8/security/login.php",
         "phamxuanlinh.tk",
         "0.0",
         "1000001.0"
        ],
        [
         "40",
         "stthomasedu.ucoz.ua/microsoft.htm",
         "ucoz.ua",
         "0.0",
         "1000001.0"
        ],
        [
         "41",
         "www.procedimentotamfidelidade.com/regulamento/new/processo/atualiza/sacfidelidade/id=1714/",
         "procedimentotamfidelidade.com",
         "0.0",
         "1000001.0"
        ],
        [
         "42",
         "paypal.com.us.cgi.bin.webscr.cmd.login.submit.bx3digitallp.com/Review/3a3e3c4dba5e5cc4407a5694adf1aa8e/",
         "bx3digitallp.com",
         "0.0",
         "1000001.0"
        ],
        [
         "43",
         "tinyurl.com/bswqloj",
         "tinyurl.com",
         "1.0",
         "1456.0"
        ],
        [
         "44",
         "users11.jabry.com/blopp/Aolupdate.htm",
         "jabry.com",
         "0.0",
         "1000001.0"
        ],
        [
         "45",
         "tad.ly/BUpQLx",
         "tad.ly",
         "0.0",
         "1000001.0"
        ],
        [
         "46",
         "professionalcrapsplayer.com/upgrade/logins/Trulia/index.htm",
         "professionalcrapsplayer.com",
         "0.0",
         "1000001.0"
        ],
        [
         "47",
         "westerncentermuseum.org/plugins/tmp/sp.php",
         "westerncentermuseum.org",
         "0.0",
         "1000001.0"
        ],
        [
         "48",
         "cardpromocion2012.com.br/vaidevisa/asp/conta/participe/autentica/autentica.php",
         "cardpromocion2012.com.br",
         "0.0",
         "1000001.0"
        ],
        [
         "49",
         "portalsalinas.com.br/modules/mod_acepolls/spam.php",
         "portalsalinas.com.br",
         "0.0",
         "1000001.0"
        ]
       ],
       "shape": {
        "columns": 4,
        "rows": 50
       }
      },
      "text/html": [
       "<div>\n",
       "<style scoped>\n",
       "    .dataframe tbody tr th:only-of-type {\n",
       "        vertical-align: middle;\n",
       "    }\n",
       "\n",
       "    .dataframe tbody tr th {\n",
       "        vertical-align: top;\n",
       "    }\n",
       "\n",
       "    .dataframe thead th {\n",
       "        text-align: right;\n",
       "    }\n",
       "</style>\n",
       "<table border=\"1\" class=\"dataframe\">\n",
       "  <thead>\n",
       "    <tr style=\"text-align: right;\">\n",
       "      <th></th>\n",
       "      <th>url</th>\n",
       "      <th>mld_ps</th>\n",
       "      <th>is_in_alexa</th>\n",
       "      <th>ranking</th>\n",
       "    </tr>\n",
       "  </thead>\n",
       "  <tbody>\n",
       "    <tr>\n",
       "      <th>0</th>\n",
       "      <td>nobell.it/70ffb52d079109dca5664cce6f317373782/...</td>\n",
       "      <td>nobell.it</td>\n",
       "      <td>0.0</td>\n",
       "      <td>1000001.0</td>\n",
       "    </tr>\n",
       "    <tr>\n",
       "      <th>1</th>\n",
       "      <td>www.dghjdgf.com/paypal.co.uk/cycgi-bin/webscrc...</td>\n",
       "      <td>dghjdgf.com</td>\n",
       "      <td>0.0</td>\n",
       "      <td>1000001.0</td>\n",
       "    </tr>\n",
       "    <tr>\n",
       "      <th>2</th>\n",
       "      <td>serviciosbys.com/paypal.cgi.bin.get-into.herf....</td>\n",
       "      <td>serviciosbys.com</td>\n",
       "      <td>0.0</td>\n",
       "      <td>1000001.0</td>\n",
       "    </tr>\n",
       "    <tr>\n",
       "      <th>3</th>\n",
       "      <td>mail.printakid.com/www.online.americanexpress....</td>\n",
       "      <td>printakid.com</td>\n",
       "      <td>0.0</td>\n",
       "      <td>1000001.0</td>\n",
       "    </tr>\n",
       "    <tr>\n",
       "      <th>4</th>\n",
       "      <td>thewhiskeydregs.com/wp-content/themes/widescre...</td>\n",
       "      <td>thewhiskeydregs.com</td>\n",
       "      <td>0.0</td>\n",
       "      <td>1000001.0</td>\n",
       "    </tr>\n",
       "    <tr>\n",
       "      <th>5</th>\n",
       "      <td>smilesvoegol.servebbs.org/voegol.php</td>\n",
       "      <td>servebbs.org</td>\n",
       "      <td>0.0</td>\n",
       "      <td>1000001.0</td>\n",
       "    </tr>\n",
       "    <tr>\n",
       "      <th>6</th>\n",
       "      <td>premierpaymentprocessing.com/includes/boleto-2...</td>\n",
       "      <td>premierpaymentprocessing.com</td>\n",
       "      <td>0.0</td>\n",
       "      <td>1000001.0</td>\n",
       "    </tr>\n",
       "    <tr>\n",
       "      <th>7</th>\n",
       "      <td>myxxxcollection.com/v1/js/jih321/bpd.com.do/do...</td>\n",
       "      <td>myxxxcollection.com</td>\n",
       "      <td>0.0</td>\n",
       "      <td>1000001.0</td>\n",
       "    </tr>\n",
       "    <tr>\n",
       "      <th>8</th>\n",
       "      <td>super1000.info/docs</td>\n",
       "      <td>super1000.info</td>\n",
       "      <td>0.0</td>\n",
       "      <td>1000001.0</td>\n",
       "    </tr>\n",
       "    <tr>\n",
       "      <th>9</th>\n",
       "      <td>horizonsgallery.com/js/bin/ssl1/_id/www.paypal...</td>\n",
       "      <td>horizonsgallery.com</td>\n",
       "      <td>0.0</td>\n",
       "      <td>1000001.0</td>\n",
       "    </tr>\n",
       "    <tr>\n",
       "      <th>10</th>\n",
       "      <td>phlebolog.com.ua/libraries/joomla/results.php</td>\n",
       "      <td>phlebolog.com.ua</td>\n",
       "      <td>0.0</td>\n",
       "      <td>1000001.0</td>\n",
       "    </tr>\n",
       "    <tr>\n",
       "      <th>11</th>\n",
       "      <td>docs.google.com/spreadsheet/viewform?formkey=d...</td>\n",
       "      <td>google.com</td>\n",
       "      <td>1.0</td>\n",
       "      <td>1.0</td>\n",
       "    </tr>\n",
       "    <tr>\n",
       "      <th>12</th>\n",
       "      <td>www.coincoele.com.br/Scripts/smiles/?pt-br/Pag...</td>\n",
       "      <td>coincoele.com.br</td>\n",
       "      <td>0.0</td>\n",
       "      <td>1000001.0</td>\n",
       "    </tr>\n",
       "    <tr>\n",
       "      <th>13</th>\n",
       "      <td>www.henkdeinumboomkwekerij.nl/language/pdf_fon...</td>\n",
       "      <td>henkdeinumboomkwekerij.nl</td>\n",
       "      <td>0.0</td>\n",
       "      <td>1000001.0</td>\n",
       "    </tr>\n",
       "    <tr>\n",
       "      <th>14</th>\n",
       "      <td>perfectsolutionofall.net/wp-content/themes/twe...</td>\n",
       "      <td>perfectsolutionofall.net</td>\n",
       "      <td>0.0</td>\n",
       "      <td>1000001.0</td>\n",
       "    </tr>\n",
       "    <tr>\n",
       "      <th>15</th>\n",
       "      <td>lingshc.com/old_aol.1.3/?Login=&amp;amp;Lis=10&amp;amp...</td>\n",
       "      <td>lingshc.com</td>\n",
       "      <td>0.0</td>\n",
       "      <td>1000001.0</td>\n",
       "    </tr>\n",
       "    <tr>\n",
       "      <th>16</th>\n",
       "      <td>anonymeidentity.net/remax./remax.htm</td>\n",
       "      <td>anonymeidentity.net</td>\n",
       "      <td>0.0</td>\n",
       "      <td>1000001.0</td>\n",
       "    </tr>\n",
       "    <tr>\n",
       "      <th>17</th>\n",
       "      <td>dutchweb.gtphost.com/zimbra/exch/owa/uleth/ind...</td>\n",
       "      <td>gtphost.com</td>\n",
       "      <td>0.0</td>\n",
       "      <td>1000001.0</td>\n",
       "    </tr>\n",
       "    <tr>\n",
       "      <th>18</th>\n",
       "      <td>www.avedeoiro.com/site/plugins/chase/</td>\n",
       "      <td>avedeoiro.com</td>\n",
       "      <td>0.0</td>\n",
       "      <td>1000001.0</td>\n",
       "    </tr>\n",
       "    <tr>\n",
       "      <th>19</th>\n",
       "      <td>asladconcentration.com/paplkuk1/webscrcmd=_hom...</td>\n",
       "      <td>asladconcentration.com</td>\n",
       "      <td>0.0</td>\n",
       "      <td>1000001.0</td>\n",
       "    </tr>\n",
       "    <tr>\n",
       "      <th>20</th>\n",
       "      <td>www.regaranch.info/grafika/file/2012/atualizac...</td>\n",
       "      <td>regaranch.info</td>\n",
       "      <td>0.0</td>\n",
       "      <td>1000001.0</td>\n",
       "    </tr>\n",
       "    <tr>\n",
       "      <th>21</th>\n",
       "      <td>optimistic-pessimism.com/aoluserupdatealert.in...</td>\n",
       "      <td>optimistic-pessimism.com</td>\n",
       "      <td>0.0</td>\n",
       "      <td>1000001.0</td>\n",
       "    </tr>\n",
       "    <tr>\n",
       "      <th>22</th>\n",
       "      <td>mercadolivre.com.br.premiosfidelidade2012.com....</td>\n",
       "      <td>premiosfidelidade2012.com.br</td>\n",
       "      <td>0.0</td>\n",
       "      <td>1000001.0</td>\n",
       "    </tr>\n",
       "    <tr>\n",
       "      <th>23</th>\n",
       "      <td>www.everythinggoingon.net/~gpeveryt/home/Email/</td>\n",
       "      <td>everythinggoingon.net</td>\n",
       "      <td>0.0</td>\n",
       "      <td>1000001.0</td>\n",
       "    </tr>\n",
       "    <tr>\n",
       "      <th>24</th>\n",
       "      <td>mercadolivre.com.br.premiosfidelidade2012.com.br/</td>\n",
       "      <td>premiosfidelidade2012.com.br</td>\n",
       "      <td>0.0</td>\n",
       "      <td>1000001.0</td>\n",
       "    </tr>\n",
       "    <tr>\n",
       "      <th>25</th>\n",
       "      <td>www.revitolcream.org/wp-content/plugins/all-in...</td>\n",
       "      <td>revitolcream.org</td>\n",
       "      <td>0.0</td>\n",
       "      <td>1000001.0</td>\n",
       "    </tr>\n",
       "    <tr>\n",
       "      <th>26</th>\n",
       "      <td>jameshowardmusic.com/wp-content/themes/widescr...</td>\n",
       "      <td>jameshowardmusic.com</td>\n",
       "      <td>0.0</td>\n",
       "      <td>1000001.0</td>\n",
       "    </tr>\n",
       "    <tr>\n",
       "      <th>27</th>\n",
       "      <td>xini.eu/00Qe</td>\n",
       "      <td>xini.eu</td>\n",
       "      <td>0.0</td>\n",
       "      <td>1000001.0</td>\n",
       "    </tr>\n",
       "    <tr>\n",
       "      <th>28</th>\n",
       "      <td>myxxxcollection.com/v1/js/555klisdr/bpd.com.do...</td>\n",
       "      <td>myxxxcollection.com</td>\n",
       "      <td>0.0</td>\n",
       "      <td>1000001.0</td>\n",
       "    </tr>\n",
       "    <tr>\n",
       "      <th>29</th>\n",
       "      <td>paypal.com.cgi.bin.webscr.cmd.login.submit.dis...</td>\n",
       "      <td>mediareso.com</td>\n",
       "      <td>0.0</td>\n",
       "      <td>1000001.0</td>\n",
       "    </tr>\n",
       "    <tr>\n",
       "      <th>30</th>\n",
       "      <td>ebayisapidlld.altervista.org/</td>\n",
       "      <td>altervista.org</td>\n",
       "      <td>1.0</td>\n",
       "      <td>858.0</td>\n",
       "    </tr>\n",
       "    <tr>\n",
       "      <th>31</th>\n",
       "      <td>horizonsgallery.com/js/bin/ssl/_id/www.paypal....</td>\n",
       "      <td>horizonsgallery.com</td>\n",
       "      <td>0.0</td>\n",
       "      <td>1000001.0</td>\n",
       "    </tr>\n",
       "    <tr>\n",
       "      <th>32</th>\n",
       "      <td>www.revitolcream.org/wp-content/plugins/all-in...</td>\n",
       "      <td>revitolcream.org</td>\n",
       "      <td>0.0</td>\n",
       "      <td>1000001.0</td>\n",
       "    </tr>\n",
       "    <tr>\n",
       "      <th>33</th>\n",
       "      <td>sontemeda.altervista.org/paypinoko/paypinoko/p...</td>\n",
       "      <td>altervista.org</td>\n",
       "      <td>1.0</td>\n",
       "      <td>858.0</td>\n",
       "    </tr>\n",
       "    <tr>\n",
       "      <th>34</th>\n",
       "      <td>promusic.co/components/interbank.com/</td>\n",
       "      <td>promusic.co</td>\n",
       "      <td>0.0</td>\n",
       "      <td>1000001.0</td>\n",
       "    </tr>\n",
       "    <tr>\n",
       "      <th>35</th>\n",
       "      <td>uvb.lg.ua/templates/a216/.PayPaI/e9d83d4fd35ff...</td>\n",
       "      <td>uvb.lg.ua</td>\n",
       "      <td>0.0</td>\n",
       "      <td>1000001.0</td>\n",
       "    </tr>\n",
       "    <tr>\n",
       "      <th>36</th>\n",
       "      <td>docs.google.com/a/unmsm.edu.pe/spreadsheet/vie...</td>\n",
       "      <td>google.com</td>\n",
       "      <td>1.0</td>\n",
       "      <td>1.0</td>\n",
       "    </tr>\n",
       "    <tr>\n",
       "      <th>37</th>\n",
       "      <td>remax.com.behinehsazerooyesh.com/remax/index.htm</td>\n",
       "      <td>behinehsazerooyesh.com</td>\n",
       "      <td>0.0</td>\n",
       "      <td>1000001.0</td>\n",
       "    </tr>\n",
       "    <tr>\n",
       "      <th>38</th>\n",
       "      <td>www.aclaydance.com/ncpf.php</td>\n",
       "      <td>aclaydance.com</td>\n",
       "      <td>0.0</td>\n",
       "      <td>1000001.0</td>\n",
       "    </tr>\n",
       "    <tr>\n",
       "      <th>39</th>\n",
       "      <td>phamxuanlinh.tk/secure-code8/security/login.php</td>\n",
       "      <td>phamxuanlinh.tk</td>\n",
       "      <td>0.0</td>\n",
       "      <td>1000001.0</td>\n",
       "    </tr>\n",
       "    <tr>\n",
       "      <th>40</th>\n",
       "      <td>stthomasedu.ucoz.ua/microsoft.htm</td>\n",
       "      <td>ucoz.ua</td>\n",
       "      <td>0.0</td>\n",
       "      <td>1000001.0</td>\n",
       "    </tr>\n",
       "    <tr>\n",
       "      <th>41</th>\n",
       "      <td>www.procedimentotamfidelidade.com/regulamento/...</td>\n",
       "      <td>procedimentotamfidelidade.com</td>\n",
       "      <td>0.0</td>\n",
       "      <td>1000001.0</td>\n",
       "    </tr>\n",
       "    <tr>\n",
       "      <th>42</th>\n",
       "      <td>paypal.com.us.cgi.bin.webscr.cmd.login.submit....</td>\n",
       "      <td>bx3digitallp.com</td>\n",
       "      <td>0.0</td>\n",
       "      <td>1000001.0</td>\n",
       "    </tr>\n",
       "    <tr>\n",
       "      <th>43</th>\n",
       "      <td>tinyurl.com/bswqloj</td>\n",
       "      <td>tinyurl.com</td>\n",
       "      <td>1.0</td>\n",
       "      <td>1456.0</td>\n",
       "    </tr>\n",
       "    <tr>\n",
       "      <th>44</th>\n",
       "      <td>users11.jabry.com/blopp/Aolupdate.htm</td>\n",
       "      <td>jabry.com</td>\n",
       "      <td>0.0</td>\n",
       "      <td>1000001.0</td>\n",
       "    </tr>\n",
       "    <tr>\n",
       "      <th>45</th>\n",
       "      <td>tad.ly/BUpQLx</td>\n",
       "      <td>tad.ly</td>\n",
       "      <td>0.0</td>\n",
       "      <td>1000001.0</td>\n",
       "    </tr>\n",
       "    <tr>\n",
       "      <th>46</th>\n",
       "      <td>professionalcrapsplayer.com/upgrade/logins/Tru...</td>\n",
       "      <td>professionalcrapsplayer.com</td>\n",
       "      <td>0.0</td>\n",
       "      <td>1000001.0</td>\n",
       "    </tr>\n",
       "    <tr>\n",
       "      <th>47</th>\n",
       "      <td>westerncentermuseum.org/plugins/tmp/sp.php</td>\n",
       "      <td>westerncentermuseum.org</td>\n",
       "      <td>0.0</td>\n",
       "      <td>1000001.0</td>\n",
       "    </tr>\n",
       "    <tr>\n",
       "      <th>48</th>\n",
       "      <td>cardpromocion2012.com.br/vaidevisa/asp/conta/p...</td>\n",
       "      <td>cardpromocion2012.com.br</td>\n",
       "      <td>0.0</td>\n",
       "      <td>1000001.0</td>\n",
       "    </tr>\n",
       "    <tr>\n",
       "      <th>49</th>\n",
       "      <td>portalsalinas.com.br/modules/mod_acepolls/spam...</td>\n",
       "      <td>portalsalinas.com.br</td>\n",
       "      <td>0.0</td>\n",
       "      <td>1000001.0</td>\n",
       "    </tr>\n",
       "  </tbody>\n",
       "</table>\n",
       "</div>"
      ],
      "text/plain": [
       "                                                  url  \\\n",
       "0   nobell.it/70ffb52d079109dca5664cce6f317373782/...   \n",
       "1   www.dghjdgf.com/paypal.co.uk/cycgi-bin/webscrc...   \n",
       "2   serviciosbys.com/paypal.cgi.bin.get-into.herf....   \n",
       "3   mail.printakid.com/www.online.americanexpress....   \n",
       "4   thewhiskeydregs.com/wp-content/themes/widescre...   \n",
       "5                smilesvoegol.servebbs.org/voegol.php   \n",
       "6   premierpaymentprocessing.com/includes/boleto-2...   \n",
       "7   myxxxcollection.com/v1/js/jih321/bpd.com.do/do...   \n",
       "8                                 super1000.info/docs   \n",
       "9   horizonsgallery.com/js/bin/ssl1/_id/www.paypal...   \n",
       "10      phlebolog.com.ua/libraries/joomla/results.php   \n",
       "11  docs.google.com/spreadsheet/viewform?formkey=d...   \n",
       "12  www.coincoele.com.br/Scripts/smiles/?pt-br/Pag...   \n",
       "13  www.henkdeinumboomkwekerij.nl/language/pdf_fon...   \n",
       "14  perfectsolutionofall.net/wp-content/themes/twe...   \n",
       "15  lingshc.com/old_aol.1.3/?Login=&amp;Lis=10&amp...   \n",
       "16               anonymeidentity.net/remax./remax.htm   \n",
       "17  dutchweb.gtphost.com/zimbra/exch/owa/uleth/ind...   \n",
       "18              www.avedeoiro.com/site/plugins/chase/   \n",
       "19  asladconcentration.com/paplkuk1/webscrcmd=_hom...   \n",
       "20  www.regaranch.info/grafika/file/2012/atualizac...   \n",
       "21  optimistic-pessimism.com/aoluserupdatealert.in...   \n",
       "22  mercadolivre.com.br.premiosfidelidade2012.com....   \n",
       "23    www.everythinggoingon.net/~gpeveryt/home/Email/   \n",
       "24  mercadolivre.com.br.premiosfidelidade2012.com.br/   \n",
       "25  www.revitolcream.org/wp-content/plugins/all-in...   \n",
       "26  jameshowardmusic.com/wp-content/themes/widescr...   \n",
       "27                                       xini.eu/00Qe   \n",
       "28  myxxxcollection.com/v1/js/555klisdr/bpd.com.do...   \n",
       "29  paypal.com.cgi.bin.webscr.cmd.login.submit.dis...   \n",
       "30                      ebayisapidlld.altervista.org/   \n",
       "31  horizonsgallery.com/js/bin/ssl/_id/www.paypal....   \n",
       "32  www.revitolcream.org/wp-content/plugins/all-in...   \n",
       "33  sontemeda.altervista.org/paypinoko/paypinoko/p...   \n",
       "34              promusic.co/components/interbank.com/   \n",
       "35  uvb.lg.ua/templates/a216/.PayPaI/e9d83d4fd35ff...   \n",
       "36  docs.google.com/a/unmsm.edu.pe/spreadsheet/vie...   \n",
       "37   remax.com.behinehsazerooyesh.com/remax/index.htm   \n",
       "38                        www.aclaydance.com/ncpf.php   \n",
       "39    phamxuanlinh.tk/secure-code8/security/login.php   \n",
       "40                  stthomasedu.ucoz.ua/microsoft.htm   \n",
       "41  www.procedimentotamfidelidade.com/regulamento/...   \n",
       "42  paypal.com.us.cgi.bin.webscr.cmd.login.submit....   \n",
       "43                                tinyurl.com/bswqloj   \n",
       "44              users11.jabry.com/blopp/Aolupdate.htm   \n",
       "45                                      tad.ly/BUpQLx   \n",
       "46  professionalcrapsplayer.com/upgrade/logins/Tru...   \n",
       "47         westerncentermuseum.org/plugins/tmp/sp.php   \n",
       "48  cardpromocion2012.com.br/vaidevisa/asp/conta/p...   \n",
       "49  portalsalinas.com.br/modules/mod_acepolls/spam...   \n",
       "\n",
       "                           mld_ps  is_in_alexa    ranking  \n",
       "0                       nobell.it          0.0  1000001.0  \n",
       "1                     dghjdgf.com          0.0  1000001.0  \n",
       "2                serviciosbys.com          0.0  1000001.0  \n",
       "3                   printakid.com          0.0  1000001.0  \n",
       "4             thewhiskeydregs.com          0.0  1000001.0  \n",
       "5                    servebbs.org          0.0  1000001.0  \n",
       "6    premierpaymentprocessing.com          0.0  1000001.0  \n",
       "7             myxxxcollection.com          0.0  1000001.0  \n",
       "8                  super1000.info          0.0  1000001.0  \n",
       "9             horizonsgallery.com          0.0  1000001.0  \n",
       "10               phlebolog.com.ua          0.0  1000001.0  \n",
       "11                     google.com          1.0        1.0  \n",
       "12               coincoele.com.br          0.0  1000001.0  \n",
       "13      henkdeinumboomkwekerij.nl          0.0  1000001.0  \n",
       "14       perfectsolutionofall.net          0.0  1000001.0  \n",
       "15                    lingshc.com          0.0  1000001.0  \n",
       "16            anonymeidentity.net          0.0  1000001.0  \n",
       "17                    gtphost.com          0.0  1000001.0  \n",
       "18                  avedeoiro.com          0.0  1000001.0  \n",
       "19         asladconcentration.com          0.0  1000001.0  \n",
       "20                 regaranch.info          0.0  1000001.0  \n",
       "21       optimistic-pessimism.com          0.0  1000001.0  \n",
       "22   premiosfidelidade2012.com.br          0.0  1000001.0  \n",
       "23          everythinggoingon.net          0.0  1000001.0  \n",
       "24   premiosfidelidade2012.com.br          0.0  1000001.0  \n",
       "25               revitolcream.org          0.0  1000001.0  \n",
       "26           jameshowardmusic.com          0.0  1000001.0  \n",
       "27                        xini.eu          0.0  1000001.0  \n",
       "28            myxxxcollection.com          0.0  1000001.0  \n",
       "29                  mediareso.com          0.0  1000001.0  \n",
       "30                 altervista.org          1.0      858.0  \n",
       "31            horizonsgallery.com          0.0  1000001.0  \n",
       "32               revitolcream.org          0.0  1000001.0  \n",
       "33                 altervista.org          1.0      858.0  \n",
       "34                    promusic.co          0.0  1000001.0  \n",
       "35                      uvb.lg.ua          0.0  1000001.0  \n",
       "36                     google.com          1.0        1.0  \n",
       "37         behinehsazerooyesh.com          0.0  1000001.0  \n",
       "38                 aclaydance.com          0.0  1000001.0  \n",
       "39                phamxuanlinh.tk          0.0  1000001.0  \n",
       "40                        ucoz.ua          0.0  1000001.0  \n",
       "41  procedimentotamfidelidade.com          0.0  1000001.0  \n",
       "42               bx3digitallp.com          0.0  1000001.0  \n",
       "43                    tinyurl.com          1.0     1456.0  \n",
       "44                      jabry.com          0.0  1000001.0  \n",
       "45                         tad.ly          0.0  1000001.0  \n",
       "46    professionalcrapsplayer.com          0.0  1000001.0  \n",
       "47        westerncentermuseum.org          0.0  1000001.0  \n",
       "48       cardpromocion2012.com.br          0.0  1000001.0  \n",
       "49           portalsalinas.com.br          0.0  1000001.0  "
      ]
     },
     "execution_count": 6,
     "metadata": {},
     "output_type": "execute_result"
    }
   ],
   "source": [
    "# Add mld_ps column\n",
    "df = add_mld_feature(df)\n",
    "\n",
    "# Add is_in_alexa and ranking features\n",
    "df = add_alexa_rank_feature(df, alexa_df)\n",
    "\n",
    "# Preview\n",
    "df[['url', 'mld_ps', 'is_in_alexa', 'ranking']].head(50)\n"
   ]
  },
  {
   "cell_type": "code",
   "execution_count": null,
   "id": "6218820a",
   "metadata": {},
   "outputs": [
    {
     "data": {
      "application/vnd.microsoft.datawrangler.viewer.v0+json": {
       "columns": [
        {
         "name": "index",
         "rawType": "object",
         "type": "string"
        },
        {
         "name": "is_in_alexa",
         "rawType": "float64",
         "type": "float"
        },
        {
         "name": "ranking",
         "rawType": "float64",
         "type": "float"
        }
       ],
       "ref": "d69d4c88-36b8-4855-b9d0-0821b7a21868",
       "rows": [
        [
         "count",
         "95821.0",
         "95821.0"
        ],
        [
         "mean",
         "0.3935254276202503",
         "654171.8201646821"
        ],
        [
         "std",
         "0.4885341914148241",
         "450252.0303786306"
        ],
        [
         "min",
         "0.0",
         "1.0"
        ],
        [
         "25%",
         "0.0",
         "35998.0"
        ],
        [
         "50%",
         "0.0",
         "1000001.0"
        ],
        [
         "75%",
         "1.0",
         "1000001.0"
        ],
        [
         "max",
         "1.0",
         "1000001.0"
        ]
       ],
       "shape": {
        "columns": 2,
        "rows": 8
       }
      },
      "text/html": [
       "<div>\n",
       "<style scoped>\n",
       "    .dataframe tbody tr th:only-of-type {\n",
       "        vertical-align: middle;\n",
       "    }\n",
       "\n",
       "    .dataframe tbody tr th {\n",
       "        vertical-align: top;\n",
       "    }\n",
       "\n",
       "    .dataframe thead th {\n",
       "        text-align: right;\n",
       "    }\n",
       "</style>\n",
       "<table border=\"1\" class=\"dataframe\">\n",
       "  <thead>\n",
       "    <tr style=\"text-align: right;\">\n",
       "      <th></th>\n",
       "      <th>is_in_alexa</th>\n",
       "      <th>ranking</th>\n",
       "    </tr>\n",
       "  </thead>\n",
       "  <tbody>\n",
       "    <tr>\n",
       "      <th>count</th>\n",
       "      <td>95821.000000</td>\n",
       "      <td>9.582100e+04</td>\n",
       "    </tr>\n",
       "    <tr>\n",
       "      <th>mean</th>\n",
       "      <td>0.393525</td>\n",
       "      <td>6.541718e+05</td>\n",
       "    </tr>\n",
       "    <tr>\n",
       "      <th>std</th>\n",
       "      <td>0.488534</td>\n",
       "      <td>4.502520e+05</td>\n",
       "    </tr>\n",
       "    <tr>\n",
       "      <th>min</th>\n",
       "      <td>0.000000</td>\n",
       "      <td>1.000000e+00</td>\n",
       "    </tr>\n",
       "    <tr>\n",
       "      <th>25%</th>\n",
       "      <td>0.000000</td>\n",
       "      <td>3.599800e+04</td>\n",
       "    </tr>\n",
       "    <tr>\n",
       "      <th>50%</th>\n",
       "      <td>0.000000</td>\n",
       "      <td>1.000001e+06</td>\n",
       "    </tr>\n",
       "    <tr>\n",
       "      <th>75%</th>\n",
       "      <td>1.000000</td>\n",
       "      <td>1.000001e+06</td>\n",
       "    </tr>\n",
       "    <tr>\n",
       "      <th>max</th>\n",
       "      <td>1.000000</td>\n",
       "      <td>1.000001e+06</td>\n",
       "    </tr>\n",
       "  </tbody>\n",
       "</table>\n",
       "</div>"
      ],
      "text/plain": [
       "        is_in_alexa       ranking\n",
       "count  95821.000000  9.582100e+04\n",
       "mean       0.393525  6.541718e+05\n",
       "std        0.488534  4.502520e+05\n",
       "min        0.000000  1.000000e+00\n",
       "25%        0.000000  3.599800e+04\n",
       "50%        0.000000  1.000001e+06\n",
       "75%        1.000000  1.000001e+06\n",
       "max        1.000000  1.000001e+06"
      ]
     },
     "execution_count": 7,
     "metadata": {},
     "output_type": "execute_result"
    }
   ],
   "source": [
    "df[['is_in_alexa', 'ranking']].describe()"
   ]
  },
  {
   "cell_type": "markdown",
   "id": "dad5f395",
   "metadata": {},
   "source": [
    "### Jaccard-based features: measuring token similarity in URLs\n",
    "\n",
    "We introduce two Jaccard similarity features to capture structural overlap between parts of a URL and its main domain:\n",
    "\n",
    "1. **`jaccard_mld_path`**: Measures the overlap of tokens between the main domain (`mld_ps`) and the URL path.\n",
    "   - Example: Comparing `paypal.com` with `/paypal/login` → high similarity.\n",
    "   - Phishing URLs often reuse brand names in the path to mislead users.\n",
    "\n",
    "2. **`jaccard_subdomain_path`**: Measures overlap between the *subdomain* and the path.\n",
    "   - Example: Comparing `accounts.paypal.com` with `/paypal/signin` might show higher overlap.\n",
    "   - Phishing sites may encode target keywords in both subdomains and paths.\n",
    "\n",
    "These features are helpful because benign domains often have meaningful, structured URL paths, while phishing domains tend to reuse brand names inconsistently across subdomains and paths.\n",
    "\n",
    "We compute these similarities using the **Jaccard index**, which compares the intersection and union of token sets. A higher value indicates greater structural overlap.\n",
    "\n",
    "Let’s now generate and explore these features:\n"
   ]
  },
  {
   "cell_type": "code",
   "execution_count": null,
   "id": "af303809",
   "metadata": {},
   "outputs": [
    {
     "data": {
      "application/vnd.microsoft.datawrangler.viewer.v0+json": {
       "columns": [
        {
         "name": "index",
         "rawType": "object",
         "type": "string"
        },
        {
         "name": "jaccard_mld_path",
         "rawType": "float64",
         "type": "float"
        },
        {
         "name": "jaccard_subdomain_path",
         "rawType": "float64",
         "type": "float"
        }
       ],
       "ref": "35231602-e701-406e-a241-b3d8719f7f09",
       "rows": [
        [
         "count",
         "95913.0",
         "95913.0"
        ],
        [
         "mean",
         "0.005718900322503497",
         "0.007234195692722063"
        ],
        [
         "std",
         "0.033786043910596184",
         "0.04315243111128762"
        ],
        [
         "min",
         "0.0",
         "0.0"
        ],
        [
         "25%",
         "0.0",
         "0.0"
        ],
        [
         "50%",
         "0.0",
         "0.0"
        ],
        [
         "75%",
         "0.0",
         "0.0"
        ],
        [
         "max",
         "1.0",
         "1.0"
        ]
       ],
       "shape": {
        "columns": 2,
        "rows": 8
       }
      },
      "text/html": [
       "<div>\n",
       "<style scoped>\n",
       "    .dataframe tbody tr th:only-of-type {\n",
       "        vertical-align: middle;\n",
       "    }\n",
       "\n",
       "    .dataframe tbody tr th {\n",
       "        vertical-align: top;\n",
       "    }\n",
       "\n",
       "    .dataframe thead th {\n",
       "        text-align: right;\n",
       "    }\n",
       "</style>\n",
       "<table border=\"1\" class=\"dataframe\">\n",
       "  <thead>\n",
       "    <tr style=\"text-align: right;\">\n",
       "      <th></th>\n",
       "      <th>jaccard_mld_path</th>\n",
       "      <th>jaccard_subdomain_path</th>\n",
       "    </tr>\n",
       "  </thead>\n",
       "  <tbody>\n",
       "    <tr>\n",
       "      <th>count</th>\n",
       "      <td>95913.000000</td>\n",
       "      <td>95913.000000</td>\n",
       "    </tr>\n",
       "    <tr>\n",
       "      <th>mean</th>\n",
       "      <td>0.005719</td>\n",
       "      <td>0.007234</td>\n",
       "    </tr>\n",
       "    <tr>\n",
       "      <th>std</th>\n",
       "      <td>0.033786</td>\n",
       "      <td>0.043152</td>\n",
       "    </tr>\n",
       "    <tr>\n",
       "      <th>min</th>\n",
       "      <td>0.000000</td>\n",
       "      <td>0.000000</td>\n",
       "    </tr>\n",
       "    <tr>\n",
       "      <th>25%</th>\n",
       "      <td>0.000000</td>\n",
       "      <td>0.000000</td>\n",
       "    </tr>\n",
       "    <tr>\n",
       "      <th>50%</th>\n",
       "      <td>0.000000</td>\n",
       "      <td>0.000000</td>\n",
       "    </tr>\n",
       "    <tr>\n",
       "      <th>75%</th>\n",
       "      <td>0.000000</td>\n",
       "      <td>0.000000</td>\n",
       "    </tr>\n",
       "    <tr>\n",
       "      <th>max</th>\n",
       "      <td>1.000000</td>\n",
       "      <td>1.000000</td>\n",
       "    </tr>\n",
       "  </tbody>\n",
       "</table>\n",
       "</div>"
      ],
      "text/plain": [
       "       jaccard_mld_path  jaccard_subdomain_path\n",
       "count      95913.000000            95913.000000\n",
       "mean           0.005719                0.007234\n",
       "std            0.033786                0.043152\n",
       "min            0.000000                0.000000\n",
       "25%            0.000000                0.000000\n",
       "50%            0.000000                0.000000\n",
       "75%            0.000000                0.000000\n",
       "max            1.000000                1.000000"
      ]
     },
     "execution_count": 8,
     "metadata": {},
     "output_type": "execute_result"
    }
   ],
   "source": [
    "df = extract_jaccard_features(df)\n",
    "df[[\"jaccard_mld_path\", \"jaccard_subdomain_path\"]].describe()"
   ]
  },
  {
   "cell_type": "markdown",
   "id": "8640f9ad",
   "metadata": {},
   "source": [
    "### URL entropy feature\n",
    "\n",
    "To help detect suspicious or phishing URLs, we added a feature called `url_entropy`.\n",
    "\n",
    "Entropy, in this context, refers to **Shannon entropy** — a measure from information theory that quantifies the **randomness** or **unpredictability** of characters in a string.\n",
    "\n",
    "It is calculated using the formula:\n",
    "\n",
    "$$\n",
    "\\text{Entropy}(S) = - \\sum_{c \\in S} p(c) \\log_2 p(c)\n",
    "$$\n",
    "\n",
    "Where:\n",
    "- \\( S \\) is the string (e.g., a URL)\n",
    "- \\( p(c) \\) is the frequency of character \\( c \\) in the string\n",
    "\n",
    "Legitimate URLs tend to be simple, readable, and structured (e.g., `nytimes.com/news`). In contrast, phishing URLs often contain:\n",
    "- Random character sequences\n",
    "- Encoded strings\n",
    "- Obfuscated domains or paths\n",
    "\n",
    "These characteristics increase the entropy of the URL.\n",
    "\n",
    "So in general:\n",
    "- ✅ Lower entropy → more likely legitimate  \n",
    "- ⚠️ Higher entropy → more likely suspicious\n",
    "\n",
    "We compute Shannon entropy on the entire `url`, after ensuring it has a valid scheme (`http` or `https`). This feature (`url_entropy`) can be used directly in modeling as a continuous variable.\n"
   ]
  },
  {
   "cell_type": "code",
   "execution_count": null,
   "id": "1c98b179",
   "metadata": {},
   "outputs": [
    {
     "data": {
      "application/vnd.microsoft.datawrangler.viewer.v0+json": {
       "columns": [
        {
         "name": "index",
         "rawType": "int64",
         "type": "integer"
        },
        {
         "name": "url",
         "rawType": "object",
         "type": "string"
        },
        {
         "name": "url_entropy",
         "rawType": "float64",
         "type": "float"
        }
       ],
       "ref": "33afaa23-fc8c-4d38-9480-4eb8aa153d3d",
       "rows": [
        [
         "0",
         "nobell.it/70ffb52d079109dca5664cce6f317373782/login.SkyPe.com/en/cgi-bin/verification/login/70ffb52d079109dca5664cce6f317373/index.php?cmd=_profile-ach&outdated_page_tmpl=p/gen/failed-to-load&nav=0.5.1&login_access=1322408526",
         "5.046608107554676"
        ],
        [
         "1",
         "www.dghjdgf.com/paypal.co.uk/cycgi-bin/webscrcmd=_home-customer&nav=1/loading.php",
         "4.720684676697587"
        ],
        [
         "2",
         "serviciosbys.com/paypal.cgi.bin.get-into.herf.secure.dispatch35463256rzr321654641dsf654321874/href/href/href/secure/center/update/limit/seccure/4d7a1ff5c55825a2e632a679c2fd5353/",
         "4.739902126542"
        ],
        [
         "3",
         "mail.printakid.com/www.online.americanexpress.com/index.html",
         "4.17985342262277"
        ],
        [
         "4",
         "thewhiskeydregs.com/wp-content/themes/widescreen/includes/temp/promocoessmiles/?84784787824HDJNDJDSJSHD//2724782784/",
         "4.623372938559188"
        ]
       ],
       "shape": {
        "columns": 2,
        "rows": 5
       }
      },
      "text/html": [
       "<div>\n",
       "<style scoped>\n",
       "    .dataframe tbody tr th:only-of-type {\n",
       "        vertical-align: middle;\n",
       "    }\n",
       "\n",
       "    .dataframe tbody tr th {\n",
       "        vertical-align: top;\n",
       "    }\n",
       "\n",
       "    .dataframe thead th {\n",
       "        text-align: right;\n",
       "    }\n",
       "</style>\n",
       "<table border=\"1\" class=\"dataframe\">\n",
       "  <thead>\n",
       "    <tr style=\"text-align: right;\">\n",
       "      <th></th>\n",
       "      <th>url</th>\n",
       "      <th>url_entropy</th>\n",
       "    </tr>\n",
       "  </thead>\n",
       "  <tbody>\n",
       "    <tr>\n",
       "      <th>0</th>\n",
       "      <td>nobell.it/70ffb52d079109dca5664cce6f317373782/...</td>\n",
       "      <td>5.046608</td>\n",
       "    </tr>\n",
       "    <tr>\n",
       "      <th>1</th>\n",
       "      <td>www.dghjdgf.com/paypal.co.uk/cycgi-bin/webscrc...</td>\n",
       "      <td>4.720685</td>\n",
       "    </tr>\n",
       "    <tr>\n",
       "      <th>2</th>\n",
       "      <td>serviciosbys.com/paypal.cgi.bin.get-into.herf....</td>\n",
       "      <td>4.739902</td>\n",
       "    </tr>\n",
       "    <tr>\n",
       "      <th>3</th>\n",
       "      <td>mail.printakid.com/www.online.americanexpress....</td>\n",
       "      <td>4.179853</td>\n",
       "    </tr>\n",
       "    <tr>\n",
       "      <th>4</th>\n",
       "      <td>thewhiskeydregs.com/wp-content/themes/widescre...</td>\n",
       "      <td>4.623373</td>\n",
       "    </tr>\n",
       "  </tbody>\n",
       "</table>\n",
       "</div>"
      ],
      "text/plain": [
       "                                                 url  url_entropy\n",
       "0  nobell.it/70ffb52d079109dca5664cce6f317373782/...     5.046608\n",
       "1  www.dghjdgf.com/paypal.co.uk/cycgi-bin/webscrc...     4.720685\n",
       "2  serviciosbys.com/paypal.cgi.bin.get-into.herf....     4.739902\n",
       "3  mail.printakid.com/www.online.americanexpress....     4.179853\n",
       "4  thewhiskeydregs.com/wp-content/themes/widescre...     4.623373"
      ]
     },
     "execution_count": 9,
     "metadata": {},
     "output_type": "execute_result"
    }
   ],
   "source": [
    "# Apply entropy feature\n",
    "df = add_entropy_feature(df)\n",
    "\n",
    "# Preview the result\n",
    "df[['url', 'url_entropy']].head()"
   ]
  },
  {
   "cell_type": "code",
   "execution_count": null,
   "id": "12f59bf2",
   "metadata": {},
   "outputs": [
    {
     "data": {
      "application/vnd.microsoft.datawrangler.viewer.v0+json": {
       "columns": [
        {
         "name": "index",
         "rawType": "object",
         "type": "string"
        },
        {
         "name": "url_entropy",
         "rawType": "float64",
         "type": "float"
        }
       ],
       "ref": "9f9a6c5c-d180-4d30-982d-a39b3b7e5f93",
       "rows": [
        [
         "count",
         "95913.0"
        ],
        [
         "mean",
         "4.296006382740414"
        ],
        [
         "std",
         "0.4186808143308551"
        ],
        [
         "min",
         "2.513493416679643"
        ],
        [
         "25%",
         "4.017917900762096"
        ],
        [
         "50%",
         "4.204469526952229"
        ],
        [
         "75%",
         "4.494992971353024"
        ],
        [
         "max",
         "7.233637343709127"
        ]
       ],
       "shape": {
        "columns": 1,
        "rows": 8
       }
      },
      "text/plain": [
       "count    95913.000000\n",
       "mean         4.296006\n",
       "std          0.418681\n",
       "min          2.513493\n",
       "25%          4.017918\n",
       "50%          4.204470\n",
       "75%          4.494993\n",
       "max          7.233637\n",
       "Name: url_entropy, dtype: float64"
      ]
     },
     "execution_count": 10,
     "metadata": {},
     "output_type": "execute_result"
    }
   ],
   "source": [
    "df['url_entropy'].describe()"
   ]
  },
  {
   "cell_type": "markdown",
   "id": "8bd5f236",
   "metadata": {},
   "source": [
    "### URL structure & semantic features\n",
    "\n",
    "We create several handcrafted features to help detect phishing URLs based on known patterns and behaviors.\n",
    "\n",
    "These include:\n",
    "\n",
    "| Feature | Description |\n",
    "|--------|-------------|\n",
    "| **`num_digits`** | Count of digits (`0–9`) in the full URL. Phishing URLs often contain numbers to appear unique or evade filters. |\n",
    "| **`url_length`** | Total number of characters in the full URL. Long URLs are commonly used to hide the true domain. |\n",
    "| **`num_subdomains`** | Number of subdomains before the main domain. For example, `paypal.security.login.com` has 2 subdomains. |\n",
    "| **`num_path_segments`** | Number of segments in the URL path, separated by `/`. Deep paths may indicate obfuscation. |\n",
    "| **`num_suspicious_keywords`** | Count of suspicious tokens like `login`, `secure`, `account`, etc. These often appear in phishing attempts. |\n",
    "| **`num_special_chars`** | Number of non-alphanumeric characters (e.g., `-`, `_`, `%`) used for obfuscation. |\n",
    "| **`has_brand_conflict`** | `True` if the domain contains one brand (e.g. `apple`) and the path contains another (e.g. `paypal`). This mismatch can be a red flag. |\n",
    "\n",
    "These structural and semantic signals are lightweight yet informative and can help distinguish benign from malicious URLs in our classification model.\n"
   ]
  },
  {
   "cell_type": "code",
   "execution_count": null,
   "id": "9f0bee37",
   "metadata": {},
   "outputs": [
    {
     "data": {
      "application/vnd.microsoft.datawrangler.viewer.v0+json": {
       "columns": [
        {
         "name": "index",
         "rawType": "int64",
         "type": "integer"
        },
        {
         "name": "url",
         "rawType": "object",
         "type": "string"
        },
        {
         "name": "num_digits",
         "rawType": "int64",
         "type": "integer"
        },
        {
         "name": "url_length",
         "rawType": "int64",
         "type": "integer"
        },
        {
         "name": "num_subdomains",
         "rawType": "int64",
         "type": "integer"
        },
        {
         "name": "num_path_segments",
         "rawType": "int64",
         "type": "integer"
        },
        {
         "name": "num_suspicious_keywords",
         "rawType": "int64",
         "type": "integer"
        },
        {
         "name": "num_special_chars",
         "rawType": "int64",
         "type": "integer"
        },
        {
         "name": "has_brand_conflict",
         "rawType": "object",
         "type": "unknown"
        }
       ],
       "ref": "4453cb96-1be3-45d3-9cea-b0a6af0d36cc",
       "rows": [
        [
         "0",
         "nobell.it/70ffb52d079109dca5664cce6f317373782/login.SkyPe.com/en/cgi-bin/verification/login/70ffb52d079109dca5664cce6f317373/index.php?cmd=_profile-ach&outdated_page_tmpl=p/gen/failed-to-load&nav=0.5.1&login_access=1322408526",
         "58",
         "232",
         "0",
         "8",
         "3",
         "35",
         "0"
        ],
        [
         "1",
         "www.dghjdgf.com/paypal.co.uk/cycgi-bin/webscrcmd=_home-customer&nav=1/loading.php",
         "1",
         "88",
         "1",
         "4",
         "1",
         "18",
         "0"
        ],
        [
         "2",
         "serviciosbys.com/paypal.cgi.bin.get-into.herf.secure.dispatch35463256rzr321654641dsf654321874/href/href/href/secure/center/update/limit/seccure/4d7a1ff5c55825a2e632a679c2fd5353/",
         "47",
         "184",
         "0",
         "10",
         "4",
         "22",
         "0"
        ],
        [
         "3",
         "mail.printakid.com/www.online.americanexpress.com/index.html",
         "0",
         "67",
         "1",
         "2",
         "0",
         "11",
         "0"
        ],
        [
         "4",
         "thewhiskeydregs.com/wp-content/themes/widescreen/includes/temp/promocoessmiles/?84784787824HDJNDJDSJSHD//2724782784/",
         "21",
         "123",
         "0",
         "6",
         "0",
         "16",
         "0"
        ]
       ],
       "shape": {
        "columns": 8,
        "rows": 5
       }
      },
      "text/html": [
       "<div>\n",
       "<style scoped>\n",
       "    .dataframe tbody tr th:only-of-type {\n",
       "        vertical-align: middle;\n",
       "    }\n",
       "\n",
       "    .dataframe tbody tr th {\n",
       "        vertical-align: top;\n",
       "    }\n",
       "\n",
       "    .dataframe thead th {\n",
       "        text-align: right;\n",
       "    }\n",
       "</style>\n",
       "<table border=\"1\" class=\"dataframe\">\n",
       "  <thead>\n",
       "    <tr style=\"text-align: right;\">\n",
       "      <th></th>\n",
       "      <th>url</th>\n",
       "      <th>num_digits</th>\n",
       "      <th>url_length</th>\n",
       "      <th>num_subdomains</th>\n",
       "      <th>num_path_segments</th>\n",
       "      <th>num_suspicious_keywords</th>\n",
       "      <th>num_special_chars</th>\n",
       "      <th>has_brand_conflict</th>\n",
       "    </tr>\n",
       "  </thead>\n",
       "  <tbody>\n",
       "    <tr>\n",
       "      <th>0</th>\n",
       "      <td>nobell.it/70ffb52d079109dca5664cce6f317373782/...</td>\n",
       "      <td>58</td>\n",
       "      <td>232</td>\n",
       "      <td>0</td>\n",
       "      <td>8</td>\n",
       "      <td>3</td>\n",
       "      <td>35</td>\n",
       "      <td>0</td>\n",
       "    </tr>\n",
       "    <tr>\n",
       "      <th>1</th>\n",
       "      <td>www.dghjdgf.com/paypal.co.uk/cycgi-bin/webscrc...</td>\n",
       "      <td>1</td>\n",
       "      <td>88</td>\n",
       "      <td>1</td>\n",
       "      <td>4</td>\n",
       "      <td>1</td>\n",
       "      <td>18</td>\n",
       "      <td>0</td>\n",
       "    </tr>\n",
       "    <tr>\n",
       "      <th>2</th>\n",
       "      <td>serviciosbys.com/paypal.cgi.bin.get-into.herf....</td>\n",
       "      <td>47</td>\n",
       "      <td>184</td>\n",
       "      <td>0</td>\n",
       "      <td>10</td>\n",
       "      <td>4</td>\n",
       "      <td>22</td>\n",
       "      <td>0</td>\n",
       "    </tr>\n",
       "    <tr>\n",
       "      <th>3</th>\n",
       "      <td>mail.printakid.com/www.online.americanexpress....</td>\n",
       "      <td>0</td>\n",
       "      <td>67</td>\n",
       "      <td>1</td>\n",
       "      <td>2</td>\n",
       "      <td>0</td>\n",
       "      <td>11</td>\n",
       "      <td>0</td>\n",
       "    </tr>\n",
       "    <tr>\n",
       "      <th>4</th>\n",
       "      <td>thewhiskeydregs.com/wp-content/themes/widescre...</td>\n",
       "      <td>21</td>\n",
       "      <td>123</td>\n",
       "      <td>0</td>\n",
       "      <td>6</td>\n",
       "      <td>0</td>\n",
       "      <td>16</td>\n",
       "      <td>0</td>\n",
       "    </tr>\n",
       "  </tbody>\n",
       "</table>\n",
       "</div>"
      ],
      "text/plain": [
       "                                                 url  num_digits  url_length  \\\n",
       "0  nobell.it/70ffb52d079109dca5664cce6f317373782/...          58         232   \n",
       "1  www.dghjdgf.com/paypal.co.uk/cycgi-bin/webscrc...           1          88   \n",
       "2  serviciosbys.com/paypal.cgi.bin.get-into.herf....          47         184   \n",
       "3  mail.printakid.com/www.online.americanexpress....           0          67   \n",
       "4  thewhiskeydregs.com/wp-content/themes/widescre...          21         123   \n",
       "\n",
       "   num_subdomains  num_path_segments  num_suspicious_keywords  \\\n",
       "0               0                  8                        3   \n",
       "1               1                  4                        1   \n",
       "2               0                 10                        4   \n",
       "3               1                  2                        0   \n",
       "4               0                  6                        0   \n",
       "\n",
       "   num_special_chars has_brand_conflict  \n",
       "0                 35                  0  \n",
       "1                 18                  0  \n",
       "2                 22                  0  \n",
       "3                 11                  0  \n",
       "4                 16                  0  "
      ]
     },
     "execution_count": 11,
     "metadata": {},
     "output_type": "execute_result"
    }
   ],
   "source": [
    "# Apply the full feature extractor\n",
    "df = add_url_structure_features(df)\n",
    "\n",
    "# Preview all new features\n",
    "df[[\n",
    "    'url',\n",
    "    'num_digits',\n",
    "    'url_length',\n",
    "    'num_subdomains',\n",
    "    'num_path_segments',\n",
    "    'num_suspicious_keywords',\n",
    "    'num_special_chars',\n",
    "    'has_brand_conflict'\n",
    "]].head()\n",
    "\n"
   ]
  },
  {
   "cell_type": "code",
   "execution_count": null,
   "id": "92e238a1",
   "metadata": {},
   "outputs": [
    {
     "data": {
      "application/vnd.microsoft.datawrangler.viewer.v0+json": {
       "columns": [
        {
         "name": "index",
         "rawType": "object",
         "type": "string"
        },
        {
         "name": "num_digits",
         "rawType": "float64",
         "type": "float"
        },
        {
         "name": "url_length",
         "rawType": "float64",
         "type": "float"
        },
        {
         "name": "num_subdomains",
         "rawType": "float64",
         "type": "float"
        },
        {
         "name": "num_path_segments",
         "rawType": "float64",
         "type": "float"
        },
        {
         "name": "num_suspicious_keywords",
         "rawType": "float64",
         "type": "float"
        },
        {
         "name": "num_special_chars",
         "rawType": "float64",
         "type": "float"
        }
       ],
       "ref": "6c8cf7b2-d64d-4bb9-bed7-43fc04ed0408",
       "rows": [
        [
         "count",
         "95913.0",
         "95913.0",
         "95913.0",
         "95913.0",
         "95913.0",
         "95913.0"
        ],
        [
         "mean",
         "8.134986915225257",
         "71.32562843410174",
         "1.3361692367040965",
         "2.3895092427512434",
         "0.466401843337191",
         "11.694827604182958"
        ],
        [
         "std",
         "19.356984714784492",
         "64.84790619654584",
         "1.952651578466968",
         "1.7102348635294653",
         "1.0842597053102414",
         "7.304576908685222"
        ],
        [
         "min",
         "0.0",
         "0.0",
         "0.0",
         "0.0",
         "0.0",
         "0.0"
        ],
        [
         "25%",
         "0.0",
         "37.0",
         "1.0",
         "1.0",
         "0.0",
         "7.0"
        ],
        [
         "50%",
         "1.0",
         "49.0",
         "1.0",
         "2.0",
         "0.0",
         "9.0"
        ],
        [
         "75%",
         "5.0",
         "78.0",
         "1.0",
         "3.0",
         "0.0",
         "13.0"
        ],
        [
         "max",
         "286.0",
         "2182.0",
         "33.0",
         "34.0",
         "17.0",
         "229.0"
        ]
       ],
       "shape": {
        "columns": 6,
        "rows": 8
       }
      },
      "text/html": [
       "<div>\n",
       "<style scoped>\n",
       "    .dataframe tbody tr th:only-of-type {\n",
       "        vertical-align: middle;\n",
       "    }\n",
       "\n",
       "    .dataframe tbody tr th {\n",
       "        vertical-align: top;\n",
       "    }\n",
       "\n",
       "    .dataframe thead th {\n",
       "        text-align: right;\n",
       "    }\n",
       "</style>\n",
       "<table border=\"1\" class=\"dataframe\">\n",
       "  <thead>\n",
       "    <tr style=\"text-align: right;\">\n",
       "      <th></th>\n",
       "      <th>num_digits</th>\n",
       "      <th>url_length</th>\n",
       "      <th>num_subdomains</th>\n",
       "      <th>num_path_segments</th>\n",
       "      <th>num_suspicious_keywords</th>\n",
       "      <th>num_special_chars</th>\n",
       "    </tr>\n",
       "  </thead>\n",
       "  <tbody>\n",
       "    <tr>\n",
       "      <th>count</th>\n",
       "      <td>95913.000000</td>\n",
       "      <td>95913.000000</td>\n",
       "      <td>95913.000000</td>\n",
       "      <td>95913.000000</td>\n",
       "      <td>95913.000000</td>\n",
       "      <td>95913.000000</td>\n",
       "    </tr>\n",
       "    <tr>\n",
       "      <th>mean</th>\n",
       "      <td>8.134987</td>\n",
       "      <td>71.325628</td>\n",
       "      <td>1.336169</td>\n",
       "      <td>2.389509</td>\n",
       "      <td>0.466402</td>\n",
       "      <td>11.694828</td>\n",
       "    </tr>\n",
       "    <tr>\n",
       "      <th>std</th>\n",
       "      <td>19.356985</td>\n",
       "      <td>64.847906</td>\n",
       "      <td>1.952652</td>\n",
       "      <td>1.710235</td>\n",
       "      <td>1.084260</td>\n",
       "      <td>7.304577</td>\n",
       "    </tr>\n",
       "    <tr>\n",
       "      <th>min</th>\n",
       "      <td>0.000000</td>\n",
       "      <td>0.000000</td>\n",
       "      <td>0.000000</td>\n",
       "      <td>0.000000</td>\n",
       "      <td>0.000000</td>\n",
       "      <td>0.000000</td>\n",
       "    </tr>\n",
       "    <tr>\n",
       "      <th>25%</th>\n",
       "      <td>0.000000</td>\n",
       "      <td>37.000000</td>\n",
       "      <td>1.000000</td>\n",
       "      <td>1.000000</td>\n",
       "      <td>0.000000</td>\n",
       "      <td>7.000000</td>\n",
       "    </tr>\n",
       "    <tr>\n",
       "      <th>50%</th>\n",
       "      <td>1.000000</td>\n",
       "      <td>49.000000</td>\n",
       "      <td>1.000000</td>\n",
       "      <td>2.000000</td>\n",
       "      <td>0.000000</td>\n",
       "      <td>9.000000</td>\n",
       "    </tr>\n",
       "    <tr>\n",
       "      <th>75%</th>\n",
       "      <td>5.000000</td>\n",
       "      <td>78.000000</td>\n",
       "      <td>1.000000</td>\n",
       "      <td>3.000000</td>\n",
       "      <td>0.000000</td>\n",
       "      <td>13.000000</td>\n",
       "    </tr>\n",
       "    <tr>\n",
       "      <th>max</th>\n",
       "      <td>286.000000</td>\n",
       "      <td>2182.000000</td>\n",
       "      <td>33.000000</td>\n",
       "      <td>34.000000</td>\n",
       "      <td>17.000000</td>\n",
       "      <td>229.000000</td>\n",
       "    </tr>\n",
       "  </tbody>\n",
       "</table>\n",
       "</div>"
      ],
      "text/plain": [
       "         num_digits    url_length  num_subdomains  num_path_segments  \\\n",
       "count  95913.000000  95913.000000    95913.000000       95913.000000   \n",
       "mean       8.134987     71.325628        1.336169           2.389509   \n",
       "std       19.356985     64.847906        1.952652           1.710235   \n",
       "min        0.000000      0.000000        0.000000           0.000000   \n",
       "25%        0.000000     37.000000        1.000000           1.000000   \n",
       "50%        1.000000     49.000000        1.000000           2.000000   \n",
       "75%        5.000000     78.000000        1.000000           3.000000   \n",
       "max      286.000000   2182.000000       33.000000          34.000000   \n",
       "\n",
       "       num_suspicious_keywords  num_special_chars  \n",
       "count             95913.000000       95913.000000  \n",
       "mean                  0.466402          11.694828  \n",
       "std                   1.084260           7.304577  \n",
       "min                   0.000000           0.000000  \n",
       "25%                   0.000000           7.000000  \n",
       "50%                   0.000000           9.000000  \n",
       "75%                   0.000000          13.000000  \n",
       "max                  17.000000         229.000000  "
      ]
     },
     "execution_count": 12,
     "metadata": {},
     "output_type": "execute_result"
    }
   ],
   "source": [
    "df[[\n",
    "    'url',\n",
    "    'num_digits',\n",
    "    'url_length',\n",
    "    'num_subdomains',\n",
    "    'num_path_segments',\n",
    "    'num_suspicious_keywords',\n",
    "    'num_special_chars',\n",
    "    'has_brand_conflict'\n",
    "]].describe()"
   ]
  },
  {
   "cell_type": "code",
   "execution_count": null,
   "id": "3b6d9658",
   "metadata": {},
   "outputs": [
    {
     "data": {
      "application/vnd.microsoft.datawrangler.viewer.v0+json": {
       "columns": [
        {
         "name": "index",
         "rawType": "object",
         "type": "string"
        },
        {
         "name": "label",
         "rawType": "float64",
         "type": "float"
        },
        {
         "name": "is_in_alexa",
         "rawType": "float64",
         "type": "float"
        },
        {
         "name": "ranking",
         "rawType": "float64",
         "type": "float"
        },
        {
         "name": "jaccard_mld_path",
         "rawType": "float64",
         "type": "float"
        },
        {
         "name": "jaccard_subdomain_path",
         "rawType": "float64",
         "type": "float"
        },
        {
         "name": "url_entropy",
         "rawType": "float64",
         "type": "float"
        },
        {
         "name": "num_digits",
         "rawType": "float64",
         "type": "float"
        },
        {
         "name": "url_length",
         "rawType": "float64",
         "type": "float"
        },
        {
         "name": "num_subdomains",
         "rawType": "float64",
         "type": "float"
        },
        {
         "name": "num_path_segments",
         "rawType": "float64",
         "type": "float"
        },
        {
         "name": "num_suspicious_keywords",
         "rawType": "float64",
         "type": "float"
        },
        {
         "name": "num_special_chars",
         "rawType": "float64",
         "type": "float"
        }
       ],
       "ref": "2217eb44-6c43-49c4-8289-c1008ca33d40",
       "rows": [
        [
         "count",
         "95913.0",
         "95821.0",
         "95821.0",
         "95913.0",
         "95913.0",
         "95913.0",
         "95913.0",
         "95913.0",
         "95913.0",
         "95913.0",
         "95913.0",
         "95913.0"
        ],
        [
         "mean",
         "0.4994526289449814",
         "0.3935254276202503",
         "654171.8201646821",
         "0.005718900322503497",
         "0.007234195692722063",
         "4.296006382740414",
         "8.134986915225257",
         "71.32562843410174",
         "1.3361692367040965",
         "2.3895092427512434",
         "0.466401843337191",
         "11.694827604182958"
        ],
        [
         "std",
         "0.5000023069324918",
         "0.4885341914148241",
         "450252.0303786306",
         "0.033786043910596184",
         "0.04315243111128762",
         "0.4186808143308551",
         "19.356984714784492",
         "64.84790619654584",
         "1.952651578466968",
         "1.7102348635294653",
         "1.0842597053102414",
         "7.304576908685222"
        ],
        [
         "min",
         "0.0",
         "0.0",
         "1.0",
         "0.0",
         "0.0",
         "2.513493416679643",
         "0.0",
         "0.0",
         "0.0",
         "0.0",
         "0.0",
         "0.0"
        ],
        [
         "25%",
         "0.0",
         "0.0",
         "35998.0",
         "0.0",
         "0.0",
         "4.017917900762096",
         "0.0",
         "37.0",
         "1.0",
         "1.0",
         "0.0",
         "7.0"
        ],
        [
         "50%",
         "0.0",
         "0.0",
         "1000001.0",
         "0.0",
         "0.0",
         "4.204469526952229",
         "1.0",
         "49.0",
         "1.0",
         "2.0",
         "0.0",
         "9.0"
        ],
        [
         "75%",
         "1.0",
         "1.0",
         "1000001.0",
         "0.0",
         "0.0",
         "4.494992971353024",
         "5.0",
         "78.0",
         "1.0",
         "3.0",
         "0.0",
         "13.0"
        ],
        [
         "max",
         "1.0",
         "1.0",
         "1000001.0",
         "1.0",
         "1.0",
         "7.233637343709127",
         "286.0",
         "2182.0",
         "33.0",
         "34.0",
         "17.0",
         "229.0"
        ]
       ],
       "shape": {
        "columns": 12,
        "rows": 8
       }
      },
      "text/html": [
       "<div>\n",
       "<style scoped>\n",
       "    .dataframe tbody tr th:only-of-type {\n",
       "        vertical-align: middle;\n",
       "    }\n",
       "\n",
       "    .dataframe tbody tr th {\n",
       "        vertical-align: top;\n",
       "    }\n",
       "\n",
       "    .dataframe thead th {\n",
       "        text-align: right;\n",
       "    }\n",
       "</style>\n",
       "<table border=\"1\" class=\"dataframe\">\n",
       "  <thead>\n",
       "    <tr style=\"text-align: right;\">\n",
       "      <th></th>\n",
       "      <th>label</th>\n",
       "      <th>is_in_alexa</th>\n",
       "      <th>ranking</th>\n",
       "      <th>jaccard_mld_path</th>\n",
       "      <th>jaccard_subdomain_path</th>\n",
       "      <th>url_entropy</th>\n",
       "      <th>num_digits</th>\n",
       "      <th>url_length</th>\n",
       "      <th>num_subdomains</th>\n",
       "      <th>num_path_segments</th>\n",
       "      <th>num_suspicious_keywords</th>\n",
       "      <th>num_special_chars</th>\n",
       "    </tr>\n",
       "  </thead>\n",
       "  <tbody>\n",
       "    <tr>\n",
       "      <th>count</th>\n",
       "      <td>95913.000000</td>\n",
       "      <td>95821.000000</td>\n",
       "      <td>9.582100e+04</td>\n",
       "      <td>95913.000000</td>\n",
       "      <td>95913.000000</td>\n",
       "      <td>95913.000000</td>\n",
       "      <td>95913.000000</td>\n",
       "      <td>95913.000000</td>\n",
       "      <td>95913.000000</td>\n",
       "      <td>95913.000000</td>\n",
       "      <td>95913.000000</td>\n",
       "      <td>95913.000000</td>\n",
       "    </tr>\n",
       "    <tr>\n",
       "      <th>mean</th>\n",
       "      <td>0.499453</td>\n",
       "      <td>0.393525</td>\n",
       "      <td>6.541718e+05</td>\n",
       "      <td>0.005719</td>\n",
       "      <td>0.007234</td>\n",
       "      <td>4.296006</td>\n",
       "      <td>8.134987</td>\n",
       "      <td>71.325628</td>\n",
       "      <td>1.336169</td>\n",
       "      <td>2.389509</td>\n",
       "      <td>0.466402</td>\n",
       "      <td>11.694828</td>\n",
       "    </tr>\n",
       "    <tr>\n",
       "      <th>std</th>\n",
       "      <td>0.500002</td>\n",
       "      <td>0.488534</td>\n",
       "      <td>4.502520e+05</td>\n",
       "      <td>0.033786</td>\n",
       "      <td>0.043152</td>\n",
       "      <td>0.418681</td>\n",
       "      <td>19.356985</td>\n",
       "      <td>64.847906</td>\n",
       "      <td>1.952652</td>\n",
       "      <td>1.710235</td>\n",
       "      <td>1.084260</td>\n",
       "      <td>7.304577</td>\n",
       "    </tr>\n",
       "    <tr>\n",
       "      <th>min</th>\n",
       "      <td>0.000000</td>\n",
       "      <td>0.000000</td>\n",
       "      <td>1.000000e+00</td>\n",
       "      <td>0.000000</td>\n",
       "      <td>0.000000</td>\n",
       "      <td>2.513493</td>\n",
       "      <td>0.000000</td>\n",
       "      <td>0.000000</td>\n",
       "      <td>0.000000</td>\n",
       "      <td>0.000000</td>\n",
       "      <td>0.000000</td>\n",
       "      <td>0.000000</td>\n",
       "    </tr>\n",
       "    <tr>\n",
       "      <th>25%</th>\n",
       "      <td>0.000000</td>\n",
       "      <td>0.000000</td>\n",
       "      <td>3.599800e+04</td>\n",
       "      <td>0.000000</td>\n",
       "      <td>0.000000</td>\n",
       "      <td>4.017918</td>\n",
       "      <td>0.000000</td>\n",
       "      <td>37.000000</td>\n",
       "      <td>1.000000</td>\n",
       "      <td>1.000000</td>\n",
       "      <td>0.000000</td>\n",
       "      <td>7.000000</td>\n",
       "    </tr>\n",
       "    <tr>\n",
       "      <th>50%</th>\n",
       "      <td>0.000000</td>\n",
       "      <td>0.000000</td>\n",
       "      <td>1.000001e+06</td>\n",
       "      <td>0.000000</td>\n",
       "      <td>0.000000</td>\n",
       "      <td>4.204470</td>\n",
       "      <td>1.000000</td>\n",
       "      <td>49.000000</td>\n",
       "      <td>1.000000</td>\n",
       "      <td>2.000000</td>\n",
       "      <td>0.000000</td>\n",
       "      <td>9.000000</td>\n",
       "    </tr>\n",
       "    <tr>\n",
       "      <th>75%</th>\n",
       "      <td>1.000000</td>\n",
       "      <td>1.000000</td>\n",
       "      <td>1.000001e+06</td>\n",
       "      <td>0.000000</td>\n",
       "      <td>0.000000</td>\n",
       "      <td>4.494993</td>\n",
       "      <td>5.000000</td>\n",
       "      <td>78.000000</td>\n",
       "      <td>1.000000</td>\n",
       "      <td>3.000000</td>\n",
       "      <td>0.000000</td>\n",
       "      <td>13.000000</td>\n",
       "    </tr>\n",
       "    <tr>\n",
       "      <th>max</th>\n",
       "      <td>1.000000</td>\n",
       "      <td>1.000000</td>\n",
       "      <td>1.000001e+06</td>\n",
       "      <td>1.000000</td>\n",
       "      <td>1.000000</td>\n",
       "      <td>7.233637</td>\n",
       "      <td>286.000000</td>\n",
       "      <td>2182.000000</td>\n",
       "      <td>33.000000</td>\n",
       "      <td>34.000000</td>\n",
       "      <td>17.000000</td>\n",
       "      <td>229.000000</td>\n",
       "    </tr>\n",
       "  </tbody>\n",
       "</table>\n",
       "</div>"
      ],
      "text/plain": [
       "              label   is_in_alexa       ranking  jaccard_mld_path  \\\n",
       "count  95913.000000  95821.000000  9.582100e+04      95913.000000   \n",
       "mean       0.499453      0.393525  6.541718e+05          0.005719   \n",
       "std        0.500002      0.488534  4.502520e+05          0.033786   \n",
       "min        0.000000      0.000000  1.000000e+00          0.000000   \n",
       "25%        0.000000      0.000000  3.599800e+04          0.000000   \n",
       "50%        0.000000      0.000000  1.000001e+06          0.000000   \n",
       "75%        1.000000      1.000000  1.000001e+06          0.000000   \n",
       "max        1.000000      1.000000  1.000001e+06          1.000000   \n",
       "\n",
       "       jaccard_subdomain_path   url_entropy    num_digits    url_length  \\\n",
       "count            95913.000000  95913.000000  95913.000000  95913.000000   \n",
       "mean                 0.007234      4.296006      8.134987     71.325628   \n",
       "std                  0.043152      0.418681     19.356985     64.847906   \n",
       "min                  0.000000      2.513493      0.000000      0.000000   \n",
       "25%                  0.000000      4.017918      0.000000     37.000000   \n",
       "50%                  0.000000      4.204470      1.000000     49.000000   \n",
       "75%                  0.000000      4.494993      5.000000     78.000000   \n",
       "max                  1.000000      7.233637    286.000000   2182.000000   \n",
       "\n",
       "       num_subdomains  num_path_segments  num_suspicious_keywords  \\\n",
       "count    95913.000000       95913.000000             95913.000000   \n",
       "mean         1.336169           2.389509                 0.466402   \n",
       "std          1.952652           1.710235                 1.084260   \n",
       "min          0.000000           0.000000                 0.000000   \n",
       "25%          1.000000           1.000000                 0.000000   \n",
       "50%          1.000000           2.000000                 0.000000   \n",
       "75%          1.000000           3.000000                 0.000000   \n",
       "max         33.000000          34.000000                17.000000   \n",
       "\n",
       "       num_special_chars  \n",
       "count       95913.000000  \n",
       "mean           11.694828  \n",
       "std             7.304577  \n",
       "min             0.000000  \n",
       "25%             7.000000  \n",
       "50%             9.000000  \n",
       "75%            13.000000  \n",
       "max           229.000000  "
      ]
     },
     "execution_count": 13,
     "metadata": {},
     "output_type": "execute_result"
    }
   ],
   "source": [
    "df.describe()"
   ]
  },
  {
   "cell_type": "markdown",
   "id": "1bce7031",
   "metadata": {},
   "source": [
    "## Train-test split"
   ]
  },
  {
   "cell_type": "code",
   "execution_count": null,
   "id": "a81feeab",
   "metadata": {},
   "outputs": [],
   "source": [
    "feature_cols = [\n",
    "    'is_in_alexa', 'ranking',\n",
    "    'jaccard_mld_path', 'jaccard_subdomain_path',\n",
    "    'url_entropy', 'num_digits', 'url_length',\n",
    "    'num_subdomains', 'num_path_segments',\n",
    "    'num_suspicious_keywords', 'num_special_chars',\n",
    "    'has_brand_conflict'\n",
    "]"
   ]
  },
  {
   "cell_type": "code",
   "execution_count": null,
   "id": "feb453bc",
   "metadata": {},
   "outputs": [
    {
     "data": {
      "application/vnd.microsoft.datawrangler.viewer.v0+json": {
       "columns": [
        {
         "name": "index",
         "rawType": "object",
         "type": "string"
        },
        {
         "name": "0",
         "rawType": "int64",
         "type": "integer"
        }
       ],
       "ref": "8ba592ca-2b4d-47fd-803e-7fdd21a1de9f",
       "rows": [
        [
         "is_in_alexa",
         "92"
        ],
        [
         "ranking",
         "92"
        ]
       ],
       "shape": {
        "columns": 1,
        "rows": 2
       }
      },
      "text/plain": [
       "is_in_alexa    92\n",
       "ranking        92\n",
       "dtype: int64"
      ]
     },
     "execution_count": 23,
     "metadata": {},
     "output_type": "execute_result"
    }
   ],
   "source": [
    "# Drop rows with missing labels\n",
    "df = df.dropna(subset=[\"label\"])\n",
    "\n",
    "# Check for missing values in other columns\n",
    "missing_counts = df.isna().sum()\n",
    "\n",
    "# Show only columns that have missing values\n",
    "missing_counts[missing_counts > 0]"
   ]
  },
  {
   "cell_type": "code",
   "execution_count": null,
   "id": "d032305a",
   "metadata": {},
   "outputs": [],
   "source": [
    "# Drop rows with missing values in label, is_in_alexa, or ranking\n",
    "df = df.dropna(subset=[\"label\", \"is_in_alexa\", \"ranking\"])"
   ]
  },
  {
   "cell_type": "code",
   "execution_count": null,
   "id": "6913b75b",
   "metadata": {},
   "outputs": [],
   "source": [
    "# Define X and y\n",
    "X = df[feature_cols]\n",
    "y = df[\"label\"]\n",
    "\n",
    "# Train-test split\n",
    "X_train, X_test, y_train, y_test = train_test_split(\n",
    "    X, y, test_size=0.2, random_state=42, stratify=y\n",
    ")"
   ]
  },
  {
   "cell_type": "markdown",
   "id": "55ed4c23",
   "metadata": {},
   "source": [
    "## Feature scaling\n",
    "\n",
    "This will ensure all features have zero mean and unit variance, which helps those algorithms converge faster and make more balanced decisions."
   ]
  },
  {
   "cell_type": "code",
   "execution_count": null,
   "id": "9d0d61b9",
   "metadata": {},
   "outputs": [],
   "source": [
    "# 3. Fit scaler on training data only\n",
    "scaler = StandardScaler()\n",
    "X_train_scaled = scaler.fit_transform(X_train)\n",
    "\n",
    "# 4. Use same scaler to transform test data\n",
    "X_test_scaled = scaler.transform(X_test)"
   ]
  },
  {
   "cell_type": "code",
   "execution_count": null,
   "id": "1aedc292",
   "metadata": {},
   "outputs": [
    {
     "name": "stdout",
     "output_type": "stream",
     "text": [
      "Training set size: 76656\n",
      "Test set size: 19165\n",
      "Training label distribution: Counter({0: 38333, 1: 38323})\n",
      "Test label distribution: Counter({0: 9584, 1: 9581})\n"
     ]
    }
   ],
   "source": [
    "# Check dataset sizes\n",
    "print(f\"Training set size: {X_train_scaled.shape[0]}\")\n",
    "print(f\"Test set size: {X_test_scaled.shape[0]}\")\n",
    "\n",
    "# Check label balance\n",
    "print(\"Training label distribution:\", Counter(y_train))\n",
    "print(\"Test label distribution:\", Counter(y_test))"
   ]
  },
  {
   "cell_type": "markdown",
   "id": "eeb96530",
   "metadata": {},
   "source": [
    "To ensure fair and effective modeling, we standardized our features **after performing the train-test split**. This is important because many of our features, such as `url_length`, `num_digits`, and `url_entropy`, have very different scales and distributions. Standardization (subtracting the mean and dividing by the standard deviation) brings all numeric features to a comparable scale, which is especially beneficial for models that rely on distances or gradients (e.g., logistic regression, SVM, KNN).\n",
    "\n",
    "We applied scaling **after** the split to avoid data leakage. Fitting the scaler on the full dataset would allow information from the test set to influence the transformation applied to the training set, which could lead to inflated performance estimates. By fitting the scaler only on the training data and then applying it to both the training and test sets, we preserve the integrity of our evaluation and ensure the test set remains a valid proxy for unseen data.\n"
   ]
  },
  {
   "cell_type": "markdown",
   "id": "5e6318ef",
   "metadata": {},
   "source": [
    "## Modeling"
   ]
  },
  {
   "cell_type": "markdown",
   "id": "0ae13e82",
   "metadata": {},
   "source": [
    "### RF"
   ]
  },
  {
   "cell_type": "code",
   "execution_count": null,
   "id": "0642d4af",
   "metadata": {},
   "outputs": [
    {
     "data": {
      "text/html": [
       "<style>#sk-container-id-1 {color: black;background-color: white;}#sk-container-id-1 pre{padding: 0;}#sk-container-id-1 div.sk-toggleable {background-color: white;}#sk-container-id-1 label.sk-toggleable__label {cursor: pointer;display: block;width: 100%;margin-bottom: 0;padding: 0.3em;box-sizing: border-box;text-align: center;}#sk-container-id-1 label.sk-toggleable__label-arrow:before {content: \"▸\";float: left;margin-right: 0.25em;color: #696969;}#sk-container-id-1 label.sk-toggleable__label-arrow:hover:before {color: black;}#sk-container-id-1 div.sk-estimator:hover label.sk-toggleable__label-arrow:before {color: black;}#sk-container-id-1 div.sk-toggleable__content {max-height: 0;max-width: 0;overflow: hidden;text-align: left;background-color: #f0f8ff;}#sk-container-id-1 div.sk-toggleable__content pre {margin: 0.2em;color: black;border-radius: 0.25em;background-color: #f0f8ff;}#sk-container-id-1 input.sk-toggleable__control:checked~div.sk-toggleable__content {max-height: 200px;max-width: 100%;overflow: auto;}#sk-container-id-1 input.sk-toggleable__control:checked~label.sk-toggleable__label-arrow:before {content: \"▾\";}#sk-container-id-1 div.sk-estimator input.sk-toggleable__control:checked~label.sk-toggleable__label {background-color: #d4ebff;}#sk-container-id-1 div.sk-label input.sk-toggleable__control:checked~label.sk-toggleable__label {background-color: #d4ebff;}#sk-container-id-1 input.sk-hidden--visually {border: 0;clip: rect(1px 1px 1px 1px);clip: rect(1px, 1px, 1px, 1px);height: 1px;margin: -1px;overflow: hidden;padding: 0;position: absolute;width: 1px;}#sk-container-id-1 div.sk-estimator {font-family: monospace;background-color: #f0f8ff;border: 1px dotted black;border-radius: 0.25em;box-sizing: border-box;margin-bottom: 0.5em;}#sk-container-id-1 div.sk-estimator:hover {background-color: #d4ebff;}#sk-container-id-1 div.sk-parallel-item::after {content: \"\";width: 100%;border-bottom: 1px solid gray;flex-grow: 1;}#sk-container-id-1 div.sk-label:hover label.sk-toggleable__label {background-color: #d4ebff;}#sk-container-id-1 div.sk-serial::before {content: \"\";position: absolute;border-left: 1px solid gray;box-sizing: border-box;top: 0;bottom: 0;left: 50%;z-index: 0;}#sk-container-id-1 div.sk-serial {display: flex;flex-direction: column;align-items: center;background-color: white;padding-right: 0.2em;padding-left: 0.2em;position: relative;}#sk-container-id-1 div.sk-item {position: relative;z-index: 1;}#sk-container-id-1 div.sk-parallel {display: flex;align-items: stretch;justify-content: center;background-color: white;position: relative;}#sk-container-id-1 div.sk-item::before, #sk-container-id-1 div.sk-parallel-item::before {content: \"\";position: absolute;border-left: 1px solid gray;box-sizing: border-box;top: 0;bottom: 0;left: 50%;z-index: -1;}#sk-container-id-1 div.sk-parallel-item {display: flex;flex-direction: column;z-index: 1;position: relative;background-color: white;}#sk-container-id-1 div.sk-parallel-item:first-child::after {align-self: flex-end;width: 50%;}#sk-container-id-1 div.sk-parallel-item:last-child::after {align-self: flex-start;width: 50%;}#sk-container-id-1 div.sk-parallel-item:only-child::after {width: 0;}#sk-container-id-1 div.sk-dashed-wrapped {border: 1px dashed gray;margin: 0 0.4em 0.5em 0.4em;box-sizing: border-box;padding-bottom: 0.4em;background-color: white;}#sk-container-id-1 div.sk-label label {font-family: monospace;font-weight: bold;display: inline-block;line-height: 1.2em;}#sk-container-id-1 div.sk-label-container {text-align: center;}#sk-container-id-1 div.sk-container {/* jupyter's `normalize.less` sets `[hidden] { display: none; }` but bootstrap.min.css set `[hidden] { display: none !important; }` so we also need the `!important` here to be able to override the default hidden behavior on the sphinx rendered scikit-learn.org. See: https://github.com/scikit-learn/scikit-learn/issues/21755 */display: inline-block !important;position: relative;}#sk-container-id-1 div.sk-text-repr-fallback {display: none;}</style><div id=\"sk-container-id-1\" class=\"sk-top-container\"><div class=\"sk-text-repr-fallback\"><pre>RandomForestClassifier(class_weight=&#x27;balanced&#x27;, n_jobs=-1, random_state=42)</pre><b>In a Jupyter environment, please rerun this cell to show the HTML representation or trust the notebook. <br />On GitHub, the HTML representation is unable to render, please try loading this page with nbviewer.org.</b></div><div class=\"sk-container\" hidden><div class=\"sk-item\"><div class=\"sk-estimator sk-toggleable\"><input class=\"sk-toggleable__control sk-hidden--visually\" id=\"sk-estimator-id-1\" type=\"checkbox\" checked><label for=\"sk-estimator-id-1\" class=\"sk-toggleable__label sk-toggleable__label-arrow\">RandomForestClassifier</label><div class=\"sk-toggleable__content\"><pre>RandomForestClassifier(class_weight=&#x27;balanced&#x27;, n_jobs=-1, random_state=42)</pre></div></div></div></div></div>"
      ],
      "text/plain": [
       "RandomForestClassifier(class_weight='balanced', n_jobs=-1, random_state=42)"
      ]
     },
     "execution_count": 27,
     "metadata": {},
     "output_type": "execute_result"
    }
   ],
   "source": [
    "# Initialize and train the model\n",
    "rf_model = RandomForestClassifier(\n",
    "    n_estimators=100,\n",
    "    random_state=42,\n",
    "    class_weight='balanced',  # helpful for imbalanced data\n",
    "    n_jobs=-1\n",
    ")\n",
    "\n",
    "rf_model.fit(X_train_scaled, y_train)\n"
   ]
  },
  {
   "cell_type": "code",
   "execution_count": null,
   "id": "3988098d",
   "metadata": {},
   "outputs": [
    {
     "name": "stdout",
     "output_type": "stream",
     "text": [
      "AUC: 0.9638329684480919\n",
      "\n",
      "Classification Report:\n",
      "               precision    recall  f1-score   support\n",
      "\n",
      "           0       0.89      0.91      0.90      9584\n",
      "           1       0.91      0.88      0.89      9581\n",
      "\n",
      "    accuracy                           0.90     19165\n",
      "   macro avg       0.90      0.90      0.90     19165\n",
      "weighted avg       0.90      0.90      0.90     19165\n",
      "\n",
      "Confusion Matrix:\n",
      " [[8713  871]\n",
      " [1117 8464]]\n"
     ]
    }
   ],
   "source": [
    "# Predict\n",
    "y_pred = rf_model.predict(X_test_scaled)\n",
    "y_proba = rf_model.predict_proba(X_test_scaled)[:, 1]  # for AUC\n",
    "\n",
    "# Metrics\n",
    "print(\"AUC:\", roc_auc_score(y_test, y_proba))\n",
    "print(\"\\nClassification Report:\\n\", classification_report(y_test, y_pred))\n",
    "print(\"Confusion Matrix:\\n\", confusion_matrix(y_test, y_pred))\n"
   ]
  },
  {
   "cell_type": "code",
   "execution_count": null,
   "id": "287a99fa",
   "metadata": {},
   "outputs": [
    {
     "data": {
      "image/png": "[encoded data removed]",
      "text/plain": [
       "<Figure size 640x480 with 1 Axes>"
      ]
     },
     "metadata": {},
     "output_type": "display_data"
    }
   ],
   "source": [
    "\n",
    "feature_importances = pd.Series(\n",
    "    rf_model.feature_importances_, \n",
    "    index=X.columns\n",
    ").sort_values(ascending=False)\n",
    "\n",
    "feature_importances.plot(kind='barh')\n",
    "plt.title(\"Random Forest Feature Importances\")\n",
    "plt.gca().invert_yaxis()\n",
    "plt.tight_layout()\n",
    "plt.show()\n"
   ]
  },
  {
   "cell_type": "markdown",
   "id": "39eb84c9",
   "metadata": {},
   "source": [
    "#### Hyperparameter tuning"
   ]
  },
  {
   "cell_type": "code",
   "execution_count": null,
   "id": "95030db3",
   "metadata": {},
   "outputs": [],
   "source": [
    "param_grid = {\n",
    "    'n_estimators': [100, 200],\n",
    "    'max_depth': [None, 10, 20],\n",
    "    'min_samples_split': [2, 5],\n",
    "    'min_samples_leaf': [1, 2],\n",
    "    'max_features': ['sqrt', 'log2']\n",
    "}\n"
   ]
  },
  {
   "cell_type": "code",
   "execution_count": 41,
   "id": "8a56e20a",
   "metadata": {},
   "outputs": [
    {
     "name": "stdout",
     "output_type": "stream",
     "text": [
      "Fitting 5 folds for each of 48 candidates, totalling 240 fits\n",
      "[CV] END max_depth=None, max_features=sqrt, min_samples_leaf=1, min_samples_split=2, n_estimators=100; total time=  20.2s\n",
      "[CV] END max_depth=None, max_features=sqrt, min_samples_leaf=1, min_samples_split=2, n_estimators=100; total time=  21.2s\n",
      "[CV] END max_depth=None, max_features=sqrt, min_samples_leaf=1, min_samples_split=2, n_estimators=100; total time=  21.2s\n",
      "[CV] END max_depth=None, max_features=sqrt, min_samples_leaf=1, min_samples_split=2, n_estimators=100; total time=  21.4s\n",
      "[CV] END max_depth=None, max_features=sqrt, min_samples_leaf=1, min_samples_split=2, n_estimators=100; total time=  21.4s\n",
      "[CV] END max_depth=None, max_features=sqrt, min_samples_leaf=1, min_samples_split=2, n_estimators=200; total time=  43.8s\n",
      "[CV] END max_depth=None, max_features=sqrt, min_samples_leaf=1, min_samples_split=2, n_estimators=200; total time=  44.4s\n",
      "[CV] END max_depth=None, max_features=sqrt, min_samples_leaf=1, min_samples_split=2, n_estimators=200; total time=  44.6s\n",
      "[CV] END max_depth=None, max_features=sqrt, min_samples_leaf=1, min_samples_split=5, n_estimators=100; total time=  23.1s\n",
      "[CV] END max_depth=None, max_features=sqrt, min_samples_leaf=1, min_samples_split=5, n_estimators=100; total time=  23.2s\n",
      "[CV] END max_depth=None, max_features=sqrt, min_samples_leaf=1, min_samples_split=5, n_estimators=100; total time=  23.6s\n",
      "[CV] END max_depth=None, max_features=sqrt, min_samples_leaf=1, min_samples_split=2, n_estimators=200; total time=  41.4s\n",
      "[CV] END max_depth=None, max_features=sqrt, min_samples_leaf=1, min_samples_split=5, n_estimators=100; total time=  18.2s\n",
      "[CV] END max_depth=None, max_features=sqrt, min_samples_leaf=1, min_samples_split=2, n_estimators=200; total time=  41.9s\n",
      "[CV] END max_depth=None, max_features=sqrt, min_samples_leaf=1, min_samples_split=5, n_estimators=100; total time=  18.6s\n",
      "[CV] END max_depth=None, max_features=sqrt, min_samples_leaf=2, min_samples_split=2, n_estimators=100; total time=  18.1s\n",
      "[CV] END max_depth=None, max_features=sqrt, min_samples_leaf=2, min_samples_split=2, n_estimators=100; total time=  18.3s\n",
      "[CV] END max_depth=None, max_features=sqrt, min_samples_leaf=2, min_samples_split=2, n_estimators=100; total time=  18.3s\n",
      "[CV] END max_depth=None, max_features=sqrt, min_samples_leaf=1, min_samples_split=5, n_estimators=200; total time=  36.7s\n",
      "[CV] END max_depth=None, max_features=sqrt, min_samples_leaf=1, min_samples_split=5, n_estimators=200; total time=  36.9s\n",
      "[CV] END max_depth=None, max_features=sqrt, min_samples_leaf=1, min_samples_split=5, n_estimators=200; total time=  36.8s\n",
      "[CV] END max_depth=None, max_features=sqrt, min_samples_leaf=1, min_samples_split=5, n_estimators=200; total time=  37.0s\n",
      "[CV] END max_depth=None, max_features=sqrt, min_samples_leaf=2, min_samples_split=2, n_estimators=100; total time=  21.6s\n",
      "[CV] END max_depth=None, max_features=sqrt, min_samples_leaf=2, min_samples_split=2, n_estimators=100; total time=  22.4s\n",
      "[CV] END max_depth=None, max_features=sqrt, min_samples_leaf=1, min_samples_split=5, n_estimators=200; total time=  41.5s\n",
      "[CV] END max_depth=None, max_features=sqrt, min_samples_leaf=2, min_samples_split=2, n_estimators=200; total time=  39.2s\n",
      "[CV] END max_depth=None, max_features=sqrt, min_samples_leaf=2, min_samples_split=2, n_estimators=200; total time=  39.3s\n",
      "[CV] END max_depth=None, max_features=sqrt, min_samples_leaf=2, min_samples_split=2, n_estimators=200; total time=  38.8s\n",
      "[CV] END max_depth=None, max_features=sqrt, min_samples_leaf=2, min_samples_split=5, n_estimators=100; total time=  17.2s\n",
      "[CV] END max_depth=None, max_features=sqrt, min_samples_leaf=2, min_samples_split=5, n_estimators=100; total time=  17.6s\n",
      "[CV] END max_depth=None, max_features=sqrt, min_samples_leaf=2, min_samples_split=2, n_estimators=200; total time=  39.3s\n",
      "[CV] END max_depth=None, max_features=sqrt, min_samples_leaf=2, min_samples_split=5, n_estimators=100; total time=  16.8s\n",
      "[CV] END max_depth=None, max_features=sqrt, min_samples_leaf=2, min_samples_split=2, n_estimators=200; total time=  39.3s\n",
      "[CV] END max_depth=None, max_features=sqrt, min_samples_leaf=2, min_samples_split=5, n_estimators=100; total time=  12.8s\n",
      "[CV] END max_depth=None, max_features=sqrt, min_samples_leaf=2, min_samples_split=5, n_estimators=100; total time=  13.4s\n",
      "[CV] END max_depth=None, max_features=log2, min_samples_leaf=1, min_samples_split=2, n_estimators=100; total time=  15.2s\n",
      "[CV] END max_depth=None, max_features=sqrt, min_samples_leaf=2, min_samples_split=5, n_estimators=200; total time=  26.4s\n",
      "[CV] END max_depth=None, max_features=sqrt, min_samples_leaf=2, min_samples_split=5, n_estimators=200; total time=  26.7s\n",
      "[CV] END max_depth=None, max_features=sqrt, min_samples_leaf=2, min_samples_split=5, n_estimators=200; total time=  26.9s\n",
      "[CV] END max_depth=None, max_features=log2, min_samples_leaf=1, min_samples_split=2, n_estimators=100; total time=  14.7s\n",
      "[CV] END max_depth=None, max_features=sqrt, min_samples_leaf=2, min_samples_split=5, n_estimators=200; total time=  27.2s\n",
      "[CV] END max_depth=None, max_features=log2, min_samples_leaf=1, min_samples_split=2, n_estimators=100; total time=  14.7s\n",
      "[CV] END max_depth=None, max_features=sqrt, min_samples_leaf=2, min_samples_split=5, n_estimators=200; total time=  27.3s\n",
      "[CV] END max_depth=None, max_features=log2, min_samples_leaf=1, min_samples_split=2, n_estimators=100; total time=  14.6s\n",
      "[CV] END max_depth=None, max_features=log2, min_samples_leaf=1, min_samples_split=2, n_estimators=100; total time=  15.4s\n",
      "[CV] END max_depth=None, max_features=log2, min_samples_leaf=1, min_samples_split=5, n_estimators=100; total time=  15.4s\n",
      "[CV] END max_depth=None, max_features=log2, min_samples_leaf=1, min_samples_split=5, n_estimators=100; total time=  15.9s\n",
      "[CV] END max_depth=None, max_features=log2, min_samples_leaf=1, min_samples_split=5, n_estimators=100; total time=  15.8s\n",
      "[CV] END max_depth=None, max_features=log2, min_samples_leaf=1, min_samples_split=2, n_estimators=200; total time=  31.3s\n",
      "[CV] END max_depth=None, max_features=log2, min_samples_leaf=1, min_samples_split=2, n_estimators=200; total time=  31.3s\n",
      "[CV] END max_depth=None, max_features=log2, min_samples_leaf=1, min_samples_split=2, n_estimators=200; total time=  31.2s\n",
      "[CV] END max_depth=None, max_features=log2, min_samples_leaf=1, min_samples_split=2, n_estimators=200; total time=  31.4s\n",
      "[CV] END max_depth=None, max_features=log2, min_samples_leaf=1, min_samples_split=5, n_estimators=100; total time=  15.9s\n",
      "[CV] END max_depth=None, max_features=log2, min_samples_leaf=1, min_samples_split=2, n_estimators=200; total time=  31.4s\n",
      "[CV] END max_depth=None, max_features=log2, min_samples_leaf=1, min_samples_split=5, n_estimators=100; total time=  14.5s\n",
      "[CV] END max_depth=None, max_features=log2, min_samples_leaf=2, min_samples_split=2, n_estimators=100; total time=  13.5s\n",
      "[CV] END max_depth=None, max_features=log2, min_samples_leaf=2, min_samples_split=2, n_estimators=100; total time=  13.8s\n",
      "[CV] END max_depth=None, max_features=log2, min_samples_leaf=2, min_samples_split=2, n_estimators=100; total time=  14.7s\n",
      "[CV] END max_depth=None, max_features=log2, min_samples_leaf=2, min_samples_split=2, n_estimators=100; total time=  14.3s\n",
      "[CV] END max_depth=None, max_features=log2, min_samples_leaf=1, min_samples_split=5, n_estimators=200; total time=  28.6s\n",
      "[CV] END max_depth=None, max_features=log2, min_samples_leaf=1, min_samples_split=5, n_estimators=200; total time=  29.0s\n",
      "[CV] END max_depth=None, max_features=log2, min_samples_leaf=1, min_samples_split=5, n_estimators=200; total time=  28.6s\n",
      "[CV] END max_depth=None, max_features=log2, min_samples_leaf=2, min_samples_split=2, n_estimators=100; total time=  14.7s\n",
      "[CV] END max_depth=None, max_features=log2, min_samples_leaf=1, min_samples_split=5, n_estimators=200; total time=  28.8s\n",
      "[CV] END max_depth=None, max_features=log2, min_samples_leaf=1, min_samples_split=5, n_estimators=200; total time=  29.1s\n",
      "[CV] END max_depth=None, max_features=log2, min_samples_leaf=2, min_samples_split=5, n_estimators=100; total time=  13.5s\n",
      "[CV] END max_depth=None, max_features=log2, min_samples_leaf=2, min_samples_split=5, n_estimators=100; total time=  13.8s\n",
      "[CV] END max_depth=None, max_features=log2, min_samples_leaf=2, min_samples_split=5, n_estimators=100; total time=  13.7s\n",
      "[CV] END max_depth=None, max_features=log2, min_samples_leaf=2, min_samples_split=2, n_estimators=200; total time=  27.0s\n",
      "[CV] END max_depth=None, max_features=log2, min_samples_leaf=2, min_samples_split=2, n_estimators=200; total time=  26.9s\n",
      "[CV] END max_depth=None, max_features=log2, min_samples_leaf=2, min_samples_split=2, n_estimators=200; total time=  26.8s\n",
      "[CV] END max_depth=None, max_features=log2, min_samples_leaf=2, min_samples_split=2, n_estimators=200; total time=  27.0s\n",
      "[CV] END max_depth=None, max_features=log2, min_samples_leaf=2, min_samples_split=2, n_estimators=200; total time=  27.0s\n",
      "[CV] END max_depth=None, max_features=log2, min_samples_leaf=2, min_samples_split=5, n_estimators=100; total time=  13.5s\n",
      "[CV] END max_depth=None, max_features=log2, min_samples_leaf=2, min_samples_split=5, n_estimators=100; total time=  13.5s\n",
      "[CV] END max_depth=10, max_features=sqrt, min_samples_leaf=1, min_samples_split=2, n_estimators=100; total time=   9.5s\n",
      "[CV] END max_depth=10, max_features=sqrt, min_samples_leaf=1, min_samples_split=2, n_estimators=100; total time=   9.7s\n",
      "[CV] END max_depth=10, max_features=sqrt, min_samples_leaf=1, min_samples_split=2, n_estimators=100; total time=  10.0s\n",
      "[CV] END max_depth=None, max_features=log2, min_samples_leaf=2, min_samples_split=5, n_estimators=200; total time=  27.0s\n",
      "[CV] END max_depth=None, max_features=log2, min_samples_leaf=2, min_samples_split=5, n_estimators=200; total time=  27.6s\n",
      "[CV] END max_depth=10, max_features=sqrt, min_samples_leaf=1, min_samples_split=2, n_estimators=100; total time=   9.8s\n",
      "[CV] END max_depth=10, max_features=sqrt, min_samples_leaf=1, min_samples_split=2, n_estimators=100; total time=   9.7s\n",
      "[CV] END max_depth=None, max_features=log2, min_samples_leaf=2, min_samples_split=5, n_estimators=200; total time=  28.0s\n",
      "[CV] END max_depth=None, max_features=log2, min_samples_leaf=2, min_samples_split=5, n_estimators=200; total time=  28.2s\n",
      "[CV] END max_depth=None, max_features=log2, min_samples_leaf=2, min_samples_split=5, n_estimators=200; total time=  28.2s\n",
      "[CV] END max_depth=10, max_features=sqrt, min_samples_leaf=1, min_samples_split=2, n_estimators=200; total time=  20.7s\n",
      "[CV] END max_depth=10, max_features=sqrt, min_samples_leaf=1, min_samples_split=2, n_estimators=200; total time=  20.8s\n",
      "[CV] END max_depth=10, max_features=sqrt, min_samples_leaf=1, min_samples_split=2, n_estimators=200; total time=  21.0s\n",
      "[CV] END max_depth=10, max_features=sqrt, min_samples_leaf=1, min_samples_split=5, n_estimators=100; total time=  10.6s\n",
      "[CV] END max_depth=10, max_features=sqrt, min_samples_leaf=1, min_samples_split=5, n_estimators=100; total time=  10.5s\n",
      "[CV] END max_depth=10, max_features=sqrt, min_samples_leaf=1, min_samples_split=5, n_estimators=100; total time=  10.9s\n",
      "[CV] END max_depth=10, max_features=sqrt, min_samples_leaf=1, min_samples_split=2, n_estimators=200; total time=  20.6s\n",
      "[CV] END max_depth=10, max_features=sqrt, min_samples_leaf=1, min_samples_split=2, n_estimators=200; total time=  20.7s\n",
      "[CV] END max_depth=10, max_features=sqrt, min_samples_leaf=1, min_samples_split=5, n_estimators=100; total time=  10.0s\n",
      "[CV] END max_depth=10, max_features=sqrt, min_samples_leaf=1, min_samples_split=5, n_estimators=100; total time=  10.2s\n",
      "[CV] END max_depth=10, max_features=sqrt, min_samples_leaf=2, min_samples_split=2, n_estimators=100; total time=  10.0s\n",
      "[CV] END max_depth=10, max_features=sqrt, min_samples_leaf=2, min_samples_split=2, n_estimators=100; total time=  10.4s\n",
      "[CV] END max_depth=10, max_features=sqrt, min_samples_leaf=2, min_samples_split=2, n_estimators=100; total time=  10.3s\n",
      "[CV] END max_depth=10, max_features=sqrt, min_samples_leaf=1, min_samples_split=5, n_estimators=200; total time=  19.8s\n",
      "[CV] END max_depth=10, max_features=sqrt, min_samples_leaf=1, min_samples_split=5, n_estimators=200; total time=  19.5s\n",
      "[CV] END max_depth=10, max_features=sqrt, min_samples_leaf=1, min_samples_split=5, n_estimators=200; total time=  19.5s\n",
      "[CV] END max_depth=10, max_features=sqrt, min_samples_leaf=1, min_samples_split=5, n_estimators=200; total time=  19.4s\n",
      "[CV] END max_depth=10, max_features=sqrt, min_samples_leaf=1, min_samples_split=5, n_estimators=200; total time=  19.3s\n",
      "[CV] END max_depth=10, max_features=sqrt, min_samples_leaf=2, min_samples_split=2, n_estimators=100; total time=   9.4s\n",
      "[CV] END max_depth=10, max_features=sqrt, min_samples_leaf=2, min_samples_split=2, n_estimators=100; total time=  10.0s\n",
      "[CV] END max_depth=10, max_features=sqrt, min_samples_leaf=2, min_samples_split=5, n_estimators=100; total time=  10.6s\n",
      "[CV] END max_depth=10, max_features=sqrt, min_samples_leaf=2, min_samples_split=5, n_estimators=100; total time=  10.1s\n",
      "[CV] END max_depth=10, max_features=sqrt, min_samples_leaf=2, min_samples_split=5, n_estimators=100; total time=  10.3s\n",
      "[CV] END max_depth=10, max_features=sqrt, min_samples_leaf=2, min_samples_split=2, n_estimators=200; total time=  19.7s\n",
      "[CV] END max_depth=10, max_features=sqrt, min_samples_leaf=2, min_samples_split=2, n_estimators=200; total time=  18.8s\n",
      "[CV] END max_depth=10, max_features=sqrt, min_samples_leaf=2, min_samples_split=2, n_estimators=200; total time=  18.9s\n",
      "[CV] END max_depth=10, max_features=sqrt, min_samples_leaf=2, min_samples_split=2, n_estimators=200; total time=  19.1s\n",
      "[CV] END max_depth=10, max_features=sqrt, min_samples_leaf=2, min_samples_split=2, n_estimators=200; total time=  19.2s\n",
      "[CV] END max_depth=10, max_features=sqrt, min_samples_leaf=2, min_samples_split=5, n_estimators=100; total time=   9.0s\n",
      "[CV] END max_depth=10, max_features=sqrt, min_samples_leaf=2, min_samples_split=5, n_estimators=100; total time=   9.2s\n",
      "[CV] END max_depth=10, max_features=log2, min_samples_leaf=1, min_samples_split=2, n_estimators=100; total time=  10.3s\n",
      "[CV] END max_depth=10, max_features=log2, min_samples_leaf=1, min_samples_split=2, n_estimators=100; total time=  10.3s\n",
      "[CV] END max_depth=10, max_features=log2, min_samples_leaf=1, min_samples_split=2, n_estimators=100; total time=  10.2s\n",
      "[CV] END max_depth=10, max_features=sqrt, min_samples_leaf=2, min_samples_split=5, n_estimators=200; total time=  19.1s\n",
      "[CV] END max_depth=10, max_features=sqrt, min_samples_leaf=2, min_samples_split=5, n_estimators=200; total time=  19.0s\n",
      "[CV] END max_depth=10, max_features=sqrt, min_samples_leaf=2, min_samples_split=5, n_estimators=200; total time=  18.7s\n",
      "[CV] END max_depth=10, max_features=sqrt, min_samples_leaf=2, min_samples_split=5, n_estimators=200; total time=  18.9s\n",
      "[CV] END max_depth=10, max_features=sqrt, min_samples_leaf=2, min_samples_split=5, n_estimators=200; total time=  19.1s\n",
      "[CV] END max_depth=10, max_features=log2, min_samples_leaf=1, min_samples_split=2, n_estimators=100; total time=   9.1s\n",
      "[CV] END max_depth=10, max_features=log2, min_samples_leaf=1, min_samples_split=2, n_estimators=100; total time=   9.2s\n",
      "[CV] END max_depth=10, max_features=log2, min_samples_leaf=1, min_samples_split=5, n_estimators=100; total time=  10.0s\n",
      "[CV] END max_depth=10, max_features=log2, min_samples_leaf=1, min_samples_split=5, n_estimators=100; total time=  10.2s\n",
      "[CV] END max_depth=10, max_features=log2, min_samples_leaf=1, min_samples_split=5, n_estimators=100; total time=  10.1s\n",
      "[CV] END max_depth=10, max_features=log2, min_samples_leaf=1, min_samples_split=2, n_estimators=200; total time=  19.3s\n",
      "[CV] END max_depth=10, max_features=log2, min_samples_leaf=1, min_samples_split=2, n_estimators=200; total time=  19.0s\n",
      "[CV] END max_depth=10, max_features=log2, min_samples_leaf=1, min_samples_split=2, n_estimators=200; total time=  18.7s\n",
      "[CV] END max_depth=10, max_features=log2, min_samples_leaf=1, min_samples_split=2, n_estimators=200; total time=  18.7s\n",
      "[CV] END max_depth=10, max_features=log2, min_samples_leaf=1, min_samples_split=2, n_estimators=200; total time=  18.4s\n",
      "[CV] END max_depth=10, max_features=log2, min_samples_leaf=1, min_samples_split=5, n_estimators=100; total time=   9.0s\n",
      "[CV] END max_depth=10, max_features=log2, min_samples_leaf=1, min_samples_split=5, n_estimators=100; total time=   9.5s\n",
      "[CV] END max_depth=10, max_features=log2, min_samples_leaf=2, min_samples_split=2, n_estimators=100; total time=   9.8s\n",
      "[CV] END max_depth=10, max_features=log2, min_samples_leaf=2, min_samples_split=2, n_estimators=100; total time=   9.9s\n",
      "[CV] END max_depth=10, max_features=log2, min_samples_leaf=2, min_samples_split=2, n_estimators=100; total time=  10.1s\n",
      "[CV] END max_depth=10, max_features=log2, min_samples_leaf=1, min_samples_split=5, n_estimators=200; total time=  19.0s\n",
      "[CV] END max_depth=10, max_features=log2, min_samples_leaf=1, min_samples_split=5, n_estimators=200; total time=  18.9s\n",
      "[CV] END max_depth=10, max_features=log2, min_samples_leaf=1, min_samples_split=5, n_estimators=200; total time=  19.1s\n",
      "[CV] END max_depth=10, max_features=log2, min_samples_leaf=1, min_samples_split=5, n_estimators=200; total time=  19.3s\n",
      "[CV] END max_depth=10, max_features=log2, min_samples_leaf=1, min_samples_split=5, n_estimators=200; total time=  19.4s\n",
      "[CV] END max_depth=10, max_features=log2, min_samples_leaf=2, min_samples_split=2, n_estimators=100; total time=   9.7s\n",
      "[CV] END max_depth=10, max_features=log2, min_samples_leaf=2, min_samples_split=2, n_estimators=100; total time=   9.6s\n",
      "[CV] END max_depth=10, max_features=log2, min_samples_leaf=2, min_samples_split=5, n_estimators=100; total time=   9.9s\n",
      "[CV] END max_depth=10, max_features=log2, min_samples_leaf=2, min_samples_split=5, n_estimators=100; total time=  10.0s\n",
      "[CV] END max_depth=10, max_features=log2, min_samples_leaf=2, min_samples_split=5, n_estimators=100; total time=  10.1s\n",
      "[CV] END max_depth=10, max_features=log2, min_samples_leaf=2, min_samples_split=2, n_estimators=200; total time=  19.6s\n",
      "[CV] END max_depth=10, max_features=log2, min_samples_leaf=2, min_samples_split=2, n_estimators=200; total time=  19.0s\n",
      "[CV] END max_depth=10, max_features=log2, min_samples_leaf=2, min_samples_split=2, n_estimators=200; total time=  19.0s\n",
      "[CV] END max_depth=10, max_features=log2, min_samples_leaf=2, min_samples_split=2, n_estimators=200; total time=  19.3s\n",
      "[CV] END max_depth=10, max_features=log2, min_samples_leaf=2, min_samples_split=2, n_estimators=200; total time=  18.5s\n",
      "[CV] END max_depth=10, max_features=log2, min_samples_leaf=2, min_samples_split=5, n_estimators=100; total time=   9.4s\n",
      "[CV] END max_depth=10, max_features=log2, min_samples_leaf=2, min_samples_split=5, n_estimators=100; total time=   9.4s\n",
      "[CV] END max_depth=10, max_features=log2, min_samples_leaf=2, min_samples_split=5, n_estimators=200; total time=  19.0s\n",
      "[CV] END max_depth=20, max_features=sqrt, min_samples_leaf=1, min_samples_split=2, n_estimators=100; total time=  14.2s\n",
      "[CV] END max_depth=10, max_features=log2, min_samples_leaf=2, min_samples_split=5, n_estimators=200; total time=  19.3s\n",
      "[CV] END max_depth=10, max_features=log2, min_samples_leaf=2, min_samples_split=5, n_estimators=200; total time=  18.9s\n",
      "[CV] END max_depth=20, max_features=sqrt, min_samples_leaf=1, min_samples_split=2, n_estimators=100; total time=  14.1s\n",
      "[CV] END max_depth=20, max_features=sqrt, min_samples_leaf=1, min_samples_split=2, n_estimators=100; total time=  14.0s\n",
      "[CV] END max_depth=10, max_features=log2, min_samples_leaf=2, min_samples_split=5, n_estimators=200; total time=  19.3s\n",
      "[CV] END max_depth=10, max_features=log2, min_samples_leaf=2, min_samples_split=5, n_estimators=200; total time=  19.2s\n",
      "[CV] END max_depth=20, max_features=sqrt, min_samples_leaf=1, min_samples_split=2, n_estimators=100; total time=  13.5s\n",
      "[CV] END max_depth=20, max_features=sqrt, min_samples_leaf=1, min_samples_split=2, n_estimators=100; total time=  13.7s\n",
      "[CV] END max_depth=20, max_features=sqrt, min_samples_leaf=1, min_samples_split=5, n_estimators=100; total time=  13.6s\n",
      "[CV] END max_depth=20, max_features=sqrt, min_samples_leaf=1, min_samples_split=5, n_estimators=100; total time=  13.8s\n",
      "[CV] END max_depth=20, max_features=sqrt, min_samples_leaf=1, min_samples_split=2, n_estimators=200; total time=  26.7s\n",
      "[CV] END max_depth=20, max_features=sqrt, min_samples_leaf=1, min_samples_split=5, n_estimators=100; total time=  13.9s\n",
      "[CV] END max_depth=20, max_features=sqrt, min_samples_leaf=1, min_samples_split=2, n_estimators=200; total time=  26.8s\n",
      "[CV] END max_depth=20, max_features=sqrt, min_samples_leaf=1, min_samples_split=2, n_estimators=200; total time=  27.5s\n",
      "[CV] END max_depth=20, max_features=sqrt, min_samples_leaf=1, min_samples_split=2, n_estimators=200; total time=  27.1s\n",
      "[CV] END max_depth=20, max_features=sqrt, min_samples_leaf=1, min_samples_split=2, n_estimators=200; total time=  27.2s\n",
      "[CV] END max_depth=20, max_features=sqrt, min_samples_leaf=1, min_samples_split=5, n_estimators=100; total time=  13.4s\n",
      "[CV] END max_depth=20, max_features=sqrt, min_samples_leaf=1, min_samples_split=5, n_estimators=100; total time=  13.3s\n",
      "[CV] END max_depth=20, max_features=sqrt, min_samples_leaf=2, min_samples_split=2, n_estimators=100; total time=  13.3s\n",
      "[CV] END max_depth=20, max_features=sqrt, min_samples_leaf=2, min_samples_split=2, n_estimators=100; total time=  13.8s\n",
      "[CV] END max_depth=20, max_features=sqrt, min_samples_leaf=2, min_samples_split=2, n_estimators=100; total time=  14.0s\n",
      "[CV] END max_depth=20, max_features=sqrt, min_samples_leaf=1, min_samples_split=5, n_estimators=200; total time=  26.6s\n",
      "[CV] END max_depth=20, max_features=sqrt, min_samples_leaf=1, min_samples_split=5, n_estimators=200; total time=  26.7s\n",
      "[CV] END max_depth=20, max_features=sqrt, min_samples_leaf=1, min_samples_split=5, n_estimators=200; total time=  26.8s\n",
      "[CV] END max_depth=20, max_features=sqrt, min_samples_leaf=1, min_samples_split=5, n_estimators=200; total time=  27.1s\n",
      "[CV] END max_depth=20, max_features=sqrt, min_samples_leaf=2, min_samples_split=2, n_estimators=100; total time=  13.3s\n",
      "[CV] END max_depth=20, max_features=sqrt, min_samples_leaf=1, min_samples_split=5, n_estimators=200; total time=  27.0s\n",
      "[CV] END max_depth=20, max_features=sqrt, min_samples_leaf=2, min_samples_split=2, n_estimators=100; total time=  13.2s\n",
      "[CV] END max_depth=20, max_features=sqrt, min_samples_leaf=2, min_samples_split=5, n_estimators=100; total time=  13.3s\n",
      "[CV] END max_depth=20, max_features=sqrt, min_samples_leaf=2, min_samples_split=5, n_estimators=100; total time=  13.5s\n",
      "[CV] END max_depth=20, max_features=sqrt, min_samples_leaf=2, min_samples_split=5, n_estimators=100; total time=  13.7s\n",
      "[CV] END max_depth=20, max_features=sqrt, min_samples_leaf=2, min_samples_split=2, n_estimators=200; total time=  26.4s\n",
      "[CV] END max_depth=20, max_features=sqrt, min_samples_leaf=2, min_samples_split=2, n_estimators=200; total time=  25.9s\n",
      "[CV] END max_depth=20, max_features=sqrt, min_samples_leaf=2, min_samples_split=2, n_estimators=200; total time=  26.3s\n",
      "[CV] END max_depth=20, max_features=sqrt, min_samples_leaf=2, min_samples_split=2, n_estimators=200; total time=  26.2s\n",
      "[CV] END max_depth=20, max_features=sqrt, min_samples_leaf=2, min_samples_split=2, n_estimators=200; total time=  26.4s\n",
      "[CV] END max_depth=20, max_features=sqrt, min_samples_leaf=2, min_samples_split=5, n_estimators=100; total time=  12.9s\n",
      "[CV] END max_depth=20, max_features=sqrt, min_samples_leaf=2, min_samples_split=5, n_estimators=100; total time=  13.2s\n",
      "[CV] END max_depth=20, max_features=log2, min_samples_leaf=1, min_samples_split=2, n_estimators=100; total time=  14.0s\n",
      "[CV] END max_depth=20, max_features=sqrt, min_samples_leaf=2, min_samples_split=5, n_estimators=200; total time=  26.4s\n",
      "[CV] END max_depth=20, max_features=log2, min_samples_leaf=1, min_samples_split=2, n_estimators=100; total time=  13.9s\n",
      "[CV] END max_depth=20, max_features=log2, min_samples_leaf=1, min_samples_split=2, n_estimators=100; total time=  13.6s\n",
      "[CV] END max_depth=20, max_features=sqrt, min_samples_leaf=2, min_samples_split=5, n_estimators=200; total time=  25.5s\n",
      "[CV] END max_depth=20, max_features=sqrt, min_samples_leaf=2, min_samples_split=5, n_estimators=200; total time=  25.3s\n",
      "[CV] END max_depth=20, max_features=sqrt, min_samples_leaf=2, min_samples_split=5, n_estimators=200; total time=  25.6s\n",
      "[CV] END max_depth=20, max_features=sqrt, min_samples_leaf=2, min_samples_split=5, n_estimators=200; total time=  25.7s\n",
      "[CV] END max_depth=20, max_features=log2, min_samples_leaf=1, min_samples_split=2, n_estimators=100; total time=  13.1s\n",
      "[CV] END max_depth=20, max_features=log2, min_samples_leaf=1, min_samples_split=2, n_estimators=100; total time=  13.4s\n",
      "[CV] END max_depth=20, max_features=log2, min_samples_leaf=1, min_samples_split=5, n_estimators=100; total time=  13.2s\n",
      "[CV] END max_depth=20, max_features=log2, min_samples_leaf=1, min_samples_split=2, n_estimators=200; total time=  26.7s\n",
      "[CV] END max_depth=20, max_features=log2, min_samples_leaf=1, min_samples_split=5, n_estimators=100; total time=  13.8s\n",
      "[CV] END max_depth=20, max_features=log2, min_samples_leaf=1, min_samples_split=2, n_estimators=200; total time=  26.6s\n",
      "[CV] END max_depth=20, max_features=log2, min_samples_leaf=1, min_samples_split=5, n_estimators=100; total time=  13.7s\n",
      "[CV] END max_depth=20, max_features=log2, min_samples_leaf=1, min_samples_split=2, n_estimators=200; total time=  25.4s\n",
      "[CV] END max_depth=20, max_features=log2, min_samples_leaf=1, min_samples_split=2, n_estimators=200; total time=  25.7s\n",
      "[CV] END max_depth=20, max_features=log2, min_samples_leaf=1, min_samples_split=2, n_estimators=200; total time=  26.2s\n",
      "[CV] END max_depth=20, max_features=log2, min_samples_leaf=1, min_samples_split=5, n_estimators=100; total time=  12.9s\n",
      "[CV] END max_depth=20, max_features=log2, min_samples_leaf=1, min_samples_split=5, n_estimators=100; total time=  12.5s\n",
      "[CV] END max_depth=20, max_features=log2, min_samples_leaf=2, min_samples_split=2, n_estimators=100; total time=  13.6s\n",
      "[CV] END max_depth=20, max_features=log2, min_samples_leaf=2, min_samples_split=2, n_estimators=100; total time=  14.2s\n",
      "[CV] END max_depth=20, max_features=log2, min_samples_leaf=1, min_samples_split=5, n_estimators=200; total time=  26.4s\n",
      "[CV] END max_depth=20, max_features=log2, min_samples_leaf=2, min_samples_split=2, n_estimators=100; total time=  13.9s\n",
      "[CV] END max_depth=20, max_features=log2, min_samples_leaf=1, min_samples_split=5, n_estimators=200; total time=  26.4s\n",
      "[CV] END max_depth=20, max_features=log2, min_samples_leaf=1, min_samples_split=5, n_estimators=200; total time=  26.4s\n",
      "[CV] END max_depth=20, max_features=log2, min_samples_leaf=1, min_samples_split=5, n_estimators=200; total time=  26.9s\n",
      "[CV] END max_depth=20, max_features=log2, min_samples_leaf=1, min_samples_split=5, n_estimators=200; total time=  26.5s\n",
      "[CV] END max_depth=20, max_features=log2, min_samples_leaf=2, min_samples_split=2, n_estimators=100; total time=  12.5s\n",
      "[CV] END max_depth=20, max_features=log2, min_samples_leaf=2, min_samples_split=2, n_estimators=100; total time=  12.4s\n",
      "[CV] END max_depth=20, max_features=log2, min_samples_leaf=2, min_samples_split=5, n_estimators=100; total time=  14.9s\n",
      "[CV] END max_depth=20, max_features=log2, min_samples_leaf=2, min_samples_split=5, n_estimators=100; total time=  14.4s\n",
      "[CV] END max_depth=20, max_features=log2, min_samples_leaf=2, min_samples_split=5, n_estimators=100; total time=  14.5s\n",
      "[CV] END max_depth=20, max_features=log2, min_samples_leaf=2, min_samples_split=2, n_estimators=200; total time=  26.4s\n",
      "[CV] END max_depth=20, max_features=log2, min_samples_leaf=2, min_samples_split=2, n_estimators=200; total time=  26.4s\n",
      "[CV] END max_depth=20, max_features=log2, min_samples_leaf=2, min_samples_split=2, n_estimators=200; total time=  26.8s\n",
      "[CV] END max_depth=20, max_features=log2, min_samples_leaf=2, min_samples_split=2, n_estimators=200; total time=  26.8s\n",
      "[CV] END max_depth=20, max_features=log2, min_samples_leaf=2, min_samples_split=2, n_estimators=200; total time=  26.5s\n",
      "[CV] END max_depth=20, max_features=log2, min_samples_leaf=2, min_samples_split=5, n_estimators=100; total time=  12.3s\n",
      "[CV] END max_depth=20, max_features=log2, min_samples_leaf=2, min_samples_split=5, n_estimators=100; total time=  12.4s\n",
      "[CV] END max_depth=20, max_features=log2, min_samples_leaf=2, min_samples_split=5, n_estimators=200; total time=  20.1s\n",
      "[CV] END max_depth=20, max_features=log2, min_samples_leaf=2, min_samples_split=5, n_estimators=200; total time=  19.2s\n",
      "[CV] END max_depth=20, max_features=log2, min_samples_leaf=2, min_samples_split=5, n_estimators=200; total time=  19.3s\n",
      "[CV] END max_depth=20, max_features=log2, min_samples_leaf=2, min_samples_split=5, n_estimators=200; total time=  19.2s\n",
      "[CV] END max_depth=20, max_features=log2, min_samples_leaf=2, min_samples_split=5, n_estimators=200; total time=  19.5s\n"
     ]
    },
    {
     "data": {
      "text/html": [
       "<style>#sk-container-id-2 {color: black;background-color: white;}#sk-container-id-2 pre{padding: 0;}#sk-container-id-2 div.sk-toggleable {background-color: white;}#sk-container-id-2 label.sk-toggleable__label {cursor: pointer;display: block;width: 100%;margin-bottom: 0;padding: 0.3em;box-sizing: border-box;text-align: center;}#sk-container-id-2 label.sk-toggleable__label-arrow:before {content: \"▸\";float: left;margin-right: 0.25em;color: #696969;}#sk-container-id-2 label.sk-toggleable__label-arrow:hover:before {color: black;}#sk-container-id-2 div.sk-estimator:hover label.sk-toggleable__label-arrow:before {color: black;}#sk-container-id-2 div.sk-toggleable__content {max-height: 0;max-width: 0;overflow: hidden;text-align: left;background-color: #f0f8ff;}#sk-container-id-2 div.sk-toggleable__content pre {margin: 0.2em;color: black;border-radius: 0.25em;background-color: #f0f8ff;}#sk-container-id-2 input.sk-toggleable__control:checked~div.sk-toggleable__content {max-height: 200px;max-width: 100%;overflow: auto;}#sk-container-id-2 input.sk-toggleable__control:checked~label.sk-toggleable__label-arrow:before {content: \"▾\";}#sk-container-id-2 div.sk-estimator input.sk-toggleable__control:checked~label.sk-toggleable__label {background-color: #d4ebff;}#sk-container-id-2 div.sk-label input.sk-toggleable__control:checked~label.sk-toggleable__label {background-color: #d4ebff;}#sk-container-id-2 input.sk-hidden--visually {border: 0;clip: rect(1px 1px 1px 1px);clip: rect(1px, 1px, 1px, 1px);height: 1px;margin: -1px;overflow: hidden;padding: 0;position: absolute;width: 1px;}#sk-container-id-2 div.sk-estimator {font-family: monospace;background-color: #f0f8ff;border: 1px dotted black;border-radius: 0.25em;box-sizing: border-box;margin-bottom: 0.5em;}#sk-container-id-2 div.sk-estimator:hover {background-color: #d4ebff;}#sk-container-id-2 div.sk-parallel-item::after {content: \"\";width: 100%;border-bottom: 1px solid gray;flex-grow: 1;}#sk-container-id-2 div.sk-label:hover label.sk-toggleable__label {background-color: #d4ebff;}#sk-container-id-2 div.sk-serial::before {content: \"\";position: absolute;border-left: 1px solid gray;box-sizing: border-box;top: 0;bottom: 0;left: 50%;z-index: 0;}#sk-container-id-2 div.sk-serial {display: flex;flex-direction: column;align-items: center;background-color: white;padding-right: 0.2em;padding-left: 0.2em;position: relative;}#sk-container-id-2 div.sk-item {position: relative;z-index: 1;}#sk-container-id-2 div.sk-parallel {display: flex;align-items: stretch;justify-content: center;background-color: white;position: relative;}#sk-container-id-2 div.sk-item::before, #sk-container-id-2 div.sk-parallel-item::before {content: \"\";position: absolute;border-left: 1px solid gray;box-sizing: border-box;top: 0;bottom: 0;left: 50%;z-index: -1;}#sk-container-id-2 div.sk-parallel-item {display: flex;flex-direction: column;z-index: 1;position: relative;background-color: white;}#sk-container-id-2 div.sk-parallel-item:first-child::after {align-self: flex-end;width: 50%;}#sk-container-id-2 div.sk-parallel-item:last-child::after {align-self: flex-start;width: 50%;}#sk-container-id-2 div.sk-parallel-item:only-child::after {width: 0;}#sk-container-id-2 div.sk-dashed-wrapped {border: 1px dashed gray;margin: 0 0.4em 0.5em 0.4em;box-sizing: border-box;padding-bottom: 0.4em;background-color: white;}#sk-container-id-2 div.sk-label label {font-family: monospace;font-weight: bold;display: inline-block;line-height: 1.2em;}#sk-container-id-2 div.sk-label-container {text-align: center;}#sk-container-id-2 div.sk-container {/* jupyter's `normalize.less` sets `[hidden] { display: none; }` but bootstrap.min.css set `[hidden] { display: none !important; }` so we also need the `!important` here to be able to override the default hidden behavior on the sphinx rendered scikit-learn.org. See: https://github.com/scikit-learn/scikit-learn/issues/21755 */display: inline-block !important;position: relative;}#sk-container-id-2 div.sk-text-repr-fallback {display: none;}</style><div id=\"sk-container-id-2\" class=\"sk-top-container\"><div class=\"sk-text-repr-fallback\"><pre>GridSearchCV(cv=5,\n",
       "             estimator=RandomForestClassifier(class_weight=&#x27;balanced&#x27;,\n",
       "                                              n_jobs=-1, random_state=42),\n",
       "             n_jobs=-1,\n",
       "             param_grid={&#x27;max_depth&#x27;: [None, 10, 20],\n",
       "                         &#x27;max_features&#x27;: [&#x27;sqrt&#x27;, &#x27;log2&#x27;],\n",
       "                         &#x27;min_samples_leaf&#x27;: [1, 2],\n",
       "                         &#x27;min_samples_split&#x27;: [2, 5],\n",
       "                         &#x27;n_estimators&#x27;: [100, 200]},\n",
       "             scoring=&#x27;roc_auc&#x27;, verbose=2)</pre><b>In a Jupyter environment, please rerun this cell to show the HTML representation or trust the notebook. <br />On GitHub, the HTML representation is unable to render, please try loading this page with nbviewer.org.</b></div><div class=\"sk-container\" hidden><div class=\"sk-item sk-dashed-wrapped\"><div class=\"sk-label-container\"><div class=\"sk-label sk-toggleable\"><input class=\"sk-toggleable__control sk-hidden--visually\" id=\"sk-estimator-id-2\" type=\"checkbox\" ><label for=\"sk-estimator-id-2\" class=\"sk-toggleable__label sk-toggleable__label-arrow\">GridSearchCV</label><div class=\"sk-toggleable__content\"><pre>GridSearchCV(cv=5,\n",
       "             estimator=RandomForestClassifier(class_weight=&#x27;balanced&#x27;,\n",
       "                                              n_jobs=-1, random_state=42),\n",
       "             n_jobs=-1,\n",
       "             param_grid={&#x27;max_depth&#x27;: [None, 10, 20],\n",
       "                         &#x27;max_features&#x27;: [&#x27;sqrt&#x27;, &#x27;log2&#x27;],\n",
       "                         &#x27;min_samples_leaf&#x27;: [1, 2],\n",
       "                         &#x27;min_samples_split&#x27;: [2, 5],\n",
       "                         &#x27;n_estimators&#x27;: [100, 200]},\n",
       "             scoring=&#x27;roc_auc&#x27;, verbose=2)</pre></div></div></div><div class=\"sk-parallel\"><div class=\"sk-parallel-item\"><div class=\"sk-item\"><div class=\"sk-label-container\"><div class=\"sk-label sk-toggleable\"><input class=\"sk-toggleable__control sk-hidden--visually\" id=\"sk-estimator-id-3\" type=\"checkbox\" ><label for=\"sk-estimator-id-3\" class=\"sk-toggleable__label sk-toggleable__label-arrow\">estimator: RandomForestClassifier</label><div class=\"sk-toggleable__content\"><pre>RandomForestClassifier(class_weight=&#x27;balanced&#x27;, n_jobs=-1, random_state=42)</pre></div></div></div><div class=\"sk-serial\"><div class=\"sk-item\"><div class=\"sk-estimator sk-toggleable\"><input class=\"sk-toggleable__control sk-hidden--visually\" id=\"sk-estimator-id-4\" type=\"checkbox\" ><label for=\"sk-estimator-id-4\" class=\"sk-toggleable__label sk-toggleable__label-arrow\">RandomForestClassifier</label><div class=\"sk-toggleable__content\"><pre>RandomForestClassifier(class_weight=&#x27;balanced&#x27;, n_jobs=-1, random_state=42)</pre></div></div></div></div></div></div></div></div></div></div>"
      ],
      "text/plain": [
       "GridSearchCV(cv=5,\n",
       "             estimator=RandomForestClassifier(class_weight='balanced',\n",
       "                                              n_jobs=-1, random_state=42),\n",
       "             n_jobs=-1,\n",
       "             param_grid={'max_depth': [None, 10, 20],\n",
       "                         'max_features': ['sqrt', 'log2'],\n",
       "                         'min_samples_leaf': [1, 2],\n",
       "                         'min_samples_split': [2, 5],\n",
       "                         'n_estimators': [100, 200]},\n",
       "             scoring='roc_auc', verbose=2)"
      ]
     },
     "execution_count": 41,
     "metadata": {},
     "output_type": "execute_result"
    }
   ],
   "source": [
    "rf = RandomForestClassifier(random_state=42, class_weight='balanced', n_jobs=-1)\n",
    "\n",
    "grid_search = GridSearchCV(\n",
    "    estimator=rf,\n",
    "    param_grid=param_grid,\n",
    "    scoring='roc_auc',\n",
    "    cv=5,\n",
    "    n_jobs=-1,\n",
    "    verbose=2\n",
    ")\n",
    "\n",
    "grid_search.fit(X_train_scaled, y_train)\n"
   ]
  },
  {
   "cell_type": "code",
   "execution_count": 42,
   "id": "186ea7dc",
   "metadata": {},
   "outputs": [
    {
     "name": "stdout",
     "output_type": "stream",
     "text": [
      "Best AUC: 0.97070010112583\n",
      "Best parameters: {'max_depth': 20, 'max_features': 'sqrt', 'min_samples_leaf': 1, 'min_samples_split': 2, 'n_estimators': 200}\n"
     ]
    }
   ],
   "source": [
    "print(\"Best AUC:\", grid_search.best_score_)\n",
    "print(\"Best parameters:\", grid_search.best_params_)\n",
    "\n",
    "# Use the best model\n",
    "best_rf = grid_search.best_estimator_\n"
   ]
  },
  {
   "cell_type": "code",
   "execution_count": 43,
   "id": "cb04b2ac",
   "metadata": {},
   "outputs": [
    {
     "name": "stdout",
     "output_type": "stream",
     "text": [
      "Test AUC: 0.9707432032373476\n",
      "\n",
      "Classification Report:\n",
      "               precision    recall  f1-score   support\n",
      "\n",
      "           0       0.88      0.94      0.91      9584\n",
      "           1       0.93      0.88      0.90      9581\n",
      "\n",
      "    accuracy                           0.91     19165\n",
      "   macro avg       0.91      0.91      0.91     19165\n",
      "weighted avg       0.91      0.91      0.91     19165\n",
      "\n",
      "Confusion Matrix:\n",
      " [[8965  619]\n",
      " [1187 8394]]\n"
     ]
    }
   ],
   "source": [
    "y_pred = best_rf.predict(X_test_scaled)\n",
    "y_proba = best_rf.predict_proba(X_test_scaled)[:, 1]\n",
    "\n",
    "print(\"Test AUC:\", roc_auc_score(y_test, y_proba))\n",
    "print(\"\\nClassification Report:\\n\", classification_report(y_test, y_pred))\n",
    "print(\"Confusion Matrix:\\n\", confusion_matrix(y_test, y_pred))"
   ]
  }
 ],
 "metadata": {
  "kernelspec": {
   "display_name": "venv",
   "language": "python",
   "name": "python3"
  },
  "language_info": {
   "codemirror_mode": {
    "name": "ipython",
    "version": 3
   },
   "file_extension": ".py",
   "mimetype": "text/x-python",
   "name": "python",
   "nbconvert_exporter": "python",
   "pygments_lexer": "ipython3",
   "version": "3.8.1"
  }
 },
 "nbformat": 4,
 "nbformat_minor": 5
}
