{
 "cells": [
  {
   "cell_type": "markdown",
   "id": "4c574e88",
   "metadata": {},
   "source": [
    "# Modeling Pipeline for Phishing URL Detection\n",
    "\n",
    "In this notebook, we build a full modeling pipeline for detecting phishing URLs.  \n",
    "We start with a dataset that contains two columns: a **URL** and a **label** indicating whether the URL is **benign** or **phishing**.\n",
    "\n",
    "While we use a well-known research dataset for this example, **any dataset with labeled URLs** can be used — because **all features in this pipeline will be created from scratch** using custom Python functions.\n",
    "\n",
    "📘 **Dataset citation**:  \n",
    "\n",
    "> [1] S. Marchal, J. Francois, R. State, and T. Engel.  \n",
    "> *PhishStorm: Detecting Phishing with Streaming Analytics*.  \n",
    "> IEEE Transactions on Network and Service Management (TNSM), 11(4):458–471, 2014.\n"
   ]
  },
  {
   "cell_type": "markdown",
   "id": "9934418a",
   "metadata": {},
   "source": [
    "## Set up"
   ]
  },
  {
   "cell_type": "code",
   "execution_count": 1,
   "id": "59c3792a",
   "metadata": {},
   "outputs": [],
   "source": [
    "# Load packages\n",
    "from detecting_phishing_urls.load_data import load_phishing_data, load_alexa_domains\n"
   ]
  },
  {
   "cell_type": "markdown",
   "id": "b709dd70",
   "metadata": {},
   "source": [
    "First, let's load our main dataset with URLs and labels."
   ]
  },
  {
   "cell_type": "code",
   "execution_count": 2,
   "id": "bdfbc1cc",
   "metadata": {},
   "outputs": [
    {
     "data": {
      "application/vnd.microsoft.datawrangler.viewer.v0+json": {
       "columns": [
        {
         "name": "index",
         "rawType": "int64",
         "type": "integer"
        },
        {
         "name": "url",
         "rawType": "object",
         "type": "string"
        },
        {
         "name": "label",
         "rawType": "int64",
         "type": "integer"
        }
       ],
       "ref": "0585a5c0-4c6e-448e-a70e-396548a066a5",
       "rows": [
        [
         "0",
         "nobell.it/70ffb52d079109dca5664cce6f317373782/login.SkyPe.com/en/cgi-bin/verification/login/70ffb52d079109dca5664cce6f317373/index.php?cmd=_profile-ach&outdated_page_tmpl=p/gen/failed-to-load&nav=0.5.1&login_access=1322408526",
         "1"
        ],
        [
         "1",
         "www.dghjdgf.com/paypal.co.uk/cycgi-bin/webscrcmd=_home-customer&nav=1/loading.php",
         "1"
        ],
        [
         "2",
         "serviciosbys.com/paypal.cgi.bin.get-into.herf.secure.dispatch35463256rzr321654641dsf654321874/href/href/href/secure/center/update/limit/seccure/4d7a1ff5c55825a2e632a679c2fd5353/",
         "1"
        ],
        [
         "3",
         "mail.printakid.com/www.online.americanexpress.com/index.html",
         "1"
        ],
        [
         "4",
         "thewhiskeydregs.com/wp-content/themes/widescreen/includes/temp/promocoessmiles/?84784787824HDJNDJDSJSHD//2724782784/",
         "1"
        ]
       ],
       "shape": {
        "columns": 2,
        "rows": 5
       }
      },
      "text/html": [
       "<div>\n",
       "<style scoped>\n",
       "    .dataframe tbody tr th:only-of-type {\n",
       "        vertical-align: middle;\n",
       "    }\n",
       "\n",
       "    .dataframe tbody tr th {\n",
       "        vertical-align: top;\n",
       "    }\n",
       "\n",
       "    .dataframe thead th {\n",
       "        text-align: right;\n",
       "    }\n",
       "</style>\n",
       "<table border=\"1\" class=\"dataframe\">\n",
       "  <thead>\n",
       "    <tr style=\"text-align: right;\">\n",
       "      <th></th>\n",
       "      <th>url</th>\n",
       "      <th>label</th>\n",
       "    </tr>\n",
       "  </thead>\n",
       "  <tbody>\n",
       "    <tr>\n",
       "      <th>0</th>\n",
       "      <td>nobell.it/70ffb52d079109dca5664cce6f317373782/...</td>\n",
       "      <td>1</td>\n",
       "    </tr>\n",
       "    <tr>\n",
       "      <th>1</th>\n",
       "      <td>www.dghjdgf.com/paypal.co.uk/cycgi-bin/webscrc...</td>\n",
       "      <td>1</td>\n",
       "    </tr>\n",
       "    <tr>\n",
       "      <th>2</th>\n",
       "      <td>serviciosbys.com/paypal.cgi.bin.get-into.herf....</td>\n",
       "      <td>1</td>\n",
       "    </tr>\n",
       "    <tr>\n",
       "      <th>3</th>\n",
       "      <td>mail.printakid.com/www.online.americanexpress....</td>\n",
       "      <td>1</td>\n",
       "    </tr>\n",
       "    <tr>\n",
       "      <th>4</th>\n",
       "      <td>thewhiskeydregs.com/wp-content/themes/widescre...</td>\n",
       "      <td>1</td>\n",
       "    </tr>\n",
       "  </tbody>\n",
       "</table>\n",
       "</div>"
      ],
      "text/plain": [
       "                                                 url  label\n",
       "0  nobell.it/70ffb52d079109dca5664cce6f317373782/...      1\n",
       "1  www.dghjdgf.com/paypal.co.uk/cycgi-bin/webscrc...      1\n",
       "2  serviciosbys.com/paypal.cgi.bin.get-into.herf....      1\n",
       "3  mail.printakid.com/www.online.americanexpress....      1\n",
       "4  thewhiskeydregs.com/wp-content/themes/widescre...      1"
      ]
     },
     "execution_count": 2,
     "metadata": {},
     "output_type": "execute_result"
    }
   ],
   "source": [
    "# Load the PhishStorm dataset\n",
    "\n",
    "df = load_phishing_data(\n",
    "    data_dir='../data',\n",
    "    filename='urlset.csv', \n",
    "    url_col='domain',        \n",
    "    label_col='label'     \n",
    ")\n",
    "\n",
    "# Quick preview\n",
    "df.head()"
   ]
  },
  {
   "cell_type": "code",
   "execution_count": 3,
   "id": "97e2411b",
   "metadata": {},
   "outputs": [
    {
     "data": {
      "text/plain": [
       "(95913, 2)"
      ]
     },
     "execution_count": 3,
     "metadata": {},
     "output_type": "execute_result"
    }
   ],
   "source": [
    "df.shape"
   ]
  },
  {
   "cell_type": "markdown",
   "id": "ad272b25",
   "metadata": {},
   "source": [
    "Next, let's load a list of the most visited domains globally from the Alexa Top 1M dataset. This list serves as a proxy for trusted or popular websites.\n",
    "\n",
    "We'll use it later to engineer features that indicate whether a domain in a URL appears in this trusted set, which may help differentiate between phishing and legitimate URLs.\n"
   ]
  },
  {
   "cell_type": "code",
   "execution_count": 5,
   "id": "cf815274",
   "metadata": {},
   "outputs": [
    {
     "data": {
      "application/vnd.microsoft.datawrangler.viewer.v0+json": {
       "columns": [
        {
         "name": "index",
         "rawType": "int64",
         "type": "integer"
        },
        {
         "name": "alexa_domain",
         "rawType": "object",
         "type": "string"
        }
       ],
       "ref": "e864bc78-9ee3-4866-afc0-0fb8026b66c6",
       "rows": [
        [
         "0",
         "google.com"
        ],
        [
         "1",
         "facebook.com"
        ],
        [
         "2",
         "youtube.com"
        ],
        [
         "3",
         "baidu.com"
        ],
        [
         "4",
         "yahoo.com"
        ]
       ],
       "shape": {
        "columns": 1,
        "rows": 5
       }
      },
      "text/html": [
       "<div>\n",
       "<style scoped>\n",
       "    .dataframe tbody tr th:only-of-type {\n",
       "        vertical-align: middle;\n",
       "    }\n",
       "\n",
       "    .dataframe tbody tr th {\n",
       "        vertical-align: top;\n",
       "    }\n",
       "\n",
       "    .dataframe thead th {\n",
       "        text-align: right;\n",
       "    }\n",
       "</style>\n",
       "<table border=\"1\" class=\"dataframe\">\n",
       "  <thead>\n",
       "    <tr style=\"text-align: right;\">\n",
       "      <th></th>\n",
       "      <th>alexa_domain</th>\n",
       "    </tr>\n",
       "  </thead>\n",
       "  <tbody>\n",
       "    <tr>\n",
       "      <th>0</th>\n",
       "      <td>google.com</td>\n",
       "    </tr>\n",
       "    <tr>\n",
       "      <th>1</th>\n",
       "      <td>facebook.com</td>\n",
       "    </tr>\n",
       "    <tr>\n",
       "      <th>2</th>\n",
       "      <td>youtube.com</td>\n",
       "    </tr>\n",
       "    <tr>\n",
       "      <th>3</th>\n",
       "      <td>baidu.com</td>\n",
       "    </tr>\n",
       "    <tr>\n",
       "      <th>4</th>\n",
       "      <td>yahoo.com</td>\n",
       "    </tr>\n",
       "  </tbody>\n",
       "</table>\n",
       "</div>"
      ],
      "text/plain": [
       "   alexa_domain\n",
       "0    google.com\n",
       "1  facebook.com\n",
       "2   youtube.com\n",
       "3     baidu.com\n",
       "4     yahoo.com"
      ]
     },
     "execution_count": 5,
     "metadata": {},
     "output_type": "execute_result"
    }
   ],
   "source": [
    "# Load the Alexa domain list\n",
    "alexa_df = load_alexa_domains(\n",
    "    data_dir='../data',\n",
    "    filename='alexa_domains_1M.txt'\n",
    ")\n",
    "\n",
    "alexa_df.head()\n"
   ]
  }
 ],
 "metadata": {
  "kernelspec": {
   "display_name": "venv",
   "language": "python",
   "name": "python3"
  },
  "language_info": {
   "codemirror_mode": {
    "name": "ipython",
    "version": 3
   },
   "file_extension": ".py",
   "mimetype": "text/x-python",
   "name": "python",
   "nbconvert_exporter": "python",
   "pygments_lexer": "ipython3",
   "version": "3.8.1"
  }
 },
 "nbformat": 4,
 "nbformat_minor": 5
}
