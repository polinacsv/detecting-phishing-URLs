{
 "cells": [
  {
   "cell_type": "markdown",
   "id": "bf89fbd1",
   "metadata": {},
   "source": [
    "# Week 6"
   ]
  },
  {
   "cell_type": "markdown",
   "id": "4c574e88",
   "metadata": {},
   "source": [
    "# Dataset 1 - PhishStorm\n",
    "\n",
    "In this part, we build a full modeling pipeline for detecting phishing URLs.  \n",
    "We start with a dataset that contains two columns: a **URL** and a **label** indicating whether the URL is **benign** or **phishing**.\n",
    "\n",
    "While we use a well-known research dataset for this example, **any dataset with labeled URLs** can be used — because **all features in this pipeline will be created from scratch** using custom Python functions.\n",
    "\n",
    "📘 **Dataset citation**:  \n",
    "\n",
    "> [1] S. Marchal, J. Francois, R. State, and T. Engel.  \n",
    "> *PhishStorm: Detecting Phishing with Streaming Analytics*.  \n",
    "> IEEE Transactions on Network and Service Management (TNSM), 11(4):458–471, 2014.\n"
   ]
  },
  {
   "cell_type": "markdown",
   "id": "9934418a",
   "metadata": {},
   "source": [
    "## Set up"
   ]
  },
  {
   "cell_type": "code",
   "execution_count": 2,
   "id": "59c3792a",
   "metadata": {},
   "outputs": [],
   "source": [
    "# Load packages\n",
    "from detecting_phishing_urls.load_data import load_phishing_data, load_alexa_domains\n",
    "from detecting_phishing_urls.features import *\n",
    "import pandas as pd\n",
    "import matplotlib.pyplot as plt\n",
    "from collections import Counter\n",
    "from sklearn.model_selection import train_test_split\n",
    "from sklearn.preprocessing import StandardScaler\n",
    "from sklearn.ensemble import RandomForestClassifier\n",
    "from sklearn.metrics import classification_report, roc_auc_score, confusion_matrix, precision_score\n",
    "from sklearn.model_selection import GridSearchCV\n"
   ]
  },
  {
   "cell_type": "markdown",
   "id": "b709dd70",
   "metadata": {},
   "source": [
    "First, let's load our main dataset with URLs and labels."
   ]
  },
  {
   "cell_type": "code",
   "execution_count": 3,
   "id": "bdfbc1cc",
   "metadata": {},
   "outputs": [
    {
     "data": {
      "application/vnd.microsoft.datawrangler.viewer.v0+json": {
       "columns": [
        {
         "name": "index",
         "rawType": "int64",
         "type": "integer"
        },
        {
         "name": "url",
         "rawType": "object",
         "type": "string"
        },
        {
         "name": "label",
         "rawType": "int64",
         "type": "integer"
        }
       ],
       "ref": "9bf60988-37ef-467a-809b-616e2107dc76",
       "rows": [
        [
         "0",
         "nobell.it/70ffb52d079109dca5664cce6f317373782/login.SkyPe.com/en/cgi-bin/verification/login/70ffb52d079109dca5664cce6f317373/index.php?cmd=_profile-ach&outdated_page_tmpl=p/gen/failed-to-load&nav=0.5.1&login_access=1322408526",
         "1"
        ],
        [
         "1",
         "www.dghjdgf.com/paypal.co.uk/cycgi-bin/webscrcmd=_home-customer&nav=1/loading.php",
         "1"
        ],
        [
         "2",
         "serviciosbys.com/paypal.cgi.bin.get-into.herf.secure.dispatch35463256rzr321654641dsf654321874/href/href/href/secure/center/update/limit/seccure/4d7a1ff5c55825a2e632a679c2fd5353/",
         "1"
        ],
        [
         "3",
         "mail.printakid.com/www.online.americanexpress.com/index.html",
         "1"
        ],
        [
         "4",
         "thewhiskeydregs.com/wp-content/themes/widescreen/includes/temp/promocoessmiles/?84784787824HDJNDJDSJSHD//2724782784/",
         "1"
        ]
       ],
       "shape": {
        "columns": 2,
        "rows": 5
       }
      },
      "text/html": [
       "<div>\n",
       "<style scoped>\n",
       "    .dataframe tbody tr th:only-of-type {\n",
       "        vertical-align: middle;\n",
       "    }\n",
       "\n",
       "    .dataframe tbody tr th {\n",
       "        vertical-align: top;\n",
       "    }\n",
       "\n",
       "    .dataframe thead th {\n",
       "        text-align: right;\n",
       "    }\n",
       "</style>\n",
       "<table border=\"1\" class=\"dataframe\">\n",
       "  <thead>\n",
       "    <tr style=\"text-align: right;\">\n",
       "      <th></th>\n",
       "      <th>url</th>\n",
       "      <th>label</th>\n",
       "    </tr>\n",
       "  </thead>\n",
       "  <tbody>\n",
       "    <tr>\n",
       "      <th>0</th>\n",
       "      <td>nobell.it/70ffb52d079109dca5664cce6f317373782/...</td>\n",
       "      <td>1</td>\n",
       "    </tr>\n",
       "    <tr>\n",
       "      <th>1</th>\n",
       "      <td>www.dghjdgf.com/paypal.co.uk/cycgi-bin/webscrc...</td>\n",
       "      <td>1</td>\n",
       "    </tr>\n",
       "    <tr>\n",
       "      <th>2</th>\n",
       "      <td>serviciosbys.com/paypal.cgi.bin.get-into.herf....</td>\n",
       "      <td>1</td>\n",
       "    </tr>\n",
       "    <tr>\n",
       "      <th>3</th>\n",
       "      <td>mail.printakid.com/www.online.americanexpress....</td>\n",
       "      <td>1</td>\n",
       "    </tr>\n",
       "    <tr>\n",
       "      <th>4</th>\n",
       "      <td>thewhiskeydregs.com/wp-content/themes/widescre...</td>\n",
       "      <td>1</td>\n",
       "    </tr>\n",
       "  </tbody>\n",
       "</table>\n",
       "</div>"
      ],
      "text/plain": [
       "                                                 url  label\n",
       "0  nobell.it/70ffb52d079109dca5664cce6f317373782/...      1\n",
       "1  www.dghjdgf.com/paypal.co.uk/cycgi-bin/webscrc...      1\n",
       "2  serviciosbys.com/paypal.cgi.bin.get-into.herf....      1\n",
       "3  mail.printakid.com/www.online.americanexpress....      1\n",
       "4  thewhiskeydregs.com/wp-content/themes/widescre...      1"
      ]
     },
     "execution_count": 3,
     "metadata": {},
     "output_type": "execute_result"
    }
   ],
   "source": [
    "# Load the PhishStorm dataset\n",
    "\n",
    "df = load_phishing_data(\n",
    "    data_dir='../data',\n",
    "    filename='urlset.csv', \n",
    "    url_col='domain',        \n",
    "    label_col='label'     \n",
    ")\n",
    "\n",
    "# Quick preview\n",
    "df.head()"
   ]
  },
  {
   "cell_type": "code",
   "execution_count": 4,
   "id": "97e2411b",
   "metadata": {},
   "outputs": [
    {
     "data": {
      "text/plain": [
       "(95913, 2)"
      ]
     },
     "execution_count": 4,
     "metadata": {},
     "output_type": "execute_result"
    }
   ],
   "source": [
    "df.shape"
   ]
  },
  {
   "cell_type": "markdown",
   "id": "ad272b25",
   "metadata": {},
   "source": [
    "Next, let's load a list of the most visited domains globally from the Alexa Top 1M dataset. This list serves as a proxy for trusted or popular websites.\n",
    "\n",
    "We'll use it later to engineer features that indicate whether a domain in a URL appears in this trusted set, which may help differentiate between phishing and legitimate URLs.\n"
   ]
  },
  {
   "cell_type": "code",
   "execution_count": 5,
   "id": "cf815274",
   "metadata": {},
   "outputs": [
    {
     "data": {
      "application/vnd.microsoft.datawrangler.viewer.v0+json": {
       "columns": [
        {
         "name": "index",
         "rawType": "int64",
         "type": "integer"
        },
        {
         "name": "alexa_domain",
         "rawType": "object",
         "type": "string"
        },
        {
         "name": "rank",
         "rawType": "int64",
         "type": "integer"
        }
       ],
       "ref": "d8fd36cd-a121-474b-901a-09d0aca36dc8",
       "rows": [
        [
         "0",
         "google.com",
         "1"
        ],
        [
         "1",
         "facebook.com",
         "2"
        ],
        [
         "2",
         "youtube.com",
         "3"
        ],
        [
         "3",
         "baidu.com",
         "4"
        ],
        [
         "4",
         "yahoo.com",
         "5"
        ]
       ],
       "shape": {
        "columns": 2,
        "rows": 5
       }
      },
      "text/html": [
       "<div>\n",
       "<style scoped>\n",
       "    .dataframe tbody tr th:only-of-type {\n",
       "        vertical-align: middle;\n",
       "    }\n",
       "\n",
       "    .dataframe tbody tr th {\n",
       "        vertical-align: top;\n",
       "    }\n",
       "\n",
       "    .dataframe thead th {\n",
       "        text-align: right;\n",
       "    }\n",
       "</style>\n",
       "<table border=\"1\" class=\"dataframe\">\n",
       "  <thead>\n",
       "    <tr style=\"text-align: right;\">\n",
       "      <th></th>\n",
       "      <th>alexa_domain</th>\n",
       "      <th>rank</th>\n",
       "    </tr>\n",
       "  </thead>\n",
       "  <tbody>\n",
       "    <tr>\n",
       "      <th>0</th>\n",
       "      <td>google.com</td>\n",
       "      <td>1</td>\n",
       "    </tr>\n",
       "    <tr>\n",
       "      <th>1</th>\n",
       "      <td>facebook.com</td>\n",
       "      <td>2</td>\n",
       "    </tr>\n",
       "    <tr>\n",
       "      <th>2</th>\n",
       "      <td>youtube.com</td>\n",
       "      <td>3</td>\n",
       "    </tr>\n",
       "    <tr>\n",
       "      <th>3</th>\n",
       "      <td>baidu.com</td>\n",
       "      <td>4</td>\n",
       "    </tr>\n",
       "    <tr>\n",
       "      <th>4</th>\n",
       "      <td>yahoo.com</td>\n",
       "      <td>5</td>\n",
       "    </tr>\n",
       "  </tbody>\n",
       "</table>\n",
       "</div>"
      ],
      "text/plain": [
       "   alexa_domain  rank\n",
       "0    google.com     1\n",
       "1  facebook.com     2\n",
       "2   youtube.com     3\n",
       "3     baidu.com     4\n",
       "4     yahoo.com     5"
      ]
     },
     "execution_count": 5,
     "metadata": {},
     "output_type": "execute_result"
    }
   ],
   "source": [
    "# Load the Alexa domain list\n",
    "alexa_df = load_alexa_domains(\n",
    "    data_dir='../data',\n",
    "    filename='alexa_domains_1M.txt'\n",
    ")\n",
    "\n",
    "alexa_df.head()\n"
   ]
  },
  {
   "cell_type": "markdown",
   "id": "130bfd80",
   "metadata": {},
   "source": [
    "## Feature engineering"
   ]
  },
  {
   "cell_type": "markdown",
   "id": "cd6f0fa8",
   "metadata": {},
   "source": [
    "### Alexa-based features\n",
    "\n",
    "We use the Alexa Top 1M domain list to generate two features that indicate how globally popular or common a domain is:\n",
    "\n",
    "- **`is_in_alexa`**: A binary flag indicating whether the main-level domain (`mld_ps`) of the URL is in the Alexa Top 1M list (1 = yes, 0 = no).\n",
    "- **`ranking`**: The popularity rank of the domain (1 = most popular). If the domain is not in Alexa, we impute it with 1,000,001 - just outside the Top 1M.\n",
    "\n",
    "These features are based on the assumption that phishing URLs are less likely to use popular or trusted domains.\n"
   ]
  },
  {
   "cell_type": "code",
   "execution_count": 6,
   "id": "739f8f32",
   "metadata": {},
   "outputs": [
    {
     "data": {
      "application/vnd.microsoft.datawrangler.viewer.v0+json": {
       "columns": [
        {
         "name": "index",
         "rawType": "int64",
         "type": "integer"
        },
        {
         "name": "url",
         "rawType": "object",
         "type": "string"
        },
        {
         "name": "mld_ps",
         "rawType": "object",
         "type": "string"
        },
        {
         "name": "is_in_alexa",
         "rawType": "float64",
         "type": "float"
        },
        {
         "name": "ranking",
         "rawType": "float64",
         "type": "float"
        }
       ],
       "ref": "e4d59714-ce00-4e4d-be53-79e42c69da24",
       "rows": [
        [
         "0",
         "nobell.it/70ffb52d079109dca5664cce6f317373782/login.SkyPe.com/en/cgi-bin/verification/login/70ffb52d079109dca5664cce6f317373/index.php?cmd=_profile-ach&outdated_page_tmpl=p/gen/failed-to-load&nav=0.5.1&login_access=1322408526",
         "nobell.it",
         "0.0",
         "1000001.0"
        ],
        [
         "1",
         "www.dghjdgf.com/paypal.co.uk/cycgi-bin/webscrcmd=_home-customer&nav=1/loading.php",
         "dghjdgf.com",
         "0.0",
         "1000001.0"
        ],
        [
         "2",
         "serviciosbys.com/paypal.cgi.bin.get-into.herf.secure.dispatch35463256rzr321654641dsf654321874/href/href/href/secure/center/update/limit/seccure/4d7a1ff5c55825a2e632a679c2fd5353/",
         "serviciosbys.com",
         "0.0",
         "1000001.0"
        ],
        [
         "3",
         "mail.printakid.com/www.online.americanexpress.com/index.html",
         "printakid.com",
         "0.0",
         "1000001.0"
        ],
        [
         "4",
         "thewhiskeydregs.com/wp-content/themes/widescreen/includes/temp/promocoessmiles/?84784787824HDJNDJDSJSHD//2724782784/",
         "thewhiskeydregs.com",
         "0.0",
         "1000001.0"
        ],
        [
         "5",
         "smilesvoegol.servebbs.org/voegol.php",
         "servebbs.org",
         "0.0",
         "1000001.0"
        ],
        [
         "6",
         "premierpaymentprocessing.com/includes/boleto-2via-07-2012.php",
         "premierpaymentprocessing.com",
         "0.0",
         "1000001.0"
        ],
        [
         "7",
         "myxxxcollection.com/v1/js/jih321/bpd.com.do/do/l.popular.php",
         "myxxxcollection.com",
         "0.0",
         "1000001.0"
        ],
        [
         "8",
         "super1000.info/docs",
         "super1000.info",
         "0.0",
         "1000001.0"
        ],
        [
         "9",
         "horizonsgallery.com/js/bin/ssl1/_id/www.paypal.com/fr/cgi-bin/webscr/cmd=_registration-run/login.php?cmd=_login-run&amp;dispatch=1471c4bdb044ae2be9e2fc3ec514b88b1471c4bdb044ae2be9e2fc3ec514b88b",
         "horizonsgallery.com",
         "0.0",
         "1000001.0"
        ],
        [
         "10",
         "phlebolog.com.ua/libraries/joomla/results.php",
         "phlebolog.com.ua",
         "0.0",
         "1000001.0"
        ],
        [
         "11",
         "docs.google.com/spreadsheet/viewform?formkey=dE5rVEdSV2pBdkpSRy11V3o2eDdwbnc6MQ",
         "google.com",
         "1.0",
         "1.0"
        ],
        [
         "12",
         "www.coincoele.com.br/Scripts/smiles/?pt-br/Paginas/default.aspx",
         "coincoele.com.br",
         "0.0",
         "1000001.0"
        ],
        [
         "13",
         "www.henkdeinumboomkwekerij.nl/language/pdf_fonts/smiles.php",
         "henkdeinumboomkwekerij.nl",
         "0.0",
         "1000001.0"
        ],
        [
         "14",
         "perfectsolutionofall.net/wp-content/themes/twentyten/wiresource/",
         "perfectsolutionofall.net",
         "0.0",
         "1000001.0"
        ],
        [
         "15",
         "lingshc.com/old_aol.1.3/?Login=&amp;Lis=10&amp;LigertID=1993745&amp;us=1",
         "lingshc.com",
         "0.0",
         "1000001.0"
        ],
        [
         "16",
         "anonymeidentity.net/remax./remax.htm",
         "anonymeidentity.net",
         "0.0",
         "1000001.0"
        ],
        [
         "17",
         "dutchweb.gtphost.com/zimbra/exch/owa/uleth/index.html",
         "gtphost.com",
         "0.0",
         "1000001.0"
        ],
        [
         "18",
         "www.avedeoiro.com/site/plugins/chase/",
         "avedeoiro.com",
         "0.0",
         "1000001.0"
        ],
        [
         "19",
         "asladconcentration.com/paplkuk1/webscrcmd=_home-customer&nav=1/",
         "asladconcentration.com",
         "0.0",
         "1000001.0"
        ],
        [
         "20",
         "www.regaranch.info/grafika/file/2012/atualizacao/www.itau.com.br/",
         "regaranch.info",
         "0.0",
         "1000001.0"
        ],
        [
         "21",
         "optimistic-pessimism.com/aoluserupdatealert.info.htm",
         "optimistic-pessimism.com",
         "0.0",
         "1000001.0"
        ],
        [
         "22",
         "mercadolivre.com.br.premiosfidelidade2012.com.br/confirmar/",
         "premiosfidelidade2012.com.br",
         "0.0",
         "1000001.0"
        ],
        [
         "23",
         "www.everythinggoingon.net/~gpeveryt/home/Email/",
         "everythinggoingon.net",
         "0.0",
         "1000001.0"
        ],
        [
         "24",
         "mercadolivre.com.br.premiosfidelidade2012.com.br/",
         "premiosfidelidade2012.com.br",
         "0.0",
         "1000001.0"
        ],
        [
         "25",
         "www.revitolcream.org/wp-content/plugins/all-in-one-seo-pack/rex/secure-code17/security/",
         "revitolcream.org",
         "0.0",
         "1000001.0"
        ],
        [
         "26",
         "jameshowardmusic.com/wp-content/themes/widescreen/includes/cache/bbnew/bb.php",
         "jameshowardmusic.com",
         "0.0",
         "1000001.0"
        ],
        [
         "27",
         "xini.eu/00Qe",
         "xini.eu",
         "0.0",
         "1000001.0"
        ],
        [
         "28",
         "myxxxcollection.com/v1/js/555klisdr/bpd.com.do/do/l.popular.php",
         "myxxxcollection.com",
         "0.0",
         "1000001.0"
        ],
        [
         "29",
         "paypal.com.cgi.bin.webscr.cmd.login.submit.dispatch.5885d80a13c03faee8dcbcd55a50598f04d34b4bf5tt1.mediareso.com/secure-code90/security/",
         "mediareso.com",
         "0.0",
         "1000001.0"
        ],
        [
         "30",
         "ebayisapidlld.altervista.org/",
         "altervista.org",
         "1.0",
         "858.0"
        ],
        [
         "31",
         "horizonsgallery.com/js/bin/ssl/_id/www.paypal.com/fr/cgi-bin/webscr/cmd=_registration-run/login.php?cmd=_login-run&dispatch=7adb89899b4614aec6715340ae31adce7adb89899b4614aec6715340ae31adce",
         "horizonsgallery.com",
         "0.0",
         "1000001.0"
        ],
        [
         "32",
         "www.revitolcream.org/wp-content/plugins/all-in-one-seo-pack/rex/secure-code5/security/login.php",
         "revitolcream.org",
         "0.0",
         "1000001.0"
        ],
        [
         "33",
         "sontemeda.altervista.org/paypinoko/paypinoko/procesing.php",
         "altervista.org",
         "1.0",
         "858.0"
        ],
        [
         "34",
         "promusic.co/components/interbank.com/",
         "promusic.co",
         "0.0",
         "1000001.0"
        ],
        [
         "35",
         "uvb.lg.ua/templates/a216/.PayPaI/e9d83d4fd35ff9d702196ab514573999/",
         "uvb.lg.ua",
         "0.0",
         "1000001.0"
        ],
        [
         "36",
         "docs.google.com/a/unmsm.edu.pe/spreadsheet/viewform?formkey=dEZoOXQwTzFkaUJCRTdhVlA3cTAyV1E6MQ",
         "google.com",
         "1.0",
         "1.0"
        ],
        [
         "37",
         "remax.com.behinehsazerooyesh.com/remax/index.htm",
         "behinehsazerooyesh.com",
         "0.0",
         "1000001.0"
        ],
        [
         "38",
         "www.aclaydance.com/ncpf.php",
         "aclaydance.com",
         "0.0",
         "1000001.0"
        ],
        [
         "39",
         "phamxuanlinh.tk/secure-code8/security/login.php",
         "phamxuanlinh.tk",
         "0.0",
         "1000001.0"
        ],
        [
         "40",
         "stthomasedu.ucoz.ua/microsoft.htm",
         "ucoz.ua",
         "0.0",
         "1000001.0"
        ],
        [
         "41",
         "www.procedimentotamfidelidade.com/regulamento/new/processo/atualiza/sacfidelidade/id=1714/",
         "procedimentotamfidelidade.com",
         "0.0",
         "1000001.0"
        ],
        [
         "42",
         "paypal.com.us.cgi.bin.webscr.cmd.login.submit.bx3digitallp.com/Review/3a3e3c4dba5e5cc4407a5694adf1aa8e/",
         "bx3digitallp.com",
         "0.0",
         "1000001.0"
        ],
        [
         "43",
         "tinyurl.com/bswqloj",
         "tinyurl.com",
         "1.0",
         "1456.0"
        ],
        [
         "44",
         "users11.jabry.com/blopp/Aolupdate.htm",
         "jabry.com",
         "0.0",
         "1000001.0"
        ],
        [
         "45",
         "tad.ly/BUpQLx",
         "tad.ly",
         "0.0",
         "1000001.0"
        ],
        [
         "46",
         "professionalcrapsplayer.com/upgrade/logins/Trulia/index.htm",
         "professionalcrapsplayer.com",
         "0.0",
         "1000001.0"
        ],
        [
         "47",
         "westerncentermuseum.org/plugins/tmp/sp.php",
         "westerncentermuseum.org",
         "0.0",
         "1000001.0"
        ],
        [
         "48",
         "cardpromocion2012.com.br/vaidevisa/asp/conta/participe/autentica/autentica.php",
         "cardpromocion2012.com.br",
         "0.0",
         "1000001.0"
        ],
        [
         "49",
         "portalsalinas.com.br/modules/mod_acepolls/spam.php",
         "portalsalinas.com.br",
         "0.0",
         "1000001.0"
        ]
       ],
       "shape": {
        "columns": 4,
        "rows": 50
       }
      },
      "text/html": [
       "<div>\n",
       "<style scoped>\n",
       "    .dataframe tbody tr th:only-of-type {\n",
       "        vertical-align: middle;\n",
       "    }\n",
       "\n",
       "    .dataframe tbody tr th {\n",
       "        vertical-align: top;\n",
       "    }\n",
       "\n",
       "    .dataframe thead th {\n",
       "        text-align: right;\n",
       "    }\n",
       "</style>\n",
       "<table border=\"1\" class=\"dataframe\">\n",
       "  <thead>\n",
       "    <tr style=\"text-align: right;\">\n",
       "      <th></th>\n",
       "      <th>url</th>\n",
       "      <th>mld_ps</th>\n",
       "      <th>is_in_alexa</th>\n",
       "      <th>ranking</th>\n",
       "    </tr>\n",
       "  </thead>\n",
       "  <tbody>\n",
       "    <tr>\n",
       "      <th>0</th>\n",
       "      <td>nobell.it/70ffb52d079109dca5664cce6f317373782/...</td>\n",
       "      <td>nobell.it</td>\n",
       "      <td>0.0</td>\n",
       "      <td>1000001.0</td>\n",
       "    </tr>\n",
       "    <tr>\n",
       "      <th>1</th>\n",
       "      <td>www.dghjdgf.com/paypal.co.uk/cycgi-bin/webscrc...</td>\n",
       "      <td>dghjdgf.com</td>\n",
       "      <td>0.0</td>\n",
       "      <td>1000001.0</td>\n",
       "    </tr>\n",
       "    <tr>\n",
       "      <th>2</th>\n",
       "      <td>serviciosbys.com/paypal.cgi.bin.get-into.herf....</td>\n",
       "      <td>serviciosbys.com</td>\n",
       "      <td>0.0</td>\n",
       "      <td>1000001.0</td>\n",
       "    </tr>\n",
       "    <tr>\n",
       "      <th>3</th>\n",
       "      <td>mail.printakid.com/www.online.americanexpress....</td>\n",
       "      <td>printakid.com</td>\n",
       "      <td>0.0</td>\n",
       "      <td>1000001.0</td>\n",
       "    </tr>\n",
       "    <tr>\n",
       "      <th>4</th>\n",
       "      <td>thewhiskeydregs.com/wp-content/themes/widescre...</td>\n",
       "      <td>thewhiskeydregs.com</td>\n",
       "      <td>0.0</td>\n",
       "      <td>1000001.0</td>\n",
       "    </tr>\n",
       "    <tr>\n",
       "      <th>5</th>\n",
       "      <td>smilesvoegol.servebbs.org/voegol.php</td>\n",
       "      <td>servebbs.org</td>\n",
       "      <td>0.0</td>\n",
       "      <td>1000001.0</td>\n",
       "    </tr>\n",
       "    <tr>\n",
       "      <th>6</th>\n",
       "      <td>premierpaymentprocessing.com/includes/boleto-2...</td>\n",
       "      <td>premierpaymentprocessing.com</td>\n",
       "      <td>0.0</td>\n",
       "      <td>1000001.0</td>\n",
       "    </tr>\n",
       "    <tr>\n",
       "      <th>7</th>\n",
       "      <td>myxxxcollection.com/v1/js/jih321/bpd.com.do/do...</td>\n",
       "      <td>myxxxcollection.com</td>\n",
       "      <td>0.0</td>\n",
       "      <td>1000001.0</td>\n",
       "    </tr>\n",
       "    <tr>\n",
       "      <th>8</th>\n",
       "      <td>super1000.info/docs</td>\n",
       "      <td>super1000.info</td>\n",
       "      <td>0.0</td>\n",
       "      <td>1000001.0</td>\n",
       "    </tr>\n",
       "    <tr>\n",
       "      <th>9</th>\n",
       "      <td>horizonsgallery.com/js/bin/ssl1/_id/www.paypal...</td>\n",
       "      <td>horizonsgallery.com</td>\n",
       "      <td>0.0</td>\n",
       "      <td>1000001.0</td>\n",
       "    </tr>\n",
       "    <tr>\n",
       "      <th>10</th>\n",
       "      <td>phlebolog.com.ua/libraries/joomla/results.php</td>\n",
       "      <td>phlebolog.com.ua</td>\n",
       "      <td>0.0</td>\n",
       "      <td>1000001.0</td>\n",
       "    </tr>\n",
       "    <tr>\n",
       "      <th>11</th>\n",
       "      <td>docs.google.com/spreadsheet/viewform?formkey=d...</td>\n",
       "      <td>google.com</td>\n",
       "      <td>1.0</td>\n",
       "      <td>1.0</td>\n",
       "    </tr>\n",
       "    <tr>\n",
       "      <th>12</th>\n",
       "      <td>www.coincoele.com.br/Scripts/smiles/?pt-br/Pag...</td>\n",
       "      <td>coincoele.com.br</td>\n",
       "      <td>0.0</td>\n",
       "      <td>1000001.0</td>\n",
       "    </tr>\n",
       "    <tr>\n",
       "      <th>13</th>\n",
       "      <td>www.henkdeinumboomkwekerij.nl/language/pdf_fon...</td>\n",
       "      <td>henkdeinumboomkwekerij.nl</td>\n",
       "      <td>0.0</td>\n",
       "      <td>1000001.0</td>\n",
       "    </tr>\n",
       "    <tr>\n",
       "      <th>14</th>\n",
       "      <td>perfectsolutionofall.net/wp-content/themes/twe...</td>\n",
       "      <td>perfectsolutionofall.net</td>\n",
       "      <td>0.0</td>\n",
       "      <td>1000001.0</td>\n",
       "    </tr>\n",
       "    <tr>\n",
       "      <th>15</th>\n",
       "      <td>lingshc.com/old_aol.1.3/?Login=&amp;amp;Lis=10&amp;amp...</td>\n",
       "      <td>lingshc.com</td>\n",
       "      <td>0.0</td>\n",
       "      <td>1000001.0</td>\n",
       "    </tr>\n",
       "    <tr>\n",
       "      <th>16</th>\n",
       "      <td>anonymeidentity.net/remax./remax.htm</td>\n",
       "      <td>anonymeidentity.net</td>\n",
       "      <td>0.0</td>\n",
       "      <td>1000001.0</td>\n",
       "    </tr>\n",
       "    <tr>\n",
       "      <th>17</th>\n",
       "      <td>dutchweb.gtphost.com/zimbra/exch/owa/uleth/ind...</td>\n",
       "      <td>gtphost.com</td>\n",
       "      <td>0.0</td>\n",
       "      <td>1000001.0</td>\n",
       "    </tr>\n",
       "    <tr>\n",
       "      <th>18</th>\n",
       "      <td>www.avedeoiro.com/site/plugins/chase/</td>\n",
       "      <td>avedeoiro.com</td>\n",
       "      <td>0.0</td>\n",
       "      <td>1000001.0</td>\n",
       "    </tr>\n",
       "    <tr>\n",
       "      <th>19</th>\n",
       "      <td>asladconcentration.com/paplkuk1/webscrcmd=_hom...</td>\n",
       "      <td>asladconcentration.com</td>\n",
       "      <td>0.0</td>\n",
       "      <td>1000001.0</td>\n",
       "    </tr>\n",
       "    <tr>\n",
       "      <th>20</th>\n",
       "      <td>www.regaranch.info/grafika/file/2012/atualizac...</td>\n",
       "      <td>regaranch.info</td>\n",
       "      <td>0.0</td>\n",
       "      <td>1000001.0</td>\n",
       "    </tr>\n",
       "    <tr>\n",
       "      <th>21</th>\n",
       "      <td>optimistic-pessimism.com/aoluserupdatealert.in...</td>\n",
       "      <td>optimistic-pessimism.com</td>\n",
       "      <td>0.0</td>\n",
       "      <td>1000001.0</td>\n",
       "    </tr>\n",
       "    <tr>\n",
       "      <th>22</th>\n",
       "      <td>mercadolivre.com.br.premiosfidelidade2012.com....</td>\n",
       "      <td>premiosfidelidade2012.com.br</td>\n",
       "      <td>0.0</td>\n",
       "      <td>1000001.0</td>\n",
       "    </tr>\n",
       "    <tr>\n",
       "      <th>23</th>\n",
       "      <td>www.everythinggoingon.net/~gpeveryt/home/Email/</td>\n",
       "      <td>everythinggoingon.net</td>\n",
       "      <td>0.0</td>\n",
       "      <td>1000001.0</td>\n",
       "    </tr>\n",
       "    <tr>\n",
       "      <th>24</th>\n",
       "      <td>mercadolivre.com.br.premiosfidelidade2012.com.br/</td>\n",
       "      <td>premiosfidelidade2012.com.br</td>\n",
       "      <td>0.0</td>\n",
       "      <td>1000001.0</td>\n",
       "    </tr>\n",
       "    <tr>\n",
       "      <th>25</th>\n",
       "      <td>www.revitolcream.org/wp-content/plugins/all-in...</td>\n",
       "      <td>revitolcream.org</td>\n",
       "      <td>0.0</td>\n",
       "      <td>1000001.0</td>\n",
       "    </tr>\n",
       "    <tr>\n",
       "      <th>26</th>\n",
       "      <td>jameshowardmusic.com/wp-content/themes/widescr...</td>\n",
       "      <td>jameshowardmusic.com</td>\n",
       "      <td>0.0</td>\n",
       "      <td>1000001.0</td>\n",
       "    </tr>\n",
       "    <tr>\n",
       "      <th>27</th>\n",
       "      <td>xini.eu/00Qe</td>\n",
       "      <td>xini.eu</td>\n",
       "      <td>0.0</td>\n",
       "      <td>1000001.0</td>\n",
       "    </tr>\n",
       "    <tr>\n",
       "      <th>28</th>\n",
       "      <td>myxxxcollection.com/v1/js/555klisdr/bpd.com.do...</td>\n",
       "      <td>myxxxcollection.com</td>\n",
       "      <td>0.0</td>\n",
       "      <td>1000001.0</td>\n",
       "    </tr>\n",
       "    <tr>\n",
       "      <th>29</th>\n",
       "      <td>paypal.com.cgi.bin.webscr.cmd.login.submit.dis...</td>\n",
       "      <td>mediareso.com</td>\n",
       "      <td>0.0</td>\n",
       "      <td>1000001.0</td>\n",
       "    </tr>\n",
       "    <tr>\n",
       "      <th>30</th>\n",
       "      <td>ebayisapidlld.altervista.org/</td>\n",
       "      <td>altervista.org</td>\n",
       "      <td>1.0</td>\n",
       "      <td>858.0</td>\n",
       "    </tr>\n",
       "    <tr>\n",
       "      <th>31</th>\n",
       "      <td>horizonsgallery.com/js/bin/ssl/_id/www.paypal....</td>\n",
       "      <td>horizonsgallery.com</td>\n",
       "      <td>0.0</td>\n",
       "      <td>1000001.0</td>\n",
       "    </tr>\n",
       "    <tr>\n",
       "      <th>32</th>\n",
       "      <td>www.revitolcream.org/wp-content/plugins/all-in...</td>\n",
       "      <td>revitolcream.org</td>\n",
       "      <td>0.0</td>\n",
       "      <td>1000001.0</td>\n",
       "    </tr>\n",
       "    <tr>\n",
       "      <th>33</th>\n",
       "      <td>sontemeda.altervista.org/paypinoko/paypinoko/p...</td>\n",
       "      <td>altervista.org</td>\n",
       "      <td>1.0</td>\n",
       "      <td>858.0</td>\n",
       "    </tr>\n",
       "    <tr>\n",
       "      <th>34</th>\n",
       "      <td>promusic.co/components/interbank.com/</td>\n",
       "      <td>promusic.co</td>\n",
       "      <td>0.0</td>\n",
       "      <td>1000001.0</td>\n",
       "    </tr>\n",
       "    <tr>\n",
       "      <th>35</th>\n",
       "      <td>uvb.lg.ua/templates/a216/.PayPaI/e9d83d4fd35ff...</td>\n",
       "      <td>uvb.lg.ua</td>\n",
       "      <td>0.0</td>\n",
       "      <td>1000001.0</td>\n",
       "    </tr>\n",
       "    <tr>\n",
       "      <th>36</th>\n",
       "      <td>docs.google.com/a/unmsm.edu.pe/spreadsheet/vie...</td>\n",
       "      <td>google.com</td>\n",
       "      <td>1.0</td>\n",
       "      <td>1.0</td>\n",
       "    </tr>\n",
       "    <tr>\n",
       "      <th>37</th>\n",
       "      <td>remax.com.behinehsazerooyesh.com/remax/index.htm</td>\n",
       "      <td>behinehsazerooyesh.com</td>\n",
       "      <td>0.0</td>\n",
       "      <td>1000001.0</td>\n",
       "    </tr>\n",
       "    <tr>\n",
       "      <th>38</th>\n",
       "      <td>www.aclaydance.com/ncpf.php</td>\n",
       "      <td>aclaydance.com</td>\n",
       "      <td>0.0</td>\n",
       "      <td>1000001.0</td>\n",
       "    </tr>\n",
       "    <tr>\n",
       "      <th>39</th>\n",
       "      <td>phamxuanlinh.tk/secure-code8/security/login.php</td>\n",
       "      <td>phamxuanlinh.tk</td>\n",
       "      <td>0.0</td>\n",
       "      <td>1000001.0</td>\n",
       "    </tr>\n",
       "    <tr>\n",
       "      <th>40</th>\n",
       "      <td>stthomasedu.ucoz.ua/microsoft.htm</td>\n",
       "      <td>ucoz.ua</td>\n",
       "      <td>0.0</td>\n",
       "      <td>1000001.0</td>\n",
       "    </tr>\n",
       "    <tr>\n",
       "      <th>41</th>\n",
       "      <td>www.procedimentotamfidelidade.com/regulamento/...</td>\n",
       "      <td>procedimentotamfidelidade.com</td>\n",
       "      <td>0.0</td>\n",
       "      <td>1000001.0</td>\n",
       "    </tr>\n",
       "    <tr>\n",
       "      <th>42</th>\n",
       "      <td>paypal.com.us.cgi.bin.webscr.cmd.login.submit....</td>\n",
       "      <td>bx3digitallp.com</td>\n",
       "      <td>0.0</td>\n",
       "      <td>1000001.0</td>\n",
       "    </tr>\n",
       "    <tr>\n",
       "      <th>43</th>\n",
       "      <td>tinyurl.com/bswqloj</td>\n",
       "      <td>tinyurl.com</td>\n",
       "      <td>1.0</td>\n",
       "      <td>1456.0</td>\n",
       "    </tr>\n",
       "    <tr>\n",
       "      <th>44</th>\n",
       "      <td>users11.jabry.com/blopp/Aolupdate.htm</td>\n",
       "      <td>jabry.com</td>\n",
       "      <td>0.0</td>\n",
       "      <td>1000001.0</td>\n",
       "    </tr>\n",
       "    <tr>\n",
       "      <th>45</th>\n",
       "      <td>tad.ly/BUpQLx</td>\n",
       "      <td>tad.ly</td>\n",
       "      <td>0.0</td>\n",
       "      <td>1000001.0</td>\n",
       "    </tr>\n",
       "    <tr>\n",
       "      <th>46</th>\n",
       "      <td>professionalcrapsplayer.com/upgrade/logins/Tru...</td>\n",
       "      <td>professionalcrapsplayer.com</td>\n",
       "      <td>0.0</td>\n",
       "      <td>1000001.0</td>\n",
       "    </tr>\n",
       "    <tr>\n",
       "      <th>47</th>\n",
       "      <td>westerncentermuseum.org/plugins/tmp/sp.php</td>\n",
       "      <td>westerncentermuseum.org</td>\n",
       "      <td>0.0</td>\n",
       "      <td>1000001.0</td>\n",
       "    </tr>\n",
       "    <tr>\n",
       "      <th>48</th>\n",
       "      <td>cardpromocion2012.com.br/vaidevisa/asp/conta/p...</td>\n",
       "      <td>cardpromocion2012.com.br</td>\n",
       "      <td>0.0</td>\n",
       "      <td>1000001.0</td>\n",
       "    </tr>\n",
       "    <tr>\n",
       "      <th>49</th>\n",
       "      <td>portalsalinas.com.br/modules/mod_acepolls/spam...</td>\n",
       "      <td>portalsalinas.com.br</td>\n",
       "      <td>0.0</td>\n",
       "      <td>1000001.0</td>\n",
       "    </tr>\n",
       "  </tbody>\n",
       "</table>\n",
       "</div>"
      ],
      "text/plain": [
       "                                                  url  \\\n",
       "0   nobell.it/70ffb52d079109dca5664cce6f317373782/...   \n",
       "1   www.dghjdgf.com/paypal.co.uk/cycgi-bin/webscrc...   \n",
       "2   serviciosbys.com/paypal.cgi.bin.get-into.herf....   \n",
       "3   mail.printakid.com/www.online.americanexpress....   \n",
       "4   thewhiskeydregs.com/wp-content/themes/widescre...   \n",
       "5                smilesvoegol.servebbs.org/voegol.php   \n",
       "6   premierpaymentprocessing.com/includes/boleto-2...   \n",
       "7   myxxxcollection.com/v1/js/jih321/bpd.com.do/do...   \n",
       "8                                 super1000.info/docs   \n",
       "9   horizonsgallery.com/js/bin/ssl1/_id/www.paypal...   \n",
       "10      phlebolog.com.ua/libraries/joomla/results.php   \n",
       "11  docs.google.com/spreadsheet/viewform?formkey=d...   \n",
       "12  www.coincoele.com.br/Scripts/smiles/?pt-br/Pag...   \n",
       "13  www.henkdeinumboomkwekerij.nl/language/pdf_fon...   \n",
       "14  perfectsolutionofall.net/wp-content/themes/twe...   \n",
       "15  lingshc.com/old_aol.1.3/?Login=&amp;Lis=10&amp...   \n",
       "16               anonymeidentity.net/remax./remax.htm   \n",
       "17  dutchweb.gtphost.com/zimbra/exch/owa/uleth/ind...   \n",
       "18              www.avedeoiro.com/site/plugins/chase/   \n",
       "19  asladconcentration.com/paplkuk1/webscrcmd=_hom...   \n",
       "20  www.regaranch.info/grafika/file/2012/atualizac...   \n",
       "21  optimistic-pessimism.com/aoluserupdatealert.in...   \n",
       "22  mercadolivre.com.br.premiosfidelidade2012.com....   \n",
       "23    www.everythinggoingon.net/~gpeveryt/home/Email/   \n",
       "24  mercadolivre.com.br.premiosfidelidade2012.com.br/   \n",
       "25  www.revitolcream.org/wp-content/plugins/all-in...   \n",
       "26  jameshowardmusic.com/wp-content/themes/widescr...   \n",
       "27                                       xini.eu/00Qe   \n",
       "28  myxxxcollection.com/v1/js/555klisdr/bpd.com.do...   \n",
       "29  paypal.com.cgi.bin.webscr.cmd.login.submit.dis...   \n",
       "30                      ebayisapidlld.altervista.org/   \n",
       "31  horizonsgallery.com/js/bin/ssl/_id/www.paypal....   \n",
       "32  www.revitolcream.org/wp-content/plugins/all-in...   \n",
       "33  sontemeda.altervista.org/paypinoko/paypinoko/p...   \n",
       "34              promusic.co/components/interbank.com/   \n",
       "35  uvb.lg.ua/templates/a216/.PayPaI/e9d83d4fd35ff...   \n",
       "36  docs.google.com/a/unmsm.edu.pe/spreadsheet/vie...   \n",
       "37   remax.com.behinehsazerooyesh.com/remax/index.htm   \n",
       "38                        www.aclaydance.com/ncpf.php   \n",
       "39    phamxuanlinh.tk/secure-code8/security/login.php   \n",
       "40                  stthomasedu.ucoz.ua/microsoft.htm   \n",
       "41  www.procedimentotamfidelidade.com/regulamento/...   \n",
       "42  paypal.com.us.cgi.bin.webscr.cmd.login.submit....   \n",
       "43                                tinyurl.com/bswqloj   \n",
       "44              users11.jabry.com/blopp/Aolupdate.htm   \n",
       "45                                      tad.ly/BUpQLx   \n",
       "46  professionalcrapsplayer.com/upgrade/logins/Tru...   \n",
       "47         westerncentermuseum.org/plugins/tmp/sp.php   \n",
       "48  cardpromocion2012.com.br/vaidevisa/asp/conta/p...   \n",
       "49  portalsalinas.com.br/modules/mod_acepolls/spam...   \n",
       "\n",
       "                           mld_ps  is_in_alexa    ranking  \n",
       "0                       nobell.it          0.0  1000001.0  \n",
       "1                     dghjdgf.com          0.0  1000001.0  \n",
       "2                serviciosbys.com          0.0  1000001.0  \n",
       "3                   printakid.com          0.0  1000001.0  \n",
       "4             thewhiskeydregs.com          0.0  1000001.0  \n",
       "5                    servebbs.org          0.0  1000001.0  \n",
       "6    premierpaymentprocessing.com          0.0  1000001.0  \n",
       "7             myxxxcollection.com          0.0  1000001.0  \n",
       "8                  super1000.info          0.0  1000001.0  \n",
       "9             horizonsgallery.com          0.0  1000001.0  \n",
       "10               phlebolog.com.ua          0.0  1000001.0  \n",
       "11                     google.com          1.0        1.0  \n",
       "12               coincoele.com.br          0.0  1000001.0  \n",
       "13      henkdeinumboomkwekerij.nl          0.0  1000001.0  \n",
       "14       perfectsolutionofall.net          0.0  1000001.0  \n",
       "15                    lingshc.com          0.0  1000001.0  \n",
       "16            anonymeidentity.net          0.0  1000001.0  \n",
       "17                    gtphost.com          0.0  1000001.0  \n",
       "18                  avedeoiro.com          0.0  1000001.0  \n",
       "19         asladconcentration.com          0.0  1000001.0  \n",
       "20                 regaranch.info          0.0  1000001.0  \n",
       "21       optimistic-pessimism.com          0.0  1000001.0  \n",
       "22   premiosfidelidade2012.com.br          0.0  1000001.0  \n",
       "23          everythinggoingon.net          0.0  1000001.0  \n",
       "24   premiosfidelidade2012.com.br          0.0  1000001.0  \n",
       "25               revitolcream.org          0.0  1000001.0  \n",
       "26           jameshowardmusic.com          0.0  1000001.0  \n",
       "27                        xini.eu          0.0  1000001.0  \n",
       "28            myxxxcollection.com          0.0  1000001.0  \n",
       "29                  mediareso.com          0.0  1000001.0  \n",
       "30                 altervista.org          1.0      858.0  \n",
       "31            horizonsgallery.com          0.0  1000001.0  \n",
       "32               revitolcream.org          0.0  1000001.0  \n",
       "33                 altervista.org          1.0      858.0  \n",
       "34                    promusic.co          0.0  1000001.0  \n",
       "35                      uvb.lg.ua          0.0  1000001.0  \n",
       "36                     google.com          1.0        1.0  \n",
       "37         behinehsazerooyesh.com          0.0  1000001.0  \n",
       "38                 aclaydance.com          0.0  1000001.0  \n",
       "39                phamxuanlinh.tk          0.0  1000001.0  \n",
       "40                        ucoz.ua          0.0  1000001.0  \n",
       "41  procedimentotamfidelidade.com          0.0  1000001.0  \n",
       "42               bx3digitallp.com          0.0  1000001.0  \n",
       "43                    tinyurl.com          1.0     1456.0  \n",
       "44                      jabry.com          0.0  1000001.0  \n",
       "45                         tad.ly          0.0  1000001.0  \n",
       "46    professionalcrapsplayer.com          0.0  1000001.0  \n",
       "47        westerncentermuseum.org          0.0  1000001.0  \n",
       "48       cardpromocion2012.com.br          0.0  1000001.0  \n",
       "49           portalsalinas.com.br          0.0  1000001.0  "
      ]
     },
     "execution_count": 6,
     "metadata": {},
     "output_type": "execute_result"
    }
   ],
   "source": [
    "# Add mld_ps column\n",
    "df = add_mld_feature(df)\n",
    "\n",
    "# Add is_in_alexa and ranking features\n",
    "df = add_alexa_rank_feature(df, alexa_df)\n",
    "\n",
    "# Preview\n",
    "df[['url', 'mld_ps', 'is_in_alexa', 'ranking']].head(50)\n"
   ]
  },
  {
   "cell_type": "code",
   "execution_count": 7,
   "id": "6218820a",
   "metadata": {},
   "outputs": [
    {
     "data": {
      "application/vnd.microsoft.datawrangler.viewer.v0+json": {
       "columns": [
        {
         "name": "index",
         "rawType": "object",
         "type": "string"
        },
        {
         "name": "is_in_alexa",
         "rawType": "float64",
         "type": "float"
        },
        {
         "name": "ranking",
         "rawType": "float64",
         "type": "float"
        }
       ],
       "ref": "47288641-0e52-4992-9c7c-a4d4a8fb27b2",
       "rows": [
        [
         "count",
         "95821.0",
         "95821.0"
        ],
        [
         "mean",
         "0.3935254276202503",
         "654171.8201646821"
        ],
        [
         "std",
         "0.4885341914148241",
         "450252.0303786306"
        ],
        [
         "min",
         "0.0",
         "1.0"
        ],
        [
         "25%",
         "0.0",
         "35998.0"
        ],
        [
         "50%",
         "0.0",
         "1000001.0"
        ],
        [
         "75%",
         "1.0",
         "1000001.0"
        ],
        [
         "max",
         "1.0",
         "1000001.0"
        ]
       ],
       "shape": {
        "columns": 2,
        "rows": 8
       }
      },
      "text/html": [
       "<div>\n",
       "<style scoped>\n",
       "    .dataframe tbody tr th:only-of-type {\n",
       "        vertical-align: middle;\n",
       "    }\n",
       "\n",
       "    .dataframe tbody tr th {\n",
       "        vertical-align: top;\n",
       "    }\n",
       "\n",
       "    .dataframe thead th {\n",
       "        text-align: right;\n",
       "    }\n",
       "</style>\n",
       "<table border=\"1\" class=\"dataframe\">\n",
       "  <thead>\n",
       "    <tr style=\"text-align: right;\">\n",
       "      <th></th>\n",
       "      <th>is_in_alexa</th>\n",
       "      <th>ranking</th>\n",
       "    </tr>\n",
       "  </thead>\n",
       "  <tbody>\n",
       "    <tr>\n",
       "      <th>count</th>\n",
       "      <td>95821.000000</td>\n",
       "      <td>9.582100e+04</td>\n",
       "    </tr>\n",
       "    <tr>\n",
       "      <th>mean</th>\n",
       "      <td>0.393525</td>\n",
       "      <td>6.541718e+05</td>\n",
       "    </tr>\n",
       "    <tr>\n",
       "      <th>std</th>\n",
       "      <td>0.488534</td>\n",
       "      <td>4.502520e+05</td>\n",
       "    </tr>\n",
       "    <tr>\n",
       "      <th>min</th>\n",
       "      <td>0.000000</td>\n",
       "      <td>1.000000e+00</td>\n",
       "    </tr>\n",
       "    <tr>\n",
       "      <th>25%</th>\n",
       "      <td>0.000000</td>\n",
       "      <td>3.599800e+04</td>\n",
       "    </tr>\n",
       "    <tr>\n",
       "      <th>50%</th>\n",
       "      <td>0.000000</td>\n",
       "      <td>1.000001e+06</td>\n",
       "    </tr>\n",
       "    <tr>\n",
       "      <th>75%</th>\n",
       "      <td>1.000000</td>\n",
       "      <td>1.000001e+06</td>\n",
       "    </tr>\n",
       "    <tr>\n",
       "      <th>max</th>\n",
       "      <td>1.000000</td>\n",
       "      <td>1.000001e+06</td>\n",
       "    </tr>\n",
       "  </tbody>\n",
       "</table>\n",
       "</div>"
      ],
      "text/plain": [
       "        is_in_alexa       ranking\n",
       "count  95821.000000  9.582100e+04\n",
       "mean       0.393525  6.541718e+05\n",
       "std        0.488534  4.502520e+05\n",
       "min        0.000000  1.000000e+00\n",
       "25%        0.000000  3.599800e+04\n",
       "50%        0.000000  1.000001e+06\n",
       "75%        1.000000  1.000001e+06\n",
       "max        1.000000  1.000001e+06"
      ]
     },
     "execution_count": 7,
     "metadata": {},
     "output_type": "execute_result"
    }
   ],
   "source": [
    "df[['is_in_alexa', 'ranking']].describe()"
   ]
  },
  {
   "cell_type": "markdown",
   "id": "dad5f395",
   "metadata": {},
   "source": [
    "### Jaccard-based features: measuring token similarity in URLs\n",
    "\n",
    "We introduce two Jaccard similarity features to capture structural overlap between parts of a URL and its main domain:\n",
    "\n",
    "1. **`jaccard_mld_path`**: Measures the overlap of tokens between the main domain (`mld_ps`) and the URL path.\n",
    "   - Example: Comparing `paypal.com` with `/paypal/login` → high similarity.\n",
    "   - Phishing URLs often reuse brand names in the path to mislead users.\n",
    "\n",
    "2. **`jaccard_subdomain_path`**: Measures overlap between the *subdomain* and the path.\n",
    "   - Example: Comparing `accounts.paypal.com` with `/paypal/signin` might show higher overlap.\n",
    "   - Phishing sites may encode target keywords in both subdomains and paths.\n",
    "\n",
    "These features are helpful because benign domains often have meaningful, structured URL paths, while phishing domains tend to reuse brand names inconsistently across subdomains and paths.\n",
    "\n",
    "We compute these similarities using the **Jaccard index**, which compares the intersection and union of token sets. A higher value indicates greater structural overlap.\n",
    "\n",
    "Let’s now generate and explore these features:\n"
   ]
  },
  {
   "cell_type": "code",
   "execution_count": 8,
   "id": "af303809",
   "metadata": {},
   "outputs": [
    {
     "data": {
      "application/vnd.microsoft.datawrangler.viewer.v0+json": {
       "columns": [
        {
         "name": "index",
         "rawType": "object",
         "type": "string"
        },
        {
         "name": "jaccard_mld_path",
         "rawType": "float64",
         "type": "float"
        },
        {
         "name": "jaccard_subdomain_path",
         "rawType": "float64",
         "type": "float"
        }
       ],
       "ref": "e5339fd0-2d6f-4999-9584-05d0cefd6d67",
       "rows": [
        [
         "count",
         "95913.0",
         "95913.0"
        ],
        [
         "mean",
         "0.005718900322503497",
         "0.007234195692722063"
        ],
        [
         "std",
         "0.033786043910596184",
         "0.04315243111128762"
        ],
        [
         "min",
         "0.0",
         "0.0"
        ],
        [
         "25%",
         "0.0",
         "0.0"
        ],
        [
         "50%",
         "0.0",
         "0.0"
        ],
        [
         "75%",
         "0.0",
         "0.0"
        ],
        [
         "max",
         "1.0",
         "1.0"
        ]
       ],
       "shape": {
        "columns": 2,
        "rows": 8
       }
      },
      "text/html": [
       "<div>\n",
       "<style scoped>\n",
       "    .dataframe tbody tr th:only-of-type {\n",
       "        vertical-align: middle;\n",
       "    }\n",
       "\n",
       "    .dataframe tbody tr th {\n",
       "        vertical-align: top;\n",
       "    }\n",
       "\n",
       "    .dataframe thead th {\n",
       "        text-align: right;\n",
       "    }\n",
       "</style>\n",
       "<table border=\"1\" class=\"dataframe\">\n",
       "  <thead>\n",
       "    <tr style=\"text-align: right;\">\n",
       "      <th></th>\n",
       "      <th>jaccard_mld_path</th>\n",
       "      <th>jaccard_subdomain_path</th>\n",
       "    </tr>\n",
       "  </thead>\n",
       "  <tbody>\n",
       "    <tr>\n",
       "      <th>count</th>\n",
       "      <td>95913.000000</td>\n",
       "      <td>95913.000000</td>\n",
       "    </tr>\n",
       "    <tr>\n",
       "      <th>mean</th>\n",
       "      <td>0.005719</td>\n",
       "      <td>0.007234</td>\n",
       "    </tr>\n",
       "    <tr>\n",
       "      <th>std</th>\n",
       "      <td>0.033786</td>\n",
       "      <td>0.043152</td>\n",
       "    </tr>\n",
       "    <tr>\n",
       "      <th>min</th>\n",
       "      <td>0.000000</td>\n",
       "      <td>0.000000</td>\n",
       "    </tr>\n",
       "    <tr>\n",
       "      <th>25%</th>\n",
       "      <td>0.000000</td>\n",
       "      <td>0.000000</td>\n",
       "    </tr>\n",
       "    <tr>\n",
       "      <th>50%</th>\n",
       "      <td>0.000000</td>\n",
       "      <td>0.000000</td>\n",
       "    </tr>\n",
       "    <tr>\n",
       "      <th>75%</th>\n",
       "      <td>0.000000</td>\n",
       "      <td>0.000000</td>\n",
       "    </tr>\n",
       "    <tr>\n",
       "      <th>max</th>\n",
       "      <td>1.000000</td>\n",
       "      <td>1.000000</td>\n",
       "    </tr>\n",
       "  </tbody>\n",
       "</table>\n",
       "</div>"
      ],
      "text/plain": [
       "       jaccard_mld_path  jaccard_subdomain_path\n",
       "count      95913.000000            95913.000000\n",
       "mean           0.005719                0.007234\n",
       "std            0.033786                0.043152\n",
       "min            0.000000                0.000000\n",
       "25%            0.000000                0.000000\n",
       "50%            0.000000                0.000000\n",
       "75%            0.000000                0.000000\n",
       "max            1.000000                1.000000"
      ]
     },
     "execution_count": 8,
     "metadata": {},
     "output_type": "execute_result"
    }
   ],
   "source": [
    "df = extract_jaccard_features(df)\n",
    "df[[\"jaccard_mld_path\", \"jaccard_subdomain_path\"]].describe()"
   ]
  },
  {
   "cell_type": "markdown",
   "id": "8640f9ad",
   "metadata": {},
   "source": [
    "### URL entropy feature\n",
    "\n",
    "To help detect suspicious or phishing URLs, we added a feature called `url_entropy`.\n",
    "\n",
    "Entropy, in this context, refers to **Shannon entropy** — a measure from information theory that quantifies the **randomness** or **unpredictability** of characters in a string.\n",
    "\n",
    "It is calculated using the formula:\n",
    "\n",
    "$$\n",
    "\\text{Entropy}(S) = - \\sum_{c \\in S} p(c) \\log_2 p(c)\n",
    "$$\n",
    "\n",
    "Where:\n",
    "- \\( S \\) is the string (e.g., a URL)\n",
    "- \\( p(c) \\) is the frequency of character \\( c \\) in the string\n",
    "\n",
    "Legitimate URLs tend to be simple, readable, and structured (e.g., `nytimes.com/news`). In contrast, phishing URLs often contain:\n",
    "- Random character sequences\n",
    "- Encoded strings\n",
    "- Obfuscated domains or paths\n",
    "\n",
    "These characteristics increase the entropy of the URL.\n",
    "\n",
    "So in general:\n",
    "- ✅ Lower entropy → more likely legitimate  \n",
    "- ⚠️ Higher entropy → more likely suspicious\n",
    "\n",
    "We compute Shannon entropy on the entire `url`, after ensuring it has a valid scheme (`http` or `https`). This feature (`url_entropy`) can be used directly in modeling as a continuous variable.\n"
   ]
  },
  {
   "cell_type": "code",
   "execution_count": 9,
   "id": "1c98b179",
   "metadata": {},
   "outputs": [
    {
     "data": {
      "application/vnd.microsoft.datawrangler.viewer.v0+json": {
       "columns": [
        {
         "name": "index",
         "rawType": "int64",
         "type": "integer"
        },
        {
         "name": "url",
         "rawType": "object",
         "type": "string"
        },
        {
         "name": "url_entropy",
         "rawType": "float64",
         "type": "float"
        }
       ],
       "ref": "4fa05316-a0fd-4d82-b00f-f34a7de0313a",
       "rows": [
        [
         "0",
         "nobell.it/70ffb52d079109dca5664cce6f317373782/login.SkyPe.com/en/cgi-bin/verification/login/70ffb52d079109dca5664cce6f317373/index.php?cmd=_profile-ach&outdated_page_tmpl=p/gen/failed-to-load&nav=0.5.1&login_access=1322408526",
         "5.046608107554676"
        ],
        [
         "1",
         "www.dghjdgf.com/paypal.co.uk/cycgi-bin/webscrcmd=_home-customer&nav=1/loading.php",
         "4.720684676697587"
        ],
        [
         "2",
         "serviciosbys.com/paypal.cgi.bin.get-into.herf.secure.dispatch35463256rzr321654641dsf654321874/href/href/href/secure/center/update/limit/seccure/4d7a1ff5c55825a2e632a679c2fd5353/",
         "4.739902126542"
        ],
        [
         "3",
         "mail.printakid.com/www.online.americanexpress.com/index.html",
         "4.17985342262277"
        ],
        [
         "4",
         "thewhiskeydregs.com/wp-content/themes/widescreen/includes/temp/promocoessmiles/?84784787824HDJNDJDSJSHD//2724782784/",
         "4.623372938559188"
        ]
       ],
       "shape": {
        "columns": 2,
        "rows": 5
       }
      },
      "text/html": [
       "<div>\n",
       "<style scoped>\n",
       "    .dataframe tbody tr th:only-of-type {\n",
       "        vertical-align: middle;\n",
       "    }\n",
       "\n",
       "    .dataframe tbody tr th {\n",
       "        vertical-align: top;\n",
       "    }\n",
       "\n",
       "    .dataframe thead th {\n",
       "        text-align: right;\n",
       "    }\n",
       "</style>\n",
       "<table border=\"1\" class=\"dataframe\">\n",
       "  <thead>\n",
       "    <tr style=\"text-align: right;\">\n",
       "      <th></th>\n",
       "      <th>url</th>\n",
       "      <th>url_entropy</th>\n",
       "    </tr>\n",
       "  </thead>\n",
       "  <tbody>\n",
       "    <tr>\n",
       "      <th>0</th>\n",
       "      <td>nobell.it/70ffb52d079109dca5664cce6f317373782/...</td>\n",
       "      <td>5.046608</td>\n",
       "    </tr>\n",
       "    <tr>\n",
       "      <th>1</th>\n",
       "      <td>www.dghjdgf.com/paypal.co.uk/cycgi-bin/webscrc...</td>\n",
       "      <td>4.720685</td>\n",
       "    </tr>\n",
       "    <tr>\n",
       "      <th>2</th>\n",
       "      <td>serviciosbys.com/paypal.cgi.bin.get-into.herf....</td>\n",
       "      <td>4.739902</td>\n",
       "    </tr>\n",
       "    <tr>\n",
       "      <th>3</th>\n",
       "      <td>mail.printakid.com/www.online.americanexpress....</td>\n",
       "      <td>4.179853</td>\n",
       "    </tr>\n",
       "    <tr>\n",
       "      <th>4</th>\n",
       "      <td>thewhiskeydregs.com/wp-content/themes/widescre...</td>\n",
       "      <td>4.623373</td>\n",
       "    </tr>\n",
       "  </tbody>\n",
       "</table>\n",
       "</div>"
      ],
      "text/plain": [
       "                                                 url  url_entropy\n",
       "0  nobell.it/70ffb52d079109dca5664cce6f317373782/...     5.046608\n",
       "1  www.dghjdgf.com/paypal.co.uk/cycgi-bin/webscrc...     4.720685\n",
       "2  serviciosbys.com/paypal.cgi.bin.get-into.herf....     4.739902\n",
       "3  mail.printakid.com/www.online.americanexpress....     4.179853\n",
       "4  thewhiskeydregs.com/wp-content/themes/widescre...     4.623373"
      ]
     },
     "execution_count": 9,
     "metadata": {},
     "output_type": "execute_result"
    }
   ],
   "source": [
    "# Apply entropy feature\n",
    "df = add_entropy_feature(df)\n",
    "\n",
    "# Preview the result\n",
    "df[['url', 'url_entropy']].head()"
   ]
  },
  {
   "cell_type": "code",
   "execution_count": 10,
   "id": "12f59bf2",
   "metadata": {},
   "outputs": [
    {
     "data": {
      "application/vnd.microsoft.datawrangler.viewer.v0+json": {
       "columns": [
        {
         "name": "index",
         "rawType": "object",
         "type": "string"
        },
        {
         "name": "url_entropy",
         "rawType": "float64",
         "type": "float"
        }
       ],
       "ref": "5ca684aa-dce2-479e-b0ee-89229dcad5b0",
       "rows": [
        [
         "count",
         "95913.0"
        ],
        [
         "mean",
         "4.296006382740414"
        ],
        [
         "std",
         "0.4186808143308551"
        ],
        [
         "min",
         "2.513493416679643"
        ],
        [
         "25%",
         "4.017917900762096"
        ],
        [
         "50%",
         "4.204469526952229"
        ],
        [
         "75%",
         "4.494992971353024"
        ],
        [
         "max",
         "7.233637343709127"
        ]
       ],
       "shape": {
        "columns": 1,
        "rows": 8
       }
      },
      "text/plain": [
       "count    95913.000000\n",
       "mean         4.296006\n",
       "std          0.418681\n",
       "min          2.513493\n",
       "25%          4.017918\n",
       "50%          4.204470\n",
       "75%          4.494993\n",
       "max          7.233637\n",
       "Name: url_entropy, dtype: float64"
      ]
     },
     "execution_count": 10,
     "metadata": {},
     "output_type": "execute_result"
    }
   ],
   "source": [
    "df['url_entropy'].describe()"
   ]
  },
  {
   "cell_type": "markdown",
   "id": "8bd5f236",
   "metadata": {},
   "source": [
    "### URL structure & semantic features\n",
    "\n",
    "We create several handcrafted features to help detect phishing URLs based on known patterns and behaviors.\n",
    "\n",
    "These include:\n",
    "\n",
    "| Feature | Description |\n",
    "|--------|-------------|\n",
    "| **`num_digits`** | Count of digits (`0–9`) in the full URL. Phishing URLs often contain numbers to appear unique or evade filters. |\n",
    "| **`url_length`** | Total number of characters in the full URL. Long URLs are commonly used to hide the true domain. |\n",
    "| **`num_subdomains`** | Number of subdomains before the main domain. For example, `paypal.security.login.com` has 2 subdomains. |\n",
    "| **`num_path_segments`** | Number of segments in the URL path, separated by `/`. Deep paths may indicate obfuscation. |\n",
    "| **`num_suspicious_keywords`** | Count of suspicious tokens like `login`, `secure`, `account`, etc. These often appear in phishing attempts. |\n",
    "| **`num_special_chars`** | Number of non-alphanumeric characters (e.g., `-`, `_`, `%`) used for obfuscation. |\n",
    "| **`has_brand_conflict`** | `True` if the domain contains one brand (e.g. `apple`) and the path contains another (e.g. `paypal`). This mismatch can be a red flag. |\n",
    "\n",
    "These structural and semantic signals are lightweight yet informative and can help distinguish benign from malicious URLs in our classification model.\n"
   ]
  },
  {
   "cell_type": "code",
   "execution_count": 11,
   "id": "9f0bee37",
   "metadata": {},
   "outputs": [
    {
     "data": {
      "application/vnd.microsoft.datawrangler.viewer.v0+json": {
       "columns": [
        {
         "name": "index",
         "rawType": "int64",
         "type": "integer"
        },
        {
         "name": "url",
         "rawType": "object",
         "type": "string"
        },
        {
         "name": "num_digits",
         "rawType": "int64",
         "type": "integer"
        },
        {
         "name": "url_length",
         "rawType": "int64",
         "type": "integer"
        },
        {
         "name": "num_subdomains",
         "rawType": "int64",
         "type": "integer"
        },
        {
         "name": "num_path_segments",
         "rawType": "int64",
         "type": "integer"
        },
        {
         "name": "num_suspicious_keywords",
         "rawType": "int64",
         "type": "integer"
        },
        {
         "name": "num_special_chars",
         "rawType": "int64",
         "type": "integer"
        },
        {
         "name": "has_brand_conflict",
         "rawType": "object",
         "type": "unknown"
        }
       ],
       "ref": "34fa68d5-5ef8-415a-930f-c8f826e316e1",
       "rows": [
        [
         "0",
         "nobell.it/70ffb52d079109dca5664cce6f317373782/login.SkyPe.com/en/cgi-bin/verification/login/70ffb52d079109dca5664cce6f317373/index.php?cmd=_profile-ach&outdated_page_tmpl=p/gen/failed-to-load&nav=0.5.1&login_access=1322408526",
         "58",
         "232",
         "0",
         "8",
         "3",
         "35",
         "0"
        ],
        [
         "1",
         "www.dghjdgf.com/paypal.co.uk/cycgi-bin/webscrcmd=_home-customer&nav=1/loading.php",
         "1",
         "88",
         "1",
         "4",
         "1",
         "18",
         "0"
        ],
        [
         "2",
         "serviciosbys.com/paypal.cgi.bin.get-into.herf.secure.dispatch35463256rzr321654641dsf654321874/href/href/href/secure/center/update/limit/seccure/4d7a1ff5c55825a2e632a679c2fd5353/",
         "47",
         "184",
         "0",
         "10",
         "4",
         "22",
         "0"
        ],
        [
         "3",
         "mail.printakid.com/www.online.americanexpress.com/index.html",
         "0",
         "67",
         "1",
         "2",
         "0",
         "11",
         "0"
        ],
        [
         "4",
         "thewhiskeydregs.com/wp-content/themes/widescreen/includes/temp/promocoessmiles/?84784787824HDJNDJDSJSHD//2724782784/",
         "21",
         "123",
         "0",
         "6",
         "0",
         "16",
         "0"
        ]
       ],
       "shape": {
        "columns": 8,
        "rows": 5
       }
      },
      "text/html": [
       "<div>\n",
       "<style scoped>\n",
       "    .dataframe tbody tr th:only-of-type {\n",
       "        vertical-align: middle;\n",
       "    }\n",
       "\n",
       "    .dataframe tbody tr th {\n",
       "        vertical-align: top;\n",
       "    }\n",
       "\n",
       "    .dataframe thead th {\n",
       "        text-align: right;\n",
       "    }\n",
       "</style>\n",
       "<table border=\"1\" class=\"dataframe\">\n",
       "  <thead>\n",
       "    <tr style=\"text-align: right;\">\n",
       "      <th></th>\n",
       "      <th>url</th>\n",
       "      <th>num_digits</th>\n",
       "      <th>url_length</th>\n",
       "      <th>num_subdomains</th>\n",
       "      <th>num_path_segments</th>\n",
       "      <th>num_suspicious_keywords</th>\n",
       "      <th>num_special_chars</th>\n",
       "      <th>has_brand_conflict</th>\n",
       "    </tr>\n",
       "  </thead>\n",
       "  <tbody>\n",
       "    <tr>\n",
       "      <th>0</th>\n",
       "      <td>nobell.it/70ffb52d079109dca5664cce6f317373782/...</td>\n",
       "      <td>58</td>\n",
       "      <td>232</td>\n",
       "      <td>0</td>\n",
       "      <td>8</td>\n",
       "      <td>3</td>\n",
       "      <td>35</td>\n",
       "      <td>0</td>\n",
       "    </tr>\n",
       "    <tr>\n",
       "      <th>1</th>\n",
       "      <td>www.dghjdgf.com/paypal.co.uk/cycgi-bin/webscrc...</td>\n",
       "      <td>1</td>\n",
       "      <td>88</td>\n",
       "      <td>1</td>\n",
       "      <td>4</td>\n",
       "      <td>1</td>\n",
       "      <td>18</td>\n",
       "      <td>0</td>\n",
       "    </tr>\n",
       "    <tr>\n",
       "      <th>2</th>\n",
       "      <td>serviciosbys.com/paypal.cgi.bin.get-into.herf....</td>\n",
       "      <td>47</td>\n",
       "      <td>184</td>\n",
       "      <td>0</td>\n",
       "      <td>10</td>\n",
       "      <td>4</td>\n",
       "      <td>22</td>\n",
       "      <td>0</td>\n",
       "    </tr>\n",
       "    <tr>\n",
       "      <th>3</th>\n",
       "      <td>mail.printakid.com/www.online.americanexpress....</td>\n",
       "      <td>0</td>\n",
       "      <td>67</td>\n",
       "      <td>1</td>\n",
       "      <td>2</td>\n",
       "      <td>0</td>\n",
       "      <td>11</td>\n",
       "      <td>0</td>\n",
       "    </tr>\n",
       "    <tr>\n",
       "      <th>4</th>\n",
       "      <td>thewhiskeydregs.com/wp-content/themes/widescre...</td>\n",
       "      <td>21</td>\n",
       "      <td>123</td>\n",
       "      <td>0</td>\n",
       "      <td>6</td>\n",
       "      <td>0</td>\n",
       "      <td>16</td>\n",
       "      <td>0</td>\n",
       "    </tr>\n",
       "  </tbody>\n",
       "</table>\n",
       "</div>"
      ],
      "text/plain": [
       "                                                 url  num_digits  url_length  \\\n",
       "0  nobell.it/70ffb52d079109dca5664cce6f317373782/...          58         232   \n",
       "1  www.dghjdgf.com/paypal.co.uk/cycgi-bin/webscrc...           1          88   \n",
       "2  serviciosbys.com/paypal.cgi.bin.get-into.herf....          47         184   \n",
       "3  mail.printakid.com/www.online.americanexpress....           0          67   \n",
       "4  thewhiskeydregs.com/wp-content/themes/widescre...          21         123   \n",
       "\n",
       "   num_subdomains  num_path_segments  num_suspicious_keywords  \\\n",
       "0               0                  8                        3   \n",
       "1               1                  4                        1   \n",
       "2               0                 10                        4   \n",
       "3               1                  2                        0   \n",
       "4               0                  6                        0   \n",
       "\n",
       "   num_special_chars has_brand_conflict  \n",
       "0                 35                  0  \n",
       "1                 18                  0  \n",
       "2                 22                  0  \n",
       "3                 11                  0  \n",
       "4                 16                  0  "
      ]
     },
     "execution_count": 11,
     "metadata": {},
     "output_type": "execute_result"
    }
   ],
   "source": [
    "# Apply the full feature extractor\n",
    "df = add_url_structure_features(df)\n",
    "\n",
    "# Preview all new features\n",
    "df[[\n",
    "    'url',\n",
    "    'num_digits',\n",
    "    'url_length',\n",
    "    'num_subdomains',\n",
    "    'num_path_segments',\n",
    "    'num_suspicious_keywords',\n",
    "    'num_special_chars',\n",
    "    'has_brand_conflict'\n",
    "]].head()\n",
    "\n"
   ]
  },
  {
   "cell_type": "code",
   "execution_count": 12,
   "id": "92e238a1",
   "metadata": {},
   "outputs": [
    {
     "data": {
      "application/vnd.microsoft.datawrangler.viewer.v0+json": {
       "columns": [
        {
         "name": "index",
         "rawType": "object",
         "type": "string"
        },
        {
         "name": "num_digits",
         "rawType": "float64",
         "type": "float"
        },
        {
         "name": "url_length",
         "rawType": "float64",
         "type": "float"
        },
        {
         "name": "num_subdomains",
         "rawType": "float64",
         "type": "float"
        },
        {
         "name": "num_path_segments",
         "rawType": "float64",
         "type": "float"
        },
        {
         "name": "num_suspicious_keywords",
         "rawType": "float64",
         "type": "float"
        },
        {
         "name": "num_special_chars",
         "rawType": "float64",
         "type": "float"
        }
       ],
       "ref": "f9b7bcac-af1e-4f1e-8649-3314c0036905",
       "rows": [
        [
         "count",
         "95913.0",
         "95913.0",
         "95913.0",
         "95913.0",
         "95913.0",
         "95913.0"
        ],
        [
         "mean",
         "8.134986915225257",
         "71.32562843410174",
         "1.3361692367040965",
         "2.3895092427512434",
         "0.466401843337191",
         "11.694827604182958"
        ],
        [
         "std",
         "19.356984714784492",
         "64.84790619654584",
         "1.952651578466968",
         "1.7102348635294653",
         "1.0842597053102414",
         "7.304576908685222"
        ],
        [
         "min",
         "0.0",
         "0.0",
         "0.0",
         "0.0",
         "0.0",
         "0.0"
        ],
        [
         "25%",
         "0.0",
         "37.0",
         "1.0",
         "1.0",
         "0.0",
         "7.0"
        ],
        [
         "50%",
         "1.0",
         "49.0",
         "1.0",
         "2.0",
         "0.0",
         "9.0"
        ],
        [
         "75%",
         "5.0",
         "78.0",
         "1.0",
         "3.0",
         "0.0",
         "13.0"
        ],
        [
         "max",
         "286.0",
         "2182.0",
         "33.0",
         "34.0",
         "17.0",
         "229.0"
        ]
       ],
       "shape": {
        "columns": 6,
        "rows": 8
       }
      },
      "text/html": [
       "<div>\n",
       "<style scoped>\n",
       "    .dataframe tbody tr th:only-of-type {\n",
       "        vertical-align: middle;\n",
       "    }\n",
       "\n",
       "    .dataframe tbody tr th {\n",
       "        vertical-align: top;\n",
       "    }\n",
       "\n",
       "    .dataframe thead th {\n",
       "        text-align: right;\n",
       "    }\n",
       "</style>\n",
       "<table border=\"1\" class=\"dataframe\">\n",
       "  <thead>\n",
       "    <tr style=\"text-align: right;\">\n",
       "      <th></th>\n",
       "      <th>num_digits</th>\n",
       "      <th>url_length</th>\n",
       "      <th>num_subdomains</th>\n",
       "      <th>num_path_segments</th>\n",
       "      <th>num_suspicious_keywords</th>\n",
       "      <th>num_special_chars</th>\n",
       "    </tr>\n",
       "  </thead>\n",
       "  <tbody>\n",
       "    <tr>\n",
       "      <th>count</th>\n",
       "      <td>95913.000000</td>\n",
       "      <td>95913.000000</td>\n",
       "      <td>95913.000000</td>\n",
       "      <td>95913.000000</td>\n",
       "      <td>95913.000000</td>\n",
       "      <td>95913.000000</td>\n",
       "    </tr>\n",
       "    <tr>\n",
       "      <th>mean</th>\n",
       "      <td>8.134987</td>\n",
       "      <td>71.325628</td>\n",
       "      <td>1.336169</td>\n",
       "      <td>2.389509</td>\n",
       "      <td>0.466402</td>\n",
       "      <td>11.694828</td>\n",
       "    </tr>\n",
       "    <tr>\n",
       "      <th>std</th>\n",
       "      <td>19.356985</td>\n",
       "      <td>64.847906</td>\n",
       "      <td>1.952652</td>\n",
       "      <td>1.710235</td>\n",
       "      <td>1.084260</td>\n",
       "      <td>7.304577</td>\n",
       "    </tr>\n",
       "    <tr>\n",
       "      <th>min</th>\n",
       "      <td>0.000000</td>\n",
       "      <td>0.000000</td>\n",
       "      <td>0.000000</td>\n",
       "      <td>0.000000</td>\n",
       "      <td>0.000000</td>\n",
       "      <td>0.000000</td>\n",
       "    </tr>\n",
       "    <tr>\n",
       "      <th>25%</th>\n",
       "      <td>0.000000</td>\n",
       "      <td>37.000000</td>\n",
       "      <td>1.000000</td>\n",
       "      <td>1.000000</td>\n",
       "      <td>0.000000</td>\n",
       "      <td>7.000000</td>\n",
       "    </tr>\n",
       "    <tr>\n",
       "      <th>50%</th>\n",
       "      <td>1.000000</td>\n",
       "      <td>49.000000</td>\n",
       "      <td>1.000000</td>\n",
       "      <td>2.000000</td>\n",
       "      <td>0.000000</td>\n",
       "      <td>9.000000</td>\n",
       "    </tr>\n",
       "    <tr>\n",
       "      <th>75%</th>\n",
       "      <td>5.000000</td>\n",
       "      <td>78.000000</td>\n",
       "      <td>1.000000</td>\n",
       "      <td>3.000000</td>\n",
       "      <td>0.000000</td>\n",
       "      <td>13.000000</td>\n",
       "    </tr>\n",
       "    <tr>\n",
       "      <th>max</th>\n",
       "      <td>286.000000</td>\n",
       "      <td>2182.000000</td>\n",
       "      <td>33.000000</td>\n",
       "      <td>34.000000</td>\n",
       "      <td>17.000000</td>\n",
       "      <td>229.000000</td>\n",
       "    </tr>\n",
       "  </tbody>\n",
       "</table>\n",
       "</div>"
      ],
      "text/plain": [
       "         num_digits    url_length  num_subdomains  num_path_segments  \\\n",
       "count  95913.000000  95913.000000    95913.000000       95913.000000   \n",
       "mean       8.134987     71.325628        1.336169           2.389509   \n",
       "std       19.356985     64.847906        1.952652           1.710235   \n",
       "min        0.000000      0.000000        0.000000           0.000000   \n",
       "25%        0.000000     37.000000        1.000000           1.000000   \n",
       "50%        1.000000     49.000000        1.000000           2.000000   \n",
       "75%        5.000000     78.000000        1.000000           3.000000   \n",
       "max      286.000000   2182.000000       33.000000          34.000000   \n",
       "\n",
       "       num_suspicious_keywords  num_special_chars  \n",
       "count             95913.000000       95913.000000  \n",
       "mean                  0.466402          11.694828  \n",
       "std                   1.084260           7.304577  \n",
       "min                   0.000000           0.000000  \n",
       "25%                   0.000000           7.000000  \n",
       "50%                   0.000000           9.000000  \n",
       "75%                   0.000000          13.000000  \n",
       "max                  17.000000         229.000000  "
      ]
     },
     "execution_count": 12,
     "metadata": {},
     "output_type": "execute_result"
    }
   ],
   "source": [
    "df[[\n",
    "    'url',\n",
    "    'num_digits',\n",
    "    'url_length',\n",
    "    'num_subdomains',\n",
    "    'num_path_segments',\n",
    "    'num_suspicious_keywords',\n",
    "    'num_special_chars',\n",
    "    'has_brand_conflict'\n",
    "]].describe()"
   ]
  },
  {
   "cell_type": "code",
   "execution_count": 13,
   "id": "3b6d9658",
   "metadata": {},
   "outputs": [
    {
     "data": {
      "application/vnd.microsoft.datawrangler.viewer.v0+json": {
       "columns": [
        {
         "name": "index",
         "rawType": "object",
         "type": "string"
        },
        {
         "name": "label",
         "rawType": "float64",
         "type": "float"
        },
        {
         "name": "is_in_alexa",
         "rawType": "float64",
         "type": "float"
        },
        {
         "name": "ranking",
         "rawType": "float64",
         "type": "float"
        },
        {
         "name": "jaccard_mld_path",
         "rawType": "float64",
         "type": "float"
        },
        {
         "name": "jaccard_subdomain_path",
         "rawType": "float64",
         "type": "float"
        },
        {
         "name": "url_entropy",
         "rawType": "float64",
         "type": "float"
        },
        {
         "name": "num_digits",
         "rawType": "float64",
         "type": "float"
        },
        {
         "name": "url_length",
         "rawType": "float64",
         "type": "float"
        },
        {
         "name": "num_subdomains",
         "rawType": "float64",
         "type": "float"
        },
        {
         "name": "num_path_segments",
         "rawType": "float64",
         "type": "float"
        },
        {
         "name": "num_suspicious_keywords",
         "rawType": "float64",
         "type": "float"
        },
        {
         "name": "num_special_chars",
         "rawType": "float64",
         "type": "float"
        }
       ],
       "ref": "5135b363-36ff-44f7-a515-1c42dead5df8",
       "rows": [
        [
         "count",
         "95913.0",
         "95821.0",
         "95821.0",
         "95913.0",
         "95913.0",
         "95913.0",
         "95913.0",
         "95913.0",
         "95913.0",
         "95913.0",
         "95913.0",
         "95913.0"
        ],
        [
         "mean",
         "0.4994526289449814",
         "0.3935254276202503",
         "654171.8201646821",
         "0.005718900322503497",
         "0.007234195692722063",
         "4.296006382740414",
         "8.134986915225257",
         "71.32562843410174",
         "1.3361692367040965",
         "2.3895092427512434",
         "0.466401843337191",
         "11.694827604182958"
        ],
        [
         "std",
         "0.5000023069324918",
         "0.4885341914148241",
         "450252.0303786306",
         "0.033786043910596184",
         "0.04315243111128762",
         "0.4186808143308551",
         "19.356984714784492",
         "64.84790619654584",
         "1.952651578466968",
         "1.7102348635294653",
         "1.0842597053102414",
         "7.304576908685222"
        ],
        [
         "min",
         "0.0",
         "0.0",
         "1.0",
         "0.0",
         "0.0",
         "2.513493416679643",
         "0.0",
         "0.0",
         "0.0",
         "0.0",
         "0.0",
         "0.0"
        ],
        [
         "25%",
         "0.0",
         "0.0",
         "35998.0",
         "0.0",
         "0.0",
         "4.017917900762096",
         "0.0",
         "37.0",
         "1.0",
         "1.0",
         "0.0",
         "7.0"
        ],
        [
         "50%",
         "0.0",
         "0.0",
         "1000001.0",
         "0.0",
         "0.0",
         "4.204469526952229",
         "1.0",
         "49.0",
         "1.0",
         "2.0",
         "0.0",
         "9.0"
        ],
        [
         "75%",
         "1.0",
         "1.0",
         "1000001.0",
         "0.0",
         "0.0",
         "4.494992971353024",
         "5.0",
         "78.0",
         "1.0",
         "3.0",
         "0.0",
         "13.0"
        ],
        [
         "max",
         "1.0",
         "1.0",
         "1000001.0",
         "1.0",
         "1.0",
         "7.233637343709127",
         "286.0",
         "2182.0",
         "33.0",
         "34.0",
         "17.0",
         "229.0"
        ]
       ],
       "shape": {
        "columns": 12,
        "rows": 8
       }
      },
      "text/html": [
       "<div>\n",
       "<style scoped>\n",
       "    .dataframe tbody tr th:only-of-type {\n",
       "        vertical-align: middle;\n",
       "    }\n",
       "\n",
       "    .dataframe tbody tr th {\n",
       "        vertical-align: top;\n",
       "    }\n",
       "\n",
       "    .dataframe thead th {\n",
       "        text-align: right;\n",
       "    }\n",
       "</style>\n",
       "<table border=\"1\" class=\"dataframe\">\n",
       "  <thead>\n",
       "    <tr style=\"text-align: right;\">\n",
       "      <th></th>\n",
       "      <th>label</th>\n",
       "      <th>is_in_alexa</th>\n",
       "      <th>ranking</th>\n",
       "      <th>jaccard_mld_path</th>\n",
       "      <th>jaccard_subdomain_path</th>\n",
       "      <th>url_entropy</th>\n",
       "      <th>num_digits</th>\n",
       "      <th>url_length</th>\n",
       "      <th>num_subdomains</th>\n",
       "      <th>num_path_segments</th>\n",
       "      <th>num_suspicious_keywords</th>\n",
       "      <th>num_special_chars</th>\n",
       "    </tr>\n",
       "  </thead>\n",
       "  <tbody>\n",
       "    <tr>\n",
       "      <th>count</th>\n",
       "      <td>95913.000000</td>\n",
       "      <td>95821.000000</td>\n",
       "      <td>9.582100e+04</td>\n",
       "      <td>95913.000000</td>\n",
       "      <td>95913.000000</td>\n",
       "      <td>95913.000000</td>\n",
       "      <td>95913.000000</td>\n",
       "      <td>95913.000000</td>\n",
       "      <td>95913.000000</td>\n",
       "      <td>95913.000000</td>\n",
       "      <td>95913.000000</td>\n",
       "      <td>95913.000000</td>\n",
       "    </tr>\n",
       "    <tr>\n",
       "      <th>mean</th>\n",
       "      <td>0.499453</td>\n",
       "      <td>0.393525</td>\n",
       "      <td>6.541718e+05</td>\n",
       "      <td>0.005719</td>\n",
       "      <td>0.007234</td>\n",
       "      <td>4.296006</td>\n",
       "      <td>8.134987</td>\n",
       "      <td>71.325628</td>\n",
       "      <td>1.336169</td>\n",
       "      <td>2.389509</td>\n",
       "      <td>0.466402</td>\n",
       "      <td>11.694828</td>\n",
       "    </tr>\n",
       "    <tr>\n",
       "      <th>std</th>\n",
       "      <td>0.500002</td>\n",
       "      <td>0.488534</td>\n",
       "      <td>4.502520e+05</td>\n",
       "      <td>0.033786</td>\n",
       "      <td>0.043152</td>\n",
       "      <td>0.418681</td>\n",
       "      <td>19.356985</td>\n",
       "      <td>64.847906</td>\n",
       "      <td>1.952652</td>\n",
       "      <td>1.710235</td>\n",
       "      <td>1.084260</td>\n",
       "      <td>7.304577</td>\n",
       "    </tr>\n",
       "    <tr>\n",
       "      <th>min</th>\n",
       "      <td>0.000000</td>\n",
       "      <td>0.000000</td>\n",
       "      <td>1.000000e+00</td>\n",
       "      <td>0.000000</td>\n",
       "      <td>0.000000</td>\n",
       "      <td>2.513493</td>\n",
       "      <td>0.000000</td>\n",
       "      <td>0.000000</td>\n",
       "      <td>0.000000</td>\n",
       "      <td>0.000000</td>\n",
       "      <td>0.000000</td>\n",
       "      <td>0.000000</td>\n",
       "    </tr>\n",
       "    <tr>\n",
       "      <th>25%</th>\n",
       "      <td>0.000000</td>\n",
       "      <td>0.000000</td>\n",
       "      <td>3.599800e+04</td>\n",
       "      <td>0.000000</td>\n",
       "      <td>0.000000</td>\n",
       "      <td>4.017918</td>\n",
       "      <td>0.000000</td>\n",
       "      <td>37.000000</td>\n",
       "      <td>1.000000</td>\n",
       "      <td>1.000000</td>\n",
       "      <td>0.000000</td>\n",
       "      <td>7.000000</td>\n",
       "    </tr>\n",
       "    <tr>\n",
       "      <th>50%</th>\n",
       "      <td>0.000000</td>\n",
       "      <td>0.000000</td>\n",
       "      <td>1.000001e+06</td>\n",
       "      <td>0.000000</td>\n",
       "      <td>0.000000</td>\n",
       "      <td>4.204470</td>\n",
       "      <td>1.000000</td>\n",
       "      <td>49.000000</td>\n",
       "      <td>1.000000</td>\n",
       "      <td>2.000000</td>\n",
       "      <td>0.000000</td>\n",
       "      <td>9.000000</td>\n",
       "    </tr>\n",
       "    <tr>\n",
       "      <th>75%</th>\n",
       "      <td>1.000000</td>\n",
       "      <td>1.000000</td>\n",
       "      <td>1.000001e+06</td>\n",
       "      <td>0.000000</td>\n",
       "      <td>0.000000</td>\n",
       "      <td>4.494993</td>\n",
       "      <td>5.000000</td>\n",
       "      <td>78.000000</td>\n",
       "      <td>1.000000</td>\n",
       "      <td>3.000000</td>\n",
       "      <td>0.000000</td>\n",
       "      <td>13.000000</td>\n",
       "    </tr>\n",
       "    <tr>\n",
       "      <th>max</th>\n",
       "      <td>1.000000</td>\n",
       "      <td>1.000000</td>\n",
       "      <td>1.000001e+06</td>\n",
       "      <td>1.000000</td>\n",
       "      <td>1.000000</td>\n",
       "      <td>7.233637</td>\n",
       "      <td>286.000000</td>\n",
       "      <td>2182.000000</td>\n",
       "      <td>33.000000</td>\n",
       "      <td>34.000000</td>\n",
       "      <td>17.000000</td>\n",
       "      <td>229.000000</td>\n",
       "    </tr>\n",
       "  </tbody>\n",
       "</table>\n",
       "</div>"
      ],
      "text/plain": [
       "              label   is_in_alexa       ranking  jaccard_mld_path  \\\n",
       "count  95913.000000  95821.000000  9.582100e+04      95913.000000   \n",
       "mean       0.499453      0.393525  6.541718e+05          0.005719   \n",
       "std        0.500002      0.488534  4.502520e+05          0.033786   \n",
       "min        0.000000      0.000000  1.000000e+00          0.000000   \n",
       "25%        0.000000      0.000000  3.599800e+04          0.000000   \n",
       "50%        0.000000      0.000000  1.000001e+06          0.000000   \n",
       "75%        1.000000      1.000000  1.000001e+06          0.000000   \n",
       "max        1.000000      1.000000  1.000001e+06          1.000000   \n",
       "\n",
       "       jaccard_subdomain_path   url_entropy    num_digits    url_length  \\\n",
       "count            95913.000000  95913.000000  95913.000000  95913.000000   \n",
       "mean                 0.007234      4.296006      8.134987     71.325628   \n",
       "std                  0.043152      0.418681     19.356985     64.847906   \n",
       "min                  0.000000      2.513493      0.000000      0.000000   \n",
       "25%                  0.000000      4.017918      0.000000     37.000000   \n",
       "50%                  0.000000      4.204470      1.000000     49.000000   \n",
       "75%                  0.000000      4.494993      5.000000     78.000000   \n",
       "max                  1.000000      7.233637    286.000000   2182.000000   \n",
       "\n",
       "       num_subdomains  num_path_segments  num_suspicious_keywords  \\\n",
       "count    95913.000000       95913.000000             95913.000000   \n",
       "mean         1.336169           2.389509                 0.466402   \n",
       "std          1.952652           1.710235                 1.084260   \n",
       "min          0.000000           0.000000                 0.000000   \n",
       "25%          1.000000           1.000000                 0.000000   \n",
       "50%          1.000000           2.000000                 0.000000   \n",
       "75%          1.000000           3.000000                 0.000000   \n",
       "max         33.000000          34.000000                17.000000   \n",
       "\n",
       "       num_special_chars  \n",
       "count       95913.000000  \n",
       "mean           11.694828  \n",
       "std             7.304577  \n",
       "min             0.000000  \n",
       "25%             7.000000  \n",
       "50%             9.000000  \n",
       "75%            13.000000  \n",
       "max           229.000000  "
      ]
     },
     "execution_count": 13,
     "metadata": {},
     "output_type": "execute_result"
    }
   ],
   "source": [
    "df.describe()"
   ]
  },
  {
   "cell_type": "markdown",
   "id": "1bce7031",
   "metadata": {},
   "source": [
    "## Train-test split"
   ]
  },
  {
   "cell_type": "code",
   "execution_count": 14,
   "id": "a81feeab",
   "metadata": {},
   "outputs": [],
   "source": [
    "feature_cols = [\n",
    "    'is_in_alexa', 'ranking',\n",
    "    'jaccard_mld_path', 'jaccard_subdomain_path',\n",
    "    'url_entropy', 'num_digits', 'url_length',\n",
    "    'num_subdomains', 'num_path_segments',\n",
    "    'num_suspicious_keywords', 'num_special_chars',\n",
    "    'has_brand_conflict'\n",
    "]"
   ]
  },
  {
   "cell_type": "code",
   "execution_count": 15,
   "id": "feb453bc",
   "metadata": {},
   "outputs": [
    {
     "data": {
      "application/vnd.microsoft.datawrangler.viewer.v0+json": {
       "columns": [
        {
         "name": "index",
         "rawType": "object",
         "type": "string"
        },
        {
         "name": "0",
         "rawType": "int64",
         "type": "integer"
        }
       ],
       "ref": "00279edd-c4d4-4da9-898a-94f1186aca5d",
       "rows": [
        [
         "is_in_alexa",
         "92"
        ],
        [
         "ranking",
         "92"
        ]
       ],
       "shape": {
        "columns": 1,
        "rows": 2
       }
      },
      "text/plain": [
       "is_in_alexa    92\n",
       "ranking        92\n",
       "dtype: int64"
      ]
     },
     "execution_count": 15,
     "metadata": {},
     "output_type": "execute_result"
    }
   ],
   "source": [
    "# Drop rows with missing labels\n",
    "df = df.dropna(subset=[\"label\"])\n",
    "\n",
    "# Check for missing values in other columns\n",
    "missing_counts = df.isna().sum()\n",
    "\n",
    "# Show only columns that have missing values\n",
    "missing_counts[missing_counts > 0]"
   ]
  },
  {
   "cell_type": "code",
   "execution_count": 16,
   "id": "d032305a",
   "metadata": {},
   "outputs": [],
   "source": [
    "# Drop rows with missing values in label, is_in_alexa, or ranking\n",
    "df = df.dropna(subset=[\"label\", \"is_in_alexa\", \"ranking\"])"
   ]
  },
  {
   "cell_type": "code",
   "execution_count": 17,
   "id": "6913b75b",
   "metadata": {},
   "outputs": [],
   "source": [
    "# Define X and y\n",
    "X = df[feature_cols]\n",
    "y = df[\"label\"]\n",
    "\n",
    "# Train-test split\n",
    "X_train, X_test, y_train, y_test = train_test_split(\n",
    "    X, y, test_size=0.2, random_state=42, stratify=y\n",
    ")"
   ]
  },
  {
   "cell_type": "markdown",
   "id": "55ed4c23",
   "metadata": {},
   "source": [
    "## Feature scaling\n",
    "\n",
    "This will ensure all features have zero mean and unit variance, which helps those algorithms converge faster and make more balanced decisions."
   ]
  },
  {
   "cell_type": "code",
   "execution_count": 18,
   "id": "9d0d61b9",
   "metadata": {},
   "outputs": [],
   "source": [
    "# 3. Fit scaler on training data only\n",
    "scaler = StandardScaler()\n",
    "X_train_scaled = scaler.fit_transform(X_train)\n",
    "\n",
    "# 4. Use same scaler to transform test data\n",
    "X_test_scaled = scaler.transform(X_test)"
   ]
  },
  {
   "cell_type": "code",
   "execution_count": 19,
   "id": "1aedc292",
   "metadata": {},
   "outputs": [
    {
     "name": "stdout",
     "output_type": "stream",
     "text": [
      "Training set size: 76656\n",
      "Test set size: 19165\n",
      "Training label distribution: Counter({0: 38333, 1: 38323})\n",
      "Test label distribution: Counter({0: 9584, 1: 9581})\n"
     ]
    }
   ],
   "source": [
    "# Check dataset sizes\n",
    "print(f\"Training set size: {X_train_scaled.shape[0]}\")\n",
    "print(f\"Test set size: {X_test_scaled.shape[0]}\")\n",
    "\n",
    "# Check label balance\n",
    "print(\"Training label distribution:\", Counter(y_train))\n",
    "print(\"Test label distribution:\", Counter(y_test))"
   ]
  },
  {
   "cell_type": "markdown",
   "id": "eeb96530",
   "metadata": {},
   "source": [
    "To ensure fair and effective modeling, we standardized our features **after performing the train-test split**. This is important because many of our features, such as `url_length`, `num_digits`, and `url_entropy`, have very different scales and distributions. Standardization (subtracting the mean and dividing by the standard deviation) brings all numeric features to a comparable scale, which is especially beneficial for models that rely on distances or gradients (e.g., logistic regression, SVM, KNN).\n",
    "\n",
    "We applied scaling **after** the split to avoid data leakage. Fitting the scaler on the full dataset would allow information from the test set to influence the transformation applied to the training set, which could lead to inflated performance estimates. By fitting the scaler only on the training data and then applying it to both the training and test sets, we preserve the integrity of our evaluation and ensure the test set remains a valid proxy for unseen data.\n"
   ]
  },
  {
   "cell_type": "markdown",
   "id": "5e6318ef",
   "metadata": {},
   "source": [
    "## Modeling"
   ]
  },
  {
   "cell_type": "markdown",
   "id": "0ae13e82",
   "metadata": {},
   "source": [
    "### RF"
   ]
  },
  {
   "cell_type": "code",
   "execution_count": 20,
   "id": "0642d4af",
   "metadata": {},
   "outputs": [
    {
     "data": {
      "text/html": [
       "<style>#sk-container-id-1 {color: black;background-color: white;}#sk-container-id-1 pre{padding: 0;}#sk-container-id-1 div.sk-toggleable {background-color: white;}#sk-container-id-1 label.sk-toggleable__label {cursor: pointer;display: block;width: 100%;margin-bottom: 0;padding: 0.3em;box-sizing: border-box;text-align: center;}#sk-container-id-1 label.sk-toggleable__label-arrow:before {content: \"▸\";float: left;margin-right: 0.25em;color: #696969;}#sk-container-id-1 label.sk-toggleable__label-arrow:hover:before {color: black;}#sk-container-id-1 div.sk-estimator:hover label.sk-toggleable__label-arrow:before {color: black;}#sk-container-id-1 div.sk-toggleable__content {max-height: 0;max-width: 0;overflow: hidden;text-align: left;background-color: #f0f8ff;}#sk-container-id-1 div.sk-toggleable__content pre {margin: 0.2em;color: black;border-radius: 0.25em;background-color: #f0f8ff;}#sk-container-id-1 input.sk-toggleable__control:checked~div.sk-toggleable__content {max-height: 200px;max-width: 100%;overflow: auto;}#sk-container-id-1 input.sk-toggleable__control:checked~label.sk-toggleable__label-arrow:before {content: \"▾\";}#sk-container-id-1 div.sk-estimator input.sk-toggleable__control:checked~label.sk-toggleable__label {background-color: #d4ebff;}#sk-container-id-1 div.sk-label input.sk-toggleable__control:checked~label.sk-toggleable__label {background-color: #d4ebff;}#sk-container-id-1 input.sk-hidden--visually {border: 0;clip: rect(1px 1px 1px 1px);clip: rect(1px, 1px, 1px, 1px);height: 1px;margin: -1px;overflow: hidden;padding: 0;position: absolute;width: 1px;}#sk-container-id-1 div.sk-estimator {font-family: monospace;background-color: #f0f8ff;border: 1px dotted black;border-radius: 0.25em;box-sizing: border-box;margin-bottom: 0.5em;}#sk-container-id-1 div.sk-estimator:hover {background-color: #d4ebff;}#sk-container-id-1 div.sk-parallel-item::after {content: \"\";width: 100%;border-bottom: 1px solid gray;flex-grow: 1;}#sk-container-id-1 div.sk-label:hover label.sk-toggleable__label {background-color: #d4ebff;}#sk-container-id-1 div.sk-serial::before {content: \"\";position: absolute;border-left: 1px solid gray;box-sizing: border-box;top: 0;bottom: 0;left: 50%;z-index: 0;}#sk-container-id-1 div.sk-serial {display: flex;flex-direction: column;align-items: center;background-color: white;padding-right: 0.2em;padding-left: 0.2em;position: relative;}#sk-container-id-1 div.sk-item {position: relative;z-index: 1;}#sk-container-id-1 div.sk-parallel {display: flex;align-items: stretch;justify-content: center;background-color: white;position: relative;}#sk-container-id-1 div.sk-item::before, #sk-container-id-1 div.sk-parallel-item::before {content: \"\";position: absolute;border-left: 1px solid gray;box-sizing: border-box;top: 0;bottom: 0;left: 50%;z-index: -1;}#sk-container-id-1 div.sk-parallel-item {display: flex;flex-direction: column;z-index: 1;position: relative;background-color: white;}#sk-container-id-1 div.sk-parallel-item:first-child::after {align-self: flex-end;width: 50%;}#sk-container-id-1 div.sk-parallel-item:last-child::after {align-self: flex-start;width: 50%;}#sk-container-id-1 div.sk-parallel-item:only-child::after {width: 0;}#sk-container-id-1 div.sk-dashed-wrapped {border: 1px dashed gray;margin: 0 0.4em 0.5em 0.4em;box-sizing: border-box;padding-bottom: 0.4em;background-color: white;}#sk-container-id-1 div.sk-label label {font-family: monospace;font-weight: bold;display: inline-block;line-height: 1.2em;}#sk-container-id-1 div.sk-label-container {text-align: center;}#sk-container-id-1 div.sk-container {/* jupyter's `normalize.less` sets `[hidden] { display: none; }` but bootstrap.min.css set `[hidden] { display: none !important; }` so we also need the `!important` here to be able to override the default hidden behavior on the sphinx rendered scikit-learn.org. See: https://github.com/scikit-learn/scikit-learn/issues/21755 */display: inline-block !important;position: relative;}#sk-container-id-1 div.sk-text-repr-fallback {display: none;}</style><div id=\"sk-container-id-1\" class=\"sk-top-container\"><div class=\"sk-text-repr-fallback\"><pre>RandomForestClassifier(class_weight=&#x27;balanced&#x27;, n_jobs=-1, random_state=42)</pre><b>In a Jupyter environment, please rerun this cell to show the HTML representation or trust the notebook. <br />On GitHub, the HTML representation is unable to render, please try loading this page with nbviewer.org.</b></div><div class=\"sk-container\" hidden><div class=\"sk-item\"><div class=\"sk-estimator sk-toggleable\"><input class=\"sk-toggleable__control sk-hidden--visually\" id=\"sk-estimator-id-1\" type=\"checkbox\" checked><label for=\"sk-estimator-id-1\" class=\"sk-toggleable__label sk-toggleable__label-arrow\">RandomForestClassifier</label><div class=\"sk-toggleable__content\"><pre>RandomForestClassifier(class_weight=&#x27;balanced&#x27;, n_jobs=-1, random_state=42)</pre></div></div></div></div></div>"
      ],
      "text/plain": [
       "RandomForestClassifier(class_weight='balanced', n_jobs=-1, random_state=42)"
      ]
     },
     "execution_count": 20,
     "metadata": {},
     "output_type": "execute_result"
    }
   ],
   "source": [
    "# Initialize and train the model\n",
    "rf_model = RandomForestClassifier(\n",
    "    n_estimators=100,\n",
    "    random_state=42,\n",
    "    class_weight='balanced',  # helpful for imbalanced data\n",
    "    n_jobs=-1\n",
    ")\n",
    "\n",
    "rf_model.fit(X_train_scaled, y_train)\n"
   ]
  },
  {
   "cell_type": "code",
   "execution_count": 21,
   "id": "3988098d",
   "metadata": {},
   "outputs": [
    {
     "name": "stdout",
     "output_type": "stream",
     "text": [
      "AUC: 0.9638329575577288\n",
      "\n",
      "Classification Report:\n",
      "               precision    recall  f1-score   support\n",
      "\n",
      "           0       0.89      0.91      0.90      9584\n",
      "           1       0.91      0.88      0.89      9581\n",
      "\n",
      "    accuracy                           0.90     19165\n",
      "   macro avg       0.90      0.90      0.90     19165\n",
      "weighted avg       0.90      0.90      0.90     19165\n",
      "\n",
      "Confusion Matrix:\n",
      " [[8713  871]\n",
      " [1117 8464]]\n"
     ]
    }
   ],
   "source": [
    "# Predict\n",
    "y_pred = rf_model.predict(X_test_scaled)\n",
    "y_proba = rf_model.predict_proba(X_test_scaled)[:, 1]  # for AUC\n",
    "\n",
    "# Metrics\n",
    "print(\"AUC:\", roc_auc_score(y_test, y_proba))\n",
    "print(\"\\nClassification Report:\\n\", classification_report(y_test, y_pred))\n",
    "print(\"Confusion Matrix:\\n\", confusion_matrix(y_test, y_pred))\n"
   ]
  },
  {
   "cell_type": "code",
   "execution_count": 22,
   "id": "287a99fa",
   "metadata": {},
   "outputs": [
    {
     "data": {
      "image/png": "[encoded data removed]",
      "text/plain": [
       "<Figure size 640x480 with 1 Axes>"
      ]
     },
     "metadata": {},
     "output_type": "display_data"
    }
   ],
   "source": [
    "\n",
    "feature_importances = pd.Series(\n",
    "    rf_model.feature_importances_, \n",
    "    index=X.columns\n",
    ").sort_values(ascending=False)\n",
    "\n",
    "feature_importances.plot(kind='barh')\n",
    "plt.title(\"Random Forest Feature Importances\")\n",
    "plt.gca().invert_yaxis()\n",
    "plt.tight_layout()\n",
    "plt.show()\n"
   ]
  },
  {
   "cell_type": "markdown",
   "id": "39eb84c9",
   "metadata": {},
   "source": [
    "#### Hyperparameter tuning"
   ]
  },
  {
   "cell_type": "code",
   "execution_count": 23,
   "id": "95030db3",
   "metadata": {},
   "outputs": [],
   "source": [
    "param_grid = {\n",
    "    'n_estimators': [100, 200],\n",
    "    'max_depth': [None, 10, 20],\n",
    "    'min_samples_split': [2, 5],\n",
    "    'min_samples_leaf': [1, 2],\n",
    "    'max_features': ['sqrt', 'log2']\n",
    "}\n"
   ]
  },
  {
   "cell_type": "code",
   "execution_count": null,
   "id": "8a56e20a",
   "metadata": {},
   "outputs": [
    {
     "name": "stdout",
     "output_type": "stream",
     "text": [
      "Fitting 5 folds for each of 48 candidates, totalling 240 fits\n",
      "[CV] END max_depth=None, max_features=sqrt, min_samples_leaf=1, min_samples_split=2, n_estimators=100; total time=  20.2s\n",
      "[CV] END max_depth=None, max_features=sqrt, min_samples_leaf=1, min_samples_split=2, n_estimators=100; total time=  21.2s\n",
      "[CV] END max_depth=None, max_features=sqrt, min_samples_leaf=1, min_samples_split=2, n_estimators=100; total time=  21.2s\n",
      "[CV] END max_depth=None, max_features=sqrt, min_samples_leaf=1, min_samples_split=2, n_estimators=100; total time=  21.4s\n",
      "[CV] END max_depth=None, max_features=sqrt, min_samples_leaf=1, min_samples_split=2, n_estimators=100; total time=  21.4s\n",
      "[CV] END max_depth=None, max_features=sqrt, min_samples_leaf=1, min_samples_split=2, n_estimators=200; total time=  43.8s\n",
      "[CV] END max_depth=None, max_features=sqrt, min_samples_leaf=1, min_samples_split=2, n_estimators=200; total time=  44.4s\n",
      "[CV] END max_depth=None, max_features=sqrt, min_samples_leaf=1, min_samples_split=2, n_estimators=200; total time=  44.6s\n",
      "[CV] END max_depth=None, max_features=sqrt, min_samples_leaf=1, min_samples_split=5, n_estimators=100; total time=  23.1s\n",
      "[CV] END max_depth=None, max_features=sqrt, min_samples_leaf=1, min_samples_split=5, n_estimators=100; total time=  23.2s\n",
      "[CV] END max_depth=None, max_features=sqrt, min_samples_leaf=1, min_samples_split=5, n_estimators=100; total time=  23.6s\n",
      "[CV] END max_depth=None, max_features=sqrt, min_samples_leaf=1, min_samples_split=2, n_estimators=200; total time=  41.4s\n",
      "[CV] END max_depth=None, max_features=sqrt, min_samples_leaf=1, min_samples_split=5, n_estimators=100; total time=  18.2s\n",
      "[CV] END max_depth=None, max_features=sqrt, min_samples_leaf=1, min_samples_split=2, n_estimators=200; total time=  41.9s\n",
      "[CV] END max_depth=None, max_features=sqrt, min_samples_leaf=1, min_samples_split=5, n_estimators=100; total time=  18.6s\n",
      "[CV] END max_depth=None, max_features=sqrt, min_samples_leaf=2, min_samples_split=2, n_estimators=100; total time=  18.1s\n",
      "[CV] END max_depth=None, max_features=sqrt, min_samples_leaf=2, min_samples_split=2, n_estimators=100; total time=  18.3s\n",
      "[CV] END max_depth=None, max_features=sqrt, min_samples_leaf=2, min_samples_split=2, n_estimators=100; total time=  18.3s\n",
      "[CV] END max_depth=None, max_features=sqrt, min_samples_leaf=1, min_samples_split=5, n_estimators=200; total time=  36.7s\n",
      "[CV] END max_depth=None, max_features=sqrt, min_samples_leaf=1, min_samples_split=5, n_estimators=200; total time=  36.9s\n",
      "[CV] END max_depth=None, max_features=sqrt, min_samples_leaf=1, min_samples_split=5, n_estimators=200; total time=  36.8s\n",
      "[CV] END max_depth=None, max_features=sqrt, min_samples_leaf=1, min_samples_split=5, n_estimators=200; total time=  37.0s\n",
      "[CV] END max_depth=None, max_features=sqrt, min_samples_leaf=2, min_samples_split=2, n_estimators=100; total time=  21.6s\n",
      "[CV] END max_depth=None, max_features=sqrt, min_samples_leaf=2, min_samples_split=2, n_estimators=100; total time=  22.4s\n",
      "[CV] END max_depth=None, max_features=sqrt, min_samples_leaf=1, min_samples_split=5, n_estimators=200; total time=  41.5s\n",
      "[CV] END max_depth=None, max_features=sqrt, min_samples_leaf=2, min_samples_split=2, n_estimators=200; total time=  39.2s\n",
      "[CV] END max_depth=None, max_features=sqrt, min_samples_leaf=2, min_samples_split=2, n_estimators=200; total time=  39.3s\n",
      "[CV] END max_depth=None, max_features=sqrt, min_samples_leaf=2, min_samples_split=2, n_estimators=200; total time=  38.8s\n",
      "[CV] END max_depth=None, max_features=sqrt, min_samples_leaf=2, min_samples_split=5, n_estimators=100; total time=  17.2s\n",
      "[CV] END max_depth=None, max_features=sqrt, min_samples_leaf=2, min_samples_split=5, n_estimators=100; total time=  17.6s\n",
      "[CV] END max_depth=None, max_features=sqrt, min_samples_leaf=2, min_samples_split=2, n_estimators=200; total time=  39.3s\n",
      "[CV] END max_depth=None, max_features=sqrt, min_samples_leaf=2, min_samples_split=5, n_estimators=100; total time=  16.8s\n",
      "[CV] END max_depth=None, max_features=sqrt, min_samples_leaf=2, min_samples_split=2, n_estimators=200; total time=  39.3s\n",
      "[CV] END max_depth=None, max_features=sqrt, min_samples_leaf=2, min_samples_split=5, n_estimators=100; total time=  12.8s\n",
      "[CV] END max_depth=None, max_features=sqrt, min_samples_leaf=2, min_samples_split=5, n_estimators=100; total time=  13.4s\n",
      "[CV] END max_depth=None, max_features=log2, min_samples_leaf=1, min_samples_split=2, n_estimators=100; total time=  15.2s\n",
      "[CV] END max_depth=None, max_features=sqrt, min_samples_leaf=2, min_samples_split=5, n_estimators=200; total time=  26.4s\n",
      "[CV] END max_depth=None, max_features=sqrt, min_samples_leaf=2, min_samples_split=5, n_estimators=200; total time=  26.7s\n",
      "[CV] END max_depth=None, max_features=sqrt, min_samples_leaf=2, min_samples_split=5, n_estimators=200; total time=  26.9s\n",
      "[CV] END max_depth=None, max_features=log2, min_samples_leaf=1, min_samples_split=2, n_estimators=100; total time=  14.7s\n",
      "[CV] END max_depth=None, max_features=sqrt, min_samples_leaf=2, min_samples_split=5, n_estimators=200; total time=  27.2s\n",
      "[CV] END max_depth=None, max_features=log2, min_samples_leaf=1, min_samples_split=2, n_estimators=100; total time=  14.7s\n",
      "[CV] END max_depth=None, max_features=sqrt, min_samples_leaf=2, min_samples_split=5, n_estimators=200; total time=  27.3s\n",
      "[CV] END max_depth=None, max_features=log2, min_samples_leaf=1, min_samples_split=2, n_estimators=100; total time=  14.6s\n",
      "[CV] END max_depth=None, max_features=log2, min_samples_leaf=1, min_samples_split=2, n_estimators=100; total time=  15.4s\n",
      "[CV] END max_depth=None, max_features=log2, min_samples_leaf=1, min_samples_split=5, n_estimators=100; total time=  15.4s\n",
      "[CV] END max_depth=None, max_features=log2, min_samples_leaf=1, min_samples_split=5, n_estimators=100; total time=  15.9s\n",
      "[CV] END max_depth=None, max_features=log2, min_samples_leaf=1, min_samples_split=5, n_estimators=100; total time=  15.8s\n",
      "[CV] END max_depth=None, max_features=log2, min_samples_leaf=1, min_samples_split=2, n_estimators=200; total time=  31.3s\n",
      "[CV] END max_depth=None, max_features=log2, min_samples_leaf=1, min_samples_split=2, n_estimators=200; total time=  31.3s\n",
      "[CV] END max_depth=None, max_features=log2, min_samples_leaf=1, min_samples_split=2, n_estimators=200; total time=  31.2s\n",
      "[CV] END max_depth=None, max_features=log2, min_samples_leaf=1, min_samples_split=2, n_estimators=200; total time=  31.4s\n",
      "[CV] END max_depth=None, max_features=log2, min_samples_leaf=1, min_samples_split=5, n_estimators=100; total time=  15.9s\n",
      "[CV] END max_depth=None, max_features=log2, min_samples_leaf=1, min_samples_split=2, n_estimators=200; total time=  31.4s\n",
      "[CV] END max_depth=None, max_features=log2, min_samples_leaf=1, min_samples_split=5, n_estimators=100; total time=  14.5s\n",
      "[CV] END max_depth=None, max_features=log2, min_samples_leaf=2, min_samples_split=2, n_estimators=100; total time=  13.5s\n",
      "[CV] END max_depth=None, max_features=log2, min_samples_leaf=2, min_samples_split=2, n_estimators=100; total time=  13.8s\n",
      "[CV] END max_depth=None, max_features=log2, min_samples_leaf=2, min_samples_split=2, n_estimators=100; total time=  14.7s\n",
      "[CV] END max_depth=None, max_features=log2, min_samples_leaf=2, min_samples_split=2, n_estimators=100; total time=  14.3s\n",
      "[CV] END max_depth=None, max_features=log2, min_samples_leaf=1, min_samples_split=5, n_estimators=200; total time=  28.6s\n",
      "[CV] END max_depth=None, max_features=log2, min_samples_leaf=1, min_samples_split=5, n_estimators=200; total time=  29.0s\n",
      "[CV] END max_depth=None, max_features=log2, min_samples_leaf=1, min_samples_split=5, n_estimators=200; total time=  28.6s\n",
      "[CV] END max_depth=None, max_features=log2, min_samples_leaf=2, min_samples_split=2, n_estimators=100; total time=  14.7s\n",
      "[CV] END max_depth=None, max_features=log2, min_samples_leaf=1, min_samples_split=5, n_estimators=200; total time=  28.8s\n",
      "[CV] END max_depth=None, max_features=log2, min_samples_leaf=1, min_samples_split=5, n_estimators=200; total time=  29.1s\n",
      "[CV] END max_depth=None, max_features=log2, min_samples_leaf=2, min_samples_split=5, n_estimators=100; total time=  13.5s\n",
      "[CV] END max_depth=None, max_features=log2, min_samples_leaf=2, min_samples_split=5, n_estimators=100; total time=  13.8s\n",
      "[CV] END max_depth=None, max_features=log2, min_samples_leaf=2, min_samples_split=5, n_estimators=100; total time=  13.7s\n",
      "[CV] END max_depth=None, max_features=log2, min_samples_leaf=2, min_samples_split=2, n_estimators=200; total time=  27.0s\n",
      "[CV] END max_depth=None, max_features=log2, min_samples_leaf=2, min_samples_split=2, n_estimators=200; total time=  26.9s\n",
      "[CV] END max_depth=None, max_features=log2, min_samples_leaf=2, min_samples_split=2, n_estimators=200; total time=  26.8s\n",
      "[CV] END max_depth=None, max_features=log2, min_samples_leaf=2, min_samples_split=2, n_estimators=200; total time=  27.0s\n",
      "[CV] END max_depth=None, max_features=log2, min_samples_leaf=2, min_samples_split=2, n_estimators=200; total time=  27.0s\n",
      "[CV] END max_depth=None, max_features=log2, min_samples_leaf=2, min_samples_split=5, n_estimators=100; total time=  13.5s\n",
      "[CV] END max_depth=None, max_features=log2, min_samples_leaf=2, min_samples_split=5, n_estimators=100; total time=  13.5s\n",
      "[CV] END max_depth=10, max_features=sqrt, min_samples_leaf=1, min_samples_split=2, n_estimators=100; total time=   9.5s\n",
      "[CV] END max_depth=10, max_features=sqrt, min_samples_leaf=1, min_samples_split=2, n_estimators=100; total time=   9.7s\n",
      "[CV] END max_depth=10, max_features=sqrt, min_samples_leaf=1, min_samples_split=2, n_estimators=100; total time=  10.0s\n",
      "[CV] END max_depth=None, max_features=log2, min_samples_leaf=2, min_samples_split=5, n_estimators=200; total time=  27.0s\n",
      "[CV] END max_depth=None, max_features=log2, min_samples_leaf=2, min_samples_split=5, n_estimators=200; total time=  27.6s\n",
      "[CV] END max_depth=10, max_features=sqrt, min_samples_leaf=1, min_samples_split=2, n_estimators=100; total time=   9.8s\n",
      "[CV] END max_depth=10, max_features=sqrt, min_samples_leaf=1, min_samples_split=2, n_estimators=100; total time=   9.7s\n",
      "[CV] END max_depth=None, max_features=log2, min_samples_leaf=2, min_samples_split=5, n_estimators=200; total time=  28.0s\n",
      "[CV] END max_depth=None, max_features=log2, min_samples_leaf=2, min_samples_split=5, n_estimators=200; total time=  28.2s\n",
      "[CV] END max_depth=None, max_features=log2, min_samples_leaf=2, min_samples_split=5, n_estimators=200; total time=  28.2s\n",
      "[CV] END max_depth=10, max_features=sqrt, min_samples_leaf=1, min_samples_split=2, n_estimators=200; total time=  20.7s\n",
      "[CV] END max_depth=10, max_features=sqrt, min_samples_leaf=1, min_samples_split=2, n_estimators=200; total time=  20.8s\n",
      "[CV] END max_depth=10, max_features=sqrt, min_samples_leaf=1, min_samples_split=2, n_estimators=200; total time=  21.0s\n",
      "[CV] END max_depth=10, max_features=sqrt, min_samples_leaf=1, min_samples_split=5, n_estimators=100; total time=  10.6s\n",
      "[CV] END max_depth=10, max_features=sqrt, min_samples_leaf=1, min_samples_split=5, n_estimators=100; total time=  10.5s\n",
      "[CV] END max_depth=10, max_features=sqrt, min_samples_leaf=1, min_samples_split=5, n_estimators=100; total time=  10.9s\n",
      "[CV] END max_depth=10, max_features=sqrt, min_samples_leaf=1, min_samples_split=2, n_estimators=200; total time=  20.6s\n",
      "[CV] END max_depth=10, max_features=sqrt, min_samples_leaf=1, min_samples_split=2, n_estimators=200; total time=  20.7s\n",
      "[CV] END max_depth=10, max_features=sqrt, min_samples_leaf=1, min_samples_split=5, n_estimators=100; total time=  10.0s\n",
      "[CV] END max_depth=10, max_features=sqrt, min_samples_leaf=1, min_samples_split=5, n_estimators=100; total time=  10.2s\n",
      "[CV] END max_depth=10, max_features=sqrt, min_samples_leaf=2, min_samples_split=2, n_estimators=100; total time=  10.0s\n",
      "[CV] END max_depth=10, max_features=sqrt, min_samples_leaf=2, min_samples_split=2, n_estimators=100; total time=  10.4s\n",
      "[CV] END max_depth=10, max_features=sqrt, min_samples_leaf=2, min_samples_split=2, n_estimators=100; total time=  10.3s\n",
      "[CV] END max_depth=10, max_features=sqrt, min_samples_leaf=1, min_samples_split=5, n_estimators=200; total time=  19.8s\n",
      "[CV] END max_depth=10, max_features=sqrt, min_samples_leaf=1, min_samples_split=5, n_estimators=200; total time=  19.5s\n",
      "[CV] END max_depth=10, max_features=sqrt, min_samples_leaf=1, min_samples_split=5, n_estimators=200; total time=  19.5s\n",
      "[CV] END max_depth=10, max_features=sqrt, min_samples_leaf=1, min_samples_split=5, n_estimators=200; total time=  19.4s\n",
      "[CV] END max_depth=10, max_features=sqrt, min_samples_leaf=1, min_samples_split=5, n_estimators=200; total time=  19.3s\n",
      "[CV] END max_depth=10, max_features=sqrt, min_samples_leaf=2, min_samples_split=2, n_estimators=100; total time=   9.4s\n",
      "[CV] END max_depth=10, max_features=sqrt, min_samples_leaf=2, min_samples_split=2, n_estimators=100; total time=  10.0s\n",
      "[CV] END max_depth=10, max_features=sqrt, min_samples_leaf=2, min_samples_split=5, n_estimators=100; total time=  10.6s\n",
      "[CV] END max_depth=10, max_features=sqrt, min_samples_leaf=2, min_samples_split=5, n_estimators=100; total time=  10.1s\n",
      "[CV] END max_depth=10, max_features=sqrt, min_samples_leaf=2, min_samples_split=5, n_estimators=100; total time=  10.3s\n",
      "[CV] END max_depth=10, max_features=sqrt, min_samples_leaf=2, min_samples_split=2, n_estimators=200; total time=  19.7s\n",
      "[CV] END max_depth=10, max_features=sqrt, min_samples_leaf=2, min_samples_split=2, n_estimators=200; total time=  18.8s\n",
      "[CV] END max_depth=10, max_features=sqrt, min_samples_leaf=2, min_samples_split=2, n_estimators=200; total time=  18.9s\n",
      "[CV] END max_depth=10, max_features=sqrt, min_samples_leaf=2, min_samples_split=2, n_estimators=200; total time=  19.1s\n",
      "[CV] END max_depth=10, max_features=sqrt, min_samples_leaf=2, min_samples_split=2, n_estimators=200; total time=  19.2s\n",
      "[CV] END max_depth=10, max_features=sqrt, min_samples_leaf=2, min_samples_split=5, n_estimators=100; total time=   9.0s\n",
      "[CV] END max_depth=10, max_features=sqrt, min_samples_leaf=2, min_samples_split=5, n_estimators=100; total time=   9.2s\n",
      "[CV] END max_depth=10, max_features=log2, min_samples_leaf=1, min_samples_split=2, n_estimators=100; total time=  10.3s\n",
      "[CV] END max_depth=10, max_features=log2, min_samples_leaf=1, min_samples_split=2, n_estimators=100; total time=  10.3s\n",
      "[CV] END max_depth=10, max_features=log2, min_samples_leaf=1, min_samples_split=2, n_estimators=100; total time=  10.2s\n",
      "[CV] END max_depth=10, max_features=sqrt, min_samples_leaf=2, min_samples_split=5, n_estimators=200; total time=  19.1s\n",
      "[CV] END max_depth=10, max_features=sqrt, min_samples_leaf=2, min_samples_split=5, n_estimators=200; total time=  19.0s\n",
      "[CV] END max_depth=10, max_features=sqrt, min_samples_leaf=2, min_samples_split=5, n_estimators=200; total time=  18.7s\n",
      "[CV] END max_depth=10, max_features=sqrt, min_samples_leaf=2, min_samples_split=5, n_estimators=200; total time=  18.9s\n",
      "[CV] END max_depth=10, max_features=sqrt, min_samples_leaf=2, min_samples_split=5, n_estimators=200; total time=  19.1s\n",
      "[CV] END max_depth=10, max_features=log2, min_samples_leaf=1, min_samples_split=2, n_estimators=100; total time=   9.1s\n",
      "[CV] END max_depth=10, max_features=log2, min_samples_leaf=1, min_samples_split=2, n_estimators=100; total time=   9.2s\n",
      "[CV] END max_depth=10, max_features=log2, min_samples_leaf=1, min_samples_split=5, n_estimators=100; total time=  10.0s\n",
      "[CV] END max_depth=10, max_features=log2, min_samples_leaf=1, min_samples_split=5, n_estimators=100; total time=  10.2s\n",
      "[CV] END max_depth=10, max_features=log2, min_samples_leaf=1, min_samples_split=5, n_estimators=100; total time=  10.1s\n",
      "[CV] END max_depth=10, max_features=log2, min_samples_leaf=1, min_samples_split=2, n_estimators=200; total time=  19.3s\n",
      "[CV] END max_depth=10, max_features=log2, min_samples_leaf=1, min_samples_split=2, n_estimators=200; total time=  19.0s\n",
      "[CV] END max_depth=10, max_features=log2, min_samples_leaf=1, min_samples_split=2, n_estimators=200; total time=  18.7s\n",
      "[CV] END max_depth=10, max_features=log2, min_samples_leaf=1, min_samples_split=2, n_estimators=200; total time=  18.7s\n",
      "[CV] END max_depth=10, max_features=log2, min_samples_leaf=1, min_samples_split=2, n_estimators=200; total time=  18.4s\n",
      "[CV] END max_depth=10, max_features=log2, min_samples_leaf=1, min_samples_split=5, n_estimators=100; total time=   9.0s\n",
      "[CV] END max_depth=10, max_features=log2, min_samples_leaf=1, min_samples_split=5, n_estimators=100; total time=   9.5s\n",
      "[CV] END max_depth=10, max_features=log2, min_samples_leaf=2, min_samples_split=2, n_estimators=100; total time=   9.8s\n",
      "[CV] END max_depth=10, max_features=log2, min_samples_leaf=2, min_samples_split=2, n_estimators=100; total time=   9.9s\n",
      "[CV] END max_depth=10, max_features=log2, min_samples_leaf=2, min_samples_split=2, n_estimators=100; total time=  10.1s\n",
      "[CV] END max_depth=10, max_features=log2, min_samples_leaf=1, min_samples_split=5, n_estimators=200; total time=  19.0s\n",
      "[CV] END max_depth=10, max_features=log2, min_samples_leaf=1, min_samples_split=5, n_estimators=200; total time=  18.9s\n",
      "[CV] END max_depth=10, max_features=log2, min_samples_leaf=1, min_samples_split=5, n_estimators=200; total time=  19.1s\n",
      "[CV] END max_depth=10, max_features=log2, min_samples_leaf=1, min_samples_split=5, n_estimators=200; total time=  19.3s\n",
      "[CV] END max_depth=10, max_features=log2, min_samples_leaf=1, min_samples_split=5, n_estimators=200; total time=  19.4s\n",
      "[CV] END max_depth=10, max_features=log2, min_samples_leaf=2, min_samples_split=2, n_estimators=100; total time=   9.7s\n",
      "[CV] END max_depth=10, max_features=log2, min_samples_leaf=2, min_samples_split=2, n_estimators=100; total time=   9.6s\n",
      "[CV] END max_depth=10, max_features=log2, min_samples_leaf=2, min_samples_split=5, n_estimators=100; total time=   9.9s\n",
      "[CV] END max_depth=10, max_features=log2, min_samples_leaf=2, min_samples_split=5, n_estimators=100; total time=  10.0s\n",
      "[CV] END max_depth=10, max_features=log2, min_samples_leaf=2, min_samples_split=5, n_estimators=100; total time=  10.1s\n",
      "[CV] END max_depth=10, max_features=log2, min_samples_leaf=2, min_samples_split=2, n_estimators=200; total time=  19.6s\n",
      "[CV] END max_depth=10, max_features=log2, min_samples_leaf=2, min_samples_split=2, n_estimators=200; total time=  19.0s\n",
      "[CV] END max_depth=10, max_features=log2, min_samples_leaf=2, min_samples_split=2, n_estimators=200; total time=  19.0s\n",
      "[CV] END max_depth=10, max_features=log2, min_samples_leaf=2, min_samples_split=2, n_estimators=200; total time=  19.3s\n",
      "[CV] END max_depth=10, max_features=log2, min_samples_leaf=2, min_samples_split=2, n_estimators=200; total time=  18.5s\n",
      "[CV] END max_depth=10, max_features=log2, min_samples_leaf=2, min_samples_split=5, n_estimators=100; total time=   9.4s\n",
      "[CV] END max_depth=10, max_features=log2, min_samples_leaf=2, min_samples_split=5, n_estimators=100; total time=   9.4s\n",
      "[CV] END max_depth=10, max_features=log2, min_samples_leaf=2, min_samples_split=5, n_estimators=200; total time=  19.0s\n",
      "[CV] END max_depth=20, max_features=sqrt, min_samples_leaf=1, min_samples_split=2, n_estimators=100; total time=  14.2s\n",
      "[CV] END max_depth=10, max_features=log2, min_samples_leaf=2, min_samples_split=5, n_estimators=200; total time=  19.3s\n",
      "[CV] END max_depth=10, max_features=log2, min_samples_leaf=2, min_samples_split=5, n_estimators=200; total time=  18.9s\n",
      "[CV] END max_depth=20, max_features=sqrt, min_samples_leaf=1, min_samples_split=2, n_estimators=100; total time=  14.1s\n",
      "[CV] END max_depth=20, max_features=sqrt, min_samples_leaf=1, min_samples_split=2, n_estimators=100; total time=  14.0s\n",
      "[CV] END max_depth=10, max_features=log2, min_samples_leaf=2, min_samples_split=5, n_estimators=200; total time=  19.3s\n",
      "[CV] END max_depth=10, max_features=log2, min_samples_leaf=2, min_samples_split=5, n_estimators=200; total time=  19.2s\n",
      "[CV] END max_depth=20, max_features=sqrt, min_samples_leaf=1, min_samples_split=2, n_estimators=100; total time=  13.5s\n",
      "[CV] END max_depth=20, max_features=sqrt, min_samples_leaf=1, min_samples_split=2, n_estimators=100; total time=  13.7s\n",
      "[CV] END max_depth=20, max_features=sqrt, min_samples_leaf=1, min_samples_split=5, n_estimators=100; total time=  13.6s\n",
      "[CV] END max_depth=20, max_features=sqrt, min_samples_leaf=1, min_samples_split=5, n_estimators=100; total time=  13.8s\n",
      "[CV] END max_depth=20, max_features=sqrt, min_samples_leaf=1, min_samples_split=2, n_estimators=200; total time=  26.7s\n",
      "[CV] END max_depth=20, max_features=sqrt, min_samples_leaf=1, min_samples_split=5, n_estimators=100; total time=  13.9s\n",
      "[CV] END max_depth=20, max_features=sqrt, min_samples_leaf=1, min_samples_split=2, n_estimators=200; total time=  26.8s\n",
      "[CV] END max_depth=20, max_features=sqrt, min_samples_leaf=1, min_samples_split=2, n_estimators=200; total time=  27.5s\n",
      "[CV] END max_depth=20, max_features=sqrt, min_samples_leaf=1, min_samples_split=2, n_estimators=200; total time=  27.1s\n",
      "[CV] END max_depth=20, max_features=sqrt, min_samples_leaf=1, min_samples_split=2, n_estimators=200; total time=  27.2s\n",
      "[CV] END max_depth=20, max_features=sqrt, min_samples_leaf=1, min_samples_split=5, n_estimators=100; total time=  13.4s\n",
      "[CV] END max_depth=20, max_features=sqrt, min_samples_leaf=1, min_samples_split=5, n_estimators=100; total time=  13.3s\n",
      "[CV] END max_depth=20, max_features=sqrt, min_samples_leaf=2, min_samples_split=2, n_estimators=100; total time=  13.3s\n",
      "[CV] END max_depth=20, max_features=sqrt, min_samples_leaf=2, min_samples_split=2, n_estimators=100; total time=  13.8s\n",
      "[CV] END max_depth=20, max_features=sqrt, min_samples_leaf=2, min_samples_split=2, n_estimators=100; total time=  14.0s\n",
      "[CV] END max_depth=20, max_features=sqrt, min_samples_leaf=1, min_samples_split=5, n_estimators=200; total time=  26.6s\n",
      "[CV] END max_depth=20, max_features=sqrt, min_samples_leaf=1, min_samples_split=5, n_estimators=200; total time=  26.7s\n",
      "[CV] END max_depth=20, max_features=sqrt, min_samples_leaf=1, min_samples_split=5, n_estimators=200; total time=  26.8s\n",
      "[CV] END max_depth=20, max_features=sqrt, min_samples_leaf=1, min_samples_split=5, n_estimators=200; total time=  27.1s\n",
      "[CV] END max_depth=20, max_features=sqrt, min_samples_leaf=2, min_samples_split=2, n_estimators=100; total time=  13.3s\n",
      "[CV] END max_depth=20, max_features=sqrt, min_samples_leaf=1, min_samples_split=5, n_estimators=200; total time=  27.0s\n",
      "[CV] END max_depth=20, max_features=sqrt, min_samples_leaf=2, min_samples_split=2, n_estimators=100; total time=  13.2s\n",
      "[CV] END max_depth=20, max_features=sqrt, min_samples_leaf=2, min_samples_split=5, n_estimators=100; total time=  13.3s\n",
      "[CV] END max_depth=20, max_features=sqrt, min_samples_leaf=2, min_samples_split=5, n_estimators=100; total time=  13.5s\n",
      "[CV] END max_depth=20, max_features=sqrt, min_samples_leaf=2, min_samples_split=5, n_estimators=100; total time=  13.7s\n",
      "[CV] END max_depth=20, max_features=sqrt, min_samples_leaf=2, min_samples_split=2, n_estimators=200; total time=  26.4s\n",
      "[CV] END max_depth=20, max_features=sqrt, min_samples_leaf=2, min_samples_split=2, n_estimators=200; total time=  25.9s\n",
      "[CV] END max_depth=20, max_features=sqrt, min_samples_leaf=2, min_samples_split=2, n_estimators=200; total time=  26.3s\n",
      "[CV] END max_depth=20, max_features=sqrt, min_samples_leaf=2, min_samples_split=2, n_estimators=200; total time=  26.2s\n",
      "[CV] END max_depth=20, max_features=sqrt, min_samples_leaf=2, min_samples_split=2, n_estimators=200; total time=  26.4s\n",
      "[CV] END max_depth=20, max_features=sqrt, min_samples_leaf=2, min_samples_split=5, n_estimators=100; total time=  12.9s\n",
      "[CV] END max_depth=20, max_features=sqrt, min_samples_leaf=2, min_samples_split=5, n_estimators=100; total time=  13.2s\n",
      "[CV] END max_depth=20, max_features=log2, min_samples_leaf=1, min_samples_split=2, n_estimators=100; total time=  14.0s\n",
      "[CV] END max_depth=20, max_features=sqrt, min_samples_leaf=2, min_samples_split=5, n_estimators=200; total time=  26.4s\n",
      "[CV] END max_depth=20, max_features=log2, min_samples_leaf=1, min_samples_split=2, n_estimators=100; total time=  13.9s\n",
      "[CV] END max_depth=20, max_features=log2, min_samples_leaf=1, min_samples_split=2, n_estimators=100; total time=  13.6s\n",
      "[CV] END max_depth=20, max_features=sqrt, min_samples_leaf=2, min_samples_split=5, n_estimators=200; total time=  25.5s\n",
      "[CV] END max_depth=20, max_features=sqrt, min_samples_leaf=2, min_samples_split=5, n_estimators=200; total time=  25.3s\n",
      "[CV] END max_depth=20, max_features=sqrt, min_samples_leaf=2, min_samples_split=5, n_estimators=200; total time=  25.6s\n",
      "[CV] END max_depth=20, max_features=sqrt, min_samples_leaf=2, min_samples_split=5, n_estimators=200; total time=  25.7s\n",
      "[CV] END max_depth=20, max_features=log2, min_samples_leaf=1, min_samples_split=2, n_estimators=100; total time=  13.1s\n",
      "[CV] END max_depth=20, max_features=log2, min_samples_leaf=1, min_samples_split=2, n_estimators=100; total time=  13.4s\n",
      "[CV] END max_depth=20, max_features=log2, min_samples_leaf=1, min_samples_split=5, n_estimators=100; total time=  13.2s\n",
      "[CV] END max_depth=20, max_features=log2, min_samples_leaf=1, min_samples_split=2, n_estimators=200; total time=  26.7s\n",
      "[CV] END max_depth=20, max_features=log2, min_samples_leaf=1, min_samples_split=5, n_estimators=100; total time=  13.8s\n",
      "[CV] END max_depth=20, max_features=log2, min_samples_leaf=1, min_samples_split=2, n_estimators=200; total time=  26.6s\n",
      "[CV] END max_depth=20, max_features=log2, min_samples_leaf=1, min_samples_split=5, n_estimators=100; total time=  13.7s\n",
      "[CV] END max_depth=20, max_features=log2, min_samples_leaf=1, min_samples_split=2, n_estimators=200; total time=  25.4s\n",
      "[CV] END max_depth=20, max_features=log2, min_samples_leaf=1, min_samples_split=2, n_estimators=200; total time=  25.7s\n",
      "[CV] END max_depth=20, max_features=log2, min_samples_leaf=1, min_samples_split=2, n_estimators=200; total time=  26.2s\n",
      "[CV] END max_depth=20, max_features=log2, min_samples_leaf=1, min_samples_split=5, n_estimators=100; total time=  12.9s\n",
      "[CV] END max_depth=20, max_features=log2, min_samples_leaf=1, min_samples_split=5, n_estimators=100; total time=  12.5s\n",
      "[CV] END max_depth=20, max_features=log2, min_samples_leaf=2, min_samples_split=2, n_estimators=100; total time=  13.6s\n",
      "[CV] END max_depth=20, max_features=log2, min_samples_leaf=2, min_samples_split=2, n_estimators=100; total time=  14.2s\n",
      "[CV] END max_depth=20, max_features=log2, min_samples_leaf=1, min_samples_split=5, n_estimators=200; total time=  26.4s\n",
      "[CV] END max_depth=20, max_features=log2, min_samples_leaf=2, min_samples_split=2, n_estimators=100; total time=  13.9s\n",
      "[CV] END max_depth=20, max_features=log2, min_samples_leaf=1, min_samples_split=5, n_estimators=200; total time=  26.4s\n",
      "[CV] END max_depth=20, max_features=log2, min_samples_leaf=1, min_samples_split=5, n_estimators=200; total time=  26.4s\n",
      "[CV] END max_depth=20, max_features=log2, min_samples_leaf=1, min_samples_split=5, n_estimators=200; total time=  26.9s\n",
      "[CV] END max_depth=20, max_features=log2, min_samples_leaf=1, min_samples_split=5, n_estimators=200; total time=  26.5s\n",
      "[CV] END max_depth=20, max_features=log2, min_samples_leaf=2, min_samples_split=2, n_estimators=100; total time=  12.5s\n",
      "[CV] END max_depth=20, max_features=log2, min_samples_leaf=2, min_samples_split=2, n_estimators=100; total time=  12.4s\n",
      "[CV] END max_depth=20, max_features=log2, min_samples_leaf=2, min_samples_split=5, n_estimators=100; total time=  14.9s\n",
      "[CV] END max_depth=20, max_features=log2, min_samples_leaf=2, min_samples_split=5, n_estimators=100; total time=  14.4s\n",
      "[CV] END max_depth=20, max_features=log2, min_samples_leaf=2, min_samples_split=5, n_estimators=100; total time=  14.5s\n",
      "[CV] END max_depth=20, max_features=log2, min_samples_leaf=2, min_samples_split=2, n_estimators=200; total time=  26.4s\n",
      "[CV] END max_depth=20, max_features=log2, min_samples_leaf=2, min_samples_split=2, n_estimators=200; total time=  26.4s\n",
      "[CV] END max_depth=20, max_features=log2, min_samples_leaf=2, min_samples_split=2, n_estimators=200; total time=  26.8s\n",
      "[CV] END max_depth=20, max_features=log2, min_samples_leaf=2, min_samples_split=2, n_estimators=200; total time=  26.8s\n",
      "[CV] END max_depth=20, max_features=log2, min_samples_leaf=2, min_samples_split=2, n_estimators=200; total time=  26.5s\n",
      "[CV] END max_depth=20, max_features=log2, min_samples_leaf=2, min_samples_split=5, n_estimators=100; total time=  12.3s\n",
      "[CV] END max_depth=20, max_features=log2, min_samples_leaf=2, min_samples_split=5, n_estimators=100; total time=  12.4s\n",
      "[CV] END max_depth=20, max_features=log2, min_samples_leaf=2, min_samples_split=5, n_estimators=200; total time=  20.1s\n",
      "[CV] END max_depth=20, max_features=log2, min_samples_leaf=2, min_samples_split=5, n_estimators=200; total time=  19.2s\n",
      "[CV] END max_depth=20, max_features=log2, min_samples_leaf=2, min_samples_split=5, n_estimators=200; total time=  19.3s\n",
      "[CV] END max_depth=20, max_features=log2, min_samples_leaf=2, min_samples_split=5, n_estimators=200; total time=  19.2s\n",
      "[CV] END max_depth=20, max_features=log2, min_samples_leaf=2, min_samples_split=5, n_estimators=200; total time=  19.5s\n"
     ]
    },
    {
     "data": {
      "text/html": [
       "<style>#sk-container-id-2 {color: black;background-color: white;}#sk-container-id-2 pre{padding: 0;}#sk-container-id-2 div.sk-toggleable {background-color: white;}#sk-container-id-2 label.sk-toggleable__label {cursor: pointer;display: block;width: 100%;margin-bottom: 0;padding: 0.3em;box-sizing: border-box;text-align: center;}#sk-container-id-2 label.sk-toggleable__label-arrow:before {content: \"▸\";float: left;margin-right: 0.25em;color: #696969;}#sk-container-id-2 label.sk-toggleable__label-arrow:hover:before {color: black;}#sk-container-id-2 div.sk-estimator:hover label.sk-toggleable__label-arrow:before {color: black;}#sk-container-id-2 div.sk-toggleable__content {max-height: 0;max-width: 0;overflow: hidden;text-align: left;background-color: #f0f8ff;}#sk-container-id-2 div.sk-toggleable__content pre {margin: 0.2em;color: black;border-radius: 0.25em;background-color: #f0f8ff;}#sk-container-id-2 input.sk-toggleable__control:checked~div.sk-toggleable__content {max-height: 200px;max-width: 100%;overflow: auto;}#sk-container-id-2 input.sk-toggleable__control:checked~label.sk-toggleable__label-arrow:before {content: \"▾\";}#sk-container-id-2 div.sk-estimator input.sk-toggleable__control:checked~label.sk-toggleable__label {background-color: #d4ebff;}#sk-container-id-2 div.sk-label input.sk-toggleable__control:checked~label.sk-toggleable__label {background-color: #d4ebff;}#sk-container-id-2 input.sk-hidden--visually {border: 0;clip: rect(1px 1px 1px 1px);clip: rect(1px, 1px, 1px, 1px);height: 1px;margin: -1px;overflow: hidden;padding: 0;position: absolute;width: 1px;}#sk-container-id-2 div.sk-estimator {font-family: monospace;background-color: #f0f8ff;border: 1px dotted black;border-radius: 0.25em;box-sizing: border-box;margin-bottom: 0.5em;}#sk-container-id-2 div.sk-estimator:hover {background-color: #d4ebff;}#sk-container-id-2 div.sk-parallel-item::after {content: \"\";width: 100%;border-bottom: 1px solid gray;flex-grow: 1;}#sk-container-id-2 div.sk-label:hover label.sk-toggleable__label {background-color: #d4ebff;}#sk-container-id-2 div.sk-serial::before {content: \"\";position: absolute;border-left: 1px solid gray;box-sizing: border-box;top: 0;bottom: 0;left: 50%;z-index: 0;}#sk-container-id-2 div.sk-serial {display: flex;flex-direction: column;align-items: center;background-color: white;padding-right: 0.2em;padding-left: 0.2em;position: relative;}#sk-container-id-2 div.sk-item {position: relative;z-index: 1;}#sk-container-id-2 div.sk-parallel {display: flex;align-items: stretch;justify-content: center;background-color: white;position: relative;}#sk-container-id-2 div.sk-item::before, #sk-container-id-2 div.sk-parallel-item::before {content: \"\";position: absolute;border-left: 1px solid gray;box-sizing: border-box;top: 0;bottom: 0;left: 50%;z-index: -1;}#sk-container-id-2 div.sk-parallel-item {display: flex;flex-direction: column;z-index: 1;position: relative;background-color: white;}#sk-container-id-2 div.sk-parallel-item:first-child::after {align-self: flex-end;width: 50%;}#sk-container-id-2 div.sk-parallel-item:last-child::after {align-self: flex-start;width: 50%;}#sk-container-id-2 div.sk-parallel-item:only-child::after {width: 0;}#sk-container-id-2 div.sk-dashed-wrapped {border: 1px dashed gray;margin: 0 0.4em 0.5em 0.4em;box-sizing: border-box;padding-bottom: 0.4em;background-color: white;}#sk-container-id-2 div.sk-label label {font-family: monospace;font-weight: bold;display: inline-block;line-height: 1.2em;}#sk-container-id-2 div.sk-label-container {text-align: center;}#sk-container-id-2 div.sk-container {/* jupyter's `normalize.less` sets `[hidden] { display: none; }` but bootstrap.min.css set `[hidden] { display: none !important; }` so we also need the `!important` here to be able to override the default hidden behavior on the sphinx rendered scikit-learn.org. See: https://github.com/scikit-learn/scikit-learn/issues/21755 */display: inline-block !important;position: relative;}#sk-container-id-2 div.sk-text-repr-fallback {display: none;}</style><div id=\"sk-container-id-2\" class=\"sk-top-container\"><div class=\"sk-text-repr-fallback\"><pre>GridSearchCV(cv=5,\n",
       "             estimator=RandomForestClassifier(class_weight=&#x27;balanced&#x27;,\n",
       "                                              n_jobs=-1, random_state=42),\n",
       "             n_jobs=-1,\n",
       "             param_grid={&#x27;max_depth&#x27;: [None, 10, 20],\n",
       "                         &#x27;max_features&#x27;: [&#x27;sqrt&#x27;, &#x27;log2&#x27;],\n",
       "                         &#x27;min_samples_leaf&#x27;: [1, 2],\n",
       "                         &#x27;min_samples_split&#x27;: [2, 5],\n",
       "                         &#x27;n_estimators&#x27;: [100, 200]},\n",
       "             scoring=&#x27;roc_auc&#x27;, verbose=2)</pre><b>In a Jupyter environment, please rerun this cell to show the HTML representation or trust the notebook. <br />On GitHub, the HTML representation is unable to render, please try loading this page with nbviewer.org.</b></div><div class=\"sk-container\" hidden><div class=\"sk-item sk-dashed-wrapped\"><div class=\"sk-label-container\"><div class=\"sk-label sk-toggleable\"><input class=\"sk-toggleable__control sk-hidden--visually\" id=\"sk-estimator-id-2\" type=\"checkbox\" ><label for=\"sk-estimator-id-2\" class=\"sk-toggleable__label sk-toggleable__label-arrow\">GridSearchCV</label><div class=\"sk-toggleable__content\"><pre>GridSearchCV(cv=5,\n",
       "             estimator=RandomForestClassifier(class_weight=&#x27;balanced&#x27;,\n",
       "                                              n_jobs=-1, random_state=42),\n",
       "             n_jobs=-1,\n",
       "             param_grid={&#x27;max_depth&#x27;: [None, 10, 20],\n",
       "                         &#x27;max_features&#x27;: [&#x27;sqrt&#x27;, &#x27;log2&#x27;],\n",
       "                         &#x27;min_samples_leaf&#x27;: [1, 2],\n",
       "                         &#x27;min_samples_split&#x27;: [2, 5],\n",
       "                         &#x27;n_estimators&#x27;: [100, 200]},\n",
       "             scoring=&#x27;roc_auc&#x27;, verbose=2)</pre></div></div></div><div class=\"sk-parallel\"><div class=\"sk-parallel-item\"><div class=\"sk-item\"><div class=\"sk-label-container\"><div class=\"sk-label sk-toggleable\"><input class=\"sk-toggleable__control sk-hidden--visually\" id=\"sk-estimator-id-3\" type=\"checkbox\" ><label for=\"sk-estimator-id-3\" class=\"sk-toggleable__label sk-toggleable__label-arrow\">estimator: RandomForestClassifier</label><div class=\"sk-toggleable__content\"><pre>RandomForestClassifier(class_weight=&#x27;balanced&#x27;, n_jobs=-1, random_state=42)</pre></div></div></div><div class=\"sk-serial\"><div class=\"sk-item\"><div class=\"sk-estimator sk-toggleable\"><input class=\"sk-toggleable__control sk-hidden--visually\" id=\"sk-estimator-id-4\" type=\"checkbox\" ><label for=\"sk-estimator-id-4\" class=\"sk-toggleable__label sk-toggleable__label-arrow\">RandomForestClassifier</label><div class=\"sk-toggleable__content\"><pre>RandomForestClassifier(class_weight=&#x27;balanced&#x27;, n_jobs=-1, random_state=42)</pre></div></div></div></div></div></div></div></div></div></div>"
      ],
      "text/plain": [
       "GridSearchCV(cv=5,\n",
       "             estimator=RandomForestClassifier(class_weight='balanced',\n",
       "                                              n_jobs=-1, random_state=42),\n",
       "             n_jobs=-1,\n",
       "             param_grid={'max_depth': [None, 10, 20],\n",
       "                         'max_features': ['sqrt', 'log2'],\n",
       "                         'min_samples_leaf': [1, 2],\n",
       "                         'min_samples_split': [2, 5],\n",
       "                         'n_estimators': [100, 200]},\n",
       "             scoring='roc_auc', verbose=2)"
      ]
     },
     "execution_count": 41,
     "metadata": {},
     "output_type": "execute_result"
    }
   ],
   "source": [
    "rf = RandomForestClassifier(random_state=42, class_weight='balanced', n_jobs=-1)\n",
    "\n",
    "grid_search = GridSearchCV(\n",
    "    estimator=rf,\n",
    "    param_grid=param_grid,\n",
    "    scoring='roc_auc',\n",
    "    cv=5,\n",
    "    n_jobs=-1,\n",
    "    verbose=2\n",
    ")\n",
    "\n",
    "grid_search.fit(X_train_scaled, y_train)\n"
   ]
  },
  {
   "cell_type": "code",
   "execution_count": null,
   "id": "186ea7dc",
   "metadata": {},
   "outputs": [
    {
     "name": "stdout",
     "output_type": "stream",
     "text": [
      "Best AUC: 0.97070010112583\n",
      "Best parameters: {'max_depth': 20, 'max_features': 'sqrt', 'min_samples_leaf': 1, 'min_samples_split': 2, 'n_estimators': 200}\n"
     ]
    }
   ],
   "source": [
    "print(\"Best AUC:\", grid_search.best_score_)\n",
    "print(\"Best parameters:\", grid_search.best_params_)\n",
    "\n",
    "# Use the best model\n",
    "best_rf = grid_search.best_estimator_\n"
   ]
  },
  {
   "cell_type": "code",
   "execution_count": 26,
   "id": "cb04b2ac",
   "metadata": {},
   "outputs": [
    {
     "name": "stdout",
     "output_type": "stream",
     "text": [
      "Test AUC: 0.9707432032373478\n",
      "\n",
      "Classification Report:\n",
      "               precision    recall  f1-score   support\n",
      "\n",
      "           0       0.88      0.94      0.91      9584\n",
      "           1       0.93      0.88      0.90      9581\n",
      "\n",
      "    accuracy                           0.91     19165\n",
      "   macro avg       0.91      0.91      0.91     19165\n",
      "weighted avg       0.91      0.91      0.91     19165\n",
      "\n",
      "Confusion Matrix:\n",
      " [[8965  619]\n",
      " [1187 8394]]\n"
     ]
    }
   ],
   "source": [
    "best_rf = RandomForestClassifier(\n",
    "    n_estimators=200,\n",
    "    random_state=42,\n",
    "    class_weight='balanced',  # helpful for imbalanced data\n",
    "    n_jobs=-1,\n",
    "    max_depth=20,\n",
    "    max_features='sqrt',\n",
    "    min_samples_leaf=1,\n",
    "    min_samples_split=2\n",
    ")\n",
    "best_rf.fit(X_train_scaled, y_train)\n",
    "\n",
    "y_pred = best_rf.predict(X_test_scaled)\n",
    "y_proba = best_rf.predict_proba(X_test_scaled)[:, 1]\n",
    "\n",
    "print(\"Test AUC:\", roc_auc_score(y_test, y_proba))\n",
    "print(\"\\nClassification Report:\\n\", classification_report(y_test, y_pred))\n",
    "print(\"Confusion Matrix:\\n\", confusion_matrix(y_test, y_pred))"
   ]
  },
  {
   "cell_type": "markdown",
   "id": "2a1a244d",
   "metadata": {},
   "source": [
    "After tuning the Random Forest classifier using cross-validated GridSearchCV with AUC as the optimization metric, we identified an optimal configuration with 200 trees, a maximum depth of 20, square-root-based feature selection at each split (`max_features`='sqrt'), and default values for `min_samples_split` and `min_samples_leaf`. This configuration achieved a cross-validated AUC of 0.9707, which was confirmed by the test AUC on held-out data.\n",
    "\n",
    "The model demonstrates strong classification performance across both phishing and legitimate URLs. Precision for phishing URLs is 0.93, indicating a low rate of false positives. Recall for phishing URLs is 0.88, showing the model successfully captures the majority of phishing threats. F1-scores for both classes are around 0.90, and overall accuracy is 91%, suggesting a well-balanced and robust model.\n",
    "\n",
    "From the confusion matrix, we observe that 8,394 phishing URLs were correctly identified, while 1,187 were missed (false negatives). Conversely, only 619 legitimate URLs were incorrectly flagged as phishing. While some phishing URLs are still slipping through, the model effectively balances the cost of false positives and false negatives—an important trade-off in this use case, where failing to catch a phishing attempt is more risky than mistakenly flagging a benign site.\n",
    "\n",
    "Given these results, we proceeded to finalize the model using the full training dataset and saved it for deployment or future evaluation."
   ]
  },
  {
   "cell_type": "code",
   "execution_count": 27,
   "id": "f5ca7dae",
   "metadata": {},
   "outputs": [
    {
     "data": {
      "text/html": [
       "<style>#sk-container-id-2 {color: black;background-color: white;}#sk-container-id-2 pre{padding: 0;}#sk-container-id-2 div.sk-toggleable {background-color: white;}#sk-container-id-2 label.sk-toggleable__label {cursor: pointer;display: block;width: 100%;margin-bottom: 0;padding: 0.3em;box-sizing: border-box;text-align: center;}#sk-container-id-2 label.sk-toggleable__label-arrow:before {content: \"▸\";float: left;margin-right: 0.25em;color: #696969;}#sk-container-id-2 label.sk-toggleable__label-arrow:hover:before {color: black;}#sk-container-id-2 div.sk-estimator:hover label.sk-toggleable__label-arrow:before {color: black;}#sk-container-id-2 div.sk-toggleable__content {max-height: 0;max-width: 0;overflow: hidden;text-align: left;background-color: #f0f8ff;}#sk-container-id-2 div.sk-toggleable__content pre {margin: 0.2em;color: black;border-radius: 0.25em;background-color: #f0f8ff;}#sk-container-id-2 input.sk-toggleable__control:checked~div.sk-toggleable__content {max-height: 200px;max-width: 100%;overflow: auto;}#sk-container-id-2 input.sk-toggleable__control:checked~label.sk-toggleable__label-arrow:before {content: \"▾\";}#sk-container-id-2 div.sk-estimator input.sk-toggleable__control:checked~label.sk-toggleable__label {background-color: #d4ebff;}#sk-container-id-2 div.sk-label input.sk-toggleable__control:checked~label.sk-toggleable__label {background-color: #d4ebff;}#sk-container-id-2 input.sk-hidden--visually {border: 0;clip: rect(1px 1px 1px 1px);clip: rect(1px, 1px, 1px, 1px);height: 1px;margin: -1px;overflow: hidden;padding: 0;position: absolute;width: 1px;}#sk-container-id-2 div.sk-estimator {font-family: monospace;background-color: #f0f8ff;border: 1px dotted black;border-radius: 0.25em;box-sizing: border-box;margin-bottom: 0.5em;}#sk-container-id-2 div.sk-estimator:hover {background-color: #d4ebff;}#sk-container-id-2 div.sk-parallel-item::after {content: \"\";width: 100%;border-bottom: 1px solid gray;flex-grow: 1;}#sk-container-id-2 div.sk-label:hover label.sk-toggleable__label {background-color: #d4ebff;}#sk-container-id-2 div.sk-serial::before {content: \"\";position: absolute;border-left: 1px solid gray;box-sizing: border-box;top: 0;bottom: 0;left: 50%;z-index: 0;}#sk-container-id-2 div.sk-serial {display: flex;flex-direction: column;align-items: center;background-color: white;padding-right: 0.2em;padding-left: 0.2em;position: relative;}#sk-container-id-2 div.sk-item {position: relative;z-index: 1;}#sk-container-id-2 div.sk-parallel {display: flex;align-items: stretch;justify-content: center;background-color: white;position: relative;}#sk-container-id-2 div.sk-item::before, #sk-container-id-2 div.sk-parallel-item::before {content: \"\";position: absolute;border-left: 1px solid gray;box-sizing: border-box;top: 0;bottom: 0;left: 50%;z-index: -1;}#sk-container-id-2 div.sk-parallel-item {display: flex;flex-direction: column;z-index: 1;position: relative;background-color: white;}#sk-container-id-2 div.sk-parallel-item:first-child::after {align-self: flex-end;width: 50%;}#sk-container-id-2 div.sk-parallel-item:last-child::after {align-self: flex-start;width: 50%;}#sk-container-id-2 div.sk-parallel-item:only-child::after {width: 0;}#sk-container-id-2 div.sk-dashed-wrapped {border: 1px dashed gray;margin: 0 0.4em 0.5em 0.4em;box-sizing: border-box;padding-bottom: 0.4em;background-color: white;}#sk-container-id-2 div.sk-label label {font-family: monospace;font-weight: bold;display: inline-block;line-height: 1.2em;}#sk-container-id-2 div.sk-label-container {text-align: center;}#sk-container-id-2 div.sk-container {/* jupyter's `normalize.less` sets `[hidden] { display: none; }` but bootstrap.min.css set `[hidden] { display: none !important; }` so we also need the `!important` here to be able to override the default hidden behavior on the sphinx rendered scikit-learn.org. See: https://github.com/scikit-learn/scikit-learn/issues/21755 */display: inline-block !important;position: relative;}#sk-container-id-2 div.sk-text-repr-fallback {display: none;}</style><div id=\"sk-container-id-2\" class=\"sk-top-container\"><div class=\"sk-text-repr-fallback\"><pre>RandomForestClassifier(max_depth=20, n_estimators=200, n_jobs=-1,\n",
       "                       random_state=42)</pre><b>In a Jupyter environment, please rerun this cell to show the HTML representation or trust the notebook. <br />On GitHub, the HTML representation is unable to render, please try loading this page with nbviewer.org.</b></div><div class=\"sk-container\" hidden><div class=\"sk-item\"><div class=\"sk-estimator sk-toggleable\"><input class=\"sk-toggleable__control sk-hidden--visually\" id=\"sk-estimator-id-2\" type=\"checkbox\" checked><label for=\"sk-estimator-id-2\" class=\"sk-toggleable__label sk-toggleable__label-arrow\">RandomForestClassifier</label><div class=\"sk-toggleable__content\"><pre>RandomForestClassifier(max_depth=20, n_estimators=200, n_jobs=-1,\n",
       "                       random_state=42)</pre></div></div></div></div></div>"
      ],
      "text/plain": [
       "RandomForestClassifier(max_depth=20, n_estimators=200, n_jobs=-1,\n",
       "                       random_state=42)"
      ]
     },
     "execution_count": 27,
     "metadata": {},
     "output_type": "execute_result"
    }
   ],
   "source": [
    "# Use the best parameters found during tuning\n",
    "final_rf = RandomForestClassifier(\n",
    "    n_estimators=200,\n",
    "    max_depth=20,\n",
    "    max_features='sqrt',\n",
    "    min_samples_split=2,\n",
    "    min_samples_leaf=1,\n",
    "    random_state=42,\n",
    "    n_jobs=-1\n",
    ")\n",
    "\n",
    "# Fit on full training data\n",
    "final_rf.fit(X_train_scaled, y_train)\n"
   ]
  },
  {
   "cell_type": "code",
   "execution_count": 28,
   "id": "d53b9029",
   "metadata": {},
   "outputs": [
    {
     "data": {
      "text/plain": [
       "<Figure size 1000x600 with 0 Axes>"
      ]
     },
     "metadata": {},
     "output_type": "display_data"
    },
    {
     "data": {
      "image/png": "[encoded data removed]",
      "text/plain": [
       "<Figure size 640x480 with 1 Axes>"
      ]
     },
     "metadata": {},
     "output_type": "display_data"
    }
   ],
   "source": [
    "# Get feature importances\n",
    "importances = final_rf.feature_importances_\n",
    "feature_names = X_train.columns\n",
    "importance_df = pd.DataFrame({\n",
    "    'feature': feature_names,\n",
    "    'importance': importances\n",
    "}).sort_values(by='importance', ascending=False)\n",
    "\n",
    "# Plot top 15\n",
    "plt.figure(figsize=(10, 6))\n",
    "importance_df.head(15).plot(kind='barh', x='feature', y='importance', legend=False)\n",
    "plt.gca().invert_yaxis()\n",
    "plt.title('Top 15 Feature Importances (Random Forest)')\n",
    "plt.xlabel('Importance')\n",
    "plt.tight_layout()\n",
    "plt.show()"
   ]
  },
  {
   "cell_type": "code",
   "execution_count": 29,
   "id": "df25b32e",
   "metadata": {},
   "outputs": [
    {
     "name": "stdout",
     "output_type": "stream",
     "text": [
      "AUC: 0.9708151014136737\n",
      "Precision: 0.9326741473169647\n",
      "Recall: 0.876213338899906\n",
      "F1: 0.9035625874502207\n"
     ]
    }
   ],
   "source": [
    "from sklearn.metrics import roc_auc_score, precision_score, recall_score, f1_score\n",
    "\n",
    "y_pred_proba = final_rf.predict_proba(X_test_scaled)[:, 1]\n",
    "y_pred = final_rf.predict(X_test_scaled)\n",
    "\n",
    "print(\"AUC:\", roc_auc_score(y_test, y_pred_proba))\n",
    "print(\"Precision:\", precision_score(y_test, y_pred))\n",
    "print(\"Recall:\", recall_score(y_test, y_pred))\n",
    "print(\"F1:\", f1_score(y_test, y_pred))"
   ]
  },
  {
   "cell_type": "markdown",
   "id": "abfa350f",
   "metadata": {},
   "source": [
    "The final Random Forest model shows excellent performance, with an AUC of 0.9708, precision of 0.93, recall of 0.88, and F1-score of 0.90. These metrics suggest a strong overall fit, without obvious signs of underfitting (which would show low training and test scores) or overfitting (where test scores would drop relative to training). The confusion matrix confirms that while the model misclassifies some phishing URLs as benign, it maintains a cautious stance by catching the majority of them with high recall. In phishing detection, false negatives (missed phishing) are more dangerous than false positives (flagging a benign URL). Given this, our model's slight bias toward recall over precision aligns well with our risk tolerance.\n",
    "\n",
    "The feature importance plot highlights that lexical URL features—such as num_suspicious_keywords, url_length, and url_entropy—contribute most heavily to the model’s decisions. This supports the idea that phishing URLs tend to exhibit distinctive patterns in structure and content, even without needing external metadata. Less important features, like has_brand_conflict or Jaccard similarities, may still offer value in edge cases but are not central drivers of classification decisions.\n",
    "\n",
    "Overall, the model achieves a strong balance of caution and precision, making it a reliable tool for phishing detection in real-world applications."
   ]
  },
  {
   "cell_type": "code",
   "execution_count": 33,
   "id": "0d9d1bf2",
   "metadata": {},
   "outputs": [
    {
     "data": {
      "image/png": "[encoded data removed]",
      "text/plain": [
       "<Figure size 640x480 with 1 Axes>"
      ]
     },
     "metadata": {},
     "output_type": "display_data"
    },
    {
     "data": {
      "image/png": "[encoded data removed]",
      "text/plain": [
       "<Figure size 640x480 with 1 Axes>"
      ]
     },
     "metadata": {},
     "output_type": "display_data"
    }
   ],
   "source": [
    "import matplotlib.pyplot as plt\n",
    "from sklearn.metrics import roc_curve, precision_recall_curve, auc\n",
    "\n",
    "# Assume y_test and y_proba are available from previous steps\n",
    "# y_proba should be the predicted probabilities for class 1 (phishing)\n",
    "fpr, tpr, _ = roc_curve(y_test, final_rf.predict_proba(X_test_scaled)[:, 1])\n",
    "precision, recall, _ = precision_recall_curve(y_test, final_rf.predict_proba(X_test_scaled)[:, 1])\n",
    "\n",
    "roc_auc = auc(fpr, tpr)\n",
    "pr_auc = auc(recall, precision)\n",
    "\n",
    "# Plot ROC Curve\n",
    "plt.figure()\n",
    "plt.plot(fpr, tpr, label=f\"ROC curve (AUC = {roc_auc:.2f})\")\n",
    "plt.plot([0, 1], [0, 1], linestyle=\"--\", color=\"gray\")\n",
    "plt.xlabel(\"False Positive Rate\")\n",
    "plt.ylabel(\"True Positive Rate\")\n",
    "plt.title(\"ROC Curve\")\n",
    "plt.legend(loc=\"lower right\")\n",
    "plt.grid(True)\n",
    "plt.show()\n",
    "\n",
    "# Plot Precision-Recall Curve\n",
    "plt.figure()\n",
    "plt.plot(recall, precision, label=f\"PR curve (AUC = {pr_auc:.2f})\", color=\"purple\")\n",
    "plt.xlabel(\"Recall\")\n",
    "plt.ylabel(\"Precision\")\n",
    "plt.title(\"Precision-Recall Curve\")\n",
    "plt.legend(loc=\"lower left\")\n",
    "plt.grid(True)\n",
    "plt.show()\n"
   ]
  },
  {
   "cell_type": "code",
   "execution_count": 35,
   "id": "e0129d1e",
   "metadata": {},
   "outputs": [
    {
     "name": "stdout",
     "output_type": "stream",
     "text": [
      "Selected cautious threshold: 0.230\n"
     ]
    }
   ],
   "source": [
    "from sklearn.metrics import precision_recall_curve\n",
    "\n",
    "# Compute precision-recall pairs for different thresholds\n",
    "precision, recall, thresholds = precision_recall_curve(y_test, y_proba)\n",
    "\n",
    "# Convert to DataFrame for easier analysis\n",
    "pr_df = pd.DataFrame({\n",
    "    'threshold': thresholds,\n",
    "    'precision': precision[:-1],\n",
    "    'recall': recall[:-1]\n",
    "})\n",
    "\n",
    "# Filter for thresholds where recall is >= 0.95\n",
    "high_recall = pr_df[pr_df['recall'] >= 0.95]\n",
    "\n",
    "# Choose threshold with highest precision among them (or balance of choice)\n",
    "best_thresh = high_recall.sort_values(by='precision', ascending=False).iloc[0]['threshold']\n",
    "\n",
    "print(f\"Selected cautious threshold: {best_thresh:.3f}\")\n"
   ]
  },
  {
   "cell_type": "code",
   "execution_count": 36,
   "id": "51011aed",
   "metadata": {},
   "outputs": [],
   "source": [
    "y_pred_adjusted = (y_proba >= best_thresh).astype(int)\n"
   ]
  },
  {
   "cell_type": "code",
   "execution_count": 37,
   "id": "62a15165",
   "metadata": {},
   "outputs": [
    {
     "name": "stdout",
     "output_type": "stream",
     "text": [
      "              precision    recall  f1-score   support\n",
      "\n",
      "           0       0.94      0.80      0.86      9584\n",
      "           1       0.83      0.95      0.88      9581\n",
      "\n",
      "    accuracy                           0.88     19165\n",
      "   macro avg       0.88      0.88      0.87     19165\n",
      "weighted avg       0.88      0.88      0.87     19165\n",
      "\n",
      "[[7668 1916]\n",
      " [ 479 9102]]\n"
     ]
    }
   ],
   "source": [
    "from sklearn.metrics import classification_report, confusion_matrix\n",
    "\n",
    "print(classification_report(y_test, y_pred_adjusted))\n",
    "print(confusion_matrix(y_test, y_pred_adjusted))\n"
   ]
  },
  {
   "cell_type": "markdown",
   "id": "de210c8b",
   "metadata": {},
   "source": [
    "#### Threshold Adjustment for High Recall\n",
    "By default, classifiers use a threshold of 0.5 to decide whether a URL is phishing or not. However, in security-sensitive applications like phishing detection, missing a phishing URL (false negative) is riskier than flagging a benign URL (false positive). Therefore, we adjusted the classification threshold to favor recall—ensuring we catch as many phishing URLs as possible.\n",
    "\n",
    "What I did:\n",
    "\n",
    "- Computed the precision-recall curve to explore how different thresholds affect model performance.\n",
    "- Filtered for thresholds with recall ≥ 0.95, to ensure I catch almost all phishing URLs.\n",
    "- Among those, I selected the threshold with the highest precision to reduce false positives as much as possible while still catching phishing attempts.\n",
    "- I then applied this new threshold to the predicted probabilities to create new class predictions.\n",
    "- Finally, I evaluated the model again using the updated predictions and printed the updated classification report and confusion matrix.\n",
    "\n",
    "This approach tailors the model to prioritize caution, which is ideal for security contexts. It helps reduce the chance that dangerous phishing URLs go undetected, even if that means sometimes mistakenly flagging legitimate URLs.\n",
    "\n"
   ]
  },
  {
   "cell_type": "code",
   "execution_count": 40,
   "id": "668d78f2",
   "metadata": {},
   "outputs": [
    {
     "data": {
      "image/png": "[encoded data removed]",
      "text/plain": [
       "<Figure size 600x500 with 2 Axes>"
      ]
     },
     "metadata": {},
     "output_type": "display_data"
    }
   ],
   "source": [
    "import matplotlib.pyplot as plt\n",
    "import seaborn as sns\n",
    "from sklearn.metrics import accuracy_score, confusion_matrix\n",
    "\n",
    "# Recalculate metrics for adjusted threshold\n",
    "accuracy_adjusted = accuracy_score(y_test, y_pred_adjusted)\n",
    "cm_adjusted = confusion_matrix(y_test, y_pred_adjusted)\n",
    "tn, fp, fn, tp = cm_adjusted.ravel()\n",
    "missed_phishing = fn  # false negatives\n",
    "\n",
    "# Plot confusion matrix\n",
    "plt.figure(figsize=(6, 5))\n",
    "sns.heatmap(cm_adjusted, annot=True, fmt='d', cmap='Purples', xticklabels=['Legit', 'Phishing'], yticklabels=['Legit', 'Phishing'])\n",
    "plt.xlabel('Predicted Label')\n",
    "plt.ylabel('True Label')\n",
    "plt.title(f'Confusion Matrix (Adjusted Threshold)\\nAccuracy = {accuracy_adjusted:.3f}, Missed Phishing URLs = {missed_phishing}')\n",
    "plt.tight_layout()\n",
    "plt.show()\n"
   ]
  },
  {
   "cell_type": "code",
   "execution_count": 42,
   "id": "c209d22b",
   "metadata": {},
   "outputs": [
    {
     "name": "stdout",
     "output_type": "stream",
     "text": [
      "\n",
      "Classification Report:\n",
      "               precision    recall  f1-score   support\n",
      "\n",
      "           0       0.94      0.80      0.86      9584\n",
      "           1       0.83      0.95      0.88      9581\n",
      "\n",
      "    accuracy                           0.88     19165\n",
      "   macro avg       0.88      0.88      0.87     19165\n",
      "weighted avg       0.88      0.88      0.87     19165\n",
      "\n",
      "Confusion Matrix:\n",
      " [[7668 1916]\n",
      " [ 479 9102]]\n"
     ]
    }
   ],
   "source": [
    "\n",
    "print(\"\\nClassification Report:\\n\", classification_report(y_test, y_pred_adjusted))\n",
    "print(\"Confusion Matrix:\\n\", confusion_matrix(y_test, y_pred_adjusted))"
   ]
  },
  {
   "cell_type": "code",
   "execution_count": 43,
   "id": "40454f24",
   "metadata": {},
   "outputs": [
    {
     "name": "stdout",
     "output_type": "stream",
     "text": [
      "Accuracy: 0.8750326115314375\n",
      "Precision: 0.8261027409693229\n",
      "Recall: 0.9500052186619351\n",
      "F1 Score: 0.8837322200106801\n"
     ]
    }
   ],
   "source": [
    "# Print individual metrics explicitly\n",
    "print(\"Accuracy:\", accuracy_score(y_test, y_pred_adjusted))\n",
    "print(\"Precision:\", precision_score(y_test, y_pred_adjusted, average='binary'))  # change to 'macro' or 'weighted' for multiclass\n",
    "print(\"Recall:\", recall_score(y_test, y_pred_adjusted, average='binary'))\n",
    "print(\"F1 Score:\", f1_score(y_test, y_pred_adjusted, average='binary'))"
   ]
  },
  {
   "cell_type": "markdown",
   "id": "f544ba77",
   "metadata": {},
   "source": [
    "In phishing detection, false negatives (i.e., phishing URLs that are mistakenly labeled as benign) pose a greater risk than false positives. To address this, we adjusted the classification threshold downward from the default 0.5 to a lower value, prioritizing recall over overall accuracy. This means we're now more cautious, aiming to catch more phishing URLs, even if it means mislabeling some legitimate ones.\n",
    "\n",
    "After lowering the threshold:\n",
    "- Accuracy dropped from ~91% to 86.2%.\n",
    "- Recall for phishing URLs improved: we now correctly identify 9,104 phishing URLs out of 9,581.\n",
    "\n",
    "However, we now misclassify 2,167 legitimate URLs as phishing (false positives).\n"
   ]
  },
  {
   "cell_type": "markdown",
   "id": "9e53fd85",
   "metadata": {},
   "source": [
    "Next I will explore these phising links that were hard to identify and try to develop new feautures."
   ]
  },
  {
   "cell_type": "markdown",
   "id": "652232a7",
   "metadata": {},
   "source": [
    "# Dataset 2 - UNSW_NB15"
   ]
  },
  {
   "cell_type": "markdown",
   "id": "258afcd4",
   "metadata": {},
   "source": [
    "## Setup"
   ]
  },
  {
   "cell_type": "code",
   "execution_count": 45,
   "id": "376cd412",
   "metadata": {},
   "outputs": [],
   "source": [
    "# Load packages\n",
    "import pandas as pd\n",
    "import os\n",
    "import kagglehub\n",
    "import matplotlib.pyplot as plt\n",
    "import numpy as np\n",
    "import seaborn as sns\n",
    "from sklearn.model_selection import train_test_split\n",
    "from sklearn.preprocessing import StandardScaler\n",
    "from sklearn.linear_model import LogisticRegression\n",
    "from sklearn.metrics import classification_report, confusion_matrix, roc_auc_score, RocCurveDisplay\n",
    "from sklearn.model_selection import GridSearchCV, StratifiedKFold\n",
    "from sklearn.model_selection import RandomizedSearchCV"
   ]
  },
  {
   "cell_type": "code",
   "execution_count": 46,
   "id": "87c14816",
   "metadata": {},
   "outputs": [
    {
     "name": "stdout",
     "output_type": "stream",
     "text": [
      "Warning: Looks like you're using an outdated `kagglehub` version, please consider updating (latest version: 0.3.12)\n",
      "Path to dataset files: /Users/inmilk306/.cache/kagglehub/datasets/mrwellsdavid/unsw-nb15/versions/1\n"
     ]
    }
   ],
   "source": [
    "# Download the dataset\n",
    "path = kagglehub.dataset_download(\"mrwellsdavid/unsw-nb15\")\n",
    "\n",
    "print(\"Path to dataset files:\", path)"
   ]
  },
  {
   "cell_type": "code",
   "execution_count": 47,
   "id": "85fba420",
   "metadata": {},
   "outputs": [
    {
     "data": {
      "text/plain": [
       "['UNSW-NB15_3.csv',\n",
       " 'UNSW-NB15_2.csv',\n",
       " 'NUSW-NB15_features.csv',\n",
       " 'UNSW-NB15_1.csv',\n",
       " 'UNSW-NB15_4.csv',\n",
       " 'UNSW_NB15_testing-set.csv',\n",
       " 'UNSW-NB15_LIST_EVENTS.csv',\n",
       " 'UNSW_NB15_training-set.csv']"
      ]
     },
     "execution_count": 47,
     "metadata": {},
     "output_type": "execute_result"
    }
   ],
   "source": [
    "# Check files dowloaded \n",
    "files = os.listdir(path)\n",
    "files"
   ]
  },
  {
   "cell_type": "code",
   "execution_count": 48,
   "id": "8edd6b17",
   "metadata": {},
   "outputs": [],
   "source": [
    "# Load Data\n",
    "features_df = pd.read_csv(os.path.join(path, \"NUSW-NB15_features.csv\"), encoding='cp1252')\n",
    "NB15_1 = pd.read_csv(os.path.join(path, 'UNSW-NB15_1.csv'), low_memory=False)\n",
    "NB15_2 = pd.read_csv(os.path.join(path, 'UNSW-NB15_2.csv'), low_memory=False)\n",
    "NB15_3 = pd.read_csv(os.path.join(path, 'UNSW-NB15_3.csv'), low_memory=False)\n",
    "NB15_4 = pd.read_csv(os.path.join(path, 'UNSW-NB15_4.csv'), low_memory=False)\n",
    "events_df = pd.read_csv(os.path.join(path, \"UNSW-NB15_LIST_EVENTS.csv\"))"
   ]
  },
  {
   "cell_type": "code",
   "execution_count": 52,
   "id": "97688724",
   "metadata": {},
   "outputs": [],
   "source": [
    "# Add column names\n",
    "NB15_1.columns = features_df['Name'] \n",
    "NB15_2.columns = features_df['Name'] \n",
    "NB15_3.columns = features_df['Name'] \n",
    "NB15_4.columns = features_df['Name'] "
   ]
  },
  {
   "cell_type": "code",
   "execution_count": 53,
   "id": "f03ebf87",
   "metadata": {},
   "outputs": [],
   "source": [
    "# Join into one dataset\n",
    "df = pd.concat([NB15_1, NB15_2, NB15_3, NB15_4], ignore_index=True)"
   ]
  },
  {
   "cell_type": "code",
   "execution_count": 54,
   "id": "918e908f",
   "metadata": {},
   "outputs": [
    {
     "data": {
      "application/vnd.microsoft.datawrangler.viewer.v0+json": {
       "columns": [
        {
         "name": "index",
         "rawType": "object",
         "type": "string"
        },
        {
         "name": "srcip",
         "rawType": "object",
         "type": "unknown"
        },
        {
         "name": "sport",
         "rawType": "float64",
         "type": "float"
        },
        {
         "name": "dstip",
         "rawType": "object",
         "type": "unknown"
        },
        {
         "name": "dsport",
         "rawType": "object",
         "type": "unknown"
        },
        {
         "name": "proto",
         "rawType": "object",
         "type": "unknown"
        },
        {
         "name": "state",
         "rawType": "object",
         "type": "unknown"
        },
        {
         "name": "dur",
         "rawType": "float64",
         "type": "float"
        },
        {
         "name": "sbytes",
         "rawType": "float64",
         "type": "float"
        },
        {
         "name": "dbytes",
         "rawType": "float64",
         "type": "float"
        },
        {
         "name": "sttl",
         "rawType": "float64",
         "type": "float"
        },
        {
         "name": "dttl",
         "rawType": "float64",
         "type": "float"
        },
        {
         "name": "sloss",
         "rawType": "float64",
         "type": "float"
        },
        {
         "name": "dloss",
         "rawType": "float64",
         "type": "float"
        },
        {
         "name": "service",
         "rawType": "object",
         "type": "unknown"
        },
        {
         "name": "Sload",
         "rawType": "float64",
         "type": "float"
        },
        {
         "name": "Dload",
         "rawType": "float64",
         "type": "float"
        },
        {
         "name": "Spkts",
         "rawType": "float64",
         "type": "float"
        },
        {
         "name": "Dpkts",
         "rawType": "float64",
         "type": "float"
        },
        {
         "name": "swin",
         "rawType": "float64",
         "type": "float"
        },
        {
         "name": "dwin",
         "rawType": "float64",
         "type": "float"
        },
        {
         "name": "stcpb",
         "rawType": "float64",
         "type": "float"
        },
        {
         "name": "dtcpb",
         "rawType": "float64",
         "type": "float"
        },
        {
         "name": "smeansz",
         "rawType": "float64",
         "type": "float"
        },
        {
         "name": "dmeansz",
         "rawType": "float64",
         "type": "float"
        },
        {
         "name": "trans_depth",
         "rawType": "float64",
         "type": "float"
        },
        {
         "name": "res_bdy_len",
         "rawType": "float64",
         "type": "float"
        },
        {
         "name": "Sjit",
         "rawType": "float64",
         "type": "float"
        },
        {
         "name": "Djit",
         "rawType": "float64",
         "type": "float"
        },
        {
         "name": "Stime",
         "rawType": "float64",
         "type": "float"
        },
        {
         "name": "Ltime",
         "rawType": "float64",
         "type": "float"
        },
        {
         "name": "Sintpkt",
         "rawType": "float64",
         "type": "float"
        },
        {
         "name": "Dintpkt",
         "rawType": "float64",
         "type": "float"
        },
        {
         "name": "tcprtt",
         "rawType": "float64",
         "type": "float"
        },
        {
         "name": "synack",
         "rawType": "float64",
         "type": "float"
        },
        {
         "name": "ackdat",
         "rawType": "float64",
         "type": "float"
        },
        {
         "name": "is_sm_ips_ports",
         "rawType": "float64",
         "type": "float"
        },
        {
         "name": "ct_state_ttl",
         "rawType": "float64",
         "type": "float"
        },
        {
         "name": "ct_flw_http_mthd",
         "rawType": "float64",
         "type": "float"
        },
        {
         "name": "is_ftp_login",
         "rawType": "float64",
         "type": "float"
        },
        {
         "name": "ct_ftp_cmd",
         "rawType": "object",
         "type": "unknown"
        },
        {
         "name": "ct_srv_src",
         "rawType": "float64",
         "type": "float"
        },
        {
         "name": "ct_srv_dst",
         "rawType": "float64",
         "type": "float"
        },
        {
         "name": "ct_dst_ltm",
         "rawType": "float64",
         "type": "float"
        },
        {
         "name": "ct_src_ ltm",
         "rawType": "float64",
         "type": "float"
        },
        {
         "name": "ct_src_dport_ltm",
         "rawType": "float64",
         "type": "float"
        },
        {
         "name": "ct_dst_sport_ltm",
         "rawType": "float64",
         "type": "float"
        },
        {
         "name": "ct_dst_src_ltm",
         "rawType": "float64",
         "type": "float"
        },
        {
         "name": "attack_cat",
         "rawType": "object",
         "type": "unknown"
        },
        {
         "name": "Label",
         "rawType": "float64",
         "type": "float"
        }
       ],
       "ref": "cf1d3525-7473-49a5-a693-c35ea5ddfc1b",
       "rows": [
        [
         "count",
         "2540043",
         "2540043.0",
         "2540043",
         "2540043",
         "2540043",
         "2540043",
         "2540043.0",
         "2540043.0",
         "2540043.0",
         "2540043.0",
         "2540043.0",
         "2540043.0",
         "2540043.0",
         "2540043",
         "2540043.0",
         "2540043.0",
         "2540043.0",
         "2540043.0",
         "2540043.0",
         "2540043.0",
         "2540043.0",
         "2540043.0",
         "2540043.0",
         "2540043.0",
         "2540043.0",
         "2540043.0",
         "2540043.0",
         "2540043.0",
         "2540043.0",
         "2540043.0",
         "2540043.0",
         "2540043.0",
         "2540043.0",
         "2540043.0",
         "2540043.0",
         "2540043.0",
         "2540043.0",
         "1191900.0",
         "1110166.0",
         "2540043",
         "2540043.0",
         "2540043.0",
         "2540043.0",
         "2540043.0",
         "2540043.0",
         "2540043.0",
         "2540043.0",
         "321283",
         "2540043.0"
        ],
        [
         "unique",
         "43",
         "129124.0",
         "47",
         "64630",
         "135",
         "16",
         null,
         null,
         null,
         null,
         null,
         null,
         null,
         "13",
         null,
         null,
         null,
         null,
         null,
         null,
         null,
         null,
         null,
         null,
         null,
         null,
         null,
         null,
         null,
         null,
         null,
         null,
         null,
         null,
         null,
         null,
         null,
         null,
         null,
         "13",
         null,
         null,
         null,
         null,
         null,
         null,
         null,
         "13",
         null
        ],
        [
         "top",
         "59.166.0.4",
         "1043.0",
         "149.171.126.3",
         "53",
         "tcp",
         "FIN",
         null,
         null,
         null,
         null,
         null,
         null,
         null,
         "-",
         null,
         null,
         null,
         null,
         null,
         null,
         null,
         null,
         null,
         null,
         null,
         null,
         null,
         null,
         null,
         null,
         null,
         null,
         null,
         null,
         null,
         null,
         null,
         null,
         null,
         " ",
         null,
         null,
         null,
         null,
         null,
         null,
         null,
         "Generic",
         null
        ],
        [
         "freq",
         "197959",
         "214363.0",
         "197771",
         "798967",
         "1495071",
         "1478686",
         null,
         null,
         null,
         null,
         null,
         null,
         null,
         "1246395",
         null,
         null,
         null,
         null,
         null,
         null,
         null,
         null,
         null,
         null,
         null,
         null,
         null,
         null,
         null,
         null,
         null,
         null,
         null,
         null,
         null,
         null,
         null,
         null,
         null,
         "1429877",
         null,
         null,
         null,
         null,
         null,
         null,
         null,
         "215481",
         null
        ],
        [
         "mean",
         null,
         null,
         null,
         null,
         null,
         null,
         "0.6587924768167314",
         "4339.588602240198",
         "36427.598860334256",
         "62.78202494997132",
         "30.766812609077878",
         "5.163916516373935",
         "16.329441273238288",
         null,
         "36956504.63674967",
         "2450860.4150642287",
         "33.28881558304328",
         "42.72663100585305",
         "150.08868432542283",
         "149.74581808260726",
         "1261701596.7576349",
         "1261765932.689905",
         "124.253450040019",
         "276.6716134333159",
         "0.083253315002935",
         "4242.124493561723",
         "1589.0389423825459",
         "730.0765500298274",
         "1423260753.1383433",
         "1423260753.9034111",
         "193.32279012282777",
         "78.82488561229243",
         "0.006180483069381113",
         "0.0032875990953696466",
         "0.002892883974011464",
         "0.001651546843892013",
         "0.2611550276904761",
         "0.23458595519758368",
         "0.039699468367793644",
         null,
         "9.206993346175636",
         "8.988962391581559",
         "6.439107133225697",
         "6.900989471438082",
         "4.6421450345525646",
         "3.5927332726256997",
         "6.845893553770546",
         null,
         "0.12648722875951313"
        ],
        [
         "std",
         null,
         null,
         null,
         null,
         null,
         null,
         "13.924941657589676",
         "56406.03518284991",
         "161096.15747636097",
         "74.62281339580284",
         "42.85092180692553",
         "22.517090890590378",
         "56.594786255292284",
         null,
         "118604415.93211472",
         "4224864.8719427185",
         "76.28393028920682",
         "121.50205304410959",
         "125.48242090013886",
         "125.54385280499275",
         "1422027562.8004656",
         "1422139234.0525656",
         "151.9158477340691",
         "335.6164594499101",
         "0.3500047952963355",
         "47500.563066694434",
         "16910.37649670223",
         "3438.560944020685",
         "1134448.4918999488",
         "1134448.2917664063",
         "2779.1652911272963",
         "1433.192561362354",
         "0.0461586700876819",
         "0.025935718357480948",
         "0.023946697001599175",
         "0.040605663226268594",
         "0.6830978302347869",
         "0.794092994973072",
         "0.19965905130853137",
         null,
         "10.836761879563154",
         "10.82249522294492",
         "8.162038942300562",
         "8.205067887825633",
         "8.477584063107022",
         "6.1744493379248375",
         "11.258289064814042",
         null,
         "0.33239773347426377"
        ],
        [
         "min",
         null,
         null,
         null,
         null,
         null,
         null,
         "0.0",
         "0.0",
         "0.0",
         "0.0",
         "0.0",
         "0.0",
         "0.0",
         null,
         "0.0",
         "0.0",
         "0.0",
         "0.0",
         "0.0",
         "0.0",
         "0.0",
         "0.0",
         "0.0",
         "0.0",
         "0.0",
         "0.0",
         "0.0",
         "0.0",
         "1421927377.0",
         "1421927414.0",
         "0.0",
         "0.0",
         "0.0",
         "0.0",
         "0.0",
         "0.0",
         "0.0",
         "0.0",
         "0.0",
         null,
         "1.0",
         "1.0",
         "1.0",
         "1.0",
         "1.0",
         "1.0",
         "1.0",
         null,
         "0.0"
        ],
        [
         "25%",
         null,
         null,
         null,
         null,
         null,
         null,
         "0.001037",
         "200.0",
         "178.0",
         "31.0",
         "29.0",
         "0.0",
         "0.0",
         null,
         "135395.53125",
         "11915.797365",
         "2.0",
         "2.0",
         "0.0",
         "0.0",
         "0.0",
         "0.0",
         "60.0",
         "69.0",
         "0.0",
         "0.0",
         "0.0",
         "0.0",
         "1421952193.0",
         "1421952196.0",
         "0.009",
         "0.006",
         "0.0",
         "0.0",
         "0.0",
         "0.0",
         "0.0",
         "0.0",
         "0.0",
         null,
         "2.0",
         "2.0",
         "2.0",
         "2.0",
         "1.0",
         "1.0",
         "1.0",
         null,
         "0.0"
        ],
        [
         "50%",
         null,
         null,
         null,
         null,
         null,
         null,
         "0.015861",
         "1470.0",
         "1820.0",
         "31.0",
         "29.0",
         "3.0",
         "4.0",
         null,
         "589303.75",
         "589317.875",
         "12.0",
         "12.0",
         "255.0",
         "255.0",
         "639724594.0",
         "638415699.0",
         "73.0",
         "89.0",
         "0.0",
         "0.0",
         "19.124828",
         "2.653536",
         "1424226977.0",
         "1424226978.0",
         "0.468262",
         "0.414754",
         "0.000613",
         "0.000483",
         "0.000122",
         "0.0",
         "0.0",
         "0.0",
         "0.0",
         null,
         "5.0",
         "5.0",
         "3.0",
         "4.0",
         "1.0",
         "1.0",
         "2.0",
         null,
         "0.0"
        ],
        [
         "75%",
         null,
         null,
         null,
         null,
         null,
         null,
         "0.214565",
         "3182.0",
         "14894.0",
         "31.0",
         "29.0",
         "7.0",
         "14.0",
         null,
         "2039922.75",
         "2925944.875",
         "44.0",
         "42.0",
         "255.0",
         "255.0",
         "2467165210.5",
         "2469410644.0",
         "132.0",
         "565.0",
         "0.0",
         "0.0",
         "413.7935225",
         "63.508566",
         "1424245007.0",
         "1424245008.0",
         "7.351437000000001",
         "6.2021440000000005",
         "0.000702",
         "0.000554",
         "0.00014",
         "0.0",
         "0.0",
         "0.0",
         "0.0",
         null,
         "10.0",
         "10.0",
         "6.0",
         "7.0",
         "2.0",
         "1.0",
         "5.0",
         null,
         "0.0"
        ],
        [
         "max",
         null,
         null,
         null,
         null,
         null,
         null,
         "8786.637695",
         "14355774.0",
         "14657531.0",
         "255.0",
         "254.0",
         "5319.0",
         "5507.0",
         null,
         "5988000256.0",
         "128761904.0",
         "10646.0",
         "11018.0",
         "255.0",
         "255.0",
         "4294958913.0",
         "4294953724.0",
         "1504.0",
         "1500.0",
         "172.0",
         "6558056.0",
         "1483830.917",
         "781221.1183",
         "1424262068.0",
         "1424262069.0",
         "84371.496",
         "59485.32",
         "10.037506",
         "4.525272",
         "5.512234",
         "1.0",
         "6.0",
         "36.0",
         "4.0",
         null,
         "67.0",
         "67.0",
         "67.0",
         "67.0",
         "67.0",
         "60.0",
         "67.0",
         null,
         "1.0"
        ]
       ],
       "shape": {
        "columns": 49,
        "rows": 11
       }
      },
      "text/html": [
       "<div>\n",
       "<style scoped>\n",
       "    .dataframe tbody tr th:only-of-type {\n",
       "        vertical-align: middle;\n",
       "    }\n",
       "\n",
       "    .dataframe tbody tr th {\n",
       "        vertical-align: top;\n",
       "    }\n",
       "\n",
       "    .dataframe thead th {\n",
       "        text-align: right;\n",
       "    }\n",
       "</style>\n",
       "<table border=\"1\" class=\"dataframe\">\n",
       "  <thead>\n",
       "    <tr style=\"text-align: right;\">\n",
       "      <th>Name</th>\n",
       "      <th>srcip</th>\n",
       "      <th>sport</th>\n",
       "      <th>dstip</th>\n",
       "      <th>dsport</th>\n",
       "      <th>proto</th>\n",
       "      <th>state</th>\n",
       "      <th>dur</th>\n",
       "      <th>sbytes</th>\n",
       "      <th>dbytes</th>\n",
       "      <th>sttl</th>\n",
       "      <th>...</th>\n",
       "      <th>ct_ftp_cmd</th>\n",
       "      <th>ct_srv_src</th>\n",
       "      <th>ct_srv_dst</th>\n",
       "      <th>ct_dst_ltm</th>\n",
       "      <th>ct_src_ ltm</th>\n",
       "      <th>ct_src_dport_ltm</th>\n",
       "      <th>ct_dst_sport_ltm</th>\n",
       "      <th>ct_dst_src_ltm</th>\n",
       "      <th>attack_cat</th>\n",
       "      <th>Label</th>\n",
       "    </tr>\n",
       "  </thead>\n",
       "  <tbody>\n",
       "    <tr>\n",
       "      <th>count</th>\n",
       "      <td>2540043</td>\n",
       "      <td>2540043.0</td>\n",
       "      <td>2540043</td>\n",
       "      <td>2540043</td>\n",
       "      <td>2540043</td>\n",
       "      <td>2540043</td>\n",
       "      <td>2.540043e+06</td>\n",
       "      <td>2.540043e+06</td>\n",
       "      <td>2.540043e+06</td>\n",
       "      <td>2.540043e+06</td>\n",
       "      <td>...</td>\n",
       "      <td>2540043</td>\n",
       "      <td>2.540043e+06</td>\n",
       "      <td>2.540043e+06</td>\n",
       "      <td>2.540043e+06</td>\n",
       "      <td>2.540043e+06</td>\n",
       "      <td>2.540043e+06</td>\n",
       "      <td>2.540043e+06</td>\n",
       "      <td>2.540043e+06</td>\n",
       "      <td>321283</td>\n",
       "      <td>2.540043e+06</td>\n",
       "    </tr>\n",
       "    <tr>\n",
       "      <th>unique</th>\n",
       "      <td>43</td>\n",
       "      <td>129124.0</td>\n",
       "      <td>47</td>\n",
       "      <td>64630</td>\n",
       "      <td>135</td>\n",
       "      <td>16</td>\n",
       "      <td>NaN</td>\n",
       "      <td>NaN</td>\n",
       "      <td>NaN</td>\n",
       "      <td>NaN</td>\n",
       "      <td>...</td>\n",
       "      <td>13</td>\n",
       "      <td>NaN</td>\n",
       "      <td>NaN</td>\n",
       "      <td>NaN</td>\n",
       "      <td>NaN</td>\n",
       "      <td>NaN</td>\n",
       "      <td>NaN</td>\n",
       "      <td>NaN</td>\n",
       "      <td>13</td>\n",
       "      <td>NaN</td>\n",
       "    </tr>\n",
       "    <tr>\n",
       "      <th>top</th>\n",
       "      <td>59.166.0.4</td>\n",
       "      <td>1043.0</td>\n",
       "      <td>149.171.126.3</td>\n",
       "      <td>53</td>\n",
       "      <td>tcp</td>\n",
       "      <td>FIN</td>\n",
       "      <td>NaN</td>\n",
       "      <td>NaN</td>\n",
       "      <td>NaN</td>\n",
       "      <td>NaN</td>\n",
       "      <td>...</td>\n",
       "      <td></td>\n",
       "      <td>NaN</td>\n",
       "      <td>NaN</td>\n",
       "      <td>NaN</td>\n",
       "      <td>NaN</td>\n",
       "      <td>NaN</td>\n",
       "      <td>NaN</td>\n",
       "      <td>NaN</td>\n",
       "      <td>Generic</td>\n",
       "      <td>NaN</td>\n",
       "    </tr>\n",
       "    <tr>\n",
       "      <th>freq</th>\n",
       "      <td>197959</td>\n",
       "      <td>214363.0</td>\n",
       "      <td>197771</td>\n",
       "      <td>798967</td>\n",
       "      <td>1495071</td>\n",
       "      <td>1478686</td>\n",
       "      <td>NaN</td>\n",
       "      <td>NaN</td>\n",
       "      <td>NaN</td>\n",
       "      <td>NaN</td>\n",
       "      <td>...</td>\n",
       "      <td>1429877</td>\n",
       "      <td>NaN</td>\n",
       "      <td>NaN</td>\n",
       "      <td>NaN</td>\n",
       "      <td>NaN</td>\n",
       "      <td>NaN</td>\n",
       "      <td>NaN</td>\n",
       "      <td>NaN</td>\n",
       "      <td>215481</td>\n",
       "      <td>NaN</td>\n",
       "    </tr>\n",
       "    <tr>\n",
       "      <th>mean</th>\n",
       "      <td>NaN</td>\n",
       "      <td>NaN</td>\n",
       "      <td>NaN</td>\n",
       "      <td>NaN</td>\n",
       "      <td>NaN</td>\n",
       "      <td>NaN</td>\n",
       "      <td>6.587925e-01</td>\n",
       "      <td>4.339589e+03</td>\n",
       "      <td>3.642760e+04</td>\n",
       "      <td>6.278202e+01</td>\n",
       "      <td>...</td>\n",
       "      <td>NaN</td>\n",
       "      <td>9.206993e+00</td>\n",
       "      <td>8.988962e+00</td>\n",
       "      <td>6.439107e+00</td>\n",
       "      <td>6.900989e+00</td>\n",
       "      <td>4.642145e+00</td>\n",
       "      <td>3.592733e+00</td>\n",
       "      <td>6.845894e+00</td>\n",
       "      <td>NaN</td>\n",
       "      <td>1.264872e-01</td>\n",
       "    </tr>\n",
       "    <tr>\n",
       "      <th>std</th>\n",
       "      <td>NaN</td>\n",
       "      <td>NaN</td>\n",
       "      <td>NaN</td>\n",
       "      <td>NaN</td>\n",
       "      <td>NaN</td>\n",
       "      <td>NaN</td>\n",
       "      <td>1.392494e+01</td>\n",
       "      <td>5.640604e+04</td>\n",
       "      <td>1.610962e+05</td>\n",
       "      <td>7.462281e+01</td>\n",
       "      <td>...</td>\n",
       "      <td>NaN</td>\n",
       "      <td>1.083676e+01</td>\n",
       "      <td>1.082250e+01</td>\n",
       "      <td>8.162039e+00</td>\n",
       "      <td>8.205068e+00</td>\n",
       "      <td>8.477584e+00</td>\n",
       "      <td>6.174449e+00</td>\n",
       "      <td>1.125829e+01</td>\n",
       "      <td>NaN</td>\n",
       "      <td>3.323977e-01</td>\n",
       "    </tr>\n",
       "    <tr>\n",
       "      <th>min</th>\n",
       "      <td>NaN</td>\n",
       "      <td>NaN</td>\n",
       "      <td>NaN</td>\n",
       "      <td>NaN</td>\n",
       "      <td>NaN</td>\n",
       "      <td>NaN</td>\n",
       "      <td>0.000000e+00</td>\n",
       "      <td>0.000000e+00</td>\n",
       "      <td>0.000000e+00</td>\n",
       "      <td>0.000000e+00</td>\n",
       "      <td>...</td>\n",
       "      <td>NaN</td>\n",
       "      <td>1.000000e+00</td>\n",
       "      <td>1.000000e+00</td>\n",
       "      <td>1.000000e+00</td>\n",
       "      <td>1.000000e+00</td>\n",
       "      <td>1.000000e+00</td>\n",
       "      <td>1.000000e+00</td>\n",
       "      <td>1.000000e+00</td>\n",
       "      <td>NaN</td>\n",
       "      <td>0.000000e+00</td>\n",
       "    </tr>\n",
       "    <tr>\n",
       "      <th>25%</th>\n",
       "      <td>NaN</td>\n",
       "      <td>NaN</td>\n",
       "      <td>NaN</td>\n",
       "      <td>NaN</td>\n",
       "      <td>NaN</td>\n",
       "      <td>NaN</td>\n",
       "      <td>1.037000e-03</td>\n",
       "      <td>2.000000e+02</td>\n",
       "      <td>1.780000e+02</td>\n",
       "      <td>3.100000e+01</td>\n",
       "      <td>...</td>\n",
       "      <td>NaN</td>\n",
       "      <td>2.000000e+00</td>\n",
       "      <td>2.000000e+00</td>\n",
       "      <td>2.000000e+00</td>\n",
       "      <td>2.000000e+00</td>\n",
       "      <td>1.000000e+00</td>\n",
       "      <td>1.000000e+00</td>\n",
       "      <td>1.000000e+00</td>\n",
       "      <td>NaN</td>\n",
       "      <td>0.000000e+00</td>\n",
       "    </tr>\n",
       "    <tr>\n",
       "      <th>50%</th>\n",
       "      <td>NaN</td>\n",
       "      <td>NaN</td>\n",
       "      <td>NaN</td>\n",
       "      <td>NaN</td>\n",
       "      <td>NaN</td>\n",
       "      <td>NaN</td>\n",
       "      <td>1.586100e-02</td>\n",
       "      <td>1.470000e+03</td>\n",
       "      <td>1.820000e+03</td>\n",
       "      <td>3.100000e+01</td>\n",
       "      <td>...</td>\n",
       "      <td>NaN</td>\n",
       "      <td>5.000000e+00</td>\n",
       "      <td>5.000000e+00</td>\n",
       "      <td>3.000000e+00</td>\n",
       "      <td>4.000000e+00</td>\n",
       "      <td>1.000000e+00</td>\n",
       "      <td>1.000000e+00</td>\n",
       "      <td>2.000000e+00</td>\n",
       "      <td>NaN</td>\n",
       "      <td>0.000000e+00</td>\n",
       "    </tr>\n",
       "    <tr>\n",
       "      <th>75%</th>\n",
       "      <td>NaN</td>\n",
       "      <td>NaN</td>\n",
       "      <td>NaN</td>\n",
       "      <td>NaN</td>\n",
       "      <td>NaN</td>\n",
       "      <td>NaN</td>\n",
       "      <td>2.145650e-01</td>\n",
       "      <td>3.182000e+03</td>\n",
       "      <td>1.489400e+04</td>\n",
       "      <td>3.100000e+01</td>\n",
       "      <td>...</td>\n",
       "      <td>NaN</td>\n",
       "      <td>1.000000e+01</td>\n",
       "      <td>1.000000e+01</td>\n",
       "      <td>6.000000e+00</td>\n",
       "      <td>7.000000e+00</td>\n",
       "      <td>2.000000e+00</td>\n",
       "      <td>1.000000e+00</td>\n",
       "      <td>5.000000e+00</td>\n",
       "      <td>NaN</td>\n",
       "      <td>0.000000e+00</td>\n",
       "    </tr>\n",
       "    <tr>\n",
       "      <th>max</th>\n",
       "      <td>NaN</td>\n",
       "      <td>NaN</td>\n",
       "      <td>NaN</td>\n",
       "      <td>NaN</td>\n",
       "      <td>NaN</td>\n",
       "      <td>NaN</td>\n",
       "      <td>8.786638e+03</td>\n",
       "      <td>1.435577e+07</td>\n",
       "      <td>1.465753e+07</td>\n",
       "      <td>2.550000e+02</td>\n",
       "      <td>...</td>\n",
       "      <td>NaN</td>\n",
       "      <td>6.700000e+01</td>\n",
       "      <td>6.700000e+01</td>\n",
       "      <td>6.700000e+01</td>\n",
       "      <td>6.700000e+01</td>\n",
       "      <td>6.700000e+01</td>\n",
       "      <td>6.000000e+01</td>\n",
       "      <td>6.700000e+01</td>\n",
       "      <td>NaN</td>\n",
       "      <td>1.000000e+00</td>\n",
       "    </tr>\n",
       "  </tbody>\n",
       "</table>\n",
       "<p>11 rows × 49 columns</p>\n",
       "</div>"
      ],
      "text/plain": [
       "Name         srcip      sport          dstip   dsport    proto    state  \\\n",
       "count      2540043  2540043.0        2540043  2540043  2540043  2540043   \n",
       "unique          43   129124.0             47    64630      135       16   \n",
       "top     59.166.0.4     1043.0  149.171.126.3       53      tcp      FIN   \n",
       "freq        197959   214363.0         197771   798967  1495071  1478686   \n",
       "mean           NaN        NaN            NaN      NaN      NaN      NaN   \n",
       "std            NaN        NaN            NaN      NaN      NaN      NaN   \n",
       "min            NaN        NaN            NaN      NaN      NaN      NaN   \n",
       "25%            NaN        NaN            NaN      NaN      NaN      NaN   \n",
       "50%            NaN        NaN            NaN      NaN      NaN      NaN   \n",
       "75%            NaN        NaN            NaN      NaN      NaN      NaN   \n",
       "max            NaN        NaN            NaN      NaN      NaN      NaN   \n",
       "\n",
       "Name             dur        sbytes        dbytes          sttl  ...  \\\n",
       "count   2.540043e+06  2.540043e+06  2.540043e+06  2.540043e+06  ...   \n",
       "unique           NaN           NaN           NaN           NaN  ...   \n",
       "top              NaN           NaN           NaN           NaN  ...   \n",
       "freq             NaN           NaN           NaN           NaN  ...   \n",
       "mean    6.587925e-01  4.339589e+03  3.642760e+04  6.278202e+01  ...   \n",
       "std     1.392494e+01  5.640604e+04  1.610962e+05  7.462281e+01  ...   \n",
       "min     0.000000e+00  0.000000e+00  0.000000e+00  0.000000e+00  ...   \n",
       "25%     1.037000e-03  2.000000e+02  1.780000e+02  3.100000e+01  ...   \n",
       "50%     1.586100e-02  1.470000e+03  1.820000e+03  3.100000e+01  ...   \n",
       "75%     2.145650e-01  3.182000e+03  1.489400e+04  3.100000e+01  ...   \n",
       "max     8.786638e+03  1.435577e+07  1.465753e+07  2.550000e+02  ...   \n",
       "\n",
       "Name    ct_ftp_cmd    ct_srv_src    ct_srv_dst    ct_dst_ltm   ct_src_ ltm  \\\n",
       "count      2540043  2.540043e+06  2.540043e+06  2.540043e+06  2.540043e+06   \n",
       "unique          13           NaN           NaN           NaN           NaN   \n",
       "top                          NaN           NaN           NaN           NaN   \n",
       "freq       1429877           NaN           NaN           NaN           NaN   \n",
       "mean           NaN  9.206993e+00  8.988962e+00  6.439107e+00  6.900989e+00   \n",
       "std            NaN  1.083676e+01  1.082250e+01  8.162039e+00  8.205068e+00   \n",
       "min            NaN  1.000000e+00  1.000000e+00  1.000000e+00  1.000000e+00   \n",
       "25%            NaN  2.000000e+00  2.000000e+00  2.000000e+00  2.000000e+00   \n",
       "50%            NaN  5.000000e+00  5.000000e+00  3.000000e+00  4.000000e+00   \n",
       "75%            NaN  1.000000e+01  1.000000e+01  6.000000e+00  7.000000e+00   \n",
       "max            NaN  6.700000e+01  6.700000e+01  6.700000e+01  6.700000e+01   \n",
       "\n",
       "Name    ct_src_dport_ltm  ct_dst_sport_ltm  ct_dst_src_ltm  attack_cat  \\\n",
       "count       2.540043e+06      2.540043e+06    2.540043e+06      321283   \n",
       "unique               NaN               NaN             NaN          13   \n",
       "top                  NaN               NaN             NaN     Generic   \n",
       "freq                 NaN               NaN             NaN      215481   \n",
       "mean        4.642145e+00      3.592733e+00    6.845894e+00         NaN   \n",
       "std         8.477584e+00      6.174449e+00    1.125829e+01         NaN   \n",
       "min         1.000000e+00      1.000000e+00    1.000000e+00         NaN   \n",
       "25%         1.000000e+00      1.000000e+00    1.000000e+00         NaN   \n",
       "50%         1.000000e+00      1.000000e+00    2.000000e+00         NaN   \n",
       "75%         2.000000e+00      1.000000e+00    5.000000e+00         NaN   \n",
       "max         6.700000e+01      6.000000e+01    6.700000e+01         NaN   \n",
       "\n",
       "Name           Label  \n",
       "count   2.540043e+06  \n",
       "unique           NaN  \n",
       "top              NaN  \n",
       "freq             NaN  \n",
       "mean    1.264872e-01  \n",
       "std     3.323977e-01  \n",
       "min     0.000000e+00  \n",
       "25%     0.000000e+00  \n",
       "50%     0.000000e+00  \n",
       "75%     0.000000e+00  \n",
       "max     1.000000e+00  \n",
       "\n",
       "[11 rows x 49 columns]"
      ]
     },
     "execution_count": 54,
     "metadata": {},
     "output_type": "execute_result"
    }
   ],
   "source": [
    "# See columns' stats\n",
    "df.describe(include=\"all\")"
   ]
  },
  {
   "cell_type": "code",
   "execution_count": 55,
   "id": "1af7e2fc",
   "metadata": {},
   "outputs": [
    {
     "name": "stdout",
     "output_type": "stream",
     "text": [
      "Dropped columns:\n",
      "['srcip', 'sport', 'dstip', 'dsport', 'Stime', 'Ltime', 'attack_cat']\n"
     ]
    }
   ],
   "source": [
    "# Drop features not useful for predictive modeling\n",
    "columns_to_drop = [\n",
    "    'srcip',      # Identifies source machine; too specific, leaks identity, overfits\n",
    "    'sport',      # Source port: often random, adds noise\n",
    "    'dstip',      # Same reason as srcip: leaks network identity\n",
    "    'dsport',     # May leak protocol-specific info but usually not helpful alone\n",
    "    'Stime',      # Timestamp (start); not useful unless doing time series\n",
    "    'Ltime',      # Timestamp (end); same as above\n",
    "    'attack_cat'  # Gives away the type of attack (leaks label)\n",
    "]\n",
    "\n",
    "# Drop from your DataFrame (assuming df is your pandas DataFrame)\n",
    "df_cleaned = df.drop(columns=columns_to_drop)\n",
    "\n",
    "print(\"Dropped columns:\")\n",
    "print(columns_to_drop)"
   ]
  },
  {
   "cell_type": "code",
   "execution_count": 56,
   "id": "cb79557d",
   "metadata": {},
   "outputs": [],
   "source": [
    "# Fill missing values with 0 for features where NaN means \"no such activity observed\"\n",
    "df_cleaned = df_cleaned.copy()  # Ensure we are working on a standalone copy\n",
    "\n",
    "# ct_flw_http_mthd: NaN implies no HTTP method was used, so fill with 0\n",
    "df_cleaned['ct_flw_http_mthd'] = df_cleaned['ct_flw_http_mthd'].fillna(0)\n",
    "\n",
    "# is_ftp_login: binary feature, NaN means no login attempt, so fill with 0\n",
    "df_cleaned['is_ftp_login'] = df_cleaned['is_ftp_login'].fillna(0)"
   ]
  },
  {
   "cell_type": "code",
   "execution_count": 57,
   "id": "fd8d3826",
   "metadata": {},
   "outputs": [
    {
     "name": "stdout",
     "output_type": "stream",
     "text": [
      "Unique values: [0 1 6 2 4 8 5 3]\n",
      "Data type: int64\n"
     ]
    }
   ],
   "source": [
    "# Replace blank strings with '0' (as a string)\n",
    "df_cleaned['ct_ftp_cmd'] = df_cleaned['ct_ftp_cmd'].replace(' ', '0')\n",
    "\n",
    "# Convert everything to integers\n",
    "df_cleaned['ct_ftp_cmd'] = df_cleaned['ct_ftp_cmd'].astype(int)\n",
    "\n",
    "# Confirm it worked\n",
    "print(\"Unique values:\", df_cleaned['ct_ftp_cmd'].unique())\n",
    "print(\"Data type:\", df_cleaned['ct_ftp_cmd'].dtype)"
   ]
  },
  {
   "cell_type": "code",
   "execution_count": 58,
   "id": "e0464890",
   "metadata": {},
   "outputs": [],
   "source": [
    "df_cleaned.drop(columns=['ct_ftp_cmd'], inplace=True)\n"
   ]
  },
  {
   "cell_type": "code",
   "execution_count": 59,
   "id": "3d3c9855",
   "metadata": {},
   "outputs": [
    {
     "name": "stdout",
     "output_type": "stream",
     "text": [
      "is_ftp_login\n",
      "0    2496468\n",
      "1      43389\n",
      "Name: count, dtype: int64\n"
     ]
    }
   ],
   "source": [
    "# Convert to integer \n",
    "df_cleaned['is_ftp_login'] = df_cleaned['is_ftp_login'].astype(int)\n",
    "\n",
    "# Filter out invalid values (keep only 0 and 1)\n",
    "df_cleaned = df_cleaned[df_cleaned['is_ftp_login'].isin([0, 1])]\n",
    "\n",
    "# Check values again\n",
    "print(df_cleaned['is_ftp_login'].value_counts())"
   ]
  },
  {
   "cell_type": "code",
   "execution_count": 60,
   "id": "97dc1328",
   "metadata": {},
   "outputs": [],
   "source": [
    "additional_to_drop = [\n",
    "    'proto',   # Dominated by 'tcp'; adds little variation and will be captured indirectly\n",
    "    'state',   # 16 unique states but 'FIN' dominates; often redundant with flow features\n",
    "    'service'  # Redundant with 'dsport' (already dropped); mostly '-'\n",
    "]\n",
    "df_cleaned.drop(columns=additional_to_drop, inplace=True)"
   ]
  },
  {
   "cell_type": "code",
   "execution_count": 61,
   "id": "7f832162",
   "metadata": {},
   "outputs": [],
   "source": [
    "# We have enough data - we can afford just to drop duplicates\n",
    "df_cleaned = df_cleaned.drop_duplicates()"
   ]
  },
  {
   "cell_type": "code",
   "execution_count": 62,
   "id": "32fc4ffe",
   "metadata": {},
   "outputs": [],
   "source": [
    "def prepare_features(df):\n",
    "    df = df.copy()\n",
    "\n",
    "    # --- Aggregate Features ---\n",
    "    df['total_bytes'] = df['sbytes'] + df['dbytes']  # Total traffic volume\n",
    "    df['total_pkts'] = df['Spkts'] + df['Dpkts']     # Total number of packets\n",
    "    df['total_load'] = df['Sload'] + df['Dload']     # Combined source + destination bit rates\n",
    "    df['total_jitter'] = df['Sjit'] + df['Djit']     # Sum of jitter (variability in delay)\n",
    "    df['total_inter_pkt'] = df['Sintpkt'] + df['Dintpkt']  # Total inter-packet timing\n",
    "    df['total_tcp_setup'] = df['tcprtt'] + df['synack'] + df['ackdat']  # Combined TCP setup timings\n",
    "\n",
    "    # --- Ratio Features (directional imbalance or asymmetry) ---\n",
    "    df['byte_ratio'] = df['sbytes'] / (df['dbytes'] + 1)  # Asymmetry in byte volume\n",
    "    df['pkt_ratio'] = df['Spkts'] / (df['Dpkts'] + 1)      # Asymmetry in packet count\n",
    "    df['load_ratio'] = df['Sload'] / (df['Dload'] + 1)     # Asymmetry in bit rate\n",
    "    df['jit_ratio'] = df['Sjit'] / (df['Djit'] + 1)        # Asymmetry in jitter\n",
    "    df['inter_pkt_ratio'] = df['Sintpkt'] / (df['Sintpkt'] + 1)  # Asymmetry in inter-packet timing\n",
    "    df['tcp_setup_ratio'] = df['tcprtt'] / (df['synack'] + df['ackdat'] + 1)  # TCP round trip to handshake time ratio\n",
    "\n",
    "    # --- Interaction Features (nonlinear effects) ---\n",
    "    df['byte_pkt_interaction_src'] = df['sbytes'] * df['Spkts']  # Volume × count for source\n",
    "    df['byte_pkt_interaction_dst'] = df['dbytes'] * df['Dpkts']  # Volume × count for destination\n",
    "    df['load_jit_interaction_src'] = df['Sload'] * df['Sjit']    # Load × jitter for source\n",
    "    df['load_jit_interaction_dst'] = df['Dload'] * df['Djit']    # Load × jitter for destination\n",
    "    df['pkt_jit_interaction_src'] = df['Spkts'] * df['Sjit']     # Packets × jitter (source)\n",
    "    df['pkt_jit_interaction_dst'] = df['Dpkts'] * df['Djit']     # Packets × jitter (destination)\n",
    "\n",
    "    # --- Statistical Features ---\n",
    "    df['mean_pkt_size'] = df['smeansz'] + df['dmeansz']          # Combined mean packet size\n",
    "    df['tcp_seq_diff'] = df['stcpb'] - df['dtcpb']               # Sequence number difference (TCP)\n",
    "    df['byte_per_pkt'] = df['total_bytes'] / (df['total_pkts'] + 1e-6)  # Avg bytes per packet (flow intensity)\n",
    "\n",
    "    # --- Final Feature List (keep only what we engineered + needed raw features) ---\n",
    "    keep_cols = [\n",
    "        'dur',  # Flow duration in seconds — to be log-transformed later\n",
    "        'total_bytes', 'total_pkts', 'total_load', 'total_jitter', 'total_inter_pkt', 'total_tcp_setup',\n",
    "        'byte_ratio', 'pkt_ratio', 'load_ratio', 'jit_ratio', 'inter_pkt_ratio', 'tcp_setup_ratio',\n",
    "        'byte_pkt_interaction_src', 'byte_pkt_interaction_dst',\n",
    "        'load_jit_interaction_src', 'load_jit_interaction_dst',\n",
    "        'pkt_jit_interaction_src', 'pkt_jit_interaction_dst',\n",
    "        'mean_pkt_size', 'tcp_seq_diff', 'byte_per_pkt',\n",
    "        'is_ftp_login',             # FTP login attempt flag (binary)\n",
    "        'ct_flw_http_mthd',         # Count of HTTP methods (e.g. GET, POST) in flow\n",
    "        'Label'                     # Target: 1 = attack, 0 = normal\n",
    "    ]\n",
    "\n",
    "    df = df[keep_cols].copy()\n",
    "    return df"
   ]
  },
  {
   "cell_type": "code",
   "execution_count": 63,
   "id": "19a9116d",
   "metadata": {},
   "outputs": [],
   "source": [
    "df_prepared_features = prepare_features(df_cleaned)\n"
   ]
  },
  {
   "cell_type": "code",
   "execution_count": 64,
   "id": "867396f3",
   "metadata": {},
   "outputs": [
    {
     "name": "stdout",
     "output_type": "stream",
     "text": [
      "Shape after drop: (2016070, 20)\n",
      "Remaining columns:\n",
      "['dur', 'total_load', 'total_jitter', 'total_inter_pkt', 'total_tcp_setup', 'byte_ratio', 'load_ratio', 'jit_ratio', 'inter_pkt_ratio', 'tcp_setup_ratio', 'byte_pkt_interaction_src', 'byte_pkt_interaction_dst', 'load_jit_interaction_src', 'load_jit_interaction_dst', 'pkt_jit_interaction_dst', 'mean_pkt_size', 'byte_per_pkt', 'is_ftp_login', 'ct_flw_http_mthd', 'Label']\n"
     ]
    }
   ],
   "source": [
    "# List of redundant features to drop\n",
    "drop_redundant = [\n",
    "    'total_bytes',              # Covered by byte_per_pkt or total_pkts\n",
    "    'total_pkts',               # Covered by interactions or byte_per_pkt\n",
    "    'pkt_jit_interaction_src',  # Highly similar to load_jit_interaction_src\n",
    "    'pkt_ratio',                # Overlaps with byte_ratio\n",
    "    'tcp_seq_diff'              # Often low signal unless TCP-focused analysis\n",
    "]\n",
    "\n",
    "# Drop only those that are present (for safety)\n",
    "df_final = df_prepared_features.drop(columns=[col for col in drop_redundant if col in df_prepared_features.columns])\n",
    "\n",
    "# Inspect result\n",
    "print(f\"Shape after drop: {df_final.shape}\")\n",
    "print(\"Remaining columns:\")\n",
    "print(df_final.columns.tolist())"
   ]
  },
  {
   "cell_type": "code",
   "execution_count": 65,
   "id": "5bb41bac",
   "metadata": {},
   "outputs": [
    {
     "name": "stdout",
     "output_type": "stream",
     "text": [
      "Train shape: (1612856, 19), Test shape: (403214, 19)\n"
     ]
    }
   ],
   "source": [
    "# Separate features and target\n",
    "X = df_final.drop(columns='Label')\n",
    "y = df_final['Label']\n",
    "\n",
    "# Split the data (stratify to preserve class balance)\n",
    "X_train, X_test, y_train, y_test = train_test_split(\n",
    "    X, y,\n",
    "    test_size=0.2,\n",
    "    random_state=42,\n",
    "    stratify=y  # important to keep class distribution balanced\n",
    ")\n",
    "\n",
    "# Confirm shape\n",
    "print(f\"Train shape: {X_train.shape}, Test shape: {X_test.shape}\")"
   ]
  },
  {
   "cell_type": "code",
   "execution_count": 66,
   "id": "464b64ad",
   "metadata": {},
   "outputs": [
    {
     "name": "stdout",
     "output_type": "stream",
     "text": [
      "Name\n",
      "load_jit_interaction_dst    788.119952\n",
      "dur                         782.288758\n",
      "load_jit_interaction_src    474.792399\n",
      "byte_pkt_interaction_dst    308.656374\n",
      "jit_ratio                   255.167313\n",
      "byte_pkt_interaction_src    196.249175\n",
      "byte_ratio                   96.652546\n",
      "total_jitter                 51.835076\n",
      "total_tcp_setup              30.900322\n",
      "load_ratio                   27.258384\n",
      "total_load                   27.231927\n",
      "total_inter_pkt              24.512611\n",
      "pkt_jit_interaction_dst      14.959500\n",
      "ct_flw_http_mthd             12.236575\n",
      "tcp_setup_ratio               8.292104\n",
      "is_ftp_login                  6.925078\n",
      "byte_per_pkt                  1.404955\n",
      "mean_pkt_size                 0.844691\n",
      "inter_pkt_ratio               0.054277\n",
      "dtype: float64\n"
     ]
    }
   ],
   "source": [
    "skew_values = X_train.skew(numeric_only=True).sort_values(ascending=False)\n",
    "print(skew_values)"
   ]
  },
  {
   "cell_type": "code",
   "execution_count": 67,
   "id": "c462f9d4",
   "metadata": {},
   "outputs": [],
   "source": [
    "log_transform_cols = [\n",
    "    'load_jit_interaction_dst',\n",
    "    'dur',\n",
    "    'load_jit_interaction_src',\n",
    "    'byte_pkt_interaction_dst',\n",
    "    'jit_ratio',\n",
    "    'byte_pkt_interaction_src',\n",
    "    'byte_ratio',\n",
    "    'total_jitter',\n",
    "    'total_tcp_setup',\n",
    "    'load_ratio',\n",
    "    'total_load',\n",
    "    'total_inter_pkt',\n",
    "    'pkt_jit_interaction_dst',\n",
    "    'ct_flw_http_mthd',\n",
    "    'tcp_setup_ratio',\n",
    "    'is_ftp_login',\n",
    "    'byte_per_pkt'\n",
    "]"
   ]
  },
  {
   "cell_type": "code",
   "execution_count": 68,
   "id": "e991bda3",
   "metadata": {},
   "outputs": [],
   "source": [
    "standardize_cols = [\n",
    "    'mean_pkt_size',\n",
    "    'inter_pkt_ratio'\n",
    "]"
   ]
  },
  {
   "cell_type": "code",
   "execution_count": 69,
   "id": "f06ef6b9",
   "metadata": {},
   "outputs": [],
   "source": [
    "def transform_features(X_train, X_test, log_transform_cols, standardize_cols):\n",
    "    X_train = X_train.copy()\n",
    "    X_test = X_test.copy()\n",
    "\n",
    "    # Log-transform skewed features \n",
    "    for col in log_transform_cols:\n",
    "        if col in X_train.columns:\n",
    "            X_train[col] = np.log1p(X_train[col])\n",
    "            X_test[col] = np.log1p(X_test[col])\n",
    "\n",
    "    # Standardize mildly skewed features\n",
    "    scaler = StandardScaler()\n",
    "    if standardize_cols:\n",
    "        X_train[standardize_cols] = scaler.fit_transform(X_train[standardize_cols])\n",
    "        X_test[standardize_cols] = scaler.transform(X_test[standardize_cols])\n",
    "\n",
    "    return X_train, X_test, scaler"
   ]
  },
  {
   "cell_type": "code",
   "execution_count": 70,
   "id": "811893ad",
   "metadata": {},
   "outputs": [],
   "source": [
    "# Apply transformation\n",
    "X_train_transformed, X_test_transformed, fitted_scaler = transform_features(\n",
    "    X_train, X_test,\n",
    "    log_transform_cols=log_transform_cols,\n",
    "    standardize_cols=standardize_cols\n",
    ")"
   ]
  },
  {
   "cell_type": "code",
   "execution_count": 71,
   "id": "1f86daca",
   "metadata": {},
   "outputs": [
    {
     "data": {
      "text/html": [
       "<style>#sk-container-id-3 {color: black;background-color: white;}#sk-container-id-3 pre{padding: 0;}#sk-container-id-3 div.sk-toggleable {background-color: white;}#sk-container-id-3 label.sk-toggleable__label {cursor: pointer;display: block;width: 100%;margin-bottom: 0;padding: 0.3em;box-sizing: border-box;text-align: center;}#sk-container-id-3 label.sk-toggleable__label-arrow:before {content: \"▸\";float: left;margin-right: 0.25em;color: #696969;}#sk-container-id-3 label.sk-toggleable__label-arrow:hover:before {color: black;}#sk-container-id-3 div.sk-estimator:hover label.sk-toggleable__label-arrow:before {color: black;}#sk-container-id-3 div.sk-toggleable__content {max-height: 0;max-width: 0;overflow: hidden;text-align: left;background-color: #f0f8ff;}#sk-container-id-3 div.sk-toggleable__content pre {margin: 0.2em;color: black;border-radius: 0.25em;background-color: #f0f8ff;}#sk-container-id-3 input.sk-toggleable__control:checked~div.sk-toggleable__content {max-height: 200px;max-width: 100%;overflow: auto;}#sk-container-id-3 input.sk-toggleable__control:checked~label.sk-toggleable__label-arrow:before {content: \"▾\";}#sk-container-id-3 div.sk-estimator input.sk-toggleable__control:checked~label.sk-toggleable__label {background-color: #d4ebff;}#sk-container-id-3 div.sk-label input.sk-toggleable__control:checked~label.sk-toggleable__label {background-color: #d4ebff;}#sk-container-id-3 input.sk-hidden--visually {border: 0;clip: rect(1px 1px 1px 1px);clip: rect(1px, 1px, 1px, 1px);height: 1px;margin: -1px;overflow: hidden;padding: 0;position: absolute;width: 1px;}#sk-container-id-3 div.sk-estimator {font-family: monospace;background-color: #f0f8ff;border: 1px dotted black;border-radius: 0.25em;box-sizing: border-box;margin-bottom: 0.5em;}#sk-container-id-3 div.sk-estimator:hover {background-color: #d4ebff;}#sk-container-id-3 div.sk-parallel-item::after {content: \"\";width: 100%;border-bottom: 1px solid gray;flex-grow: 1;}#sk-container-id-3 div.sk-label:hover label.sk-toggleable__label {background-color: #d4ebff;}#sk-container-id-3 div.sk-serial::before {content: \"\";position: absolute;border-left: 1px solid gray;box-sizing: border-box;top: 0;bottom: 0;left: 50%;z-index: 0;}#sk-container-id-3 div.sk-serial {display: flex;flex-direction: column;align-items: center;background-color: white;padding-right: 0.2em;padding-left: 0.2em;position: relative;}#sk-container-id-3 div.sk-item {position: relative;z-index: 1;}#sk-container-id-3 div.sk-parallel {display: flex;align-items: stretch;justify-content: center;background-color: white;position: relative;}#sk-container-id-3 div.sk-item::before, #sk-container-id-3 div.sk-parallel-item::before {content: \"\";position: absolute;border-left: 1px solid gray;box-sizing: border-box;top: 0;bottom: 0;left: 50%;z-index: -1;}#sk-container-id-3 div.sk-parallel-item {display: flex;flex-direction: column;z-index: 1;position: relative;background-color: white;}#sk-container-id-3 div.sk-parallel-item:first-child::after {align-self: flex-end;width: 50%;}#sk-container-id-3 div.sk-parallel-item:last-child::after {align-self: flex-start;width: 50%;}#sk-container-id-3 div.sk-parallel-item:only-child::after {width: 0;}#sk-container-id-3 div.sk-dashed-wrapped {border: 1px dashed gray;margin: 0 0.4em 0.5em 0.4em;box-sizing: border-box;padding-bottom: 0.4em;background-color: white;}#sk-container-id-3 div.sk-label label {font-family: monospace;font-weight: bold;display: inline-block;line-height: 1.2em;}#sk-container-id-3 div.sk-label-container {text-align: center;}#sk-container-id-3 div.sk-container {/* jupyter's `normalize.less` sets `[hidden] { display: none; }` but bootstrap.min.css set `[hidden] { display: none !important; }` so we also need the `!important` here to be able to override the default hidden behavior on the sphinx rendered scikit-learn.org. See: https://github.com/scikit-learn/scikit-learn/issues/21755 */display: inline-block !important;position: relative;}#sk-container-id-3 div.sk-text-repr-fallback {display: none;}</style><div id=\"sk-container-id-3\" class=\"sk-top-container\"><div class=\"sk-text-repr-fallback\"><pre>StandardScaler()</pre><b>In a Jupyter environment, please rerun this cell to show the HTML representation or trust the notebook. <br />On GitHub, the HTML representation is unable to render, please try loading this page with nbviewer.org.</b></div><div class=\"sk-container\" hidden><div class=\"sk-item\"><div class=\"sk-estimator sk-toggleable\"><input class=\"sk-toggleable__control sk-hidden--visually\" id=\"sk-estimator-id-3\" type=\"checkbox\" checked><label for=\"sk-estimator-id-3\" class=\"sk-toggleable__label sk-toggleable__label-arrow\">StandardScaler</label><div class=\"sk-toggleable__content\"><pre>StandardScaler()</pre></div></div></div></div></div>"
      ],
      "text/plain": [
       "StandardScaler()"
      ]
     },
     "execution_count": 71,
     "metadata": {},
     "output_type": "execute_result"
    }
   ],
   "source": [
    "fitted_scaler\n"
   ]
  },
  {
   "cell_type": "code",
   "execution_count": 75,
   "id": "ae6661df",
   "metadata": {},
   "outputs": [
    {
     "name": "stdout",
     "output_type": "stream",
     "text": [
      "Confusion Matrix:\n",
      " [[385588   2058]\n",
      " [  1702  13866]]\n",
      "\n",
      "Classification Report:\n",
      "               precision    recall  f1-score   support\n",
      "\n",
      "           0       1.00      0.99      1.00    387646\n",
      "           1       0.87      0.89      0.88     15568\n",
      "\n",
      "    accuracy                           0.99    403214\n",
      "   macro avg       0.93      0.94      0.94    403214\n",
      "weighted avg       0.99      0.99      0.99    403214\n",
      "\n",
      "ROC AUC Score: 0.9977800641107383\n"
     ]
    }
   ],
   "source": [
    "from sklearn.ensemble import RandomForestClassifier\n",
    "from sklearn.metrics import confusion_matrix, classification_report, roc_auc_score\n",
    "\n",
    "# Retrain best Random Forest model on full training data\n",
    "best_rf_full = RandomForestClassifier(\n",
    "    n_estimators=100,        # replace with best value if different\n",
    "    max_depth=None,          # replace with tuned value if applicable\n",
    "    min_samples_split=2,     # replace if tuned\n",
    "    class_weight='balanced', # if used previously\n",
    "    random_state=42,\n",
    "    n_jobs=-1\n",
    ")\n",
    "\n",
    "# Fit model\n",
    "best_rf_full.fit(X_train_transformed, y_train)\n",
    "\n",
    "# Predict and evaluate on the test set\n",
    "y_pred_full = best_rf_full.predict(X_test_transformed)\n",
    "y_proba_full = best_rf_full.predict_proba(X_test_transformed)[:, 1]\n",
    "\n",
    "# Metrics\n",
    "conf_matrix_full = confusion_matrix(y_test, y_pred_full)\n",
    "class_report_full = classification_report(y_test, y_pred_full)\n",
    "roc_auc_full = roc_auc_score(y_test, y_proba_full)\n",
    "\n",
    "# Print results\n",
    "print(\"Confusion Matrix:\\n\", conf_matrix_full)\n",
    "print(\"\\nClassification Report:\\n\", class_report_full)\n",
    "print(\"ROC AUC Score:\", roc_auc_full)\n"
   ]
  },
  {
   "cell_type": "code",
   "execution_count": 77,
   "id": "83de9661",
   "metadata": {},
   "outputs": [
    {
     "name": "stdout",
     "output_type": "stream",
     "text": [
      "Accuracy: 0.9906749269618614\n",
      "Precision: 0.8707611152976639\n",
      "Recall: 0.8906731757451182\n",
      "F1 Score: 0.8806045979931411\n"
     ]
    }
   ],
   "source": [
    "# Print individual metrics explicitly\n",
    "print(\"Accuracy:\", accuracy_score(y_test, y_pred_full))\n",
    "print(\"Precision:\", precision_score(y_test, y_pred_full, average='binary'))  # change to 'macro' or 'weighted' for multiclass\n",
    "print(\"Recall:\", recall_score(y_test, y_pred_full, average='binary'))\n",
    "print(\"F1 Score:\", f1_score(y_test, y_pred_full, average='binary'))"
   ]
  },
  {
   "cell_type": "code",
   "execution_count": 79,
   "id": "9b912d4e",
   "metadata": {},
   "outputs": [
    {
     "name": "stdout",
     "output_type": "stream",
     "text": [
      "Selected cautious threshold: 0.279\n"
     ]
    }
   ],
   "source": [
    "from sklearn.metrics import precision_recall_curve\n",
    "\n",
    "# Compute precision-recall pairs for different thresholds\n",
    "precision, recall, thresholds = precision_recall_curve(y_test, y_proba_full)\n",
    "\n",
    "# Convert to DataFrame for easier analysis\n",
    "pr_df = pd.DataFrame({\n",
    "    'threshold': thresholds,\n",
    "    'precision': precision[:-1],\n",
    "    'recall': recall[:-1]\n",
    "})\n",
    "\n",
    "# Filter for thresholds where recall is >= 0.95\n",
    "high_recall = pr_df[pr_df['recall'] >= 0.95]\n",
    "\n",
    "# Choose threshold with highest precision among them (or balance of choice)\n",
    "best_thresh = high_recall.sort_values(by='precision', ascending=False).iloc[0]['threshold']\n",
    "\n",
    "print(f\"Selected cautious threshold: {best_thresh:.3f}\")"
   ]
  },
  {
   "cell_type": "code",
   "execution_count": 80,
   "id": "d8478407",
   "metadata": {},
   "outputs": [],
   "source": [
    "y_pred_adjusted = (y_proba_full >= best_thresh).astype(int)\n"
   ]
  },
  {
   "cell_type": "code",
   "execution_count": 81,
   "id": "3e1833a7",
   "metadata": {},
   "outputs": [
    {
     "name": "stdout",
     "output_type": "stream",
     "text": [
      "Accuracy: 0.989127361649149\n",
      "Precision: 0.8029580669628346\n",
      "Recall: 0.9520169578622816\n",
      "F1 Score: 0.8711573502615647\n"
     ]
    }
   ],
   "source": [
    "print(\"Accuracy:\", accuracy_score(y_test, y_pred_adjusted))\n",
    "print(\"Precision:\", precision_score(y_test, y_pred_adjusted, average='binary'))  # change to 'macro' or 'weighted' for multiclass\n",
    "print(\"Recall:\", recall_score(y_test, y_pred_adjusted, average='binary'))\n",
    "print(\"F1 Score:\", f1_score(y_test, y_pred_adjusted, average='binary'))"
   ]
  },
  {
   "cell_type": "markdown",
   "id": "28a0f9df",
   "metadata": {},
   "source": [
    "# Dataset 3 - Beth"
   ]
  },
  {
   "cell_type": "code",
   "execution_count": 82,
   "id": "e3c95267",
   "metadata": {},
   "outputs": [],
   "source": [
    "# Load packages \n",
    "import kagglehub\n",
    "import os\n",
    "import pandas as pd\n",
    "import matplotlib.pyplot as plt\n",
    "import numpy as np\n",
    "import seaborn as sns"
   ]
  },
  {
   "cell_type": "code",
   "execution_count": 83,
   "id": "7b12e1c5",
   "metadata": {},
   "outputs": [
    {
     "name": "stdout",
     "output_type": "stream",
     "text": [
      "Warning: Looks like you're using an outdated `kagglehub` version, please consider updating (latest version: 0.3.12)\n",
      "Path to dataset files: /Users/inmilk306/.cache/kagglehub/datasets/katehighnam/beth-dataset/versions/3\n"
     ]
    }
   ],
   "source": [
    "# Load data\n",
    "\n",
    "# Download latest version\n",
    "path = kagglehub.dataset_download(\"katehighnam/beth-dataset\")\n",
    "\n",
    "print(\"Path to dataset files:\", path)"
   ]
  }
 ],
 "metadata": {
  "kernelspec": {
   "display_name": "venv",
   "language": "python",
   "name": "python3"
  },
  "language_info": {
   "codemirror_mode": {
    "name": "ipython",
    "version": 3
   },
   "file_extension": ".py",
   "mimetype": "text/x-python",
   "name": "python",
   "nbconvert_exporter": "python",
   "pygments_lexer": "ipython3",
   "version": "3.8.1"
  }
 },
 "nbformat": 4,
 "nbformat_minor": 5
}
